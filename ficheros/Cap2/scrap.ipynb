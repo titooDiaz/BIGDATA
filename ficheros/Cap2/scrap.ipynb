{
 "cells": [
  {
   "cell_type": "markdown",
   "metadata": {},
   "source": [
    "# Big Data con Python\n",
    "\n",
    "#### Rafael Caballero, Enrique Martín y Adrián Riesco. Editorial RC libros\n",
    "\n",
    "Comenzamos abriendo una sesión de Chrome de forma automática\n",
    "\n",
    "\n",
    "**Errores comunes**\n",
    "\n",
    "Es posible que al ejecutar este código obtengamos un error del tipo:\n",
    "    \n",
    "    SessionNotCreatedException: Message: session not created: This version of ChromeDriver only supports Chrome version 87. Current browser version is 90.0.4430.212 with binary path.....\n",
    "    \n",
    " o similar. Esto indica que nuestra versión del driver no corresponde con la de nuestro navegador. La versión de Chrome, aunque nos la da el mensaje, la podemos consultar en el propio navegador, en *Configuración* (dentro del menú que se abre al hacer click sobre los 3 puntitos verticales, arriba a la derecha) + *Información de Chrome*.\n",
    " \n",
    " Con esta información iremos a  https://chromedriver.chromium.org/downloads y descargaremos y descomprimiremos el fichero chromedriver correspondiente y ponemos el path correspondiente en la variable chromedriver\n",
    " \n",
    " \n",
    " Otro error que podemos obtener es alguno del tipo *FileNotFound* que se deberá, casi con seguridad a que debemos cambiar el path almacenado en la variable chromedriver del siguiente código\n",
    "\n",
    "\n",
    "**Importante**\n",
    "Una vez que logremos ques e abra el navegador no debemos teclear nada en él, ni cerrarlo el control lo llevaremos desde el programa en Python\n",
    "\n",
    "## Capítulo 2:  ejemplo  de web scraping. Acceso a los datos del catastro\n"
   ]
  },
  {
   "cell_type": "markdown",
   "metadata": {},
   "source": [
    "El propósito de este notebook es mostrar como hacer web scraping de datos de una página, en este ejemplo del catastro,  que nos exige introducir previamente datos e interaccionar, en este caso seleccionando pestañas y pulsando botones.\n",
    "\n",
    "En particular utilizaremos la biblioteca *Selenium* que nos permite obtener automáticamente datos de páginas web dinámicas. Selenium está pensado realmente para automatizar pruebas de entornos web, pero a nosotros nos servirá para nuestro propósito de hacer web scraping.\n",
    "\n",
    "En particular, lo que vamos a hacer es arrancar google Chrome y manejarlo automáticamente desde Python.\n",
    "\n",
    "\n",
    "\n",
    "**Preparación**\n",
    "\n",
    "\n",
    "Para ello necesitamos 3 cosas:\n",
    "\n",
    "1.- Tener google Chrome\n",
    "\n",
    "2.- Instalar la biblioteca selenium (pip install selenium)\n",
    "\n",
    "3.- Tener un fichero controlador, un driver, de nombre *chromedriver.exe*.Esto lo vamos a hacer mediante la librería chromedriver_autoinstaller"
   ]
  },
  {
   "cell_type": "markdown",
   "metadata": {},
   "source": [
    "\n",
    "#### Paso 1: abrir navegador\n",
    "Comenzamos abriendo una sesión de Chrome de forma automática\n",
    "\n",
    "\n",
    "**Importante**\n",
    "Una vez que logremos que se abra el navegador no debemos teclear nada en él, ni cerrarlo el control lo llevaremos desde el programa en Python"
   ]
  },
  {
   "cell_type": "markdown",
   "metadata": {},
   "source": [
    "# EJEMPLO 1 DATOS POBLACIONALES EN COLOMBIA\n",
    "En este caso en el libro se salta esta informacion, pero igualmente agregaremos neuvos datos, cambiendo un poco los ejercicios del libro...\n",
    "para eso usaremos los datos disponibles en [La pagina del Dane](https://www.datos.gov.co/Gastos-Gubernamentales/antioquia/xva7-xhq3/about_data)\n",
    "Usaremos el siguiente codigo para acceder a la informacion:"
   ]
  },
  {
   "cell_type": "code",
   "execution_count": 39,
   "metadata": {},
   "outputs": [],
   "source": [
    "import requests #pip install requests//*[@id=\"V\n",
    "url ='https://www.dane.gov.co/files/censo2018/proyecciones-de-poblacion/Nacional/DCD-area-sexo-edad-proypoblacion-Nac-2020-2070.xlsx'\n",
    "respuesta = requests.get(url)"
   ]
  },
  {
   "cell_type": "markdown",
   "metadata": {},
   "source": [
    "De igual manera podemos mostrar la respuesta que nos devuelve la URL\n",
    "<br>\n",
    "*200*  en el caso de una petición correcta.\n",
    "<br>\n",
    "*404*  en el caso de una peticion no existente.\n",
    "<br>\n",
    "*403*  en el caso de una peticion sin permisos."
   ]
  },
  {
   "cell_type": "code",
   "execution_count": 40,
   "metadata": {},
   "outputs": [
    {
     "data": {
      "text/plain": [
       "<Response [200]>"
      ]
     },
     "execution_count": 40,
     "metadata": {},
     "output_type": "execute_result"
    }
   ],
   "source": [
    "respuesta"
   ]
  },
  {
   "cell_type": "code",
   "execution_count": 41,
   "metadata": {},
   "outputs": [
    {
     "name": "stdout",
     "output_type": "stream",
     "text": [
      "Archivo descargado correctamente\n"
     ]
    }
   ],
   "source": [
    "\n",
    "if respuesta:\n",
    "    with open(\"archivo.xls\", \"wb\") as archivo:\n",
    "        archivo.write(respuesta.content)\n",
    "    print(\"Archivo descargado correctamente\")"
   ]
  },
  {
   "cell_type": "markdown",
   "metadata": {},
   "source": [
    "Ya tenemos el arcchivo descargado, ahora debemos mirar como analizarlo!\n",
    "como observamos las primeras 11 filas contienen informacion irrelevante\n",
    "Igualmente la Columna A.\n",
    "Con esta informacion podemos clasificar a las personas por Area, Sexo Y Edad\n",
    "\n",
    "Sigueindo con el analisis de datos vemos que los hombres como las mujeres estan desde los 0 a los 100 de edad.\n",
    "\n",
    "Igualmente vemos que es una proyeccion a lo largo del tiempo.\n"
   ]
  },
  {
   "cell_type": "markdown",
   "metadata": {},
   "source": [
    "Ahora con esta informacion vamos a poder Analisarla por medio de graficas.\n",
    "De esta forma  tener una informacion mas clara y detallada del documento"
   ]
  },
  {
   "cell_type": "code",
   "execution_count": 61,
   "metadata": {},
   "outputs": [
    {
     "ename": "XLRDError",
     "evalue": "Excel xlsx file; not supported",
     "output_type": "error",
     "traceback": [
      "\u001b[1;31m---------------------------------------------------------------------------\u001b[0m",
      "\u001b[1;31mXLRDError\u001b[0m                                 Traceback (most recent call last)",
      "Cell \u001b[1;32mIn[61], line 5\u001b[0m\n\u001b[0;32m      2\u001b[0m \u001b[38;5;28;01mfrom\u001b[39;00m \u001b[38;5;21;01mxlrd\u001b[39;00m \u001b[38;5;28;01mimport\u001b[39;00m open_workbook, colname \u001b[38;5;66;03m#https://pypi.org/project/xlrd/\u001b[39;00m\n\u001b[0;32m      3\u001b[0m \u001b[38;5;28;01mimport\u001b[39;00m \u001b[38;5;21;01mxlwt\u001b[39;00m \u001b[38;5;66;03m#https://pypi.org/project/xlwt/\u001b[39;00m\n\u001b[1;32m----> 5\u001b[0m \u001b[38;5;28;01mwith\u001b[39;00m \u001b[43mopen_workbook\u001b[49m\u001b[43m(\u001b[49m\u001b[38;5;124;43m'\u001b[39;49m\u001b[38;5;124;43m./archivo.xls\u001b[39;49m\u001b[38;5;124;43m'\u001b[39;49m\u001b[43m)\u001b[49m \u001b[38;5;28;01mas\u001b[39;00m libro_lect:\n\u001b[0;32m      6\u001b[0m     \u001b[38;5;66;03m# \\\u001b[39;00m\n\u001b[0;32m      7\u001b[0m     \u001b[38;5;66;03m#  -> Cargamos el libro\u001b[39;00m\n\u001b[0;32m      8\u001b[0m     asociaciones \u001b[38;5;241m=\u001b[39m {}\n\u001b[0;32m      9\u001b[0m     libro_escr \u001b[38;5;241m=\u001b[39m xlwt\u001b[38;5;241m.\u001b[39mWorkbook()\n",
      "File \u001b[1;32mc:\\Users\\PERSONAL\\OneDrive\\Documentos\\PROGRAMACION GITHUB\\BIG DATA PYTHON\\env\\lib\\site-packages\\xlrd\\__init__.py:170\u001b[0m, in \u001b[0;36mopen_workbook\u001b[1;34m(filename, logfile, verbosity, use_mmap, file_contents, encoding_override, formatting_info, on_demand, ragged_rows, ignore_workbook_corruption)\u001b[0m\n\u001b[0;32m    167\u001b[0m \u001b[38;5;66;03m# We have to let unknown file formats pass through here, as some ancient\u001b[39;00m\n\u001b[0;32m    168\u001b[0m \u001b[38;5;66;03m# files that xlrd can parse don't start with the expected signature.\u001b[39;00m\n\u001b[0;32m    169\u001b[0m \u001b[38;5;28;01mif\u001b[39;00m file_format \u001b[38;5;129;01mand\u001b[39;00m file_format \u001b[38;5;241m!=\u001b[39m \u001b[38;5;124m'\u001b[39m\u001b[38;5;124mxls\u001b[39m\u001b[38;5;124m'\u001b[39m:\n\u001b[1;32m--> 170\u001b[0m     \u001b[38;5;28;01mraise\u001b[39;00m XLRDError(FILE_FORMAT_DESCRIPTIONS[file_format]\u001b[38;5;241m+\u001b[39m\u001b[38;5;124m'\u001b[39m\u001b[38;5;124m; not supported\u001b[39m\u001b[38;5;124m'\u001b[39m)\n\u001b[0;32m    172\u001b[0m bk \u001b[38;5;241m=\u001b[39m open_workbook_xls(\n\u001b[0;32m    173\u001b[0m     filename\u001b[38;5;241m=\u001b[39mfilename,\n\u001b[0;32m    174\u001b[0m     logfile\u001b[38;5;241m=\u001b[39mlogfile,\n\u001b[1;32m   (...)\u001b[0m\n\u001b[0;32m    182\u001b[0m     ignore_workbook_corruption\u001b[38;5;241m=\u001b[39mignore_workbook_corruption,\n\u001b[0;32m    183\u001b[0m )\n\u001b[0;32m    185\u001b[0m \u001b[38;5;28;01mreturn\u001b[39;00m bk\n",
      "\u001b[1;31mXLRDError\u001b[0m: Excel xlsx file; not supported"
     ]
    }
   ],
   "source": [
    "import matplotlib.pyplot as plt #pip install matplotlib\n",
    "from xlrd import open_workbook, colname #https://pypi.org/project/xlrd/\n",
    "import xlwt #https://pypi.org/project/xlwt/\n",
    "\n",
    "with open_workbook('./archivo.xls') as libro_lect:\n",
    "    # \\\n",
    "    #  -> Cargamos el libro\n",
    "    asociaciones = {}\n",
    "    libro_escr = xlwt.Workbook()\n",
    "    for nombre in libro_lect.sheet_names():\n",
    "        hoja_lect = libro_lect.sheet_by_name(nombre)\n",
    "        for i in range(hoja_lect.nrows):\n",
    "            for j in range(hoja_lect.ncols):\n",
    "                hoja_lect.row(i)[j].value"
   ]
  },
  {
   "cell_type": "code",
   "execution_count": null,
   "metadata": {},
   "outputs": [],
   "source": []
  },
  {
   "cell_type": "markdown",
   "metadata": {},
   "source": [
    "# Informacion con Google Test"
   ]
  },
  {
   "cell_type": "code",
   "execution_count": 1,
   "metadata": {},
   "outputs": [
    {
     "name": "stdout",
     "output_type": "stream",
     "text": [
      "Instalando módulos\n",
      "selenium  encontrado\n",
      "chromedriver_autoinstaller  No encontrado, instalando...¡Problema al instalar chromedriver_autoinstaller! ¿seguro que el módulo existe?\n",
      "¡Terminado!\n"
     ]
    }
   ],
   "source": [
    "modules = [\"selenium\",\"chromedriver_autoinstaller\"]\n",
    "\n",
    "\n",
    "import sys\n",
    "import os.path\n",
    "from subprocess import check_call\n",
    "import importlib\n",
    "import os\n",
    "\n",
    "def instala(modules):\n",
    "    print(\"Instalando módulos\")\n",
    "    for m in modules:\n",
    "        # para el import quitamos [...] y ==...\n",
    "        p = m.find(\"[\")\n",
    "        mi = m if p==-1 else m[:p]\n",
    "        p = mi.find(\"==\")\n",
    "        mi = mi if p==-1 else mi[:p]\n",
    "        torch_loader = importlib.util.find_spec(mi)\n",
    "        if torch_loader is not None:\n",
    "            print(m,\" encontrado\")\n",
    "        else:\n",
    "            print(m,\" No encontrado, instalando...\",end=\"\")  \n",
    "            try:        \n",
    "                r = check_call([sys.executable, \"-m\", \"pip\", \"install\", \"--user\",  m])\n",
    "                print(\"¡hecho!\")\n",
    "            except:\n",
    "                print(\"¡Problema al instalar \",m,\"! ¿seguro que el módulo existe?\",sep=\"\")\n",
    "\n",
    "    print(\"¡Terminado!\")\n",
    "\n",
    "instala(modules) "
   ]
  },
  {
   "cell_type": "code",
   "execution_count": 6,
   "metadata": {},
   "outputs": [],
   "source": [
    "import pandas as pd\n",
    "from bs4 import BeautifulSoup #pip install bs4\n",
    "from selenium import webdriver\n",
    "import chromedriver_autoinstaller #pip install chromedriver-autoinstaller\n",
    "\n",
    "# setup chrome options\n",
    "chrome_options = webdriver.ChromeOptions()\n",
    "#chrome_options.add_argument('--headless') # ensure GUI is off\n",
    "#chrome_options.add_argument('--no-sandbox')\n",
    "#chrome_options.add_argument('--disable-dev-shm-usage')\n",
    "\n",
    "# set path to chromedriver as per your configuration\n",
    "chromedriver_autoinstaller.install()\n",
    "\n",
    "\n",
    "# set up the webdriver\n",
    "driver = webdriver.Chrome(options=chrome_options)"
   ]
  },
  {
   "cell_type": "markdown",
   "metadata": {},
   "source": [
    "### Paso 2: cargar página\n",
    "Una vez abierto el navegador lo siguiente es cargar la página que deseemos, en este caso la del catastro. Debemos ver cómo se carga la página correspondiente"
   ]
  },
  {
   "cell_type": "code",
   "execution_count": 7,
   "metadata": {},
   "outputs": [],
   "source": [
    "url = 'https://www1.sedecatastro.gob.es/CYCBienInmueble/OVCBusqueda.aspx'\n",
    "driver.get(url)"
   ]
  },
  {
   "cell_type": "markdown",
   "metadata": {},
   "source": [
    "Es cada vez más normal que al cargar la página tengamos que dar \"Aceptar\" para quitar el banner inicial sobre cookies"
   ]
  },
  {
   "cell_type": "code",
   "execution_count": 18,
   "metadata": {},
   "outputs": [
    {
     "name": "stdout",
     "output_type": "stream",
     "text": [
      "Cookies aceptadas.\n"
     ]
    }
   ],
   "source": [
    "from selenium.webdriver.common.by import By\n",
    "from selenium.webdriver.chrome.options import Options\n",
    "import time\n",
    "#aceptar las cookies\n",
    "\n",
    "try:\n",
    "    cookies = driver.find_element(By.LINK_TEXT, \"Aceptar cookies\")\n",
    "    cookies.click()\n",
    "    print(\"Cookies aceptadas.\")\n",
    "except Exception as e:\n",
    "    print(\"No se encontró el botón de aceptar cookies o ocurrió un error:\", e)\n"
   ]
  },
  {
   "cell_type": "markdown",
   "metadata": {},
   "source": [
    "### Paso 3, interacción con la página\n",
    "\n",
    "Ahora queremos seleccionar la pestaña coordenadas, ya que vamos a introducir las coordenadas de un lugar concreto. Esto se hace en dos fases: primero se selecciona el elemento y luego interaccionamos con él. En este caso comprobamos viendo el código fuente que la etiqueta COORDENADAS es un enlace, sobre el que deseamos hacer click\n"
   ]
  },
  {
   "cell_type": "code",
   "execution_count": 19,
   "metadata": {},
   "outputs": [],
   "source": [
    "from selenium.webdriver.common.by import By\n",
    "coord   = driver.find_element(By.LINK_TEXT,\"COORDENADAS\")\n",
    "coord.click()"
   ]
  },
  {
   "cell_type": "markdown",
   "metadata": {},
   "source": [
    "Ya en la pestaña, introducimos las coordenadas y hacemos click para buscar la información. En este ejemplo hemos puesto las coordenadas  long=1.893817, lat=41.545639, pero pueden ser otras cualesquiera"
   ]
  },
  {
   "cell_type": "code",
   "execution_count": 20,
   "metadata": {},
   "outputs": [],
   "source": [
    "lat = driver.find_element(By.ID,\"ctl00_Contenido_txtLatitud\")\n",
    "lon = driver.find_element(By.ID,\"ctl00_Contenido_txtLongitud\")\n",
    "latitud  = \"41.545639 \"\n",
    "longitud = \"1.893817\"\n",
    "lat.send_keys(latitud)\n",
    "lon.send_keys(longitud)\n",
    "\n",
    "datos = driver.find_element(By.NAME, \"ctl00$Contenido$btnDatos\")\n",
    "datos.click()\n"
   ]
  },
  {
   "cell_type": "markdown",
   "metadata": {},
   "source": [
    "Ahora supongamos que queremos determinar el uso principal de este inmueble, para ellos buscamos "
   ]
  },
  {
   "cell_type": "code",
   "execution_count": 21,
   "metadata": {},
   "outputs": [
    {
     "name": "stdout",
     "output_type": "stream",
     "text": [
      "7801701DF0070S0001QY    \n",
      "Religioso\n"
     ]
    }
   ],
   "source": [
    "xpath = \"//*[./span/text()='Referencia catastral']//label\"\n",
    "etiqs = driver.find_element(By.XPATH,xpath)\n",
    "print(etiqs.text)\n",
    "xpath = \"//*[./span/text()='Uso principal']//label\"\n",
    "etiqs = driver.find_element(By.XPATH,xpath)\n",
    "print(etiqs.text)"
   ]
  },
  {
   "cell_type": "markdown",
   "metadata": {},
   "source": [
    "### Otras pruebas"
   ]
  },
  {
   "cell_type": "markdown",
   "metadata": {},
   "source": [
    "Texto de la página"
   ]
  },
  {
   "cell_type": "code",
   "execution_count": 22,
   "metadata": {},
   "outputs": [
    {
     "name": "stdout",
     "output_type": "stream",
     "text": [
      "Formulario master\n",
      "Castellano\n",
      "ICONO CORREO ELECTRÓNICO\n",
      "CONTÁCTENOS\n",
      "Icono página de inicio\n",
      "Consulta y certificación de Bien Inmueble\n",
      "Volver\n",
      "CARTOGRAFÍA\n",
      "CONSULTA DESCRIPTIVA Y GRÁFICA\n",
      "IMPRIMIR DATOS\n",
      "VISOR 3D\n",
      "DATOS DESCRIPTIVOS DEL INMUEBLE\n",
      "Referencia catastral\n",
      "7801701DF0070S0001QY    \n",
      "Localización\n",
      "PZ NOVA 20\n",
      "08640 OLESA DE MONTSERRAT (BARCELONA)\n",
      "Clase\n",
      "Urbano\n",
      "Uso principal\n",
      "Religioso\n",
      "Superficie construida\n",
      "3.221 m2\n",
      "Año construcción\n",
      "1400\n",
      "PARCELA CATASTRAL\n",
      "\n",
      "Parcela construida sin división horizontal\n",
      "Localización\n",
      "PZ NOVA 20\n",
      "OLESA DE MONTSERRAT (BARCELONA)\n",
      "Superficie gráfica\n",
      "1.884 m2\n",
      "CONSTRUCCIÓN\n",
      "Uso principal Escalera Planta Puerta Superficie m2 Tipo Reforma Fecha Reforma\n",
      "RELIGIOSO T OD OS 2.117 I Reforma mínima 1.960\n",
      "RELIGIOSO T OD OS 249 I Reforma mínima 1.960\n",
      "ALMACEN T OD OS 765 I Reforma mínima 1.960\n",
      "RELIGIOSO 1 00 01 13 O Reforma total 2.002\n",
      "RELIGIOSO 1 01 01 26 O Reforma total 2.002\n",
      "RELIGIOSO 1 01 01 51\n",
      "¿Cómo se pueden obtener datos protegidos (titularidad y valor catastral) de los inmuebles y certificados telemáticos de los mismos?\n",
      "\n",
      "\n",
      "\n",
      "\n",
      "\n",
      "\n",
      "\n",
      "\n",
      "Normativa reguladora\n",
      "Política de privacidad\n",
      "Accesibilidad\n",
      "Mapa web\n"
     ]
    }
   ],
   "source": [
    "html = driver.find_element(By.XPATH,\"/html\")\n",
    "print(html.text)"
   ]
  },
  {
   "cell_type": "markdown",
   "metadata": {},
   "source": [
    "Caminos absolutos"
   ]
  },
  {
   "cell_type": "code",
   "execution_count": 23,
   "metadata": {},
   "outputs": [],
   "source": [
    "head = driver.find_element(By.XPATH,\"/html/head\")\n",
    "body = driver.find_element(By.XPATH,\"/html/body\")\n",
    "html2 = body.find_element(By.XPATH,\"/html\")"
   ]
  },
  {
   "cell_type": "markdown",
   "metadata": {},
   "source": [
    "Hijos de un elemento"
   ]
  },
  {
   "cell_type": "code",
   "execution_count": 24,
   "metadata": {},
   "outputs": [
    {
     "name": "stdout",
     "output_type": "stream",
     "text": [
      "div\n",
      "div\n",
      "form\n",
      "div\n",
      "script\n",
      "a\n",
      "script\n",
      "link\n",
      "script\n",
      "script\n",
      "script\n"
     ]
    }
   ],
   "source": [
    "hijos = driver.find_elements(By.XPATH,\"/html/body/*\")\n",
    "for element in hijos:\n",
    "    print(element.tag_name)"
   ]
  },
  {
   "cell_type": "markdown",
   "metadata": {},
   "source": [
    "Camino relativo"
   ]
  },
  {
   "cell_type": "code",
   "execution_count": null,
   "metadata": {},
   "outputs": [],
   "source": [
    "divs = driver.find_elements(By.XPATH,\"/html/body/*/div\")\n",
    "print(len(divs))"
   ]
  },
  {
   "cell_type": "code",
   "execution_count": null,
   "metadata": {},
   "outputs": [],
   "source": [
    "divs = body.find_elements(By.XPATH,\"./*/div\")\n",
    "print(len(divs))"
   ]
  },
  {
   "cell_type": "markdown",
   "metadata": {},
   "source": [
    "Saltar pasos intermedios"
   ]
  },
  {
   "cell_type": "code",
   "execution_count": null,
   "metadata": {},
   "outputs": [],
   "source": [
    "divs = driver.find_elements(By.XPATH,\"/html/body//div\")\n",
    "print(len(divs))"
   ]
  },
  {
   "cell_type": "code",
   "execution_count": null,
   "metadata": {},
   "outputs": [],
   "source": [
    "labels = driver.find_elements(By.XPATH,\"//label\")\n",
    "print(len(labels))"
   ]
  },
  {
   "cell_type": "markdown",
   "metadata": {},
   "source": [
    "Insertar texto"
   ]
  },
  {
   "cell_type": "code",
   "execution_count": 7,
   "metadata": {},
   "outputs": [
    {
     "name": "stdout",
     "output_type": "stream",
     "text": [
      "7801701DF0070S0001QY    \n"
     ]
    }
   ],
   "source": [
    "id = \"ctl00_Contenido_tblInmueble\"\n",
    "div = driver.find_element(By.ID,id)\n",
    "label = div.find_element(By.XPATH,\"//label\")\n",
    "print(label.text)"
   ]
  },
  {
   "cell_type": "code",
   "execution_count": null,
   "metadata": {},
   "outputs": [],
   "source": [
    "xpath = \"//*[./span/text()='Referencia catastral']//label\"\n",
    "etiqs = driver.find_element(By.XPATH,xpath)\n",
    "print(etiqs.text)"
   ]
  },
  {
   "cell_type": "code",
   "execution_count": 8,
   "metadata": {},
   "outputs": [
    {
     "name": "stdout",
     "output_type": "stream",
     "text": [
      "\n",
      "\n",
      "\n"
     ]
    }
   ],
   "source": [
    "clase = driver.find_elements(By.XPATH,\"(//label)[position()=3]\")\n",
    "print(clase[0].text)\n",
    "\n",
    "etiqs = driver.find_elements(By.XPATH,\"//label\")\n",
    "print(etiqs[2].text)\n",
    "\n",
    "ulti = driver.find_elements(By.XPATH,\"(//label)[last()]\")\n",
    "print(ulti[0].text)\n"
   ]
  },
  {
   "cell_type": "code",
   "execution_count": 9,
   "metadata": {},
   "outputs": [],
   "source": [
    "driver.close()"
   ]
  },
  {
   "cell_type": "markdown",
   "metadata": {},
   "source": [
    "Por Rafael Caballero. Del libro \"Big data con Python\". Gracias a José Ramón Guerra por las actualizaciones"
   ]
  },
  {
   "cell_type": "code",
   "execution_count": null,
   "metadata": {},
   "outputs": [],
   "source": []
  }
 ],
 "metadata": {
  "kernelspec": {
   "display_name": "Python 3 (ipykernel)",
   "language": "python",
   "name": "python3"
  },
  "language_info": {
   "codemirror_mode": {
    "name": "ipython",
    "version": 3
   },
   "file_extension": ".py",
   "mimetype": "text/x-python",
   "name": "python",
   "nbconvert_exporter": "python",
   "pygments_lexer": "ipython3",
   "version": "3.9.13"
  }
 },
 "nbformat": 4,
 "nbformat_minor": 2
}
