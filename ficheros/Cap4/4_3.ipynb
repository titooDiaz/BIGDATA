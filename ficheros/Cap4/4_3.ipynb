{
 "cells": [
  {
   "cell_type": "markdown",
   "metadata": {},
   "source": [
    "** Web scrapping. Ejemplo 3: API REST **"
   ]
  },
  {
   "cell_type": "markdown",
   "metadata": {},
   "source": [
    "API-REST acceso a Google Maps"
   ]
  },
  {
   "cell_type": "code",
   "execution_count": 129,
   "metadata": {},
   "outputs": [
    {
     "name": "stdout",
     "output_type": "stream",
     "text": [
      "5 hours 59 mins\n"
     ]
    }
   ],
   "source": [
    "import requests\n",
    "\n",
    "URI = 'http://maps.googleapis.com/maps/api/directions/json'\n",
    "\n",
    "params = dict(\n",
    "    origin='Madrid,Spain',\n",
    "    destination='Barcelona,Spain',\n",
    "    mode='driving'\n",
    ")\n",
    "\n",
    "resp = requests.get(url=URI, params=params)\n",
    "data = resp.json()\n",
    "print(data['routes'][0]['legs'][0]['duration']['text'])\n"
   ]
  },
  {
   "cell_type": "code",
   "execution_count": null,
   "metadata": {
    "collapsed": true
   },
   "outputs": [],
   "source": [
    "Rafael Caballero, Enrique Martín y Adrián Riesco"
   ]
  },
  {
   "cell_type": "code",
   "execution_count": null,
   "metadata": {
    "collapsed": true
   },
   "outputs": [],
   "source": []
  }
 ],
 "metadata": {
  "kernelspec": {
   "display_name": "Python 3",
   "language": "python",
   "name": "python3"
  },
  "language_info": {
   "codemirror_mode": {
    "name": "ipython",
    "version": 3
   },
   "file_extension": ".py",
   "mimetype": "text/x-python",
   "name": "python",
   "nbconvert_exporter": "python",
   "pygments_lexer": "ipython3",
   "version": "3.6.3"
  }
 },
 "nbformat": 4,
 "nbformat_minor": 2
}
