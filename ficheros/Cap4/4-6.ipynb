{
 "cells": [
  {
   "cell_type": "markdown",
   "metadata": {},
   "source": [
    "# Web scrapping. Ejemplo 6: Acceso a datos catastrales "
   ]
  },
  {
   "cell_type": "markdown",
   "metadata": {},
   "source": [
    "Para que este código funciones la carpeta con el ejecutable de *chromedriver* debe estar en el PATH"
   ]
  },
  {
   "cell_type": "code",
   "execution_count": 1,
   "metadata": {},
   "outputs": [
    {
     "name": "stdout",
     "output_type": "stream",
     "text": [
      "¡Cargada1\n"
     ]
    }
   ],
   "source": [
    "from selenium import webdriver\n",
    "\n",
    "driver = webdriver.Chrome() \n",
    "url      = \"https://www1.sedecatastro.gob.es/CYCBienInmueble/OVCBusqueda.aspx\"\n",
    "driver.get(url)\n",
    "print(\"¡Cargada1\")"
   ]
  },
  {
   "cell_type": "markdown",
   "metadata": {},
   "source": [
    "Alternativa (utilizar uno u otro): Ruta dentro del código: reemplazar la variable chromedriver por la ruta a chromedriver.exe"
   ]
  },
  {
   "cell_type": "code",
   "execution_count": 57,
   "metadata": {},
   "outputs": [
    {
     "name": "stdout",
     "output_type": "stream",
     "text": [
      "Cargada\n"
     ]
    }
   ],
   "source": [
    "from selenium import webdriver\n",
    "\n",
    "import os\n",
    "chromedriver = \"C:/Users/Rafa/Downloads/selenium/chromedriver.exe\"\n",
    "os.environ[\"webdriver.chrome.driver\"] = chromedriver\n",
    "driver = webdriver.Chrome(executable_path=chromedriver)\n",
    "\n",
    "url      = \"https://www1.sedecatastro.gob.es/CYCBienInmueble/OVCBusqueda.aspx\"\n",
    "driver.get(url)\n",
    "print(\"Cargada\")"
   ]
  },
  {
   "cell_type": "markdown",
   "metadata": {},
   "source": [
    "Otra alternativa: Headless"
   ]
  },
  {
   "cell_type": "code",
   "execution_count": 11,
   "metadata": {},
   "outputs": [
    {
     "name": "stdout",
     "output_type": "stream",
     "text": [
      "¡Cargada1\n"
     ]
    }
   ],
   "source": [
    "from selenium import webdriver\n",
    "from selenium.webdriver.chrome.options import Options\n",
    "chrome_options = Options()\n",
    "chrome_options.add_argument(\"--headless\")\n",
    "chrome_options.add_argument(\"--window-size=1920x1080\")\n",
    "driver = webdriver.Chrome(chrome_options=chrome_options)\n",
    "\n",
    "url      = \"https://www1.sedecatastro.gob.es/CYCBienInmueble/OVCBusqueda.aspx\"\n",
    "driver.get(url)\n",
    "print(\"¡Cargada1\")"
   ]
  },
  {
   "cell_type": "code",
   "execution_count": 58,
   "metadata": {
    "collapsed": true
   },
   "outputs": [],
   "source": [
    "coord   = driver.find_element_by_link_text(\"COORDENADAS\")\n",
    "coord.click()"
   ]
  },
  {
   "cell_type": "code",
   "execution_count": 59,
   "metadata": {},
   "outputs": [
    {
     "name": "stdout",
     "output_type": "stream",
     "text": [
      "38026A035000010000EI \n"
     ]
    }
   ],
   "source": [
    "lat = driver.find_element_by_id(\"ctl00_Contenido_txtLatitud\")\n",
    "lon = driver.find_element_by_id(\"ctl00_Contenido_txtLongitud\")\n",
    "latitud  = \"28.2723368\"\n",
    "longitud = \"-16.64268\"\n",
    "lat.send_keys(latitud)\n",
    "lon.send_keys(longitud)\n",
    "\n",
    "datos = driver.find_element_by_id(\"ctl00_Contenido_btnDatos\")\n",
    "datos.click()"
   ]
  },
  {
   "cell_type": "markdown",
   "metadata": {},
   "source": [
    "El resto del notebook supone que estamos en la página con los datos descriptivos del inmueble"
   ]
  },
  {
   "cell_type": "code",
   "execution_count": 42,
   "metadata": {},
   "outputs": [
    {
     "name": "stdout",
     "output_type": "stream",
     "text": [
      "Ayuda\n",
      "Contactar\n",
      "Castellano\n",
      "Consulta y certificación de Bien Inmueble\n",
      "Volver\n",
      "CARTOGRAFÍA\n",
      "\n",
      "\n",
      "CONSULTA DESCRIPTIVA Y GRÁFICA\n",
      "IMPRIMIR DATOS\n",
      "DATOS DESCRIPTIVOS DEL INMUEBLE\n",
      "Referencia catastral\n",
      "38026A035000010000EI \n",
      "Localización\n",
      "Polígono 35 Parcela 1\n",
      "MONTE. LA OROTAVA (S.C. TENERIFE)\n",
      "Clase\n",
      "Rústico\n",
      "Uso principal\n",
      "Agrario\n",
      "Superficie construida\n",
      "40 m2\n",
      "Año construcción\n",
      "1999\n",
      "PARCELA CATASTRAL\n",
      "Parcela construida sin división horizontal\n",
      "Localización\n",
      "Polígono 35 Parcela 1\n",
      "MONTE. LA OROTAVA (S.C. TENERIFE)\n",
      "Superficie gráfica\n",
      "68.167.075 m2\n",
      "CONSTRUCCIÓN\n",
      "Uso principal Escalera Planta Puerta Superficie m2 Tipo Reforma Fecha Reforma\n",
      "AGRARIO 40\n",
      "CULTIVO\n",
      "Subparcela Cultivo/Aprovechamiento Intensidad Productiva Superficie m2\n",
      "a E- Pastos 00 68.105.172\n",
      "b I- Improductivo 00 904\n",
      "c I- Improductivo 00 3.034\n",
      "d I- Improductivo 00 2.302\n",
      "e I- Improductivo 00 9.449\n",
      "f I- Improductivo 00 13\n",
      "g I- Improductivo 00 1.183\n",
      "h I- Improductivo 00 544\n",
      "i I- Improductivo 00 530\n",
      "j I- Improductivo 00 305\n",
      "k I- Improductivo 00 174\n",
      "l E- Pastos 00 677\n",
      "m I- Improductivo 00 1.442\n",
      "n I- Improductivo 00 31.339\n",
      "p E- Pastos 00 1.950\n",
      "q I- Improductivo 00 7.443\n",
      "¿Cómo se pueden obtener datos protegidos (titularidad y valor catastral) de los inmuebles y certificados telemáticos de los mismos?\n"
     ]
    }
   ],
   "source": [
    "html = driver.find_element_by_xpath(\"/html\")\n",
    "print(html.text)"
   ]
  },
  {
   "cell_type": "code",
   "execution_count": 8,
   "metadata": {
    "collapsed": true
   },
   "outputs": [],
   "source": [
    "head = driver.find_element_by_xpath(\"/html/head\")\n",
    "body = driver.find_element_by_xpath(\"/html/body\")\n",
    "html2 = body.find_element_by_xpath(\"/html\")"
   ]
  },
  {
   "cell_type": "code",
   "execution_count": 58,
   "metadata": {},
   "outputs": [
    {
     "name": "stdout",
     "output_type": "stream",
     "text": [
      "form\n",
      "script\n",
      "a\n",
      "iframe\n"
     ]
    }
   ],
   "source": [
    "hijos = driver.find_elements_by_xpath(\"/html/body/*\")\n",
    "for element in hijos:\n",
    "  print(element.tag_name)"
   ]
  },
  {
   "cell_type": "code",
   "execution_count": 9,
   "metadata": {},
   "outputs": [
    {
     "name": "stdout",
     "output_type": "stream",
     "text": [
      "4\n"
     ]
    }
   ],
   "source": [
    "divs = driver.find_elements_by_xpath(\"/html/body/*/div\")\n",
    "print(len(divs))"
   ]
  },
  {
   "cell_type": "code",
   "execution_count": 10,
   "metadata": {},
   "outputs": [
    {
     "name": "stdout",
     "output_type": "stream",
     "text": [
      "4\n"
     ]
    }
   ],
   "source": [
    "divs = body.find_elements_by_xpath(\"./*/div\")\n",
    "print(len(divs))"
   ]
  },
  {
   "cell_type": "code",
   "execution_count": 11,
   "metadata": {},
   "outputs": [
    {
     "name": "stdout",
     "output_type": "stream",
     "text": [
      "108\n"
     ]
    }
   ],
   "source": [
    "divs = driver.find_elements_by_xpath(\"/html/body//div\")\n",
    "print(len(divs))"
   ]
  },
  {
   "cell_type": "code",
   "execution_count": 13,
   "metadata": {},
   "outputs": [
    {
     "name": "stdout",
     "output_type": "stream",
     "text": [
      "8\n"
     ]
    }
   ],
   "source": [
    "labels = driver.find_elements_by_xpath(\"//label\")\n",
    "print(len(labels))"
   ]
  },
  {
   "cell_type": "code",
   "execution_count": 19,
   "metadata": {},
   "outputs": [
    {
     "name": "stdout",
     "output_type": "stream",
     "text": [
      "38026A035000010000EI \n"
     ]
    }
   ],
   "source": [
    "id = \"ctl00_Contenido_tblInmueble\"\n",
    "div = driver.find_element_by_id(id)\n",
    "label = div.find_element_by_xpath(\"//label\")\n",
    "print(label.text)"
   ]
  },
  {
   "cell_type": "code",
   "execution_count": 39,
   "metadata": {},
   "outputs": [
    {
     "name": "stdout",
     "output_type": "stream",
     "text": [
      "Rústico\n",
      "Rústico\n",
      "Polígono 35 Parcela 1\n",
      "MONTE. LA OROTAVA (S.C. TENERIFE)\n"
     ]
    }
   ],
   "source": [
    "clase = driver.find_elements_by_xpath(\"(//label)[position()=3]\")\n",
    "print(clase[0].text)\n",
    "\n",
    "etiqs = driver.find_elements_by_xpath(\"//label\")\n",
    "print(etiqs[2].text)\n",
    "\n",
    "ulti = driver.find_elements_by_xpath(\"(//label)[last()]\")\n",
    "print(ulti[0].text)\n",
    "\n",
    "\n"
   ]
  },
  {
   "cell_type": "code",
   "execution_count": 44,
   "metadata": {},
   "outputs": [
    {
     "name": "stdout",
     "output_type": "stream",
     "text": [
      "38026A035000010000EI \n"
     ]
    }
   ],
   "source": [
    "xpath = \"//label[@class='control-label black text-left']\"\n",
    "etiqs = driver.find_elements_by_xpath(xpath)\n",
    "print(etiqs[0].text)"
   ]
  },
  {
   "cell_type": "code",
   "execution_count": 55,
   "metadata": {},
   "outputs": [
    {
     "name": "stdout",
     "output_type": "stream",
     "text": [
      "38026A035000010000EI \n"
     ]
    }
   ],
   "source": [
    "xpath = \"//*[./span/text()='Referencia catastral']//label\"\n",
    "etiqs = driver.find_element_by_xpath(xpath)\n",
    "print(etiqs.text)"
   ]
  },
  {
   "cell_type": "code",
   "execution_count": 35,
   "metadata": {
    "collapsed": true
   },
   "outputs": [],
   "source": [
    "driver.close()"
   ]
  },
  {
   "cell_type": "markdown",
   "metadata": {
    "collapsed": true
   },
   "source": [
    "Rafael Caballero, Enrique Martín y Adrián Riesco"
   ]
  }
 ],
 "metadata": {
  "kernelspec": {
   "display_name": "Python 3",
   "language": "python",
   "name": "python3"
  },
  "language_info": {
   "codemirror_mode": {
    "name": "ipython",
    "version": 3
   },
   "file_extension": ".py",
   "mimetype": "text/x-python",
   "name": "python",
   "nbconvert_exporter": "python",
   "pygments_lexer": "ipython3",
   "version": "3.6.3"
  }
 },
 "nbformat": 4,
 "nbformat_minor": 2
}
