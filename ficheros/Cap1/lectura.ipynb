{
 "cells": [
  {
   "cell_type": "markdown",
   "metadata": {
    "collapsed": true
   },
   "source": [
    "# Lectura de ficheros\n",
    "\n",
    "En este notebook presentamos los ejemplos del capítulo 1 del libro *Big Data con Python: recolección, almacenamiento y procesamiento de datos*. En este capítulo aprendemos cómo cargar en Python aquellos datos que tenemos ya disponibles en distintos formatos. Los datos usados en esta capítulo, disponibles en la carpeta *Cap1* de GitHub, fueron descargados de la [iniciativa de datos abiertos del Gobierno de España](http://datos.gob.es/) en marzo de 2018. Los ficheros en CSV, JSON, XML y XLS se refieren a las subvenciones asignadas en 2016 a asociaciones del ámbito educativo por el ayuntamiento de Alcobendas; por su parte, el fichero TSV lo crearemos a partir del CSV.\n",
    "\n",
    "## CSV\n",
    "\n",
    "El primero de los formatos que veremos es CSV. Importamos la biblioteca correspondiente, **csv**"
   ]
  },
  {
   "cell_type": "code",
   "execution_count": 14,
   "metadata": {},
   "outputs": [],
   "source": [
    "import csv"
   ]
  },
  {
   "cell_type": "markdown",
   "metadata": {
    "collapsed": true
   },
   "source": [
    "Y comenzamos la carga del fichero. En primer lugar cargamos como un objeto iterable y lo recorremos con un bucle **for** para calcular el importe total de las subvenciones:"
   ]
  },
  {
   "cell_type": "code",
   "execution_count": 15,
   "metadata": {},
   "outputs": [
    {
     "name": "stdout",
     "output_type": "stream",
     "text": [
      "66487.94\n"
     ]
    }
   ],
   "source": [
    "with open('../../data/Cap1/subvenciones.csv', encoding='latin1') as fichero_csv:\n",
    "    lector = csv.reader(fichero_csv)\n",
    "    next(lector, None)  # Se salta la cabecera\n",
    "    importe_total = 0\n",
    "    for linea in lector:\n",
    "        importe_str = linea[2]\n",
    "        importe = float(importe_str)\n",
    "        importe_total = importe_total + importe\n",
    "    \"\"\"\n",
    "    EL CICLO FOR TOMA EL TERCER ELEMENTO DE LAS LINEAS Y LAS SUMA\n",
    "    \"\"\"\n",
    "    print(importe_total)    "
   ]
  },
  {
   "cell_type": "markdown",
   "metadata": {
    "collapsed": true
   },
   "source": [
    "También podemos calcular las subvenciones por centro almacenando un diccionario que tenga como clave el nombre del centro y como valor las subvenciones recibidas:"
   ]
  },
  {
   "cell_type": "code",
   "execution_count": 16,
   "metadata": {},
   "outputs": [
    {
     "name": "stdout",
     "output_type": "stream",
     "text": [
      "{'AMPA ANTONIO MACHADO': 2344.99, 'AMPA BACHILLER ALONSO LOPEZ': 3200.0, 'AMPA CASTILLA': 2604.44, 'AMPA DAOIZ Y VELARDE': 3152.74, 'AMPA EMILIO CASADO': 3015.67, 'AMPA FEDERICO GARCIA LORCA': 1919.06, 'AMPA GABRIEL Y GALAN': 2741.51, 'AMPA LUIS BUÑUEL': 2081.0, 'AMPA MIGUEL HERNANDEZ': 2923.35, 'AMPA MIRAFLORES': 2787.21, 'AMPA PARQUE CATALUÑA': 2604.44, 'AMPA PROFESOR TIERNO GALVÁN': 1286.0, 'AMPA SEIS DE DICIEMBRE': 1950.0, 'AMPA VALDEPALITOS': 3929.5, 'AMPA LA CHOPERA': 1430.0, 'AMPA EL CUQUILLO': 1507.83, 'AMPA VALDELAPARRA': 2465.0, 'AMPA RIVENDEL': 2200.0, 'AMPA AGORA': 2421.67, 'AMPA ALDEBARAN': 3107.05, 'AMPA GINER DE LOS RIOS': 2058.0, 'AMPA SEVERO OCHOA': 3563.9700000000003, 'AMPA VIRGEN DE LA PAZ': 1416.45, 'AMPA JUAN XXIII': 1781.98, 'AMPA SAN ANTONIO': 2101.83, 'AMPA PADRE  MANYANET': 2695.82, 'AMPA FAPA': 3198.43}\n"
     ]
    }
   ],
   "source": [
    "with open('../../data/Cap1/subvenciones.csv', encoding='latin1') as fichero_csv:\n",
    "    lector = csv.reader(fichero_csv)\n",
    "    next(lector, None)\n",
    "    asociaciones = {}\n",
    "    for linea in lector:\n",
    "        centro = linea[0]\n",
    "        subvencion = float(linea[2])\n",
    "        if centro in asociaciones:\n",
    "            asociaciones[centro] = asociaciones[centro] + subvencion\n",
    "        else:\n",
    "            asociaciones[centro] = subvencion\n",
    "            \n",
    "    \"\"\"ESTE CODIGO VERIFICA LSO CAMPOS REPETIDOS PARA VOLVERLOS ASUMAR, VERIFICA EL PRIMER CAMPO Y SUMA EL TERCERO\"\"\"\n",
    "    print(asociaciones)"
   ]
  },
  {
   "cell_type": "markdown",
   "metadata": {},
   "source": [
    "Es también posible cargar el fichero como un diccionario. En este caso cada una de las filas será un diccionario en el que la clave será el nombre dado en la cabecera del fichero y el valor el indicado en esa fila. De esta manera podemos acceder a los valores usando nombres y no la posición, lo que nos permite escribir un código más intuitivo. A continuación mostramos cómo sería el código para calcular el diccionario de subvenciones mostrado anteriormente de esta manera:"
   ]
  },
  {
   "cell_type": "code",
   "execution_count": 17,
   "metadata": {},
   "outputs": [
    {
     "name": "stdout",
     "output_type": "stream",
     "text": [
      "{'AMPA ANTONIO MACHADO': 2344.99, 'AMPA BACHILLER ALONSO LOPEZ': 3200.0, 'AMPA CASTILLA': 2604.44, 'AMPA DAOIZ Y VELARDE': 3152.74, 'AMPA EMILIO CASADO': 3015.67, 'AMPA FEDERICO GARCIA LORCA': 1919.06, 'AMPA GABRIEL Y GALAN': 2741.51, 'AMPA LUIS BUÑUEL': 2081.0, 'AMPA MIGUEL HERNANDEZ': 2923.35, 'AMPA MIRAFLORES': 2787.21, 'AMPA PARQUE CATALUÑA': 2604.44, 'AMPA PROFESOR TIERNO GALVÁN': 1286.0, 'AMPA SEIS DE DICIEMBRE': 1950.0, 'AMPA VALDEPALITOS': 3929.5, 'AMPA LA CHOPERA': 1430.0, 'AMPA EL CUQUILLO': 1507.83, 'AMPA VALDELAPARRA': 2465.0, 'AMPA RIVENDEL': 2200.0, 'AMPA AGORA': 2421.67, 'AMPA ALDEBARAN': 3107.05, 'AMPA GINER DE LOS RIOS': 2058.0, 'AMPA SEVERO OCHOA': 3563.9700000000003, 'AMPA VIRGEN DE LA PAZ': 1416.45, 'AMPA JUAN XXIII': 1781.98, 'AMPA SAN ANTONIO': 2101.83, 'AMPA PADRE  MANYANET': 2695.82, 'AMPA FAPA': 3198.43}\n"
     ]
    }
   ],
   "source": [
    "with open('../../data/Cap1/subvenciones.csv', encoding='latin1') as fichero_csv:\n",
    "    dict_lector = csv.DictReader(fichero_csv) #LO GUARDA EN FORMATO DICCIONARIO\n",
    "    #/\\ es decir que ahora podemos acceder a los valores sin necesidad de saltar la primera linea\n",
    "    #y con los nombres\n",
    "    asociaciones = {}\n",
    "    for linea in dict_lector:\n",
    "        centro = linea['Asociación']\n",
    "        subvencion = float(linea['Importe'])\n",
    "        if centro in asociaciones:\n",
    "            asociaciones[centro] = asociaciones[centro] + subvencion\n",
    "        else:\n",
    "            asociaciones[centro] = subvencion\n",
    "    print(asociaciones)\n",
    "    \n",
    "    #sustituir linea[2] por linea['importe']\n",
    "    #dict_lector = csv.DictReader(fichero_csv) <-- gracias a esta linea de codigo"
   ]
  },
  {
   "cell_type": "markdown",
   "metadata": {},
   "source": [
    "Es interesante notar como en el código anterior no fue necesario saltarse la primera línea del iterador, ya que se consume directamente cuando cargamos el fichero como un diccionario para asignar nombres a los campos. Si la primera fila no tuviese estos nombres podríamos usar la opción **fieldnames=[..]** para especificarlos y sí se cargaría. Ahora vamos a ver cómo crear un nuevo fichero CSV. Para ello, vamos a modificar nuestro fichero de subvenciones con dos nuevas columnas, **\"Justificación requerida\"** y **\"Justificación recibida\"**. En el primera almacenaremos **Sí** si la subvención pasa de **300** euros y **No** en otro caso; en la segunda pondremos siempre **No**, ya que todavía no hemos recibido justificación alguna."
   ]
  },
  {
   "cell_type": "code",
   "execution_count": 18,
   "metadata": {},
   "outputs": [],
   "source": [
    "with open('../../data/Cap1/subvenciones.csv', encoding='latin1') as fich_lect, open('../../data/Cap1/subvenciones_esc.csv', 'w', encoding='latin1', newline='') as fich_escr:\n",
    "    # /\\ ABRIMOS LOS DOS FICHERO 'fich_lect' PARA LEER Y 'fich_escr' PARA ESCRIBIR.\n",
    "    # newline='' --> SIRVE APRA NO DEJAR ESPACIOS EN BLANCO ENTRE LINEAS\n",
    "    dict_lector = csv.DictReader(fich_lect)\n",
    "    campos = dict_lector.fieldnames + ['Justificación requerida', 'Justificación recibida'] #AGREGAMOPS MAS CAMPOS AL ENCABEZADO DEL LECTOR SIN MODIFICAR\n",
    "    escritor = csv.DictWriter(fich_escr, fieldnames=campos) #ESCRIBIRMOS NUEVOS CAMPOS EN EL OTRO ARCHIVO, ES DECIR RELLENAMOS TODO CON LO DEL ARCHIVO ANTERIOR PERO AGREGANDO DOS NUEVOS CAMPOS AL ENCABEZADO\n",
    "    escritor.writeheader()\n",
    "    for linea in dict_lector:\n",
    "        if float(linea['Importe']) > 300:\n",
    "            linea['Justificación requerida'] = \"Sí\"\n",
    "        else:\n",
    "            linea['Justificación requerida'] = \"No\"\n",
    "        linea['Justificación recibida'] = \"No\"\n",
    "        escritor.writerow(linea)"
   ]
  },
  {
   "cell_type": "markdown",
   "metadata": {},
   "source": [
    "# LEER DOCUMENTO ESCRITO\n",
    "como vemos ahora podemos leer el nuevo documento escrito"
   ]
  },
  {
   "cell_type": "code",
   "execution_count": 19,
   "metadata": {},
   "outputs": [
    {
     "name": "stdout",
     "output_type": "stream",
     "text": [
      "{'Asociación': 'AMPA ANTONIO MACHADO', 'Actividad Subvencionada ': 'TALLER FIESTA DE CARNAVAL', 'Importe': '94.56', 'Justificación requerida': 'No', 'Justificación recibida': 'No'}\n",
      "{'Asociación': 'AMPA ANTONIO MACHADO', 'Actividad Subvencionada ': 'TALLER DIA DEL PADRE', 'Importe': '39.04', 'Justificación requerida': 'No', 'Justificación recibida': 'No'}\n",
      "{'Asociación': 'AMPA ANTONIO MACHADO', 'Actividad Subvencionada ': 'TALLER DIA DE LA MADRE', 'Importe': '43.64', 'Justificación requerida': 'No', 'Justificación recibida': 'No'}\n",
      "{'Asociación': 'AMPA ANTONIO MACHADO', 'Actividad Subvencionada ': 'FIESTA FIN DE CURSO', 'Importe': '921', 'Justificación requerida': 'Sí', 'Justificación recibida': 'No'}\n",
      "{'Asociación': 'AMPA ANTONIO MACHADO', 'Actividad Subvencionada ': 'CONCURSO LOGOTIPO AMPA', 'Importe': '56.57', 'Justificación requerida': 'No', 'Justificación recibida': 'No'}\n",
      "{'Asociación': 'AMPA ANTONIO MACHADO', 'Actividad Subvencionada ': 'ASOCIACION FAPA ALCOBENDAS', 'Importe': '80', 'Justificación requerida': 'No', 'Justificación recibida': 'No'}\n",
      "{'Asociación': 'AMPA ANTONIO MACHADO', 'Actividad Subvencionada ': 'ASOCIACION FAPA GINER DE LOS RIOS', 'Importe': '86.79', 'Justificación requerida': 'No', 'Justificación recibida': 'No'}\n",
      "{'Asociación': 'AMPA ANTONIO MACHADO', 'Actividad Subvencionada ': 'FIESTA DE NAVIDAD', 'Importe': '660', 'Justificación requerida': 'Sí', 'Justificación recibida': 'No'}\n",
      "{'Asociación': 'AMPA ANTONIO MACHADO', 'Actividad Subvencionada ': 'HALLOWEEN', 'Importe': '168.39', 'Justificación requerida': 'No', 'Justificación recibida': 'No'}\n",
      "{'Asociación': 'AMPA ANTONIO MACHADO', 'Actividad Subvencionada ': 'SAN ISIDRO', 'Importe': '195', 'Justificación requerida': 'No', 'Justificación recibida': 'No'}\n",
      "{'Asociación': 'AMPA BACHILLER ALONSO LOPEZ', 'Actividad Subvencionada ': 'MATEMATICAS MANIPULATIVAS', 'Importe': '480', 'Justificación requerida': 'Sí', 'Justificación recibida': 'No'}\n",
      "{'Asociación': 'AMPA BACHILLER ALONSO LOPEZ', 'Actividad Subvencionada ': 'PROYECTO DE INGLES', 'Importe': '480', 'Justificación requerida': 'Sí', 'Justificación recibida': 'No'}\n",
      "{'Asociación': 'AMPA BACHILLER ALONSO LOPEZ', 'Actividad Subvencionada ': 'EXCURSIONES PRIMARIA', 'Importe': '928', 'Justificación requerida': 'Sí', 'Justificación recibida': 'No'}\n",
      "{'Asociación': 'AMPA BACHILLER ALONSO LOPEZ', 'Actividad Subvencionada ': 'GRADUACIÓN INFANTIL', 'Importe': '360', 'Justificación requerida': 'Sí', 'Justificación recibida': 'No'}\n",
      "{'Asociación': 'AMPA BACHILLER ALONSO LOPEZ', 'Actividad Subvencionada ': 'GRADUACIÓN 6 PRIM', 'Importe': '240', 'Justificación requerida': 'No', 'Justificación recibida': 'No'}\n",
      "{'Asociación': 'AMPA BACHILLER ALONSO LOPEZ', 'Actividad Subvencionada ': 'REVISTA COLEGIO ENTRETIZAS', 'Importe': '220', 'Justificación requerida': 'No', 'Justificación recibida': 'No'}\n",
      "{'Asociación': 'AMPA BACHILLER ALONSO LOPEZ', 'Actividad Subvencionada ': 'FIESTA INTERCULTURAL', 'Importe': '492', 'Justificación requerida': 'Sí', 'Justificación recibida': 'No'}\n",
      "{'Asociación': 'AMPA CASTILLA', 'Actividad Subvencionada ': 'CONCURSO TARJETAS NAVIDEÑAS', 'Importe': '124', 'Justificación requerida': 'No', 'Justificación recibida': 'No'}\n",
      "{'Asociación': 'AMPA CASTILLA', 'Actividad Subvencionada ': 'TALLER COMO MEJORAR LA AUTOESTIMA DE NUESTROS HIJOS', 'Importe': '160', 'Justificación requerida': 'No', 'Justificación recibida': 'No'}\n",
      "{'Asociación': 'AMPA CASTILLA', 'Actividad Subvencionada ': 'FIESTA FIN DE CURSO', 'Importe': '840', 'Justificación requerida': 'Sí', 'Justificación recibida': 'No'}\n",
      "{'Asociación': 'AMPA CASTILLA', 'Actividad Subvencionada ': 'PROPUESTA DE ACTIV EXTRAESCOLARES, INSCRIPCIONES, INTERCAMBIO LIBROS', 'Importe': '150', 'Justificación requerida': 'No', 'Justificación recibida': 'No'}\n",
      "{'Asociación': 'AMPA CASTILLA', 'Actividad Subvencionada ': 'FEDERACION', 'Importe': '64', 'Justificación requerida': 'No', 'Justificación recibida': 'No'}\n",
      "{'Asociación': 'AMPA CASTILLA', 'Actividad Subvencionada ': 'FIESTA REYES MAGOS', 'Importe': '460', 'Justificación requerida': 'Sí', 'Justificación recibida': 'No'}\n",
      "{'Asociación': 'AMPA CASTILLA', 'Actividad Subvencionada ': 'CHOCOLATADA', 'Importe': '336', 'Justificación requerida': 'Sí', 'Justificación recibida': 'No'}\n",
      "{'Asociación': 'AMPA CASTILLA', 'Actividad Subvencionada ': 'SAN ISIDRO', 'Importe': '163', 'Justificación requerida': 'No', 'Justificación recibida': 'No'}\n",
      "{'Asociación': 'AMPA CASTILLA', 'Actividad Subvencionada ': 'HALLOWEEN', 'Importe': '160', 'Justificación requerida': 'No', 'Justificación recibida': 'No'}\n",
      "{'Asociación': 'AMPA CASTILLA', 'Actividad Subvencionada ': 'CARNAVAL EN LA AULAS', 'Importe': '147.44', 'Justificación requerida': 'No', 'Justificación recibida': 'No'}\n",
      "{'Asociación': 'AMPA DAOIZ Y VELARDE', 'Actividad Subvencionada ': 'PLAN LECTOR', 'Importe': '370', 'Justificación requerida': 'Sí', 'Justificación recibida': 'No'}\n",
      "{'Asociación': 'AMPA DAOIZ Y VELARDE', 'Actividad Subvencionada ': 'CONCIERTO MUSICA DIVERTIDA', 'Importe': '575.74', 'Justificación requerida': 'Sí', 'Justificación recibida': 'No'}\n",
      "{'Asociación': 'AMPA DAOIZ Y VELARDE', 'Actividad Subvencionada ': 'TALLER HABILIDADES SOCIALES O TECNICAS DE ESTUDIO', 'Importe': '220', 'Justificación requerida': 'No', 'Justificación recibida': 'No'}\n",
      "{'Asociación': 'AMPA DAOIZ Y VELARDE', 'Actividad Subvencionada ': 'FIESTA FIN DE CURSO', 'Importe': '600', 'Justificación requerida': 'Sí', 'Justificación recibida': 'No'}\n",
      "{'Asociación': 'AMPA DAOIZ Y VELARDE', 'Actividad Subvencionada ': 'GRADUACIONES INFANTIL Y SEXTO', 'Importe': '160', 'Justificación requerida': 'No', 'Justificación recibida': 'No'}\n",
      "{'Asociación': 'AMPA DAOIZ Y VELARDE', 'Actividad Subvencionada ': 'AGENDAS', 'Importe': '340', 'Justificación requerida': 'Sí', 'Justificación recibida': 'No'}\n",
      "{'Asociación': 'AMPA DAOIZ Y VELARDE', 'Actividad Subvencionada ': 'EXPOSICION FOTOGRAFICA', 'Importe': '198', 'Justificación requerida': 'No', 'Justificación recibida': 'No'}\n",
      "{'Asociación': 'AMPA DAOIZ Y VELARDE', 'Actividad Subvencionada ': 'NAVIDAD', 'Importe': '689', 'Justificación requerida': 'Sí', 'Justificación recibida': 'No'}\n",
      "{'Asociación': 'AMPA EMILIO CASADO', 'Actividad Subvencionada ': 'DIA DE LA MUSICA', 'Importe': '295.67', 'Justificación requerida': 'No', 'Justificación recibida': 'No'}\n",
      "{'Asociación': 'AMPA EMILIO CASADO', 'Actividad Subvencionada ': 'SALIDA CULTURAL AL TEATRO', 'Importe': '196', 'Justificación requerida': 'No', 'Justificación recibida': 'No'}\n",
      "{'Asociación': 'AMPA EMILIO CASADO', 'Actividad Subvencionada ': 'FESTIVAL FIN DE CURSO', 'Importe': '247', 'Justificación requerida': 'No', 'Justificación recibida': 'No'}\n",
      "{'Asociación': 'AMPA EMILIO CASADO', 'Actividad Subvencionada ': 'FIESTA FIN DE CURSO', 'Importe': '1000', 'Justificación requerida': 'Sí', 'Justificación recibida': 'No'}\n",
      "{'Asociación': 'AMPA EMILIO CASADO', 'Actividad Subvencionada ': 'ASOCIACION FAPA GINER DE LOS RIOS', 'Importe': '175', 'Justificación requerida': 'No', 'Justificación recibida': 'No'}\n",
      "{'Asociación': 'AMPA EMILIO CASADO', 'Actividad Subvencionada ': 'ASOCIACION FAPA ALCOBENDAS', 'Importe': '77', 'Justificación requerida': 'No', 'Justificación recibida': 'No'}\n",
      "{'Asociación': 'AMPA EMILIO CASADO', 'Actividad Subvencionada ': 'FIESTA NAVIDAD', 'Importe': '850', 'Justificación requerida': 'Sí', 'Justificación recibida': 'No'}\n",
      "{'Asociación': 'AMPA EMILIO CASADO', 'Actividad Subvencionada ': 'INTERCENTROS ATLETISMO', 'Importe': '175', 'Justificación requerida': 'No', 'Justificación recibida': 'No'}\n",
      "{'Asociación': 'AMPA FEDERICO GARCIA LORCA', 'Actividad Subvencionada ': 'DIA DEL LIBRO', 'Importe': '1400', 'Justificación requerida': 'Sí', 'Justificación recibida': 'No'}\n",
      "{'Asociación': 'AMPA FEDERICO GARCIA LORCA', 'Actividad Subvencionada ': 'TALLERES DE HALLOWEEN Y ADORNOS NAVIDAD', 'Importe': '85', 'Justificación requerida': 'No', 'Justificación recibida': 'No'}\n",
      "{'Asociación': 'AMPA FEDERICO GARCIA LORCA', 'Actividad Subvencionada ': 'FIESTA FIN DE CURSO', 'Importe': '434.06', 'Justificación requerida': 'Sí', 'Justificación recibida': 'No'}\n",
      "{'Asociación': 'AMPA GABRIEL Y GALAN', 'Actividad Subvencionada ': 'EXCURSIONES', 'Importe': '1151.51', 'Justificación requerida': 'Sí', 'Justificación recibida': 'No'}\n",
      "{'Asociación': 'AMPA GABRIEL Y GALAN', 'Actividad Subvencionada ': 'HUERTO ESCOLAR', 'Importe': '80', 'Justificación requerida': 'No', 'Justificación recibida': 'No'}\n",
      "{'Asociación': 'AMPA GABRIEL Y GALAN', 'Actividad Subvencionada ': 'CUENTACUENTOS', 'Importe': '200', 'Justificación requerida': 'No', 'Justificación recibida': 'No'}\n",
      "{'Asociación': 'AMPA GABRIEL Y GALAN', 'Actividad Subvencionada ': 'TALLER NAVIDEÑO', 'Importe': '120', 'Justificación requerida': 'No', 'Justificación recibida': 'No'}\n",
      "{'Asociación': 'AMPA GABRIEL Y GALAN', 'Actividad Subvencionada ': 'FIESTA FIN DE CURSO', 'Importe': '480', 'Justificación requerida': 'Sí', 'Justificación recibida': 'No'}\n",
      "{'Asociación': 'AMPA GABRIEL Y GALAN', 'Actividad Subvencionada ': 'PERIODICO', 'Importe': '160', 'Justificación requerida': 'No', 'Justificación recibida': 'No'}\n",
      "{'Asociación': 'AMPA GABRIEL Y GALAN', 'Actividad Subvencionada ': 'CARNAVAL', 'Importe': '350', 'Justificación requerida': 'Sí', 'Justificación recibida': 'No'}\n",
      "{'Asociación': 'AMPA GABRIEL Y GALAN', 'Actividad Subvencionada ': 'SAN ISIDRO', 'Importe': '200', 'Justificación requerida': 'No', 'Justificación recibida': 'No'}\n",
      "{'Asociación': 'AMPA LUIS BUÑUEL', 'Actividad Subvencionada ': 'CONCURSO FELICITACIONES DE NAVIDAD', 'Importe': '90', 'Justificación requerida': 'No', 'Justificación recibida': 'No'}\n",
      "{'Asociación': 'AMPA LUIS BUÑUEL', 'Actividad Subvencionada ': 'MERCADILLO NAVIDEÑO', 'Importe': '90', 'Justificación requerida': 'No', 'Justificación recibida': 'No'}\n",
      "{'Asociación': 'AMPA LUIS BUÑUEL', 'Actividad Subvencionada ': 'GRADUACION', 'Importe': '440', 'Justificación requerida': 'Sí', 'Justificación recibida': 'No'}\n",
      "{'Asociación': 'AMPA LUIS BUÑUEL', 'Actividad Subvencionada ': 'FIESTA FIN DE CURSO', 'Importe': '55', 'Justificación requerida': 'No', 'Justificación recibida': 'No'}\n",
      "{'Asociación': 'AMPA LUIS BUÑUEL', 'Actividad Subvencionada ': 'PARTICIPACION FAPA ALCOBENDAS Y FAPA GINER DE LOS RIOS', 'Importe': '227', 'Justificación requerida': 'No', 'Justificación recibida': 'No'}\n",
      "{'Asociación': 'AMPA LUIS BUÑUEL', 'Actividad Subvencionada ': 'FIESTA NAVIDAD', 'Importe': '625', 'Justificación requerida': 'Sí', 'Justificación recibida': 'No'}\n",
      "{'Asociación': 'AMPA LUIS BUÑUEL', 'Actividad Subvencionada ': 'SAN ISIDRO', 'Importe': '200', 'Justificación requerida': 'No', 'Justificación recibida': 'No'}\n",
      "{'Asociación': 'AMPA LUIS BUÑUEL', 'Actividad Subvencionada ': 'FIESTA DE HALLOWEEN', 'Importe': '80', 'Justificación requerida': 'No', 'Justificación recibida': 'No'}\n",
      "{'Asociación': 'AMPA LUIS BUÑUEL', 'Actividad Subvencionada ': 'CASTAÑADA', 'Importe': '65', 'Justificación requerida': 'No', 'Justificación recibida': 'No'}\n",
      "{'Asociación': 'AMPA LUIS BUÑUEL', 'Actividad Subvencionada ': 'CARNAVAL EN LAS AULAS: MERCADILLO MEDIEVAL', 'Importe': '209', 'Justificación requerida': 'No', 'Justificación recibida': 'No'}\n",
      "{'Asociación': 'AMPA MIGUEL HERNANDEZ', 'Actividad Subvencionada ': 'CERTAMEN LITERARIO Y DE DIBUJO', 'Importe': '300', 'Justificación requerida': 'No', 'Justificación recibida': 'No'}\n",
      "{'Asociación': 'AMPA MIGUEL HERNANDEZ', 'Actividad Subvencionada ': 'SEMANA CULTURAL', 'Importe': '153', 'Justificación requerida': 'No', 'Justificación recibida': 'No'}\n",
      "{'Asociación': 'AMPA MIGUEL HERNANDEZ', 'Actividad Subvencionada ': 'EXCURSION A MADRID', 'Importe': '504', 'Justificación requerida': 'Sí', 'Justificación recibida': 'No'}\n",
      "{'Asociación': 'AMPA MIGUEL HERNANDEZ', 'Actividad Subvencionada ': 'EXCURSION A SIERRA DE GUADARRAMA', 'Importe': '293', 'Justificación requerida': 'No', 'Justificación recibida': 'No'}\n",
      "{'Asociación': 'AMPA MIGUEL HERNANDEZ', 'Actividad Subvencionada ': 'CONCURSO DE TARJETAS NAVIDEÑAS', 'Importe': '150', 'Justificación requerida': 'No', 'Justificación recibida': 'No'}\n",
      "{'Asociación': 'AMPA MIGUEL HERNANDEZ', 'Actividad Subvencionada ': 'PARTICIPACION FESTIVAL FAPA', 'Importe': '12', 'Justificación requerida': 'No', 'Justificación recibida': 'No'}\n",
      "{'Asociación': 'AMPA MIGUEL HERNANDEZ', 'Actividad Subvencionada ': 'FESTIVAL FIN CURSO', 'Importe': '287', 'Justificación requerida': 'No', 'Justificación recibida': 'No'}\n",
      "{'Asociación': 'AMPA MIGUEL HERNANDEZ', 'Actividad Subvencionada ': 'ENTREGA DE ORLAS 3º INFANTIL', 'Importe': '100', 'Justificación requerida': 'No', 'Justificación recibida': 'No'}\n",
      "{'Asociación': 'AMPA MIGUEL HERNANDEZ', 'Actividad Subvencionada ': 'PARTICIPACION EN FEDERACIONES', 'Importe': '80', 'Justificación requerida': 'No', 'Justificación recibida': 'No'}\n",
      "{'Asociación': 'AMPA MIGUEL HERNANDEZ', 'Actividad Subvencionada ': 'VISITA REYES MAGOS', 'Importe': '530', 'Justificación requerida': 'Sí', 'Justificación recibida': 'No'}\n",
      "{'Asociación': 'AMPA MIGUEL HERNANDEZ', 'Actividad Subvencionada ': 'FIESTA NAVIDAD', 'Importe': '475', 'Justificación requerida': 'Sí', 'Justificación recibida': 'No'}\n",
      "{'Asociación': 'AMPA MIGUEL HERNANDEZ', 'Actividad Subvencionada ': 'TORNEOS DEPORTIVOS', 'Importe': '39.35', 'Justificación requerida': 'No', 'Justificación recibida': 'No'}\n",
      "{'Asociación': 'AMPA MIRAFLORES', 'Actividad Subvencionada ': 'SALIDA CULTURAL SAFARI', 'Importe': '1500', 'Justificación requerida': 'Sí', 'Justificación recibida': 'No'}\n",
      "{'Asociación': 'AMPA MIRAFLORES', 'Actividad Subvencionada ': 'FIESTA FIN DE CURSO', 'Importe': '560', 'Justificación requerida': 'Sí', 'Justificación recibida': 'No'}\n",
      "{'Asociación': 'AMPA MIRAFLORES', 'Actividad Subvencionada ': 'CUENTOS EN MIRAFLORES', 'Importe': '400', 'Justificación requerida': 'Sí', 'Justificación recibida': 'No'}\n",
      "{'Asociación': 'AMPA MIRAFLORES', 'Actividad Subvencionada ': 'FIESTA DE NAVIDAD', 'Importe': '327.21', 'Justificación requerida': 'Sí', 'Justificación recibida': 'No'}\n",
      "{'Asociación': 'AMPA PARQUE CATALUÑA', 'Actividad Subvencionada ': 'CONCURSO DE TARJETAS NAVIDEÑAS', 'Importe': '290', 'Justificación requerida': 'No', 'Justificación recibida': 'No'}\n",
      "{'Asociación': 'AMPA PARQUE CATALUÑA', 'Actividad Subvencionada ': 'FUTBOL', 'Importe': '95', 'Justificación requerida': 'No', 'Justificación recibida': 'No'}\n",
      "{'Asociación': 'AMPA PARQUE CATALUÑA', 'Actividad Subvencionada ': 'MULTIDEPORTE', 'Importe': '400', 'Justificación requerida': 'Sí', 'Justificación recibida': 'No'}\n",
      "{'Asociación': 'AMPA PARQUE CATALUÑA', 'Actividad Subvencionada ': 'GRADUACIÓN', 'Importe': '130', 'Justificación requerida': 'No', 'Justificación recibida': 'No'}\n",
      "{'Asociación': 'AMPA PARQUE CATALUÑA', 'Actividad Subvencionada ': 'FIESTA FIN DE CURSO', 'Importe': '995', 'Justificación requerida': 'Sí', 'Justificación recibida': 'No'}\n",
      "{'Asociación': 'AMPA PARQUE CATALUÑA', 'Actividad Subvencionada ': 'PARTICIPACIÓN FAPA', 'Importe': '64', 'Justificación requerida': 'No', 'Justificación recibida': 'No'}\n",
      "{'Asociación': 'AMPA PARQUE CATALUÑA', 'Actividad Subvencionada ': 'NAVIDAD', 'Importe': '455', 'Justificación requerida': 'Sí', 'Justificación recibida': 'No'}\n",
      "{'Asociación': 'AMPA PARQUE CATALUÑA', 'Actividad Subvencionada ': 'DIA DEL LIBRO', 'Importe': '175.44', 'Justificación requerida': 'No', 'Justificación recibida': 'No'}\n",
      "{'Asociación': 'AMPA PROFESOR TIERNO GALVÁN', 'Actividad Subvencionada ': 'FIESTA FIN DE CURSO', 'Importe': '300', 'Justificación requerida': 'No', 'Justificación recibida': 'No'}\n",
      "{'Asociación': 'AMPA PROFESOR TIERNO GALVÁN', 'Actividad Subvencionada ': 'FAPA', 'Importe': '80', 'Justificación requerida': 'No', 'Justificación recibida': 'No'}\n",
      "{'Asociación': 'AMPA PROFESOR TIERNO GALVÁN', 'Actividad Subvencionada ': 'DIA DEL LIBRO', 'Importe': '306', 'Justificación requerida': 'Sí', 'Justificación recibida': 'No'}\n",
      "{'Asociación': 'AMPA PROFESOR TIERNO GALVÁN', 'Actividad Subvencionada ': 'DIA DE SAN ISIDRO', 'Importe': '100', 'Justificación requerida': 'No', 'Justificación recibida': 'No'}\n",
      "{'Asociación': 'AMPA PROFESOR TIERNO GALVÁN', 'Actividad Subvencionada ': 'CONCURSO DE CHRISTMAS', 'Importe': '250', 'Justificación requerida': 'No', 'Justificación recibida': 'No'}\n",
      "{'Asociación': 'AMPA PROFESOR TIERNO GALVÁN', 'Actividad Subvencionada ': 'FIESTA NAVIDAD', 'Importe': '250', 'Justificación requerida': 'No', 'Justificación recibida': 'No'}\n",
      "{'Asociación': 'AMPA SEIS DE DICIEMBRE', 'Actividad Subvencionada ': 'EXCURSION GRANJA TALAMANCA', 'Importe': '476', 'Justificación requerida': 'Sí', 'Justificación recibida': 'No'}\n",
      "{'Asociación': 'AMPA SEIS DE DICIEMBRE', 'Actividad Subvencionada ': 'NAVIDAD', 'Importe': '320', 'Justificación requerida': 'Sí', 'Justificación recibida': 'No'}\n",
      "{'Asociación': 'AMPA SEIS DE DICIEMBRE', 'Actividad Subvencionada ': 'CUENTACUENTOS AMBIENTALES', 'Importe': '280', 'Justificación requerida': 'No', 'Justificación recibida': 'No'}\n",
      "{'Asociación': 'AMPA SEIS DE DICIEMBRE', 'Actividad Subvencionada ': 'FIN DE CURSO', 'Importe': '256', 'Justificación requerida': 'No', 'Justificación recibida': 'No'}\n",
      "{'Asociación': 'AMPA SEIS DE DICIEMBRE', 'Actividad Subvencionada ': 'FESTIVAL FIN DE CURSO', 'Importe': '100', 'Justificación requerida': 'No', 'Justificación recibida': 'No'}\n",
      "{'Asociación': 'AMPA SEIS DE DICIEMBRE', 'Actividad Subvencionada ': 'AGENDA ESCOLAR', 'Importe': '518', 'Justificación requerida': 'Sí', 'Justificación recibida': 'No'}\n",
      "{'Asociación': 'AMPA VALDEPALITOS', 'Actividad Subvencionada ': 'VISITA MUSEO DEL VIDRIO', 'Importe': '385.5', 'Justificación requerida': 'Sí', 'Justificación recibida': 'No'}\n",
      "{'Asociación': 'AMPA VALDEPALITOS', 'Actividad Subvencionada ': 'SALIDAS CULTURALES EN FAMILIA', 'Importe': '490', 'Justificación requerida': 'Sí', 'Justificación recibida': 'No'}\n",
      "{'Asociación': 'AMPA VALDEPALITOS', 'Actividad Subvencionada ': 'TALLER EXTRAESCOLAR DISFRACES', 'Importe': '190', 'Justificación requerida': 'No', 'Justificación recibida': 'No'}\n",
      "{'Asociación': 'AMPA VALDEPALITOS', 'Actividad Subvencionada ': 'TALLER EXTRAESCOLAR DANZA ESPAÑOLA', 'Importe': '190', 'Justificación requerida': 'No', 'Justificación recibida': 'No'}\n",
      "{'Asociación': 'AMPA VALDEPALITOS', 'Actividad Subvencionada ': 'TALLER EXTRAESCOLAR DANZA MODERNA', 'Importe': '90', 'Justificación requerida': 'No', 'Justificación recibida': 'No'}\n",
      "{'Asociación': 'AMPA VALDEPALITOS', 'Actividad Subvencionada ': 'FIESTA FIN DE CURSO', 'Importe': '690', 'Justificación requerida': 'Sí', 'Justificación recibida': 'No'}\n",
      "{'Asociación': 'AMPA VALDEPALITOS', 'Actividad Subvencionada ': 'FESTIVAL DANZA Y TEATRO', 'Importe': '210', 'Justificación requerida': 'No', 'Justificación recibida': 'No'}\n",
      "{'Asociación': 'AMPA VALDEPALITOS', 'Actividad Subvencionada ': 'CEREMONIA GRADUACION 6º PRIMARIA', 'Importe': '170', 'Justificación requerida': 'No', 'Justificación recibida': 'No'}\n",
      "{'Asociación': 'AMPA VALDEPALITOS', 'Actividad Subvencionada ': 'ORLA PARA 6º PRIMARIA', 'Importe': '110', 'Justificación requerida': 'No', 'Justificación recibida': 'No'}\n",
      "{'Asociación': 'AMPA VALDEPALITOS', 'Actividad Subvencionada ': 'CEREMONIA GRADUACION INFANTIL', 'Importe': '180', 'Justificación requerida': 'No', 'Justificación recibida': 'No'}\n",
      "{'Asociación': 'AMPA VALDEPALITOS', 'Actividad Subvencionada ': 'BOLETIN APA', 'Importe': '260', 'Justificación requerida': 'No', 'Justificación recibida': 'No'}\n",
      "{'Asociación': 'AMPA VALDEPALITOS', 'Actividad Subvencionada ': 'PARTICIPACION FAPA ALCOBENDAS', 'Importe': '64', 'Justificación requerida': 'No', 'Justificación recibida': 'No'}\n",
      "{'Asociación': 'AMPA VALDEPALITOS', 'Actividad Subvencionada ': 'PARTICIPACION FESTIVAL FAPA', 'Importe': '260', 'Justificación requerida': 'No', 'Justificación recibida': 'No'}\n",
      "{'Asociación': 'AMPA VALDEPALITOS', 'Actividad Subvencionada ': 'PARTICIPACION FAPA GINER DE LOS RIOS', 'Importe': '160', 'Justificación requerida': 'No', 'Justificación recibida': 'No'}\n",
      "{'Asociación': 'AMPA VALDEPALITOS', 'Actividad Subvencionada ': 'FIESTA DE NAVIDAD', 'Importe': '180', 'Justificación requerida': 'No', 'Justificación recibida': 'No'}\n",
      "{'Asociación': 'AMPA VALDEPALITOS', 'Actividad Subvencionada ': 'TORNEO MULTIDEPORTE', 'Importe': '120', 'Justificación requerida': 'No', 'Justificación recibida': 'No'}\n",
      "{'Asociación': 'AMPA VALDEPALITOS', 'Actividad Subvencionada ': 'SEMANA CULTURAL', 'Importe': '180', 'Justificación requerida': 'No', 'Justificación recibida': 'No'}\n",
      "{'Asociación': 'AMPA LA CHOPERA', 'Actividad Subvencionada ': 'SEMANA DEL LIBRO', 'Importe': '990', 'Justificación requerida': 'Sí', 'Justificación recibida': 'No'}\n",
      "{'Asociación': 'AMPA LA CHOPERA', 'Actividad Subvencionada ': 'TALLER DE MUSICA', 'Importe': '120', 'Justificación requerida': 'No', 'Justificación recibida': 'No'}\n",
      "{'Asociación': 'AMPA LA CHOPERA', 'Actividad Subvencionada ': 'FIESTA GRADUACION', 'Importe': '320', 'Justificación requerida': 'Sí', 'Justificación recibida': 'No'}\n",
      "{'Asociación': 'AMPA EL CUQUILLO', 'Actividad Subvencionada ': 'SEMANA DEL LIBRO', 'Importe': '610', 'Justificación requerida': 'Sí', 'Justificación recibida': 'No'}\n",
      "{'Asociación': 'AMPA EL CUQUILLO', 'Actividad Subvencionada ': 'DIA DE LA INFANCIA', 'Importe': '150', 'Justificación requerida': 'No', 'Justificación recibida': 'No'}\n",
      "{'Asociación': 'AMPA EL CUQUILLO', 'Actividad Subvencionada ': 'FIESTA FIN DE CURSO Y GRADUACION', 'Importe': '368', 'Justificación requerida': 'Sí', 'Justificación recibida': 'No'}\n",
      "{'Asociación': 'AMPA EL CUQUILLO', 'Actividad Subvencionada ': 'FIESTA NAVIDAD', 'Importe': '379.83', 'Justificación requerida': 'Sí', 'Justificación recibida': 'No'}\n",
      "{'Asociación': 'AMPA VALDELAPARRA', 'Actividad Subvencionada ': 'SEMANA DEL LIBRO Y FERIA DEL LIBRO', 'Importe': '685', 'Justificación requerida': 'Sí', 'Justificación recibida': 'No'}\n",
      "{'Asociación': 'AMPA VALDELAPARRA', 'Actividad Subvencionada ': 'EL HUERTO', 'Importe': '70', 'Justificación requerida': 'No', 'Justificación recibida': 'No'}\n",
      "{'Asociación': 'AMPA VALDELAPARRA', 'Actividad Subvencionada ': 'TALLER DEL NIDO', 'Importe': '95', 'Justificación requerida': 'No', 'Justificación recibida': 'No'}\n",
      "{'Asociación': 'AMPA VALDELAPARRA', 'Actividad Subvencionada ': 'FIESTA GRADUACION', 'Importe': '670', 'Justificación requerida': 'Sí', 'Justificación recibida': 'No'}\n",
      "{'Asociación': 'AMPA VALDELAPARRA', 'Actividad Subvencionada ': 'QUERIDOS REYES MAGOS', 'Importe': '590', 'Justificación requerida': 'Sí', 'Justificación recibida': 'No'}\n",
      "{'Asociación': 'AMPA VALDELAPARRA', 'Actividad Subvencionada ': 'FERIA DE LAS ASOCIACIONES', 'Importe': '150', 'Justificación requerida': 'No', 'Justificación recibida': 'No'}\n",
      "{'Asociación': 'AMPA VALDELAPARRA', 'Actividad Subvencionada ': 'SAN ISIDRO', 'Importe': '205', 'Justificación requerida': 'No', 'Justificación recibida': 'No'}\n",
      "{'Asociación': 'AMPA RIVENDEL', 'Actividad Subvencionada ': 'DIA DE LA PAZ', 'Importe': '230', 'Justificación requerida': 'No', 'Justificación recibida': 'No'}\n",
      "{'Asociación': 'AMPA RIVENDEL', 'Actividad Subvencionada ': 'SEMANA CULTURAL Y DIA DEL LIBRO', 'Importe': '794', 'Justificación requerida': 'Sí', 'Justificación recibida': 'No'}\n",
      "{'Asociación': 'AMPA RIVENDEL', 'Actividad Subvencionada ': 'VISITA GRANJA ESCUELA', 'Importe': '115', 'Justificación requerida': 'No', 'Justificación recibida': 'No'}\n",
      "{'Asociación': 'AMPA RIVENDEL', 'Actividad Subvencionada ': 'FIESTA FIN DE CURSO', 'Importe': '700', 'Justificación requerida': 'Sí', 'Justificación recibida': 'No'}\n",
      "{'Asociación': 'AMPA RIVENDEL', 'Actividad Subvencionada ': 'PERTENENCIA A LA FAPA', 'Importe': '64', 'Justificación requerida': 'No', 'Justificación recibida': 'No'}\n",
      "{'Asociación': 'AMPA RIVENDEL', 'Actividad Subvencionada ': 'CARNAVAL', 'Importe': '157', 'Justificación requerida': 'No', 'Justificación recibida': 'No'}\n",
      "{'Asociación': 'AMPA RIVENDEL', 'Actividad Subvencionada ': 'BELEN NAVIDEÑO', 'Importe': '40', 'Justificación requerida': 'No', 'Justificación recibida': 'No'}\n",
      "{'Asociación': 'AMPA RIVENDEL', 'Actividad Subvencionada ': 'FIESTA DE NAVIDAD', 'Importe': '100', 'Justificación requerida': 'No', 'Justificación recibida': 'No'}\n",
      "{'Asociación': 'AMPA AGORA', 'Actividad Subvencionada ': 'PREMIOS AL RENDIMIENTO, SUPERACIÓN Y CONVICENCIA', 'Importe': '501.67', 'Justificación requerida': 'Sí', 'Justificación recibida': 'No'}\n",
      "{'Asociación': 'AMPA AGORA', 'Actividad Subvencionada ': 'ANIMACION A LA LECTURA', 'Importe': '560', 'Justificación requerida': 'Sí', 'Justificación recibida': 'No'}\n",
      "{'Asociación': 'AMPA AGORA', 'Actividad Subvencionada ': 'SALIDA AL TEATRO', 'Importe': '240', 'Justificación requerida': 'No', 'Justificación recibida': 'No'}\n",
      "{'Asociación': 'AMPA AGORA', 'Actividad Subvencionada ': 'EXCURSION CULTURAL VISITA CORRALAS DE MADRID', 'Importe': '120', 'Justificación requerida': 'No', 'Justificación recibida': 'No'}\n",
      "{'Asociación': 'AMPA AGORA', 'Actividad Subvencionada ': 'CONCURSO FOTOGRAFICO CONSTITUCION', 'Importe': '160', 'Justificación requerida': 'No', 'Justificación recibida': 'No'}\n",
      "{'Asociación': 'AMPA AGORA', 'Actividad Subvencionada ': 'ACTO DE GRADUACIÓN', 'Importe': '300', 'Justificación requerida': 'No', 'Justificación recibida': 'No'}\n",
      "{'Asociación': 'AMPA AGORA', 'Actividad Subvencionada ': 'INTERCAMBIO DE LIBROS DE TEXTO', 'Importe': '80', 'Justificación requerida': 'No', 'Justificación recibida': 'No'}\n",
      "{'Asociación': 'AMPA AGORA', 'Actividad Subvencionada ': 'JORNADA DE CONVIVENCIA', 'Importe': '250', 'Justificación requerida': 'No', 'Justificación recibida': 'No'}\n",
      "{'Asociación': 'AMPA AGORA', 'Actividad Subvencionada ': 'MILLA ESCOLAR', 'Importe': '210', 'Justificación requerida': 'No', 'Justificación recibida': 'No'}\n",
      "{'Asociación': 'AMPA ALDEBARAN', 'Actividad Subvencionada ': 'PREMIOS AL RENDIMIENTO, SUPERACIÓN Y CONVIVENCIA', 'Importe': '980.05', 'Justificación requerida': 'Sí', 'Justificación recibida': 'No'}\n",
      "{'Asociación': 'AMPA ALDEBARAN', 'Actividad Subvencionada ': 'ANIMACION A LA LECTURA', 'Importe': '302', 'Justificación requerida': 'Sí', 'Justificación recibida': 'No'}\n",
      "{'Asociación': 'AMPA ALDEBARAN', 'Actividad Subvencionada ': 'PRACTICANDO IDIOMAS', 'Importe': '278', 'Justificación requerida': 'No', 'Justificación recibida': 'No'}\n",
      "{'Asociación': 'AMPA ALDEBARAN', 'Actividad Subvencionada ': 'CONCURSO DE TARJETAS NAVIDEÑAS', 'Importe': '190', 'Justificación requerida': 'No', 'Justificación recibida': 'No'}\n",
      "{'Asociación': 'AMPA ALDEBARAN', 'Actividad Subvencionada ': 'GRADUACION ALUMNOS BACHILLER', 'Importe': '220', 'Justificación requerida': 'No', 'Justificación recibida': 'No'}\n",
      "{'Asociación': 'AMPA ALDEBARAN', 'Actividad Subvencionada ': 'BOLETIN INFORMATIVO', 'Importe': '587', 'Justificación requerida': 'Sí', 'Justificación recibida': 'No'}\n",
      "{'Asociación': 'AMPA ALDEBARAN', 'Actividad Subvencionada ': 'PARTICIPACION EN FAPAS', 'Importe': '260', 'Justificación requerida': 'No', 'Justificación recibida': 'No'}\n",
      "{'Asociación': 'AMPA ALDEBARAN', 'Actividad Subvencionada ': 'TALLER CHAPAS E IMANES', 'Importe': '290', 'Justificación requerida': 'No', 'Justificación recibida': 'No'}\n",
      "{'Asociación': 'AMPA GINER DE LOS RIOS', 'Actividad Subvencionada ': 'CERTAMEN TARJETA NAVIDAD', 'Importe': '673', 'Justificación requerida': 'Sí', 'Justificación recibida': 'No'}\n",
      "{'Asociación': 'AMPA GINER DE LOS RIOS', 'Actividad Subvencionada ': 'CERTAMEN DE RELATO Y POESIA', 'Importe': '320', 'Justificación requerida': 'Sí', 'Justificación recibida': 'No'}\n",
      "{'Asociación': 'AMPA GINER DE LOS RIOS', 'Actividad Subvencionada ': 'CERTAMEN RECREANDO EL JARDIN DEL GINER', 'Importe': '160', 'Justificación requerida': 'No', 'Justificación recibida': 'No'}\n",
      "{'Asociación': 'AMPA GINER DE LOS RIOS', 'Actividad Subvencionada ': 'CERTAMEN ENSAYO FILOSOFICO RAQUEL PUSZKIN', 'Importe': '120', 'Justificación requerida': 'No', 'Justificación recibida': 'No'}\n",
      "{'Asociación': 'AMPA GINER DE LOS RIOS', 'Actividad Subvencionada ': 'CEREMONIA GRADUACION BACHILLERATO', 'Importe': '270', 'Justificación requerida': 'No', 'Justificación recibida': 'No'}\n",
      "{'Asociación': 'AMPA GINER DE LOS RIOS', 'Actividad Subvencionada ': 'LIBRO DE RELATO Y POESIAS LA PLUMA LITERARIA', 'Importe': '290', 'Justificación requerida': 'No', 'Justificación recibida': 'No'}\n",
      "{'Asociación': 'AMPA GINER DE LOS RIOS', 'Actividad Subvencionada ': 'PARTICIPACION FAPA ALCOBENDAS Y FAPA MADRID', 'Importe': '225', 'Justificación requerida': 'No', 'Justificación recibida': 'No'}\n",
      "{'Asociación': 'AMPA SEVERO OCHOA', 'Actividad Subvencionada ': 'TALLER DE MOTIVACION Y AUTOESTIMA', 'Importe': '981.97', 'Justificación requerida': 'Sí', 'Justificación recibida': 'No'}\n",
      "{'Asociación': 'AMPA SEVERO OCHOA', 'Actividad Subvencionada ': 'TALLER DE TECNICAS DE ESTUDIO', 'Importe': '600', 'Justificación requerida': 'Sí', 'Justificación recibida': 'No'}\n",
      "{'Asociación': 'AMPA SEVERO OCHOA', 'Actividad Subvencionada ': 'CONFERENCIA COLOQUIO SOBRE PREVENCION DEL FRACASO ESCOLAR', 'Importe': '450', 'Justificación requerida': 'Sí', 'Justificación recibida': 'No'}\n",
      "{'Asociación': 'AMPA SEVERO OCHOA', 'Actividad Subvencionada ': 'EXPOSICION Y EDICION ALBUM FOTOGRAFICO INTERCAMBIO EEUU', 'Importe': '340', 'Justificación requerida': 'Sí', 'Justificación recibida': 'No'}\n",
      "{'Asociación': 'AMPA SEVERO OCHOA', 'Actividad Subvencionada ': 'EXCURSION FIN DE CURO A PARQUE ECO-AVENTURA', 'Importe': '480', 'Justificación requerida': 'Sí', 'Justificación recibida': 'No'}\n",
      "{'Asociación': 'AMPA SEVERO OCHOA', 'Actividad Subvencionada ': 'GRADUACION CICLOS Y BACHILLERATOS', 'Importe': '240', 'Justificación requerida': 'No', 'Justificación recibida': 'No'}\n",
      "{'Asociación': 'AMPA SEVERO OCHOA', 'Actividad Subvencionada ': 'FERIA DE ASOCIACIONES DE ALCOBENDAS', 'Importe': '40', 'Justificación requerida': 'No', 'Justificación recibida': 'No'}\n",
      "{'Asociación': 'AMPA SEVERO OCHOA', 'Actividad Subvencionada ': 'PERTENENCIA A FAPA ALCOBENDAS', 'Importe': '64', 'Justificación requerida': 'No', 'Justificación recibida': 'No'}\n",
      "{'Asociación': 'AMPA SEVERO OCHOA', 'Actividad Subvencionada ': 'TORNEO DE AJEDREZ', 'Importe': '48', 'Justificación requerida': 'No', 'Justificación recibida': 'No'}\n",
      "{'Asociación': 'AMPA SEVERO OCHOA', 'Actividad Subvencionada ': 'FIESTA DE NAVIDAD', 'Importe': '320', 'Justificación requerida': 'Sí', 'Justificación recibida': 'No'}\n",
      "{'Asociación': 'AMPA VIRGEN DE LA PAZ', 'Actividad Subvencionada ': 'JORNADA LUDICO DEPORTIVA FIN DE CURSO', 'Importe': '927.45', 'Justificación requerida': 'Sí', 'Justificación recibida': 'No'}\n",
      "{'Asociación': 'AMPA VIRGEN DE LA PAZ', 'Actividad Subvencionada ': 'PARTICIPACION FAPA ALCOBENDAS Y GINER DE LOS RIOS', 'Importe': '176', 'Justificación requerida': 'No', 'Justificación recibida': 'No'}\n",
      "{'Asociación': 'AMPA VIRGEN DE LA PAZ', 'Actividad Subvencionada ': 'ACTO DE GRADUACIÓN', 'Importe': '121', 'Justificación requerida': 'No', 'Justificación recibida': 'No'}\n",
      "{'Asociación': 'AMPA VIRGEN DE LA PAZ', 'Actividad Subvencionada ': 'PARTICIPACION EN FERIA DE LAS ASOCIACIONES', 'Importe': '40', 'Justificación requerida': 'No', 'Justificación recibida': 'No'}\n",
      "{'Asociación': 'AMPA VIRGEN DE LA PAZ', 'Actividad Subvencionada ': 'TORNEO DEPORTIVO FUTBOL SALA', 'Importe': '152', 'Justificación requerida': 'No', 'Justificación recibida': 'No'}\n",
      "{'Asociación': 'AMPA JUAN XXIII', 'Actividad Subvencionada ': 'TALLER DE MANUALIDADES', 'Importe': '800', 'Justificación requerida': 'Sí', 'Justificación recibida': 'No'}\n",
      "{'Asociación': 'AMPA JUAN XXIII', 'Actividad Subvencionada ': 'TALLER DE JUEGOS DIDACTICOS', 'Importe': '448', 'Justificación requerida': 'Sí', 'Justificación recibida': 'No'}\n",
      "{'Asociación': 'AMPA JUAN XXIII', 'Actividad Subvencionada ': 'TALLER DE MAGIA', 'Importe': '533.98', 'Justificación requerida': 'Sí', 'Justificación recibida': 'No'}\n",
      "{'Asociación': 'AMPA SAN ANTONIO', 'Actividad Subvencionada ': 'GRANJA ESCUELA', 'Importe': '895', 'Justificación requerida': 'Sí', 'Justificación recibida': 'No'}\n",
      "{'Asociación': 'AMPA SAN ANTONIO', 'Actividad Subvencionada ': 'VISITA AL PARQUE DE AVENTURAS AMAZONIA', 'Importe': '576', 'Justificación requerida': 'Sí', 'Justificación recibida': 'No'}\n",
      "{'Asociación': 'AMPA SAN ANTONIO', 'Actividad Subvencionada ': 'ASISTENCIA AL CIRCO MUNDIAL', 'Importe': '630.83', 'Justificación requerida': 'Sí', 'Justificación recibida': 'No'}\n",
      "{'Asociación': 'AMPA PADRE  MANYANET', 'Actividad Subvencionada ': 'FERIA DE LA SEMANA CULTURAL', 'Importe': '800', 'Justificación requerida': 'Sí', 'Justificación recibida': 'No'}\n",
      "{'Asociación': 'AMPA PADRE  MANYANET', 'Actividad Subvencionada ': 'BIBLIOTECA DE EDUCACION PRIMARIA DE LA APA', 'Importe': '803.82', 'Justificación requerida': 'Sí', 'Justificación recibida': 'No'}\n",
      "{'Asociación': 'AMPA PADRE  MANYANET', 'Actividad Subvencionada ': 'FERIA DE ROBOTICA', 'Importe': '720', 'Justificación requerida': 'Sí', 'Justificación recibida': 'No'}\n",
      "{'Asociación': 'AMPA PADRE  MANYANET', 'Actividad Subvencionada ': 'LUDOTECA FIESTA FIN DE CURSO', 'Importe': '372', 'Justificación requerida': 'Sí', 'Justificación recibida': 'No'}\n",
      "{'Asociación': 'AMPA FAPA', 'Actividad Subvencionada ': 'JORNADA FAPA-APAS: ENCUENTROS DE PARTICIPACION', 'Importe': '720', 'Justificación requerida': 'Sí', 'Justificación recibida': 'No'}\n",
      "{'Asociación': 'AMPA FAPA', 'Actividad Subvencionada ': '25 ANIVERSARIO FAPA ALCOBENDAS', 'Importe': '1515', 'Justificación requerida': 'Sí', 'Justificación recibida': 'No'}\n",
      "{'Asociación': 'AMPA FAPA', 'Actividad Subvencionada ': 'REVISTA DE LA FEDERACION \"LA ESCUELA EN ALCOBENDAS', 'Importe': '963.43', 'Justificación requerida': 'Sí', 'Justificación recibida': 'No'}\n"
     ]
    }
   ],
   "source": [
    "with open('../../data/Cap1/subvenciones_esc.csv', encoding='latin1') as fichero_csv:\n",
    "    dict_lector = csv.DictReader(fichero_csv)\n",
    "    for i in dict_lector:\n",
    "        print(i)"
   ]
  },
  {
   "cell_type": "markdown",
   "metadata": {},
   "source": [
    "## TSV"
   ]
  },
  {
   "cell_type": "markdown",
   "metadata": {},
   "source": [
    "El formato TSV es similar al CSV, pero en el caso de TSV las columnas se separan con tabuladores. Para crear y manipular estos ficheros seguiremos usando la biblioteca **csv**, usando la opción **delimiter='\\t'**. Por ejemplo, podemos crear un fichero TSV a partir del CSV anterior simplemente usando esta opción al crear el objeto **escritor**:"
   ]
  },
  {
   "cell_type": "code",
   "execution_count": 20,
   "metadata": {},
   "outputs": [],
   "source": [
    "with open('../../data/Cap1/subvenciones.csv', encoding='latin1') as fich_lect, open('../../data/Cap1/subvenciones.tsv', 'w', encoding='latin1') as fich_escr:\n",
    "    dict_lector = csv.DictReader(fich_lect)\n",
    "    campos = dict_lector.fieldnames\n",
    "    escritor = csv.DictWriter(fich_escr, delimiter='\\t', fieldnames=campos)\n",
    "    escritor.writeheader()\n",
    "    for linea in dict_lector:\n",
    "        escritor.writerow(linea)"
   ]
  },
  {
   "cell_type": "markdown",
   "metadata": {},
   "source": [
    "Una vez creado el fichero, podemos recorrerlo como hacíamos arriba, eligiendo como separador el tabulador. La función siguiente calcula las subvenciones por centro como hicimos con CSV:"
   ]
  },
  {
   "cell_type": "code",
   "execution_count": 21,
   "metadata": {},
   "outputs": [
    {
     "name": "stdout",
     "output_type": "stream",
     "text": [
      "{'AMPA ANTONIO MACHADO': 2344.99, 'AMPA BACHILLER ALONSO LOPEZ': 3200.0, 'AMPA CASTILLA': 2604.44, 'AMPA DAOIZ Y VELARDE': 3152.74, 'AMPA EMILIO CASADO': 3015.67, 'AMPA FEDERICO GARCIA LORCA': 1919.06, 'AMPA GABRIEL Y GALAN': 2741.51, 'AMPA LUIS BUÑUEL': 2081.0, 'AMPA MIGUEL HERNANDEZ': 2923.35, 'AMPA MIRAFLORES': 2787.21, 'AMPA PARQUE CATALUÑA': 2604.44, 'AMPA PROFESOR TIERNO GALVÁN': 1286.0, 'AMPA SEIS DE DICIEMBRE': 1950.0, 'AMPA VALDEPALITOS': 3929.5, 'AMPA LA CHOPERA': 1430.0, 'AMPA EL CUQUILLO': 1507.83, 'AMPA VALDELAPARRA': 2465.0, 'AMPA RIVENDEL': 2200.0, 'AMPA AGORA': 2421.67, 'AMPA ALDEBARAN': 3107.05, 'AMPA GINER DE LOS RIOS': 2058.0, 'AMPA SEVERO OCHOA': 3563.9700000000003, 'AMPA VIRGEN DE LA PAZ': 1416.45, 'AMPA JUAN XXIII': 1781.98, 'AMPA SAN ANTONIO': 2101.83, 'AMPA PADRE  MANYANET': 2695.82, 'AMPA FAPA': 3198.43}\n"
     ]
    }
   ],
   "source": [
    "with open('../../data/Cap1/subvenciones.tsv', encoding='latin1') as fichero:\n",
    "    dict_lector = csv.DictReader(fichero, delimiter='\\t')\n",
    "    asociaciones = {}\n",
    "    for linea in dict_lector:\n",
    "        centro = linea['Asociación']\n",
    "        subvencion = float(linea['Importe'])\n",
    "        if centro in asociaciones:\n",
    "            asociaciones[centro] = asociaciones[centro] + subvencion\n",
    "        else:\n",
    "            asociaciones[centro] = subvencion\n",
    "    print(asociaciones)"
   ]
  },
  {
   "cell_type": "markdown",
   "metadata": {},
   "source": [
    "## JSON"
   ]
  },
  {
   "cell_type": "markdown",
   "metadata": {},
   "source": [
    "En esta sección cargaremos los ficheros de subvenciones dados en formato JSON. En primer lugar, cargamos la biblioteca **json**"
   ]
  },
  {
   "cell_type": "code",
   "execution_count": 22,
   "metadata": {},
   "outputs": [],
   "source": [
    "import json"
   ]
  },
  {
   "cell_type": "markdown",
   "metadata": {},
   "source": [
    "Los objetos JSON se cargan en Python como diccionarios, mientras que los *arrays* JSON se traducen como listas Python. Con esta información podemos usar **load** para cargar y visualizar el fichero:"
   ]
  },
  {
   "cell_type": "code",
   "execution_count": 23,
   "metadata": {},
   "outputs": [
    {
     "ename": "UnicodeDecodeError",
     "evalue": "'charmap' codec can't decode byte 0x81 in position 12632: character maps to <undefined>",
     "output_type": "error",
     "traceback": [
      "\u001b[1;31m---------------------------------------------------------------------------\u001b[0m",
      "\u001b[1;31mUnicodeDecodeError\u001b[0m                        Traceback (most recent call last)",
      "Cell \u001b[1;32mIn[23], line 2\u001b[0m\n\u001b[0;32m      1\u001b[0m \u001b[38;5;28;01mwith\u001b[39;00m \u001b[38;5;28mopen\u001b[39m(\u001b[38;5;124m'\u001b[39m\u001b[38;5;124m../../data/Cap1/subvenciones.json\u001b[39m\u001b[38;5;124m'\u001b[39m) \u001b[38;5;28;01mas\u001b[39;00m fich:\n\u001b[1;32m----> 2\u001b[0m     datos \u001b[38;5;241m=\u001b[39m \u001b[43mjson\u001b[49m\u001b[38;5;241;43m.\u001b[39;49m\u001b[43mload\u001b[49m\u001b[43m(\u001b[49m\u001b[43mfich\u001b[49m\u001b[43m)\u001b[49m\n\u001b[0;32m      3\u001b[0m     \u001b[38;5;28mprint\u001b[39m(datos[\u001b[38;5;241m0\u001b[39m:\u001b[38;5;241m2\u001b[39m])\n",
      "File \u001b[1;32mC:\\Program Files\\WindowsApps\\PythonSoftwareFoundation.Python.3.9_3.9.3568.0_x64__qbz5n2kfra8p0\\lib\\json\\__init__.py:293\u001b[0m, in \u001b[0;36mload\u001b[1;34m(fp, cls, object_hook, parse_float, parse_int, parse_constant, object_pairs_hook, **kw)\u001b[0m\n\u001b[0;32m    274\u001b[0m \u001b[38;5;28;01mdef\u001b[39;00m \u001b[38;5;21mload\u001b[39m(fp, \u001b[38;5;241m*\u001b[39m, \u001b[38;5;28mcls\u001b[39m\u001b[38;5;241m=\u001b[39m\u001b[38;5;28;01mNone\u001b[39;00m, object_hook\u001b[38;5;241m=\u001b[39m\u001b[38;5;28;01mNone\u001b[39;00m, parse_float\u001b[38;5;241m=\u001b[39m\u001b[38;5;28;01mNone\u001b[39;00m,\n\u001b[0;32m    275\u001b[0m         parse_int\u001b[38;5;241m=\u001b[39m\u001b[38;5;28;01mNone\u001b[39;00m, parse_constant\u001b[38;5;241m=\u001b[39m\u001b[38;5;28;01mNone\u001b[39;00m, object_pairs_hook\u001b[38;5;241m=\u001b[39m\u001b[38;5;28;01mNone\u001b[39;00m, \u001b[38;5;241m*\u001b[39m\u001b[38;5;241m*\u001b[39mkw):\n\u001b[0;32m    276\u001b[0m \u001b[38;5;250m    \u001b[39m\u001b[38;5;124;03m\"\"\"Deserialize ``fp`` (a ``.read()``-supporting file-like object containing\u001b[39;00m\n\u001b[0;32m    277\u001b[0m \u001b[38;5;124;03m    a JSON document) to a Python object.\u001b[39;00m\n\u001b[0;32m    278\u001b[0m \n\u001b[1;32m   (...)\u001b[0m\n\u001b[0;32m    291\u001b[0m \u001b[38;5;124;03m    kwarg; otherwise ``JSONDecoder`` is used.\u001b[39;00m\n\u001b[0;32m    292\u001b[0m \u001b[38;5;124;03m    \"\"\"\u001b[39;00m\n\u001b[1;32m--> 293\u001b[0m     \u001b[38;5;28;01mreturn\u001b[39;00m loads(\u001b[43mfp\u001b[49m\u001b[38;5;241;43m.\u001b[39;49m\u001b[43mread\u001b[49m\u001b[43m(\u001b[49m\u001b[43m)\u001b[49m,\n\u001b[0;32m    294\u001b[0m         \u001b[38;5;28mcls\u001b[39m\u001b[38;5;241m=\u001b[39m\u001b[38;5;28mcls\u001b[39m, object_hook\u001b[38;5;241m=\u001b[39mobject_hook,\n\u001b[0;32m    295\u001b[0m         parse_float\u001b[38;5;241m=\u001b[39mparse_float, parse_int\u001b[38;5;241m=\u001b[39mparse_int,\n\u001b[0;32m    296\u001b[0m         parse_constant\u001b[38;5;241m=\u001b[39mparse_constant, object_pairs_hook\u001b[38;5;241m=\u001b[39mobject_pairs_hook, \u001b[38;5;241m*\u001b[39m\u001b[38;5;241m*\u001b[39mkw)\n",
      "File \u001b[1;32mC:\\Program Files\\WindowsApps\\PythonSoftwareFoundation.Python.3.9_3.9.3568.0_x64__qbz5n2kfra8p0\\lib\\encodings\\cp1252.py:23\u001b[0m, in \u001b[0;36mIncrementalDecoder.decode\u001b[1;34m(self, input, final)\u001b[0m\n\u001b[0;32m     22\u001b[0m \u001b[38;5;28;01mdef\u001b[39;00m \u001b[38;5;21mdecode\u001b[39m(\u001b[38;5;28mself\u001b[39m, \u001b[38;5;28minput\u001b[39m, final\u001b[38;5;241m=\u001b[39m\u001b[38;5;28;01mFalse\u001b[39;00m):\n\u001b[1;32m---> 23\u001b[0m     \u001b[38;5;28;01mreturn\u001b[39;00m \u001b[43mcodecs\u001b[49m\u001b[38;5;241;43m.\u001b[39;49m\u001b[43mcharmap_decode\u001b[49m\u001b[43m(\u001b[49m\u001b[38;5;28;43minput\u001b[39;49m\u001b[43m,\u001b[49m\u001b[38;5;28;43mself\u001b[39;49m\u001b[38;5;241;43m.\u001b[39;49m\u001b[43merrors\u001b[49m\u001b[43m,\u001b[49m\u001b[43mdecoding_table\u001b[49m\u001b[43m)\u001b[49m[\u001b[38;5;241m0\u001b[39m]\n",
      "\u001b[1;31mUnicodeDecodeError\u001b[0m: 'charmap' codec can't decode byte 0x81 in position 12632: character maps to <undefined>"
     ]
    }
   ],
   "source": [
    "with open('../../data/Cap1/subvenciones.json') as fich:\n",
    "    datos = json.load(fich)\n",
    "    print(datos[0:2])"
   ]
  },
  {
   "cell_type": "markdown",
   "metadata": {},
   "source": [
    "Como vemos, nuestro fichero JSON consiste en una lista de objetos donde cada uno de estos objetos se corresponde con una subvención, es decir, contiene 3 campos correspondientes a **\"Asociación\"**, **\"Actividad Subvencionada\"** e **\"Importe en euros\"**. Sin embargo, el disponer de un formato más flexible nos permite almacenar la información de manera más compacta: podríamos tener un objeto JSON por cada centro, con los campos **\"Asociación\"** y **\"Actividades\"**. Este segundo campo consistiría a su vez en una lista de objetos con los campos **\"Actividad Subvencionada\"** e **\"Importe en euros\"**. Vamos a escribir el código Python necesario para transformar nuestro fichero y guardarlo en un nuevo fichero **subvenciones_agrupadas.json**:"
   ]
  },
  {
   "cell_type": "code",
   "execution_count": null,
   "metadata": {},
   "outputs": [
    {
     "name": "stdout",
     "output_type": "stream",
     "text": [
      "[{'Asociación': 'AMPA ANTONIO MACHADO', 'Actividades': [{'Actividad Subvencionada': 'TALLER FIESTA DE CARNAVAL', 'Importe en euros': '94.56'}, {'Actividad Subvencionada': 'TALLER DIA DEL PADRE', 'Importe en euros': '39.04 '}, {'Actividad Subvencionada': 'TALLER DIA DE LA MADRE', 'Importe en euros': '43.64 '}, {'Actividad Subvencionada': 'FIESTA FIN DE CURSO', 'Importe en euros': '921.00 '}, {'Actividad Subvencionada': 'CONCURSO LOGOTIPO AMPA', 'Importe en euros': '56.57 '}, {'Actividad Subvencionada': 'ASOCIACION FAPA ALCOBENDAS', 'Importe en euros': '80.00 '}, {'Actividad Subvencionada': 'ASOCIACION FAPA GINER DE LOS RIOS', 'Importe en euros': '86.79 '}, {'Actividad Subvencionada': 'FIESTA DE NAVIDAD', 'Importe en euros': '660.00 '}, {'Actividad Subvencionada': 'HALLOWEEN', 'Importe en euros': '168.39 '}, {'Actividad Subvencionada': 'SAN ISIDRO', 'Importe en euros': '195.00 '}]}, {'Asociación': 'AMPA BACHILLER ALONSO LOPEZ', 'Actividades': [{'Actividad Subvencionada': 'MATEMATICAS MANIPULATIVAS', 'Importe en euros': '480.00 '}, {'Actividad Subvencionada': 'PROYECTO DE INGLES', 'Importe en euros': '480.00 '}, {'Actividad Subvencionada': 'EXCURSIONES PRIMARIA', 'Importe en euros': '928.00 '}, {'Actividad Subvencionada': 'GRADUACIÓN INFANTIL', 'Importe en euros': '360.00 '}, {'Actividad Subvencionada': 'GRADUACIÓN 6 PRIM', 'Importe en euros': '240.00 '}, {'Actividad Subvencionada': 'REVISTA COLEGIO ENTRETIZAS', 'Importe en euros': '220.00 '}, {'Actividad Subvencionada': 'FIESTA INTERCULTURAL', 'Importe en euros': '492.00 '}]}, {'Asociación': 'AMPA CASTILLA', 'Actividades': [{'Actividad Subvencionada': 'CONCURSO TARJETAS NAVIDEÑAS', 'Importe en euros': '124.00 '}, {'Actividad Subvencionada': 'TALLER COMO MEJORAR LA AUTOESTIMA DE NUESTROS HIJOS', 'Importe en euros': '160.00 '}, {'Actividad Subvencionada': 'FIESTA FIN DE CURSO', 'Importe en euros': '840.00 '}, {'Actividad Subvencionada': 'PROPUESTA DE ACTIV EXTRAESCOLARES,INSCRIPCIONES. INTERCAMBIO LIBROS', 'Importe en euros': '150.00'}, {'Actividad Subvencionada': 'FEDERACION', 'Importe en euros': '64.00 '}, {'Actividad Subvencionada': 'FIESTA REYES MAGOS', 'Importe en euros': '460.00 '}, {'Actividad Subvencionada': 'CHOCOLATADA', 'Importe en euros': '336.00 '}, {'Actividad Subvencionada': 'SAN ISIDRO', 'Importe en euros': '163.00 '}, {'Actividad Subvencionada': 'HALLOWEEN', 'Importe en euros': '160.00 '}, {'Actividad Subvencionada': 'CARNAVAL EN LA AULAS', 'Importe en euros': '147.44 '}]}, {'Asociación': 'AMPA DAOIZ Y VELARDE', 'Actividades': [{'Actividad Subvencionada': 'PLAN LECTOR', 'Importe en euros': '370.00 '}, {'Actividad Subvencionada': 'CONCIERTO MUSICA DIVERTIDA', 'Importe en euros': '575.74 '}, {'Actividad Subvencionada': 'TALLER HABILIDADES SOCIALES O TECNICAS DE ESTUDIO', 'Importe en euros': '220.00 '}, {'Actividad Subvencionada': 'FIESTA FIN DE CURSO', 'Importe en euros': '600.00 '}, {'Actividad Subvencionada': 'GRADUACIONES INFANTIL Y SEXTO', 'Importe en euros': '160.00 '}, {'Actividad Subvencionada': 'AGENDAS', 'Importe en euros': '340.00 '}, {'Actividad Subvencionada': 'EXPOSICION FOTOGRAFICA', 'Importe en euros': '198.00 '}, {'Actividad Subvencionada': 'NAVIDAD', 'Importe en euros': '689.00 '}]}, {'Asociación': 'AMPA EMILIO CASADO', 'Actividades': [{'Actividad Subvencionada': 'DIA DE LA MUSICA', 'Importe en euros': '295.67 '}, {'Actividad Subvencionada': 'SALIDA CULTURAL AL TEATRO', 'Importe en euros': '196.00 '}, {'Actividad Subvencionada': 'FESTIVAL FIN DE CURSO', 'Importe en euros': '247.00 '}, {'Actividad Subvencionada': 'FIESTA FIN DE CURSO', 'Importe en euros': '1.000.00 '}, {'Actividad Subvencionada': 'ASOCIACION FAPA GINER DE LOS RIOS', 'Importe en euros': '175.00 '}, {'Actividad Subvencionada': 'ASOCIACION FAPA ALCOBENDAS', 'Importe en euros': '77.00 '}, {'Actividad Subvencionada': 'FIESTA NAVIDAD', 'Importe en euros': '850.00 '}, {'Actividad Subvencionada': 'INTERCENTROS ATLETISMO', 'Importe en euros': '175.00 '}]}, {'Asociación': 'AMPA FEDERICO GARCIA LORCA', 'Actividades': [{'Actividad Subvencionada': 'DIA DEL LIBRO', 'Importe en euros': '1.400.00 '}, {'Actividad Subvencionada': 'TALLERES DE HALLOWEEN Y ADORNOS NAVIDAD', 'Importe en euros': '85.00 '}, {'Actividad Subvencionada': 'FIESTA FIN DE CURSO', 'Importe en euros': '434.06 '}]}, {'Asociación': 'AMPA GABRIEL Y GALAN', 'Actividades': [{'Actividad Subvencionada': 'EXCURSIONES', 'Importe en euros': '1.151.51 '}, {'Actividad Subvencionada': 'HUERTO ESCOLAR', 'Importe en euros': '80.00 '}, {'Actividad Subvencionada': 'CUENTACUENTOS', 'Importe en euros': '200.00 '}, {'Actividad Subvencionada': 'TALLER NAVIDEÑO', 'Importe en euros': '120.00 '}, {'Actividad Subvencionada': 'FIESTA FIN DE CURSO', 'Importe en euros': '480.00 '}, {'Actividad Subvencionada': 'PERIODICO', 'Importe en euros': '160.00 '}, {'Actividad Subvencionada': 'CARNAVAL', 'Importe en euros': '350.00 '}, {'Actividad Subvencionada': 'SAN ISIDRO', 'Importe en euros': '200.00 '}]}, {'Asociación': 'AMPA LUIS BUÑUEL', 'Actividades': [{'Actividad Subvencionada': 'CONCURSO FELICITACIONES DE NAVIDAD', 'Importe en euros': '90.00 '}, {'Actividad Subvencionada': 'MERCADILLO NAVIDEÑO', 'Importe en euros': '90.00 '}, {'Actividad Subvencionada': 'GRADUACION', 'Importe en euros': '440.00 '}, {'Actividad Subvencionada': 'FIESTA FIN DE CURSO', 'Importe en euros': '55.00 '}, {'Actividad Subvencionada': 'PARTICIPACION FAPA ALCOBENDAS Y FAPA GINER DE LOS RIOS', 'Importe en euros': '227.00 '}, {'Actividad Subvencionada': 'FIESTA NAVIDAD', 'Importe en euros': '625.00 '}, {'Actividad Subvencionada': 'SAN ISIDRO', 'Importe en euros': '200.00 '}, {'Actividad Subvencionada': 'FIESTA DE HALLOWEEN', 'Importe en euros': '80.00 '}, {'Actividad Subvencionada': 'CASTAÑADA', 'Importe en euros': '65.00 '}, {'Actividad Subvencionada': 'CARNAVAL EN LAS AULAS: MERCADILLO MEDIEVAL', 'Importe en euros': '209.00 '}]}, {'Asociación': 'AMPA MIGUEL HERNANDEZ', 'Actividades': [{'Actividad Subvencionada': 'CERTAMEN LITERARIO Y DE DIBUJO', 'Importe en euros': '300.00 '}, {'Actividad Subvencionada': 'SEMANA CULTURAL', 'Importe en euros': '153.00 '}, {'Actividad Subvencionada': 'EXCURSION A MADRID', 'Importe en euros': '504.00 '}, {'Actividad Subvencionada': 'EXCURSION A SIERRA DE GUADARRAMA', 'Importe en euros': '293.00 '}, {'Actividad Subvencionada': 'CONCURSO DE TARJETAS NAVIDEÑAS', 'Importe en euros': '150.00 '}, {'Actividad Subvencionada': 'PARTICIPACION FESTIVAL FAPA', 'Importe en euros': '12.00 '}, {'Actividad Subvencionada': 'FESTIVAL FIN CURSO', 'Importe en euros': '287.00 '}, {'Actividad Subvencionada': 'ENTREGA DE ORLAS 3º INFANTIL', 'Importe en euros': '100.00 '}, {'Actividad Subvencionada': 'PARTICIPACION EN FEDERACIONES', 'Importe en euros': '80.00 '}, {'Actividad Subvencionada': 'VISITA REYES MAGOS', 'Importe en euros': '530.00 '}, {'Actividad Subvencionada': 'FIESTA NAVIDAD', 'Importe en euros': '475.00 '}, {'Actividad Subvencionada': 'TORNEOS DEPORTIVOS', 'Importe en euros': '39.35 '}]}, {'Asociación': 'AMPA MIRAFLORES', 'Actividades': [{'Actividad Subvencionada': 'SALIDA CULTURAL SAFARI', 'Importe en euros': '1.500.00 '}, {'Actividad Subvencionada': 'FIESTA FIN DE CURSO', 'Importe en euros': '560.00 '}, {'Actividad Subvencionada': 'CUENTOS EN MIRAFLORES', 'Importe en euros': '400.00 '}, {'Actividad Subvencionada': 'FIESTA DE NAVIDAD', 'Importe en euros': '327.21 '}]}, {'Asociación': 'AMPA PARQUE CATALUÑA', 'Actividades': [{'Actividad Subvencionada': 'CONCURSO DE TARJETAS NAVIDEÑAS', 'Importe en euros': '290.00 '}, {'Actividad Subvencionada': 'FUTBOL', 'Importe en euros': '95.00 '}, {'Actividad Subvencionada': 'MULTIDEPORTE', 'Importe en euros': '400.00 '}, {'Actividad Subvencionada': 'GRADUACIÓN', 'Importe en euros': '130.00 '}, {'Actividad Subvencionada': 'FIESTA FIN DE CURSO', 'Importe en euros': '995.00 '}, {'Actividad Subvencionada': 'PARTICIPACIÓN FAPA', 'Importe en euros': '64.00 '}, {'Actividad Subvencionada': 'NAVIDAD', 'Importe en euros': '455.00 '}, {'Actividad Subvencionada': 'DIA DEL LIBRO', 'Importe en euros': '175.44 '}]}, {'Asociación': 'AMPA PROFESOR TIERNO GALVÁN', 'Actividades': [{'Actividad Subvencionada': 'FIESTA FIN DE CURSO', 'Importe en euros': '300.00 '}, {'Actividad Subvencionada': 'FAPA', 'Importe en euros': '80.00 '}, {'Actividad Subvencionada': 'DIA DEL LIBRO', 'Importe en euros': '306.00 '}, {'Actividad Subvencionada': 'DIA DE SAN ISIDRO', 'Importe en euros': '100.00 '}, {'Actividad Subvencionada': 'CONCURSO DE CHRISTMAS', 'Importe en euros': '250.00 '}, {'Actividad Subvencionada': 'FIESTA NAVIDAD', 'Importe en euros': '250.00 '}]}, {'Asociación': 'AMPA SEIS DE DICIEMBRE', 'Actividades': [{'Actividad Subvencionada': 'EXCURSION GRANJA TALAMANCA', 'Importe en euros': '476.00 '}, {'Actividad Subvencionada': 'NAVIDAD', 'Importe en euros': '320.00 '}, {'Actividad Subvencionada': 'CUENTACUENTOS AMBIENTALES', 'Importe en euros': '280.00 '}, {'Actividad Subvencionada': 'FIN DE CURSO', 'Importe en euros': '256.00 '}, {'Actividad Subvencionada': 'FESTIVAL FIN DE CURSO', 'Importe en euros': '100.00 '}, {'Actividad Subvencionada': 'AGENDA ESCOLAR', 'Importe en euros': '518.00 '}]}, {'Asociación': 'AMPA VALDEPALITOS', 'Actividades': [{'Actividad Subvencionada': 'VISITA MUSEO DEL VIDRIO', 'Importe en euros': '385.50 '}, {'Actividad Subvencionada': 'SALIDAS CULTURALES EN FAMILIA', 'Importe en euros': '490.00 '}, {'Actividad Subvencionada': 'TALLER EXTRAESCOLAR DISFRACES', 'Importe en euros': '190.00 '}, {'Actividad Subvencionada': 'TALLER EXTRAESCOLAR DANZA ESPAÑOLA', 'Importe en euros': '190.00 '}, {'Actividad Subvencionada': 'TALLER EXTRAESCOLAR DANZA MODERNA', 'Importe en euros': '90.00 '}, {'Actividad Subvencionada': 'FIESTA FIN DE CURSO', 'Importe en euros': '690.00 '}, {'Actividad Subvencionada': 'FESTIVAL DANZA Y TEATRO', 'Importe en euros': '210.00 '}, {'Actividad Subvencionada': 'CEREMONIA GRADUACION 6º PRIMARIA', 'Importe en euros': '170.00 '}, {'Actividad Subvencionada': 'ORLA PARA 6º PRIMARIA', 'Importe en euros': '110.00 '}, {'Actividad Subvencionada': 'CEREMONIA GRADUACION INFANTIL', 'Importe en euros': '180.00 '}, {'Actividad Subvencionada': 'BOLETIN APA', 'Importe en euros': '260.00 '}, {'Actividad Subvencionada': 'PARTICIPACION FAPA ALCOBENDAS', 'Importe en euros': '64.00 '}, {'Actividad Subvencionada': 'PARTICIPACION FESTIVAL FAPA', 'Importe en euros': '260.00 '}, {'Actividad Subvencionada': 'PARTICIPACION FAPA GINER DE LOS RIOS', 'Importe en euros': '160.00 '}, {'Actividad Subvencionada': 'FIESTA DE NAVIDAD', 'Importe en euros': '180.00 '}, {'Actividad Subvencionada': 'TORNEO MULTIDEPORTE', 'Importe en euros': '120.00 '}, {'Actividad Subvencionada': 'SEMANA CULTURAL', 'Importe en euros': '180.00 '}]}, {'Asociación': 'AMPA LA CHOPERA', 'Actividades': [{'Actividad Subvencionada': 'SEMANA DEL LIBRO', 'Importe en euros': '990.00 '}, {'Actividad Subvencionada': 'TALLER DE MUSICA', 'Importe en euros': '120.00 '}, {'Actividad Subvencionada': 'FIESTA GRADUACION', 'Importe en euros': '320.00 '}]}, {'Asociación': 'AMPA EL CUQUILLO', 'Actividades': [{'Actividad Subvencionada': 'SEMANA DEL LIBRO', 'Importe en euros': '610.00 '}, {'Actividad Subvencionada': 'DIA DE LA INFANCIA', 'Importe en euros': '150.00 '}, {'Actividad Subvencionada': 'FIESTA FIN DE CURSO Y GRADUACION', 'Importe en euros': '368.00 '}, {'Actividad Subvencionada': 'FIESTA NAVIDAD', 'Importe en euros': '379.83 '}]}, {'Asociación': 'AMPA VALDELAPARRA', 'Actividades': [{'Actividad Subvencionada': 'SEMANA DEL LIBRO Y FERIA DEL LIBRO', 'Importe en euros': '685.00 '}, {'Actividad Subvencionada': 'EL HUERTO', 'Importe en euros': '70.00 '}, {'Actividad Subvencionada': 'TALLER DEL NIDO', 'Importe en euros': '95.00 '}, {'Actividad Subvencionada': 'FIESTA GRADUACION', 'Importe en euros': '670.00 '}, {'Actividad Subvencionada': 'QUERIDOS REYES MAGOS', 'Importe en euros': '590.00 '}, {'Actividad Subvencionada': 'FERIA DE LAS ASOCIACIONES', 'Importe en euros': '150.00 '}, {'Actividad Subvencionada': 'SAN ISIDRO', 'Importe en euros': '205.00 '}]}, {'Asociación': 'AMPA RIVENDEL', 'Actividades': [{'Actividad Subvencionada': 'DIA DE LA PAZ', 'Importe en euros': '230.00 '}, {'Actividad Subvencionada': 'SEMANA CULTURAL Y DIA DEL LIBRO', 'Importe en euros': '794.00 '}, {'Actividad Subvencionada': 'VISITA GRANJA ESCUELA', 'Importe en euros': '115.00 '}, {'Actividad Subvencionada': 'FIESTA FIN DE CURSO', 'Importe en euros': '700.00 '}, {'Actividad Subvencionada': 'PERTENENCIA A LA FAPA', 'Importe en euros': '64.00 '}, {'Actividad Subvencionada': 'CARNAVAL', 'Importe en euros': '157.00 '}, {'Actividad Subvencionada': 'BELEN NAVIDEÑO', 'Importe en euros': '40.00 '}, {'Actividad Subvencionada': 'FIESTA DE NAVIDAD', 'Importe en euros': '100.00 '}]}, {'Asociación': 'AMPA AGORA', 'Actividades': [{'Actividad Subvencionada': 'PREMIOS AL RENDIMIENTO. SUPERACIÓN Y CONVICENCIA', 'Importe en euros': '501.67 '}, {'Actividad Subvencionada': 'ANIMACION A LA LECTURA', 'Importe en euros': '560.00 '}, {'Actividad Subvencionada': 'SALIDA AL TEATRO', 'Importe en euros': '240.00 '}, {'Actividad Subvencionada': 'EXCURSION CULTURAL VISITA CORRALAS DE MADRID', 'Importe en euros': '120.00 '}, {'Actividad Subvencionada': 'CONCURSO FOTOGRAFICO CONSTITUCION', 'Importe en euros': '160.00 '}, {'Actividad Subvencionada': 'ACTO DE GRADUACIÓN', 'Importe en euros': '300.00 '}, {'Actividad Subvencionada': 'INTERCAMBIO DE LIBROS DE TEXTO', 'Importe en euros': '80.00 '}, {'Actividad Subvencionada': 'JORNADA DE CONVIVENCIA', 'Importe en euros': '250.00 '}, {'Actividad Subvencionada': 'MILLA ESCOLAR', 'Importe en euros': '210.00 '}]}, {'Asociación': 'AMPA ALDEBARAN', 'Actividades': [{'Actividad Subvencionada': 'PREMIOS AL RENDIMIENTO. SUPERACIÓN Y CONVIVENCIA', 'Importe en euros': '980.05 '}, {'Actividad Subvencionada': 'ANIMACION A LA LECTURA', 'Importe en euros': '302.00 '}, {'Actividad Subvencionada': 'PRACTICANDO IDIOMAS', 'Importe en euros': '278.00 '}, {'Actividad Subvencionada': 'CONCURSO DE TARJETAS NAVIDEÑAS', 'Importe en euros': '190.00 '}, {'Actividad Subvencionada': 'GRADUACION ALUMNOS BACHILLER', 'Importe en euros': '220.00 '}, {'Actividad Subvencionada': 'BOLETIN INFORMATIVO', 'Importe en euros': '587.00 '}, {'Actividad Subvencionada': 'PARTICIPACION EN FAPAS', 'Importe en euros': '260.00 '}, {'Actividad Subvencionada': 'TALLER CHAPAS E IMANES', 'Importe en euros': '290.00 '}]}, {'Asociación': 'AMPA GINER DE LOS RIOS', 'Actividades': [{'Actividad Subvencionada': 'CERTAMEN TARJETA NAVIDAD', 'Importe en euros': '673.00 '}, {'Actividad Subvencionada': 'CERTAMEN DE RELATO Y POESIA', 'Importe en euros': '320.00 '}, {'Actividad Subvencionada': 'CERTAMEN RECREANDO EL JARDIN DEL GINER', 'Importe en euros': '160.00 '}, {'Actividad Subvencionada': 'CERTAMEN ENSAYO FILOSOFICO RAQUEL PUSZKIN', 'Importe en euros': '120.00 '}, {'Actividad Subvencionada': 'CEREMONIA GRADUACION BACHILLERATO', 'Importe en euros': '270.00 '}, {'Actividad Subvencionada': 'LIBRO DE RELATO Y POESIAS LA PLUMA LITERARIA', 'Importe en euros': '290.00 '}, {'Actividad Subvencionada': 'PARTICIPACION FAPA ALCOBENDAS Y FAPA MADRID', 'Importe en euros': '225.00 '}]}, {'Asociación': 'AMPA SEVERO OCHOA', 'Actividades': [{'Actividad Subvencionada': 'TALLER DE MOTIVACION Y AUTOESTIMA', 'Importe en euros': '981.97 '}, {'Actividad Subvencionada': 'TALLER DE TECNICAS DE ESTUDIO', 'Importe en euros': '600.00 '}, {'Actividad Subvencionada': 'CONFERENCIA COLOQUIO SOBRE PREVENCION DEL FRACASO ESCOLAR', 'Importe en euros': '450.00 '}, {'Actividad Subvencionada': 'EXPOSICION Y EDICION ALBUM FOTOGRAFICO INTERCAMBIO EEUU', 'Importe en euros': '340.00 '}, {'Actividad Subvencionada': 'EXCURSION FIN DE CURO A PARQUE ECO-AVENTURA', 'Importe en euros': '480.00 '}, {'Actividad Subvencionada': 'GRADUACION CICLOS Y BACHILLERATOS', 'Importe en euros': '240.00 '}, {'Actividad Subvencionada': 'FERIA DE ASOCIACIONES DE ALCOBENDAS', 'Importe en euros': '40.00 '}, {'Actividad Subvencionada': 'PERTENENCIA A FAPA ALCOBENDAS', 'Importe en euros': '64.00 '}, {'Actividad Subvencionada': 'TORNEO DE AJEDREZ', 'Importe en euros': '48.00 '}, {'Actividad Subvencionada': 'FIESTA DE NAVIDAD', 'Importe en euros': '320.00 '}]}, {'Asociación': 'AMPA VIRGEN DE LA PAZ', 'Actividades': [{'Actividad Subvencionada': 'JORNADA LUDICO DEPORTIVA FIN DE CURSO', 'Importe en euros': '927.45 '}, {'Actividad Subvencionada': 'PARTICIPACION FAPA ALCOBENDAS Y GINER DE LOS RIOS', 'Importe en euros': '176.00 '}, {'Actividad Subvencionada': 'ACTO DE GRADUACIÓN', 'Importe en euros': '121.00 '}, {'Actividad Subvencionada': 'PARTICIPACION EN FERIA DE LAS ASOCIACIONES', 'Importe en euros': '40.00 '}, {'Actividad Subvencionada': 'TORNEO DEPORTIVO FUTBOL SALA', 'Importe en euros': '152.00 '}]}, {'Asociación': 'AMPA JUAN XXIII', 'Actividades': [{'Actividad Subvencionada': 'TALLER DE MANUALIDADES', 'Importe en euros': '800.00 '}, {'Actividad Subvencionada': 'TALLER DE JUEGOS DIDACTICOS', 'Importe en euros': '448.00 '}, {'Actividad Subvencionada': 'TALLER DE MAGIA', 'Importe en euros': '533.98 '}]}, {'Asociación': 'AMPA SAN ANTONIO', 'Actividades': [{'Actividad Subvencionada': 'GRANJA ESCUELA', 'Importe en euros': '895.00 '}, {'Actividad Subvencionada': 'VISITA AL PARQUE DE AVENTURAS AMAZONIA', 'Importe en euros': '576.00 '}, {'Actividad Subvencionada': 'ASISTENCIA AL CIRCO MUNDIAL', 'Importe en euros': '630.83 '}]}, {'Asociación': 'AMPA PADRE  MANYANET', 'Actividades': [{'Actividad Subvencionada': 'FERIA DE LA SEMANA CULTURAL', 'Importe en euros': '800.00 '}, {'Actividad Subvencionada': 'BIBLIOTECA DE EDUCACION PRIMARIA DE LA APA', 'Importe en euros': '803.82 '}, {'Actividad Subvencionada': 'FERIA DE ROBOTICA', 'Importe en euros': '720.00 '}, {'Actividad Subvencionada': 'LUDOTECA FIESTA FIN DE CURSO', 'Importe en euros': '372.00 '}]}, {'Asociación': 'AMPA FAPA'}]\n"
     ]
    }
   ],
   "source": [
    "with open('../../data/Cap1/subvenciones.json', encoding='utf-8') as fich_lect, open('../../data/Cap1/subvenciones_agrupadas.json', 'w', encoding='utf-8') as fich_escr:\n",
    "    data = json.load(fich_lect)\n",
    "    asoc_str = \"Asociación\"\n",
    "    act_str = \"Actividad Subvencionada\"\n",
    "    imp_str = \"Importe en euros\"\n",
    "    lista = []\n",
    "    lista_act = []\n",
    "    asoc_actual = \"\"\n",
    "    dicc = {}\n",
    "    for elem in data:\n",
    "        asoc = elem[asoc_str]\n",
    "        act = elem[act_str]\n",
    "        imp = elem[imp_str]\n",
    "        if asoc_actual != asoc:\n",
    "            dicc[\"Actividades\"] = lista_act\n",
    "            dicc = {\"Asociación\": asoc}\n",
    "            lista.append(dicc)\n",
    "            lista_act = []\n",
    "        lista_act.append({act_str : act, imp_str : imp})\n",
    "        asoc_actual = asoc\n",
    "    print(lista)\n",
    "    json.dump(lista, fich_escr, ensure_ascii=False, indent=4) # , sort_keys=False"
   ]
  },
  {
   "cell_type": "markdown",
   "metadata": {},
   "source": [
    "Intentemos ahora calcular, como hicimos para CSV, el total de gasto para cada centro y almacenarlo como un nuevo campo de la estructura que hemos creado arriba. El código necesario para ello es:"
   ]
  },
  {
   "cell_type": "code",
   "execution_count": null,
   "metadata": {},
   "outputs": [
    {
     "ename": "ValueError",
     "evalue": "could not convert string to float: '1.000.00 '",
     "output_type": "error",
     "traceback": [
      "\u001b[0;31m---------------------------------------------------------------------------\u001b[0m",
      "\u001b[0;31mValueError\u001b[0m                                Traceback (most recent call last)",
      "\u001b[0;32m<ipython-input-11-b2adf1944fef>\u001b[0m in \u001b[0;36m<module>\u001b[0;34m()\u001b[0m\n\u001b[1;32m     12\u001b[0m         \u001b[0masoc\u001b[0m \u001b[0;34m=\u001b[0m \u001b[0melem\u001b[0m\u001b[0;34m[\u001b[0m\u001b[0masoc_str\u001b[0m\u001b[0;34m]\u001b[0m\u001b[0;34m\u001b[0m\u001b[0m\n\u001b[1;32m     13\u001b[0m         \u001b[0mact\u001b[0m \u001b[0;34m=\u001b[0m \u001b[0melem\u001b[0m\u001b[0;34m[\u001b[0m\u001b[0mact_str\u001b[0m\u001b[0;34m]\u001b[0m\u001b[0;34m\u001b[0m\u001b[0m\n\u001b[0;32m---> 14\u001b[0;31m         \u001b[0mimp\u001b[0m \u001b[0;34m=\u001b[0m \u001b[0mfloat\u001b[0m\u001b[0;34m(\u001b[0m\u001b[0melem\u001b[0m\u001b[0;34m[\u001b[0m\u001b[0mimp_str\u001b[0m\u001b[0;34m]\u001b[0m\u001b[0;34m)\u001b[0m\u001b[0;34m\u001b[0m\u001b[0m\n\u001b[0m\u001b[1;32m     15\u001b[0m         \u001b[0;32mif\u001b[0m \u001b[0masoc_actual\u001b[0m \u001b[0;34m!=\u001b[0m \u001b[0masoc\u001b[0m\u001b[0;34m:\u001b[0m\u001b[0;34m\u001b[0m\u001b[0m\n\u001b[1;32m     16\u001b[0m             \u001b[0mdicc\u001b[0m\u001b[0;34m[\u001b[0m\u001b[0;34m\"Actividades\"\u001b[0m\u001b[0;34m]\u001b[0m \u001b[0;34m=\u001b[0m \u001b[0mlista_act\u001b[0m\u001b[0;34m\u001b[0m\u001b[0m\n",
      "\u001b[0;31mValueError\u001b[0m: could not convert string to float: '1.000.00 '"
     ]
    }
   ],
   "source": [
    "with open('../../data/Cap1/subvenciones.json', encoding='utf-8') as fich_lect, open('../../data/Cap1/subvenciones_agrupadas_error.json', 'w', encoding='utf-8') as fich_escr:\n",
    "    data = json.load(fich_lect)\n",
    "    asoc_str = \"Asociación\"\n",
    "    act_str = \"Actividad Subvencionada\"\n",
    "    imp_str = \"Importe en euros\"\n",
    "    lista = []\n",
    "    lista_act = []\n",
    "    asoc_actual = \"\"\n",
    "    dicc = {}\n",
    "    gasto = 0\n",
    "    for elem in data:\n",
    "        asoc = elem[asoc_str]\n",
    "        act = elem[act_str]\n",
    "        imp = float(elem[imp_str])\n",
    "        if asoc_actual != asoc:\n",
    "            dicc[\"Actividades\"] = lista_act\n",
    "            dicc[\"Gasto\"] = gasto\n",
    "            dicc = {\"Asociación\": asoc}\n",
    "            lista.append(dicc)\n",
    "            lista_act = []\n",
    "            gasto = 0\n",
    "        lista_act.append({act_str : act, imp_str : imp})\n",
    "        gasto = gasto + imp\n",
    "        asoc_actual = asoc\n",
    "    print(lista)\n",
    "    json.dump(lista, fich_escr, ensure_ascii=False, indent=4) # , sort_keys=False"
   ]
  },
  {
   "cell_type": "markdown",
   "metadata": {},
   "source": [
    "Como se puede observar, ¡el código falla! El problema es que se han añadido puntos en cantidades con miles de euros. Por ejemplo, 1000 euros se han introducido en el fichero JSON como 1.000.00, indicando el primer punto los miles y el segundo los decimales. Python no es capaz de analizar este número, por lo que vamos a crear el nuevo JSON a partir del fichero CSV que usamos en el capítulo anterior."
   ]
  },
  {
   "cell_type": "code",
   "execution_count": null,
   "metadata": {},
   "outputs": [],
   "source": [
    "with open('../../data/Cap1/subvenciones.csv', encoding='latin1') as fich_lect, open('../../data/Cap1/subvenciones_agrupadas_con_gasto.json', 'w', encoding='utf-8') as fich_escr:\n",
    "    dict_lector = csv.DictReader(fich_lect)\n",
    "    asoc_str = \"Asociación\"\n",
    "    act_str = \"Actividad Subvencionada \"\n",
    "    imp_str = \"Importe\"\n",
    "    lista = []\n",
    "    lista_act = []\n",
    "    asoc_actual = \"\"\n",
    "    dicc = {}\n",
    "    gasto = 0\n",
    "    for linea in dict_lector:\n",
    "        asoc = linea[asoc_str]\n",
    "        act = linea[act_str]\n",
    "        imp = float(linea[imp_str])\n",
    "        if asoc_actual != asoc:\n",
    "            dicc[\"Actividades\"] = lista_act\n",
    "            dicc[\"Gasto\"] = gasto\n",
    "            dicc = {\"Asociación\": asoc}\n",
    "            lista.append(dicc)\n",
    "            lista_act = []\n",
    "            gasto = 0\n",
    "        lista_act.append({act_str : act, imp_str : imp})\n",
    "        gasto = gasto + imp\n",
    "        asoc_actual = asoc\n",
    "    json.dump(lista, fich_escr, ensure_ascii=False, indent=4) # , sort_keys=False"
   ]
  },
  {
   "cell_type": "markdown",
   "metadata": {},
   "source": [
    "## Excel"
   ]
  },
  {
   "cell_type": "markdown",
   "metadata": {},
   "source": [
    "Python no tiene una biblioteca estándar para tratar con ficheros Excel, por lo que presentaremos las bibliotecas **xlrd** y **xlwt** para lectura y escritura, respectivamente. Estas bibliotecas pueden ser consideradas estándares *de facto*, aunque presentaremos también brevemente la biblioteca **pandas** para lectura y escritura de dataframes desde/hacia ficheros Excel. Empezamos cargando las correspondientes bibliotecas:"
   ]
  },
  {
   "cell_type": "code",
   "execution_count": null,
   "metadata": {},
   "outputs": [],
   "source": [
    "from xlrd import open_workbook, colname\n",
    "import xlwt"
   ]
  },
  {
   "cell_type": "markdown",
   "metadata": {},
   "source": [
    "Empezaremos calculando la subvención total recibida por centro:"
   ]
  },
  {
   "cell_type": "code",
   "execution_count": null,
   "metadata": {},
   "outputs": [
    {
     "name": "stdout",
     "output_type": "stream",
     "text": [
      "{'AMPA ANTONIO MACHADO': 2344.99, 'AMPA BACHILLER ALONSO LOPEZ': 3200.0, 'AMPA CASTILLA': 2604.44, 'AMPA DAOIZ Y VELARDE': 3152.74, 'AMPA EMILIO CASADO': 3015.67, 'AMPA FEDERICO GARCIA LORCA': 1919.06, 'AMPA GABRIEL Y GALAN': 2741.51, 'AMPA LUIS BUÑUEL': 2081.0, 'AMPA MIGUEL HERNANDEZ': 2923.35, 'AMPA MIRAFLORES': 2787.21, 'AMPA PARQUE CATALUÑA': 2604.44, 'AMPA PROFESOR TIERNO GALVÁN': 1286.0, 'AMPA SEIS DE DICIEMBRE': 1950.0, 'AMPA VALDEPALITOS': 3929.5, 'AMPA LA CHOPERA': 1430.0, 'AMPA EL CUQUILLO': 1507.83, 'AMPA VALDELAPARRA': 2465.0, 'AMPA RIVENDEL': 2200.0, 'AMPA AGORA': 2421.67, 'AMPA ALDEBARAN': 3107.05, 'AMPA GINER DE LOS RIOS': 2058.0, 'AMPA SEVERO OCHOA': 3563.9700000000003, 'AMPA VIRGEN DE LA PAZ': 1416.45, 'AMPA JUAN XXIII': 1781.98, 'AMPA SAN ANTONIO': 2101.83, 'AMPA PADRE  MANYANET': 2695.82, 'AMPA FAPA': 3198.43}\n"
     ]
    }
   ],
   "source": [
    "with open_workbook('../../data/Cap1/subvenciones.xls',on_demand=True) as libro:\n",
    "    asociaciones = {}\n",
    "    for nombre in libro.sheet_names():\n",
    "        hoja = libro.sheet_by_name(nombre)\n",
    "        for i in range(1,hoja.nrows):\n",
    "            fila = hoja.row(i)\n",
    "            centro = fila[0].value\n",
    "            subvencion = fila[2].value\n",
    "            #print(fila[0].ctype)\n",
    "            #print(fila[2].value)\n",
    "            if centro in asociaciones:\n",
    "                asociaciones[centro] = asociaciones[centro] + subvencion\n",
    "            else:\n",
    "                asociaciones[centro] = subvencion\n",
    "    print(asociaciones)"
   ]
  },
  {
   "cell_type": "markdown",
   "metadata": {},
   "source": [
    "Ahora crearemos una nueva hoja, en la que tendremos una tabla con los centros, la subvención recibida, la subvención justificada, y la subvención que queda por justificar, que será una fórmula:"
   ]
  },
  {
   "cell_type": "code",
   "execution_count": null,
   "metadata": {},
   "outputs": [],
   "source": [
    "with open_workbook('../../data/Cap1/subvenciones.xls',on_demand=True) as libro_lect:\n",
    "    asociaciones = {}\n",
    "    libro_escr = xlwt.Workbook()\n",
    "    for nombre in libro_lect.sheet_names():\n",
    "        hoja_lect = libro_lect.sheet_by_name(nombre)\n",
    "        hoja_escr = libro_escr.add_sheet(nombre)\n",
    "        for i in range(hoja_lect.nrows):\n",
    "            for j in range(hoja_lect.ncols):\n",
    "                hoja_escr.write(i, j, hoja_lect.row(i)[j].value)\n",
    "            if i != 0:\n",
    "                fila = hoja_lect.row(i)\n",
    "                centro = fila[0].value\n",
    "                subvencion = float(fila[2].value)\n",
    "                if centro in asociaciones:\n",
    "                    asociaciones[centro] = asociaciones[centro] + subvencion\n",
    "                else:\n",
    "                    asociaciones[centro] = subvencion\n",
    "    hoja_escr = libro_escr.add_sheet('Totales')\n",
    "    hoja_escr.write(0, 0, \"Asociación\")\n",
    "    hoja_escr.write(0, 1, \"Importe total\")\n",
    "    hoja_escr.write(0, 2, \"Importe justificado\")\n",
    "    hoja_escr.write(0, 3, \"Restante\")\n",
    "    for i, clave in enumerate(asociaciones):\n",
    "        fila = i + 1\n",
    "        fila_form = i + 2\n",
    "        hoja_escr.write(fila, 0, clave)\n",
    "        hoja_escr.write(fila, 1, asociaciones[clave])\n",
    "        hoja_escr.write(fila, 2, 0)\n",
    "        hoja_escr.write(fila, 3, xlwt.Formula(\"C\" + str(fila_form) + \"-\" + \"B\" + str(fila_form)))\n",
    "    libro_escr.save('../../data/Cap1/subvenciones_totales.xls')"
   ]
  },
  {
   "cell_type": "code",
   "execution_count": null,
   "metadata": {},
   "outputs": [
    {
     "name": "stdout",
     "output_type": "stream",
     "text": [
      "C AJ\n"
     ]
    }
   ],
   "source": [
    "print(colname(2), colname(35))"
   ]
  },
  {
   "cell_type": "markdown",
   "metadata": {
    "collapsed": true
   },
   "source": [
    "Es también posible usar la biblioteca **pandas** para cargar y guardar **dataframes**:"
   ]
  },
  {
   "cell_type": "code",
   "execution_count": null,
   "metadata": {},
   "outputs": [],
   "source": [
    "import pandas\n",
    "with pandas.ExcelFile('../../data/Cap1/subvenciones.xls') as xl:\n",
    "    writer = pandas.ExcelWriter('../../data/Cap1/subvenciones_df.xls')\n",
    "    for nombre in xl.sheet_names:\n",
    "        df = xl.parse(nombre)\n",
    "        df.to_excel(writer,nombre)\n",
    "    writer.save()"
   ]
  },
  {
   "cell_type": "markdown",
   "metadata": {
    "collapsed": true
   },
   "source": [
    "## XML"
   ]
  },
  {
   "cell_type": "markdown",
   "metadata": {},
   "source": [
    "Por último vamos a ver cómo manipular ficheros **XML** con la biblioteca **etree**."
   ]
  },
  {
   "cell_type": "code",
   "execution_count": null,
   "metadata": {},
   "outputs": [],
   "source": [
    "import xml.etree.ElementTree as ET"
   ]
  },
  {
   "cell_type": "markdown",
   "metadata": {},
   "source": [
    "Como en los ejemplos anteriores, vamos a empezar recorriendo el fichero y calculando un diccionario con la subvención total para cada centro:"
   ]
  },
  {
   "cell_type": "code",
   "execution_count": null,
   "metadata": {},
   "outputs": [
    {
     "ename": "NameError",
     "evalue": "name 'tree' is not defined",
     "output_type": "error",
     "traceback": [
      "\u001b[0;31m---------------------------------------------------------------------------\u001b[0m",
      "\u001b[0;31mNameError\u001b[0m                                 Traceback (most recent call last)",
      "\u001b[0;32m<ipython-input-21-ea17c81b8eb2>\u001b[0m in \u001b[0;36m<module>\u001b[0;34m()\u001b[0m\n\u001b[1;32m      1\u001b[0m \u001b[0marbol\u001b[0m \u001b[0;34m=\u001b[0m \u001b[0mET\u001b[0m\u001b[0;34m.\u001b[0m\u001b[0mparse\u001b[0m\u001b[0;34m(\u001b[0m\u001b[0;34m'../../data/Cap1/subvenciones.xml'\u001b[0m\u001b[0;34m)\u001b[0m\u001b[0;34m\u001b[0m\u001b[0m\n\u001b[0;32m----> 2\u001b[0;31m \u001b[0mraiz\u001b[0m \u001b[0;34m=\u001b[0m \u001b[0mtree\u001b[0m\u001b[0;34m.\u001b[0m\u001b[0mgetroot\u001b[0m\u001b[0;34m(\u001b[0m\u001b[0;34m)\u001b[0m\u001b[0;34m\u001b[0m\u001b[0m\n\u001b[0m\u001b[1;32m      3\u001b[0m \u001b[0masociaciones\u001b[0m \u001b[0;34m=\u001b[0m \u001b[0;34m{\u001b[0m\u001b[0;34m}\u001b[0m\u001b[0;34m\u001b[0m\u001b[0m\n\u001b[1;32m      4\u001b[0m \u001b[0;32mfor\u001b[0m \u001b[0mfila\u001b[0m \u001b[0;32min\u001b[0m \u001b[0mraiz\u001b[0m\u001b[0;34m:\u001b[0m\u001b[0;34m\u001b[0m\u001b[0m\n\u001b[1;32m      5\u001b[0m     \u001b[0mcentro\u001b[0m \u001b[0;34m=\u001b[0m \u001b[0mfila\u001b[0m\u001b[0;34m[\u001b[0m\u001b[0;36m0\u001b[0m\u001b[0;34m]\u001b[0m\u001b[0;34m.\u001b[0m\u001b[0mtext\u001b[0m\u001b[0;34m\u001b[0m\u001b[0m\n",
      "\u001b[0;31mNameError\u001b[0m: name 'tree' is not defined"
     ]
    }
   ],
   "source": [
    "arbol = ET.parse('../../data/Cap1/subvenciones.xml')\n",
    "raiz = arbol.getroot()\n",
    "asociaciones = {}\n",
    "for fila in raiz:\n",
    "    centro = fila[0].text\n",
    "    subvencion = float(fila[2].text)\n",
    "    if centro in asociaciones:\n",
    "        asociaciones[centro] = asociaciones[centro] + subvencion\n",
    "    else:\n",
    "        asociaciones[centro] = subvencion\n",
    "print(asociaciones)"
   ]
  },
  {
   "cell_type": "code",
   "execution_count": null,
   "metadata": {},
   "outputs": [
    {
     "name": "stdout",
     "output_type": "stream",
     "text": [
      "{'AMPA ANTONIO MACHADO': 2344.99, 'AMPA BACHILLER ALONSO LOPEZ': 3200.0, 'AMPA CASTILLA': 2604.44, 'AMPA DAOIZ Y VELARDE': 3152.74, 'AMPA EMILIO CASADO': 3015.67, 'AMPA FEDERICO GARCIA LORCA': 1919.06, 'AMPA GABRIEL Y GALAN': 2741.51, 'AMPA LUIS BUÑUEL': 2081.0, 'AMPA MIGUEL HERNANDEZ': 2923.35, 'AMPA MIRAFLORES': 2787.21, 'AMPA PARQUE CATALUÑA': 2604.44, 'AMPA PROFESOR TIERNO GALVÁN': 1286.0, 'AMPA SEIS DE DICIEMBRE': 1950.0, 'AMPA VALDEPALITOS': 3929.5, 'AMPA LA CHOPERA': 1430.0, 'AMPA EL CUQUILLO': 1507.83, 'AMPA VALDELAPARRA': 2465.0, 'AMPA RIVENDEL': 2200.0, 'AMPA AGORA': 2421.67, 'AMPA ALDEBARAN': 3107.05, 'AMPA GINER DE LOS RIOS': 2058.0, 'AMPA SEVERO OCHOA': 3563.9700000000003, 'AMPA VIRGEN DE LA PAZ': 1416.45, 'AMPA JUAN XXIII': 1781.98, 'AMPA SAN ANTONIO': 2101.83, 'AMPA PADRE  MANYANET': 2695.82, 'AMPA FAPA': 3198.43}\n"
     ]
    }
   ],
   "source": [
    "arbol = ET.parse('../../data/Cap1/subvenciones.xml')\n",
    "asociaciones = {}\n",
    "for fila in arbol.findall('Row'): # raiz.iter('Row'):\n",
    "    centro = fila.find('Asociaci_n').text\n",
    "    subvencion = float(fila.find('Importe').text)\n",
    "    if centro in asociaciones:\n",
    "        asociaciones[centro] = asociaciones[centro] + subvencion\n",
    "    else:\n",
    "        asociaciones[centro] = subvencion\n",
    "print(asociaciones)"
   ]
  },
  {
   "cell_type": "markdown",
   "metadata": {},
   "source": [
    "Igual que ocurría con JSON, el formato XML es más flexible que CVS y Excel y nos permite representar la información de manera más compacta. Vamos a crear un nuevo fichero XML a partir del que tenemos que contará con una raíz que tendrá como elementos las distintas asociaciones. Cada **Asociacion** tendrá como atributo su **nombre** y como elementos la subvención **Total** y la lista de **Actividades**. La lista de actividades tendrá elemenos **Actividad** con **Nombre** y **Gasto**."
   ]
  },
  {
   "cell_type": "code",
   "execution_count": null,
   "metadata": {},
   "outputs": [],
   "source": [
    "arbol = ET.parse('../../data/Cap1/subvenciones.xml')\n",
    "raiz = arbol.getroot()\n",
    "nuevo = ET.ElementTree()\n",
    "raiz_nueva = ET.Element(\"Raiz\")\n",
    "nuevo._setroot(raiz_nueva)\n",
    "elem_actual = ET.Element(\"Asociacion\")\n",
    "asoc_actual = \"\"\n",
    "actividades = ET.SubElement(elem_actual, \"Actividades\")\n",
    "gasto = 0\n",
    "for fila in raiz.findall('Row'):\n",
    "    asoc = fila.find('Asociaci_n').text\n",
    "    act = fila.find('Actividad_Subvencionada').text\n",
    "    imp = float(fila.find('Importe').text)\n",
    "    if asoc_actual != asoc:\n",
    "        gas_total = ET.SubElement(elem_actual, \"Total\")\n",
    "        gas_total.text = str(gasto)\n",
    "        elem_actual = ET.SubElement(raiz_nueva, \"Asociacion\")\n",
    "        elem_actual.set('nombre', asoc)\n",
    "        actividades = ET.SubElement(elem_actual, \"Actividades\")\n",
    "        gasto = 0\n",
    "    act_elem = ET.SubElement(actividades, \"Actividad\")\n",
    "    nom_elem = ET.SubElement(act_elem, \"Nombre\")\n",
    "    nom_elem.text = act\n",
    "    imp_elem = ET.SubElement(act_elem, \"Subvencion\")\n",
    "    imp_elem.text = str(imp)\n",
    "    gasto = gasto + imp\n",
    "    asoc_actual = asoc\n",
    "nuevo.write('../../data/Cap1/subvenciones_lista_total.xml')"
   ]
  },
  {
   "cell_type": "code",
   "execution_count": null,
   "metadata": {
    "collapsed": true
   },
   "outputs": [],
   "source": []
  }
 ],
 "metadata": {
  "kernelspec": {
   "display_name": "Python 3",
   "language": "python",
   "name": "python3"
  },
  "language_info": {
   "codemirror_mode": {
    "name": "ipython",
    "version": 3
   },
   "file_extension": ".py",
   "mimetype": "text/x-python",
   "name": "python",
   "nbconvert_exporter": "python",
   "pygments_lexer": "ipython3",
   "version": "3.9.13"
  }
 },
 "nbformat": 4,
 "nbformat_minor": 2
}
