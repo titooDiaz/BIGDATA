{
 "cells": [
  {
   "cell_type": "markdown",
   "metadata": {},
   "source": [
    "# Uso de APIs para obtención de datos desde servicios web\n",
    "\n",
    "En este capítulo mostramos las APIs de Twitter e IMDB para acceder a los datos que tienen almacenados.\n",
    "\n",
    "## Twitter\n",
    "\n",
    "En primer lugar mostramos la interfaz Twitter, en la que empezamos dando valores a las claves obtenidas cuando dimos de alta nuestra aplicación como desarrolladores.\n",
    "[aqui](https://apps.twitter.com/)"
   ]
  },
  {
   "cell_type": "code",
   "execution_count": 23,
   "metadata": {},
   "outputs": [],
   "source": [
    "#PIS's PERSONALES\n",
    "from dotenv import load_dotenv\n",
    "import os\n",
    "\n",
    "load_dotenv()\n",
    "\n",
    "\n",
    "# Acceder a los valores de las variables de entorno\n",
    "CONSUMER_TOKEN = os.getenv(\"CONSUMER_TOKEN\")\n",
    "CONSUMER_SECRET = os.getenv(\"CONSUMER_SECRET\")\n",
    "ACCESS_TOKEN = os.getenv(\"ACCESS_TOKEN\")\n",
    "ACCESS_TOKEN_SECRET = os.getenv(\"ACCESS_TOKEN_SECRET\")\n",
    "\n",
    "#API's DEL LIBRO\n",
    "if CONSUMER_TOKEN == None or CONSUMER_SECRET == None or ACCESS_TOKEN == None or ACCESS_TOKEN_SECRET ==  None:\n",
    "    CONSUMER_TOKEN = \"2WIxFsFs2AMzj2ecJDv6SHc27\"\n",
    "    CONSUMER_SECRET = \"iBfGSSgjr9o1q18bULAp0OBeSN7NqU3wPvFUCYJU8KxZgLILZX\"\n",
    "    ACCESS_TOKEN = '1003920321441927168-0GllZYAGrmKA817B3KxT1y1AQxw9Ob'\n",
    "    ACCESS_TOKEN_SECRET = 'rvhyp5BvkDgJq6bvoTHnhe8AUlOqgCUS1OidPQ6VbI9Tc'\n",
    "    print(\"passwords del libro\")"
   ]
  },
  {
   "cell_type": "code",
   "execution_count": 24,
   "metadata": {},
   "outputs": [],
   "source": [
    "import tweepy\n",
    "import json\n",
    "\n",
    "auth = tweepy.OAuthHandler(CONSUMER_TOKEN, CONSUMER_SECRET) #Autentificacion\n",
    "auth.set_access_token(ACCESS_TOKEN, ACCESS_TOKEN_SECRET) #Introducir nuestros tokens\n",
    "api = tweepy.API(auth) #Objeto apra realizar las consultas"
   ]
  },
  {
   "cell_type": "markdown",
   "metadata": {},
   "source": [
    "Buscaremos publciaciones que contengan la palaba python"
   ]
  },
  {
   "cell_type": "code",
   "execution_count": 25,
   "metadata": {},
   "outputs": [],
   "source": [
    "import tweepy\n",
    "import json\n",
    "\n",
    "CONSUMER_TOKEN = \"2WIxFsFs2AMzj2ecJDv6SHc27\"\n",
    "CONSUMER_SECRET = \"iBfGSSgjr9o1q18bULAp0OBeSN7NqU3wPvFUCYJU8KxZgLILZX\"\n",
    "ACCESS_TOKEN = '1003920321441927168-0GllZYAGrmKA817B3KxT1y1AQxw9Ob'\n",
    "ACCESS_TOKEN_SECRET = 'rvhyp5BvkDgJq6bvoTHnhe8AUlOqgCUS1OidPQ6VbI9Tc'\n",
    "\n",
    "auth = tweepy.OAuthHandler(CONSUMER_TOKEN, CONSUMER_SECRET)\n",
    "auth.set_access_token(ACCESS_TOKEN, ACCESS_TOKEN_SECRET)\n",
    "api = tweepy.API(auth)"
   ]
  },
  {
   "cell_type": "code",
   "execution_count": 26,
   "metadata": {},
   "outputs": [
    {
     "name": "stdout",
     "output_type": "stream",
     "text": [
      "esta clave no es de pago!\n"
     ]
    }
   ],
   "source": [
    "try:\n",
    "    lista_tweets = api.search(q=\"python\")\n",
    "    lista_json = []\n",
    "    for tweet in lista_tweets:\n",
    "        lista_json.append(tweet._json)\n",
    "    lista_json[0]\n",
    "except:\n",
    "    print(\"esta clave no es de pago!\")"
   ]
  },
  {
   "cell_type": "markdown",
   "metadata": {},
   "source": [
    "En el libro hay mas contenido sobre twwter, pero como no es gratuito, no hablaremos mas de eso..."
   ]
  },
  {
   "cell_type": "markdown",
   "metadata": {},
   "source": [
    "# API DE GOOGLE MAPS"
   ]
  },
  {
   "cell_type": "markdown",
   "metadata": {},
   "source": [
    "supongamos que queremos saber cuanto tardamos de una localizacion  a otra:"
   ]
  },
  {
   "cell_type": "code",
   "execution_count": 35,
   "metadata": {},
   "outputs": [],
   "source": [
    "import requests"
   ]
  },
  {
   "cell_type": "markdown",
   "metadata": {},
   "source": [
    "Para acceder usaremos la url y los aprametros que especifican el origen."
   ]
  },
  {
   "cell_type": "code",
   "execution_count": 48,
   "metadata": {},
   "outputs": [],
   "source": [
    "MAPS = os.getenv(\"MAPS\")#TU CLAVE"
   ]
  },
  {
   "cell_type": "code",
   "execution_count": 49,
   "metadata": {},
   "outputs": [],
   "source": [
    "URL = \"https://maps.googleapis.com/maps/api/directions/json\"\n",
    "params = dict(\n",
    "    origin='Madrid,Spain',\n",
    "    destination= 'Barcelona, Spain',\n",
    "    mode='driving',\n",
    "    key=MAPS\n",
    ")"
   ]
  },
  {
   "cell_type": "markdown",
   "metadata": {},
   "source": [
    "Estamos listos para hacer la peticion, en este caso un GET!"
   ]
  },
  {
   "cell_type": "code",
   "execution_count": 46,
   "metadata": {},
   "outputs": [],
   "source": [
    "resp= requests.get(url=URL, params=params)"
   ]
  },
  {
   "cell_type": "markdown",
   "metadata": {},
   "source": [
    "accedemos a la respuesta desde un json para leerla mas facil"
   ]
  },
  {
   "cell_type": "code",
   "execution_count": 47,
   "metadata": {},
   "outputs": [
    {
     "data": {
      "text/plain": [
       "{'geocoded_waypoints': [{'geocoder_status': 'OK',\n",
       "   'place_id': 'ChIJgTwKgJcpQg0RaSKMYcHeNsQ',\n",
       "   'types': ['locality', 'political']},\n",
       "  {'geocoder_status': 'OK',\n",
       "   'place_id': 'ChIJ5TCOcRaYpBIRCmZHTz37sEQ',\n",
       "   'types': ['locality', 'political']}],\n",
       " 'routes': [{'bounds': {'northeast': {'lat': 41.68165949999999,\n",
       "     'lng': 2.1685832},\n",
       "    'southwest': {'lat': 40.39019529999999, 'lng': -3.7244528}},\n",
       "   'copyrights': 'Map data ©2024 Google, Inst. Geogr. Nacional',\n",
       "   'legs': [{'distance': {'text': '627 km', 'value': 627429},\n",
       "     'duration': {'text': '6 hours 17 mins', 'value': 22648},\n",
       "     'end_address': 'Barcelona, Spain',\n",
       "     'end_location': {'lat': 41.3873705, 'lng': 2.1685832},\n",
       "     'start_address': 'Madrid, Spain',\n",
       "     'start_location': {'lat': 40.4166199, 'lng': -3.7043412},\n",
       "     'steps': [{'distance': {'text': '63 m', 'value': 63},\n",
       "       'duration': {'text': '1 min', 'value': 34},\n",
       "       'end_location': {'lat': 40.4165207, 'lng': -3.705076},\n",
       "       'html_instructions': 'Head <b>west</b> on <b>C. Mayor</b> toward <b>C. de Esparteros</b><div style=\"font-size:0.9em\">Restricted usage road</div>',\n",
       "       'polyline': {'points': '{ztuFborUDV@H@L@N@NDbA'},\n",
       "       'start_location': {'lat': 40.4166199, 'lng': -3.7043412},\n",
       "       'travel_mode': 'DRIVING'},\n",
       "      {'distance': {'text': '0.1 km', 'value': 145},\n",
       "       'duration': {'text': '1 min', 'value': 70},\n",
       "       'end_location': {'lat': 40.4152751, 'lng': -3.7055139},\n",
       "       'html_instructions': '<b>C. Mayor</b> turns <b>left</b> and becomes <b>C. de Esparteros</b>',\n",
       "       'polyline': {'points': 'gztuFvsrUHAB?@?B?B@H@\\\\BH@H@v@JNDb@VVNB@HFDBD@D@'},\n",
       "       'start_location': {'lat': 40.4165207, 'lng': -3.705076},\n",
       "       'travel_mode': 'DRIVING'},\n",
       "      {'distance': {'text': '52 m', 'value': 52},\n",
       "       'duration': {'text': '1 min', 'value': 18},\n",
       "       'end_location': {'lat': 40.4148174, 'lng': -3.7056533},\n",
       "       'html_instructions': 'Continue onto <b>Plaza de Santa Cruz</b>',\n",
       "       'polyline': {'points': 'ortuFlvrUVF^HVFJ@'},\n",
       "       'start_location': {'lat': 40.4152751, 'lng': -3.7055139},\n",
       "       'travel_mode': 'DRIVING'},\n",
       "      {'distance': {'text': '66 m', 'value': 66},\n",
       "       'duration': {'text': '1 min', 'value': 21},\n",
       "       'end_location': {'lat': 40.4147532, 'lng': -3.7064248},\n",
       "       'html_instructions': 'Turn <b>right</b> onto <b>Pl. de la Provincia</b>',\n",
       "       'maneuver': 'turn-right',\n",
       "       'polyline': {'points': 'sotuFhwrUAP?R@H?L@TBV@RDX'},\n",
       "       'start_location': {'lat': 40.4148174, 'lng': -3.7056533},\n",
       "       'travel_mode': 'DRIVING'},\n",
       "      {'distance': {'text': '0.1 km', 'value': 114},\n",
       "       'duration': {'text': '1 min', 'value': 43},\n",
       "       'end_location': {'lat': 40.4142929, 'lng': -3.7075081},\n",
       "       'html_instructions': 'Continue onto <b>C. Imperial</b>',\n",
       "       'polyline': {'points': 'eotuFb|rUHhA?F@D@F@F@@?@BDFFFDHD^T?L@H?H@F@B@D@B@D'},\n",
       "       'start_location': {'lat': 40.4147532, 'lng': -3.7064248},\n",
       "       'travel_mode': 'DRIVING'},\n",
       "      {'distance': {'text': '79 m', 'value': 79},\n",
       "       'duration': {'text': '1 min', 'value': 34},\n",
       "       'end_location': {'lat': 40.4136005, 'lng': -3.7074697},\n",
       "       'html_instructions': '<b>C. Imperial</b> turns <b>left</b> and becomes <b>C. de Toledo</b>',\n",
       "       'polyline': {'points': 'iltuF|bsU@B@@B@B@B@D?H?VCTAPCD?DA\\\\G'},\n",
       "       'start_location': {'lat': 40.4142929, 'lng': -3.7075081},\n",
       "       'travel_mode': 'DRIVING'},\n",
       "      {'distance': {'text': '57 m', 'value': 57},\n",
       "       'duration': {'text': '1 min', 'value': 27},\n",
       "       'end_location': {'lat': 40.4136861, 'lng': -3.708121499999999},\n",
       "       'html_instructions': 'Turn <b>right</b> onto <b>Cl. de Tintoreros</b>/<wbr/><b>Pza. de Segovia Nueva</b>',\n",
       "       'maneuver': 'turn-right',\n",
       "       'polyline': {'points': '_htuFtbsU?F@B?D?F?F?@?HAPCXMf@'},\n",
       "       'start_location': {'lat': 40.4136005, 'lng': -3.7074697},\n",
       "       'travel_mode': 'DRIVING'},\n",
       "      {'distance': {'text': '57 m', 'value': 57},\n",
       "       'duration': {'text': '1 min', 'value': 18},\n",
       "       'end_location': {'lat': 40.4137675, 'lng': -3.7087716},\n",
       "       'html_instructions': 'Continue onto <b>Pl. de Prta Cerrada</b>',\n",
       "       'polyline': {'points': 'qhtuFvfsUEVCFAFABADAF?D?FAB?D?D@V@@?N'},\n",
       "       'start_location': {'lat': 40.4136861, 'lng': -3.708121499999999},\n",
       "       'travel_mode': 'DRIVING'},\n",
       "      {'distance': {'text': '1.1 km', 'value': 1075},\n",
       "       'duration': {'text': '3 mins', 'value': 202},\n",
       "       'end_location': {'lat': 40.4139922, 'lng': -3.7213259},\n",
       "       'html_instructions': 'Continue onto <b>C. de Segovia</b>',\n",
       "       'polyline': {'points': 'aituFxjsUFfA@TBl@@H@PBN@J@H@HBH@HHXFT@D?B?B?B?F?FCLE\\\\ANA?EZGZ?BOv@Kp@EPGXAHAFAFA@?D?BAF@P?H?@A`@?L?|A?~@?V?H?\\\\?F?B?N?L?^?J?h@?x@?rA?t@?Z?T?N?L?lA?NAV?f@?lA?j@?d@ChF?`@?d@Ax@AjB?p@A~C?l@Ct@Af@?`@'},\n",
       "       'start_location': {'lat': 40.4137675, 'lng': -3.7087716},\n",
       "       'travel_mode': 'DRIVING'},\n",
       "      {'distance': {'text': '0.2 km', 'value': 244},\n",
       "       'duration': {'text': '1 min', 'value': 52},\n",
       "       'end_location': {'lat': 40.4140469, 'lng': -3.7242048},\n",
       "       'html_instructions': 'Continue onto <b>Puente de Segovia</b>',\n",
       "       'polyline': {'points': 'mjtuFhyuUAN?b@A~@?hAAp@?N?`@Ab@?l@AnC?LAj@'},\n",
       "       'start_location': {'lat': 40.4139922, 'lng': -3.7213259},\n",
       "       'travel_mode': 'DRIVING'},\n",
       "      {'distance': {'text': '80 m', 'value': 80},\n",
       "       'duration': {'text': '1 min', 'value': 21},\n",
       "       'end_location': {'lat': 40.4142224, 'lng': -3.7249234},\n",
       "       'html_instructions': 'Turn <b>right</b> at <b>P.º del Marqués de Monistrol</b>',\n",
       "       'maneuver': 'turn-right',\n",
       "       'polyline': {'points': 'yjtuFfkvU_@?AnC'},\n",
       "       'start_location': {'lat': 40.4140469, 'lng': -3.7242048},\n",
       "       'travel_mode': 'DRIVING'},\n",
       "      {'distance': {'text': '38 m', 'value': 38},\n",
       "       'duration': {'text': '1 min', 'value': 13},\n",
       "       'end_location': {'lat': 40.41388389999999, 'lng': -3.7249252},\n",
       "       'html_instructions': 'Turn <b>left</b> onto <b>C. de Saavedra Fajardo</b>',\n",
       "       'maneuver': 'turn-left',\n",
       "       'polyline': {'points': '{ktuFvovU^@b@?'},\n",
       "       'start_location': {'lat': 40.4142224, 'lng': -3.7249234},\n",
       "       'travel_mode': 'DRIVING'},\n",
       "      {'distance': {'text': '61 m', 'value': 61},\n",
       "       'duration': {'text': '1 min', 'value': 13},\n",
       "       'end_location': {'lat': 40.4138741, 'lng': -3.724207},\n",
       "       'html_instructions': 'Turn <b>left</b> toward <b>P.º de la Ermita del Santo</b>',\n",
       "       'maneuver': 'turn-left',\n",
       "       'polyline': {'points': 'wituFxovU?}A?A@o@'},\n",
       "       'start_location': {'lat': 40.41388389999999, 'lng': -3.7249252},\n",
       "       'travel_mode': 'DRIVING'},\n",
       "      {'distance': {'text': '0.4 km', 'value': 364},\n",
       "       'duration': {'text': '1 min', 'value': 60},\n",
       "       'end_location': {'lat': 40.41080609999999, 'lng': -3.7228825},\n",
       "       'html_instructions': 'Turn <b>right</b> onto <b>P.º de la Ermita del Santo</b>',\n",
       "       'maneuver': 'turn-right',\n",
       "       'polyline': {'points': 'uituFhkvUj@?^?VAJ?TC`@INC\\\\KBAZKTKNGf@YFCBCDAHENKTMFELITMTOHGJGFEHENGb@SXKFCTIFC'},\n",
       "       'start_location': {'lat': 40.4138741, 'lng': -3.724207},\n",
       "       'travel_mode': 'DRIVING'},\n",
       "      {'distance': {'text': '1.6 km', 'value': 1611},\n",
       "       'duration': {'text': '2 mins', 'value': 104},\n",
       "       'end_location': {'lat': 40.3996429, 'lng': -3.7171695},\n",
       "       'html_instructions': 'Take the ramp onto <b>M-30</b>',\n",
       "       'polyline': {'points': 'qvsuF~bvUPINEVGJC`@K`@Kf@K`@Mb@KZIDAZIBABAPQPATA^Aj@?f@Dh@Fd@F`@JZH~@XdA\\\\PDVH\\\\JXHTDRFF@F@JDRDb@Fb@FZBH@F@P@H?D?T@L@P?X?X?R?LAJ?PCZATAd@Cd@El@GXE^EVERCJ?JAFAB?ZEXEZEREVCZGb@K`@M\\\\KB?TIJE`@OXMDCJERMLKNMNM^_@HIPUFIJQNSHOHQ@CP_@JWFQNe@@CLg@J_@DUBYDW@UBQ@]Bu@@i@CgBAe@CeAE}@Cw@?w@'},\n",
       "       'start_location': {'lat': 40.41080609999999, 'lng': -3.7228825},\n",
       "       'travel_mode': 'DRIVING'},\n",
       "      {'distance': {'text': '6.2 km', 'value': 6227},\n",
       "       'duration': {'text': '5 mins', 'value': 282},\n",
       "       'end_location': {'lat': 40.40959780000001, 'lng': -3.6634532},\n",
       "       'html_instructions': 'Slight <b>left</b> to stay on <b>M-30</b>',\n",
       "       'maneuver': 'turn-slight-left',\n",
       "       'polyline': {'points': 'wpquFh_uUIe@Au@?o@@O@S@QDe@BYBSFm@@GFe@BSDYLq@FYBK@ELc@HWHUDIDKHMX_@DIX_@RYDGRW^g@?ATWV]@?DE?ARWr@oAVa@?ATa@Vc@Vc@?ABCJWDGVm@JWf@iAFMLW^{@Z{@JYR{@H_@@GJm@@AHk@hAgGLk@Jk@DUDUJi@Nm@Fc@DUFa@@KDWDSH_@@KF[DO\\\\uANi@Ni@Lk@BIJ[@CJc@@EJk@Lk@Jm@Jk@Hk@Jm@VwAFe@He@Hm@Jk@Hk@?AHk@Jm@Hi@?ABMF[?ALi@?CDQFU?ANi@BIHY@A@CPg@Ne@@CBGN_@Pa@@CPc@N_@BEXg@R_@Tc@BEP]BE~A_CXc@BCR[BET[BERY?ABER[DGPYDGNY@ADGP[DEHOBEFMTe@Re@?AP_@BEHUHOL_@DGFODMBIL]@CBEPg@BIHUNg@HWFQNg@Ni@@A@ILe@@EJc@@EDO?CHu@DQFYLk@Ji@?ABGLo@JiAFm@@EDe@@GFm@De@Fk@?GFo@Hw@BgA?K@a@?G?C?C@W?C?A?MDoAB{A?OA]Ao@?OAo@AS?GAQA[?SAYASA[AS?QC[CYAO?ECWGm@Gk@CWa@qEMu@?CG_@Ia@Km@I[Mc@Qi@c@qAM_@AE?AOe@ACOi@Qi@AC?AOc@Uw@IYA?AEGUGMSe@KUYq@AA?AAASe@Se@Sg@Qa@CCOa@AESg@y@wBO_@CEUg@Se@Se@Ug@Se@Wm@O_@e@eACGGQKSu@cBIOUc@Ue@Uc@Wc@Ya@Wa@k@}@MSIMYa@Wa@AEKOMOMM]YwAoAa@]_@]_Ay@MKGE{@m@AAOIAAA?m@]KGCACCKE]OCAs@c@KEc@UCCKGKIKGSMyBuACCg@_@OK]YECWSGECCCASOCAWQe@YYQEC[Q_@UIEUMwAq@MGa@OA?aA_@UIKGWIWKKCy@WGCYIEA[Ka@MKEy@QOEA?a@IAA_@KA?a@Oa@Ma@Ma@Ma@Mc@Ma@MgAc@a@O[MEAYMGA_@QEAOIKEUKEAEC[Ma@QCAa@QGCWMs@[QI_@Ms@YWWeBw@c@QWKs@YKGsAc@}Ak@e@OUIcAa@'},\n",
       "       'start_location': {'lat': 40.3996429, 'lng': -3.7171695},\n",
       "       'travel_mode': 'DRIVING'},\n",
       "      {'distance': {'text': '2.1 km', 'value': 2055},\n",
       "       'duration': {'text': '2 mins', 'value': 92},\n",
       "       'end_location': {'lat': 40.4272353, 'lng': -3.6601371},\n",
       "       'html_instructions': 'Continue straight to stay on <b>M-30</b>',\n",
       "       'maneuver': 'straight',\n",
       "       'polyline': {'points': '_osuFpojUYIkBu@AAaEiBm@]QIME_@QqBgAeDiBKG_@S{@e@oAq@UOq@[OIcAk@[Qy@g@i@YOGm@Ye@UkAk@]Qo@We@Qg@Qg@Me@Mi@Ka@Gq@Ka@EwAGWAuADE?[@Q@_@B}@FqBRWBeAHw@HG??@I?G@M@o@FoAJkAJcAHeCTK@iBRq@JyB\\\\q@JyAVYF_AN_@Fw@JkBV'},\n",
       "       'start_location': {'lat': 40.40959780000001, 'lng': -3.6634532},\n",
       "       'travel_mode': 'DRIVING'},\n",
       "      {'distance': {'text': '43 m', 'value': 43},\n",
       "       'duration': {'text': '1 min', 'value': 2},\n",
       "       'end_location': {'lat': 40.4276049, 'lng': -3.660044},\n",
       "       'html_instructions': 'Take exit <b>5-4</b> toward <b>C/<wbr/>s. de Madariaga</b>/<wbr/><b>A-2</b>/<wbr/><b>Zaragoza</b>/<wbr/><b>Aeropuerto</b>/<wbr/><b>Av Ramón y Cajal</b>',\n",
       "       'maneuver': 'ramp-right',\n",
       "       'polyline': {'points': 'g}vuFzziUSIEAO?I@C?AAMG'},\n",
       "       'start_location': {'lat': 40.4272353, 'lng': -3.6601371},\n",
       "       'travel_mode': 'DRIVING'},\n",
       "      {'distance': {'text': '1.5 km', 'value': 1457},\n",
       "       'duration': {'text': '1 min', 'value': 73},\n",
       "       'end_location': {'lat': 40.440575, 'lng': -3.6587551},\n",
       "       'html_instructions': 'Merge onto <b>M-30 Lateral</b>',\n",
       "       'maneuver': 'merge',\n",
       "       'polyline': {'points': 'o_wuFfziUsAJsBPaCNM@M@K@gEZoAHc@BO?I?Q?k@AQ?MAc@AIAc@CMAWCc@GcAOMCmAUYEUEYGWEq@MgAQ_@GQCKACAKAkCa@oB[oC[qBYw@MC?m@IoAOKCa@E]EWCc@E}@IYAEAWAOAI?g@AeACwA?'},\n",
       "       'start_location': {'lat': 40.4276049, 'lng': -3.660044},\n",
       "       'travel_mode': 'DRIVING'},\n",
       "      {'distance': {'text': '232 km', 'value': 232370},\n",
       "       'duration': {'text': '2 hours 11 mins', 'value': 7868},\n",
       "       'end_location': {'lat': 41.3889532, 'lng': -1.5647103},\n",
       "       'html_instructions': 'Take exit <b>5A</b> to merge onto <b>A-2</b> toward <b>Aeropuerto de Zaragoza</b><div style=\"font-size:0.9em\">Parts of this road may be closed at certain times or days</div>',\n",
       "       'maneuver': 'ramp-right',\n",
       "       'polyline': {'points': 'qpyuFfriUMIAAC?CAC?AAuABg@BI?S@Y@U@YB_@D[BWBYBM@UBc@Ba@BO@S@A?WBU@I?E?E?E?G?GAEAA?A?EAA?MCGAICICEAOGOGKGICEAECGAGC[AOGUI[GGAKEQEQIECGEIIGGOWACISM]?AAAKEy@oDQy@e@qBWcACIAEc@gBMc@[kA[cASq@g@uACIGSK[M_@ACK[EOSo@CGOg@CGSq@KYIYQk@_@kAs@aCEOM]Sm@yAuEWu@_AyCISOg@Kc@Ga@Ea@EUGi@C]A[AQCk@?g@BaAFaAHy@?ABUBWZyDb@{EXeDDg@H{@NeBFs@RwBD_@@O@KN_BB_@@KHaAHeA?ADo@?EBc@DqA@m@?g@?_@Am@A{@Co@GgACg@?GCS?IACAK?GAKAMAEASAAC_@?I?ACUAIKqAEa@SyBQkBKsAMmASuCGqACqACw@Ae@?M?WAc@AkAA]?e@AY?o@A}@AoAA_@A}@CkD?QCeC?GCwA?E?g@?GAm@AqACwBAqAAmAC{BCkC?QCsA?_AAgAAqAAoAAkB?K?A?uA?i@?]?i@?C?s@?C?_B?qA@eB?Y?O?cA?wA?gA@uA?_D@iD?S?{A?kD@oB?q@?Y?W?{A?Y@sB?M?_@@uE?_EAuAAuA?E?ICgBE{ACeAIsBASIyBMuBAQGmAAQCOMqCAKEa@Co@AUC]Ac@A]?a@?CAe@?m@?Q?U@{ABiB?w@@Y@eB@cC@i@@w@@]@KDqIByC@sA?K@yA?o@@uA?M@gA?eB@s@?A@}E@iB?m@?A@aC@iBB{D@cC?yC?_A@_A?Q?iA@m@?m@?cA@yA?Y?g@?uACuC?o@?sA?_E?qA@kA?I?kADgFBeEFgJ?IDmF@oA?sA?c@@o@?g@?qC?eA?[@e@?G?gB?gA@qB@uA@k@BaE@q@@{B@mA@}A@aA@kB@wAB_F@Y?[@k@BiD?i@?]@_A@uABiCD}HDuCB{AB_BDuADaBFcB@q@B[HcCHsADcAHqADw@Dm@Be@@Y^yGDu@B[P_DLyBRoDB[@[HmABg@ZqFTiEd@eI?CB_@@IFiARgDZ{FFcAF{AB_@B_@FgABm@NqCJ}AJcB?ADk@Da@@KHm@Hi@DUFa@ReA@GLs@Hc@FYF_@Hc@Hc@F_@BWDUDc@BQ@K@K@WBY@YAu@AcACa@AYGm@KcAI_@EYCQCOCUe@qC}@sFWmAO}@Mu@c@iCGc@CMy@aFSiAq@cE]eBGa@I_@_BmHSaAK[mBuIUeAESIa@WgAOo@Ig@YmAGWYmAc@oBg@aCMk@EQGYGWI][qAQw@Sw@m@gC[uAEMi@cCMk@i@cCg@oBe@oBU_AWgAK]I_@IYGQIWK]M_@Oa@M]AEMYM]AAK[EGISQa@Yk@Ym@Uc@OYGIACEIgBcDcB_DMUkCyEiAqBuEkIq@mAO[a@w@y@aBWi@?A_@u@c@cAc@_A[y@i@qAcAmCk@}AGQKUAGM[y@_C_@iA]cAGUKYQi@K_@IUGSI]K_@Mg@Mg@ESKc@Ow@[{AUmAKo@GWGa@gBsLY}AWiBIa@SiAIg@Oy@G]O{@Oy@EWEQSiAOcACOCMO}@Kq@[oBSyA[sBk@aEE[OaAc@{CIk@{@gGEQGa@My@Ga@McAa@oCCW]cC_AcHK_AYyBs@oGU{BGc@e@uFM_BC[?AEi@K_B?CKeCKsBCe@IqCCuAGsFAqD?qD?A@uDBoC@uABeCBkB@i@Bo@PwJH}E?M@C@k@F{CF{E@o@FkF@{C?aH?wBCcA?u@EqB?UE}AEcCOcFAIKcDQiFKaCKaCI_CC_AAUCm@WsGIcBI_BEy@?IC_@Cc@Eq@AS]kFY}CGk@MsAi@oF[_Di@eFMuAOsAQyBMsAAMAKEm@YmDIy@Ei@SaCAMYsCY_CWeBa@oC}AeJg@sCIa@I_@G[Ie@]eBCMWkAu@wDS_AKm@]eB?E]cBE[Oy@UkA[iBAIIa@AECOUwAMw@c@kCACa@gC?CCIE[COEWQcAGc@Kk@W}Ae@yC[oBKo@W_BOaAKk@EUIc@GYSaAKk@UcASy@WaA]sAK_@W_AOe@Qq@EM]gAIWAAEMIUg@{A]{@Qe@e@kA]{@[s@O[Sc@ACSa@e@aAS_@]o@c@{@IMGKCEU_@_A{AiAeBYa@c@q@GIW_@u@aAEEg@o@W[OQa@c@Y[[]s@u@s@q@a@a@g@g@][{@{@GEmDgD[[][mGgGs@s@a@_@_@_@MMUUUSuAuA][aBeBWYiAqAiAsA]a@wAiBcB}Bk@u@{@qAg@u@i@y@sB{C{CsEU]}@uA{A}By@mAu@gAs@gAu@iAIMwBcDU]e@u@QY_@o@EGYe@cBwCKS{@}AYg@OWo@kAWi@We@CEUe@OYe@_AYm@u@yAWi@o@wA]u@_@y@s@_Bo@yAc@eAGQi@qAQc@Sg@Ys@eDaIu@mB_ByDiBqE}@{B{@uBiBoEaAcCQe@KWGOa@iAuAqD_@eAe@kAQc@mAaDaBqEiAyCyBaGOc@Wy@}@_CWu@Uo@Ma@CI]gAMg@K[EOOq@Mk@I]EQMk@Mw@EO[wBMcAK_AGs@Es@EKAEC[C]Cm@Ae@A_@AICoACw@?g@?]?C?k@?{@@iABu@JsCJoCJcCBw@L}CHwBDy@D}@Bw@LaD?ADi@Bk@Dk@JsAHw@Fu@PaBBMHs@Fc@D_@Hk@PiAF_@Hi@PcAF[DQFSXuA\\\\{A@GZoAJ]X_ALe@La@Pi@Pk@HSXy@J]Xu@Tk@ZaARk@\\\\_APc@N_@Tq@HUHULc@Pm@La@H_@J_@Je@XaBHi@Ho@D_@Fo@B[@QFs@@W@Y@U@U@]Bc@?i@?i@?_@?g@CaAEcAEw@IgAAMI_AIk@Ic@AGE[Ic@Ie@Mi@EUGUWaAGWUo@Qg@M]O_@MY]u@We@KSg@_A[g@eB_D[o@Q[Q[cAkBgAmBm@eAeAkBm@cAGQ_BoCeGyK_CeEoCaFm@gAm@gAWc@S_@CEsAcCcB}CQYiBeDiFoJU]oA_Ce@y@EKw@wAKQa@u@KSq@oAWc@}@yAwAmC_AaBm@eAsAcCOYmBkDM[mGeLEGsD{GeKaRiBeDg@{@_AeBw@wAk@cA_@o@k@eAWe@o@iA{@_Bg@}@Wc@ACS_@S_@k@cAWc@]o@m@kAgCsEaAaBGK_CeEsD_H_@m@q@qACGQ[Sc@Wg@S_@Ue@_@y@_@q@g@cAIOwAyCYe@GMWc@c@s@W[IOUWa@e@IKs@w@_@a@e@e@w@w@OOEGYYQSc@c@e@i@k@o@yBeCMMY_@g@m@i@i@c@g@o@w@eAoAoCcDg@o@qA{A}IkKCGQSCCg@o@Y[_@e@IIAC}D{EaAgAgC}CkByBMOg@m@o@u@QUMQ{CoDQSEGs@y@wAcBCC_BkBIIAACCCEII_AkA[c@mF}GGIw@_AKOaAmA]e@KMGIc@i@s@}@i@q@k@u@s@}@m@w@y@cAQSY]EE{@eAm@s@EGmB{Bw@aAiBwBw@_AeCwCkByBaBqBOQCC_@e@w@{@cD}DOQW[KKOQMOKMUWq@w@k@q@m@s@g@m@_@c@[_@q@w@kDcEcAmAgIuJ}@eAgBsBeCyCqBaCeEcF{AeBgIsJY]qCcD_CqCwBmCe@k@sBcCGIGGuBcCQY][oGsH{@cAk@q@OSyBoCGGSSY[uAaBY_@AAEEEEAAWYcEaFgD_Ec@g@c@k@aAeAWYMOCC_AaAqBoBwCoC_BoAUSUS{DeDOMiEsDaByA]Y?AqAgAoD_DwBqBm@k@iBeB_D{CMKOO][cB_B_C{B{@{@gAeAk@i@y@w@y@w@eC_CyBsBqAiAy@u@_BwA_@]g@c@eA}@g@e@o@i@QOeA}@_@[wAkA_Aw@uC}B_@[YUq@i@]YQMYW}AmA}@u@AAgA}@g@c@MI}@q@mAeAQQyBkBs@m@kB{AEC][GGEAIEiAaASUKGWWwAiAyBeBoA_AoAaAq@g@a@[{@o@eAy@QO{@q@_As@yAgAm@g@oB{A_BoA_DkC{@q@oBaBkAaA]YiB{AiAaAyD_D]Ym@g@aEiDwBgB{CeCAAWSsB_BeBqAyBaBw@g@oAaAe@]_@[YSGGGEi@a@UQ_@YQOa@Ys@i@YSYWWSMIMIe@_@_As@u@k@]YmJiHu@i@mB{A]Y_@Y[UEEOMSMa@[YUs@i@[WQMk@c@a@[OKs@i@i@c@yC{Ba@[gBsAi@c@_BmAYUKGo@e@q@o@WS{@o@kB{Au@i@o@g@[Y][o@s@_@e@U[IQe@s@_@u@_@y@KSIUSk@Su@SaAMq@WcBk@kDw@aFKk@Q_AKk@U{A]sBUyAEYq@gEO}@U}AG][oBESWcBGa@]uB[wBEYMq@c@yCCOm@mDM_AeAuGKa@OcAAKASIy@KmACq@GqC@wA@g@@o@Bm@Ba@B[B[Hy@B[He@PmA\\\\cBXsAf@_CdBgITeAbAwEZ_BNu@VcBPsALaALoA@O?ANgBH_ABc@BUF{@JeADa@D[Jy@PeAN{@Pq@@CT{@^eATo@P_@Tc@Rc@fAmBtAkCp@qA^}@NYRi@Pg@JWHYNm@Pq@VgABO@_@Hg@Jw@Hw@Fs@BWHkA@k@@k@@o@@oAAuAAg@Ac@?IAa@?KCaAEkACUAUE_AAIEg@AI?A?CGm@AOEc@Ei@I{@MgAIm@Kq@O{@CUUgAUaACIIYc@}AQk@O]g@qAEMAC]u@m@iAKSOUc@s@e@q@[a@o@y@UWe@e@YW_@]AAe@a@YSo@c@QMWOWOKG[OSK]OQIQGKEa@O[MOGWIYIKCWGUGc@Km@Q[I_@KSGSIOEeBe@q@Sc@O_@QICECKEECCA_@SQMw@k@e@]QMOMy@o@u@i@yBeBGE{AiAi@c@m@g@WQ[Ue@_@c@[QM]Y_As@AAoAaAIGGEcAu@OM_Au@y@m@{AkAGEq@g@a@YCA[SOIOKOGQI]OAAe@QMEOEQGQEQEOCe@Km@GUCCA[CC?e@Cq@CS?o@?_B?a@?sAAW?cA?wAA{@Ci@EOAGAQCmAQe@Mc@MWI}Aq@g@Ys@c@e@_@]YSS{@}@QS]a@KQKMq@mAe@}@i@eAKSSa@a@w@aBoD_B}CQ[_@u@kAiCQ[mAcCe@aAUg@Q]]w@Sa@Q_@O]Qa@Qi@]eAMc@GYMg@Mi@I_@SmAWgBQmA?AIe@SyA?EKo@U_BIe@?EQgAI_@Ig@G[I]CIAEKc@Og@Mc@M_@Si@CGO_@O[O[Q]U_@Wc@W_@SYCE]a@IK[_@[YEEKK]YIGYSUQUOe@WKIa@Sg@USISK_@Q]O[MYO_@QYMUKa@QYM]QYOA?[OKGAAKG[SMIEEECIGMKMKe@c@WWY[QSQSOUAAKQW_@IMOSk@aACCWc@QYkAoByA_CeBuCCEaA_BeBqCS]_@m@gBuCi@}@mAmBi@}@_BoCq@cAAEQQ}@{AGOo@eAaC{DY[eAeBQa@c@s@oB_DCEe@u@a@q@OU?Aw@mAg@q@i@s@mAuAqAuAcBcBk@i@yAuAwAsAeAcAaDyCqEkEwBuB_CyBu@q@_@]k@g@wBsBcB}AsBmBoAmAQQoAiAaA}@oAmAy@w@SQGGwBsBw@s@kBgBg@c@q@o@c@a@{AiAwA{@KGwB_AqAa@UIUIq@SgBs@o@[AA_B_Ae@_@e@]w@q@o@o@KMOQ_@c@{@iAU_@[g@_BcC{AeCU[Wa@aCyC_@g@[]wAyAKKu@u@_@]e@a@c@_@_@Yk@e@sAcAs@e@eAm@WQo@]y@c@a@Si@YiAg@UMiE}AgAc@qCaAoAa@m@SSGMGa@M[Kg@QA?_@MCA_@Ma@MOGwBq@c@O]Ks@U[Kw@W]KWIEACAaAYwAe@eBg@OECAa@M[KeA]gAa@CC_A_@a@SiAk@]ScAq@s@c@YU}@w@WUm@k@y@_AKMA?GKOOCESYUYe@q@c@s@u@kAS]EG?AWa@EGq@mAS]S]U_@AAMWGI[k@_@m@u@sAEEU_@AAYe@i@y@SWg@s@QUe@k@g@i@IKKKUWm@m@ECSSm@g@SQs@i@UQo@c@u@e@m@]A?y@c@}@g@GE_@UIEeAm@o@]AA_@UQKk@[qC_BqEgCa@W_BgAaAu@k@e@CCm@e@g@g@EEOQGGOOIK_@c@g@i@QWQWW[e@m@U[y@iAmAaBOS?AOQIMOSc@m@g@q@KO[c@q@}@]a@e@q@KQ}@oAg@o@o@_A]a@]e@a@i@k@w@gAyAcAwAW]s@_Ai@s@IMgAyAUYa@q@e@o@c@k@AAU[_@i@W_@c@m@kDcFk@_A{@wAaC}Dy@sAe@s@a@m@_AkAcAoA_@e@WWQS}@_AgAcAKIIKWUEEQQi@i@{@cAIKIKA?CEIMk@w@a@q@c@w@EK[k@CGKUM[Sc@?AM[EKCIGQO_@_@eAiAmC{@uB{@iBEMEIIMKWc@_AaAoB}@mBS_@q@uAk@mASa@Wg@Ue@Ue@Uc@w@aB_AeBg@w@Ya@a@i@u@_Ao@o@qB}A}@m@IEcAk@{BkAKGq@]aAe@AA_@S]SaAg@a@UECWMAA_@S_Ag@A?_Ag@?Aa@SWMECaAi@WMGE_@S_@SA?_@Sg@YiAo@OKw@e@ECAA]Ua@[eA{@}@_AIK[]W[g@s@SYQYQWe@s@i@_AGIi@}@W]A?Wa@CCi@o@i@m@WUi@e@cAw@cAs@q@_@q@Ye@UIEeAYo@QEAC?k@O[KiA_@eAe@SMGCAAUMMI}@m@m@g@A?YYAC][KKc@g@S[MQSYSYa@i@GKEIGKU_@GKEI[o@GOSa@GKM[_@{@AE[u@IOCISc@ISKUUg@[q@M]Q_@Q_@Qa@MWSe@Q_@Q_@CEg@cAOW[k@IQQ[AAUc@KQOUYe@Q[U]CCCEw@mAi@u@U]S[U[IKo@aASY_@i@CEU[KQGGy@kAQYGGIMWa@EGOSEGKOACEGMSAAQYEIMQEIMSEGMUCGMSCGMWEG_@s@EIKSEGMUEIMSEGQ[MUGIACIMAAYc@MQEIMQEIMQGIMQEGMSGGGMA?CEEGMSEGMQGIMQEIMQGIMQEIMQEIMQGIMQEIMQGIMQEGMQGIMQEIMQEGMQGKMQEG}@qA{@oAEGGIW_@i@u@o@aA_AsAy@mAs@gAqDiFYa@q@aAeA{A}FqIGIOWEGgD{EkJeNsBwCaEeGy^mi@U]W_@eA}ASYYc@IMSY}A}Bi@u@kAgBMQMSo@}@GIGK_AsAIOuAsB_CgDIKCGGIq@_Ae@q@W_@]g@a@m@k@{@a@m@CGiAaBEGsB{CY_@Wa@GIk@y@S[[c@S[MSYa@]g@EGS[i@w@GKa@o@e@s@S[U[S]S[S[S]S[KOGKSYU_@U_@S]S]QYQYQYm@eAS]y@uAi@_A_@q@Yg@GMIOg@{@Q]S_@Q]CGMUS_@Q]S_@EIq@sAi@eA_AkBm@gA]q@CEa@u@wAeCMUy@uAcAeBa@q@GKOWGKGKmAsB{B{DWc@k@cA{FwJOYEGsDoG?AA?}@_B_@m@KQc@u@Wa@?AWa@Wa@a@q@qFoJuCaFWc@A?Uc@OW}HwMcAeBkAqBWc@m@eAyAgC[k@wBqD]k@[k@gAiBOWGKOUWc@qC{EeCiE[i@Wc@Wc@gB{C}LuSiGuJACOSEIMSgBuCoBcDs@qAmBiDg@{@{@yAcByCuAaCc@w@o@kAm@eAc@w@mCsEaBuC_BqCUe@AAg@}@cAoB_BgDS]OYIQSa@s@wA}@eBoBmD[k@wAeCmAsB_AaBWa@cAgBsC_Fk@cA}AmCy@uA{@}AWc@kAqBkAsB}AoCsA_CWc@Wc@EGwBwDyByDy@wAyDwG{@yAeCkEwBuDkBcDsBmDeCiEwAiCu@oAc@w@iB_Dy@yAeBuC{AiCoBiDYi@QYEIu@oAQYeAeBwAcCy@wA_A_B}@_BoAyBgAkByAgCoAwBeBwCy@yAgCeEGKOWo@eAi@_A[k@Wc@Wa@QYEI]m@}CsFw@wAkBcDyAeCQYw@uA[k@MQwBsDeAmBq@yAYi@[w@m@aBQg@IWMc@Mc@Ka@Mc@Ka@I[Mi@I_@Mi@S{@Om@GWMi@I]Mi@Kg@I[Mk@Ka@UeAOm@_A_EQw@Mi@a@iBI[YoAu@_DKg@[oAi@}Bm@gCe@uBg@uBI_@q@uCU}@?Aa@eBEQ_@eB}@{DSaAU}@eBqH[uAoDsO}@aEEQ]sAiAcFYmAS_AMi@w@gDYiAa@iBe@qBk@_Ck@cCiB{HI]ESGWCKAGoAkFkBaIgCkKGUEU]wAWgAkAiFOg@eB_Ia@gB[uAi@aC_AkEq@sCAEQs@e@qBa@gB[}Ac@oBw@qDKe@kBiI}@aEG[EOkAiFsA_G[yAU_ACKEOg@}BI]Kc@WgAKe@Ic@YkAI_@WgAYiAWgAMc@e@iBQo@GUMc@Mc@Ka@Oc@Mc@K_@gAcDK[EMOg@Si@KY_BeEoA{CaAwBgAaCuFmLWk@gCgFCIUa@OYACEGOWEKS[Ye@S[SYi@w@SYYc@W_@gDiFYg@[k@Wi@_@y@k@qA{@aCCIw@cCy@_De@uB[_B_AmEIe@g@uBe@eBSq@iAmDcEiM{CgJACiAkDeBoF}AwEQg@cAyCqBaGQm@q@yBSm@wAiEo@kB_AgCwAmE{BuGSm@cCaHoAwDaAoCK[KYeEeMw@_Cu@{B]cAWs@cAwCQi@Qg@?A_C}GGSqCaIiBqFUu@EKw@}B}@eC}@yBq@{Aw@iBCCgAeCsDiI}DaJwEoK{GkOMYiB_EsDoIiAkCiCsFsDmIMYKUg@iAa@}@_@y@i@mAg@iA{@sBWk@[q@sAaDIQq@wAiAgCqBsEqDiIw@cBg@gASe@w@eBo@uAKU{@kBaAyBGKcA_CgDuHwJyTgC_Gy@kBEIq@{AiA}BgAqBg@{@kB{CeA}AQW}@sAU]Q[i@u@eBkCyBeDkAgBoAkBsAuBaCsDwBaDEGk@_AEIQWCECCAAaD}Ea@m@g@w@IKW]AAqB}CyAyByCsEsCiEiEmGcCoDgAcBsB_Dk@y@oAqBWa@i@w@g@u@GIEGYc@a@m@i@w@a@m@}@qACECEy@mAEG]g@uAwBKOEEu@mAEEGK]g@OWGICGm@{@CIKMe@s@Ye@]g@AAWa@Ya@Wa@]e@U_@cA}AEGOUYe@gCuDoB}CAAGIu@iAS[s@eA[e@c@q@CCaCqDs@eAeBgCMSCCU_@AAU_@S[qAmBkAiBkAgBaBgCmAiBmC_EqDqFs@aAgAeBsAsBKOMU]e@QYe@s@qAoBS]SYU[S[s@gA}A_Cg@w@_BcCiBqCyEgHuCmEuAsBg@w@QWs@eAoAmB]k@KMwAwBqAoBoCcEuCmEs@eA?AgAaBqB}CuFoIyDuFqAqBqAqBqCcEU_@Ya@AEW]iAcBS[CEcBkCo@cAoBsCwCqEKQKOo@aAa@q@IKMQgAcBEGWa@S[Wa@e@q@QYYa@iAeBy@oAsB_DuFmIEGSYCGeA}AeBmCmCaE}@qA_BcCgAcBAAAAW_@CEi@w@kAiBAAAAAAACw@kAe@s@_@i@cA_BIMqDyFoB_DoB}CmB}C_AcBw@_Bq@wA[u@g@sAg@}Am@qBm@cCg@{BY_BO{@SqAEYAK?AMiAI{@?EKkAC[K_BEeACg@Ci@?WCo@A_B?iA?y@B}DAsD?a@?i@Cw@AWAi@GgAKwAQcBOgACQKq@Kk@YsAQy@?CS_A]uA{@gDKa@I_@{@iDQw@a@aBI[U}@WkA[oACM]_BQeAIg@Q}AAAAKAMAGC_@ACAOAKC_@C[k@kHWoDU}CEo@Em@Go@m@eIGo@C_@AMK}AM}ASkCAQC[{ByZ?AGk@?CAWQqBK}A?AGk@?AEk@Y{DGm@Em@?A?ACYQmBIs@]mCWwAUmAWkAWcAWaAi@gBKYQi@CEq@cB_@}@i@gAi@aAe@w@c@q@EIg@s@]c@OQm@u@o@u@gAeAq@k@AA_@YUUcAu@IGUQw@i@y@k@II]WGEo@e@s@m@q@m@s@o@eAgAcAmAGKAAu@eAk@aAAAKOIQAA]m@i@eAa@_A]{@Se@[}@Si@YaA[iA[mA_@iBSoAQkAOkAMiAAGIiAAIEs@KgBGoBG{B?EGmCGcCCo@A[Ei@?CC_@Ec@Gi@Ei@Ig@Im@Ig@UiA[qACIK_@Qi@K[CIOc@_@_A]s@Wi@MQ?AUa@ACu@iAiA{A}@aAoAeAoBqAo@[i@Wi@QYKc@MOEQEa@KOCk@I[E_@EWAeAEQ?Q?g@?[?C?oCFA?y@@g@?s@A[A]CEAu@G]Gk@Ko@Mu@Um@Us@Ym@Yo@_@e@YYUq@g@[[k@i@Y[Y]U[CCg@q@KQ[g@i@cAi@gAqA_Dc@gAKSKYEKIS[y@Yy@Yw@Og@Yy@Sw@Uu@g@kBUaAQs@S_AYoAUgAQ}@Mq@OaASmAOy@COKq@[wB[mBYkBe@_DM}@e@yCMy@SqAOeA[oBYoBc@qCOeAAAE[Km@EWKi@Ia@?C?AQy@Ia@Kc@U}@I[Sw@YeA[eAGOSo@Ww@Sg@KWUe@_@y@CCM[Ua@O[Q[g@cAw@{Ae@_Ac@{@a@{@c@w@Ug@O[Yi@OWO]CG[m@GKUi@u@_BsAoCsAoC_@u@Ue@Ue@S_@m@mA?AA?yCcG?AUc@?Ak@iAWe@EKOW?AUc@EKoCsFcAwBwBmEIOcAoB}@iBe@}@a@{@mAaCEKOYISWc@Yo@[m@Ue@]u@a@{@oAaCISO[gBoDo@iA]w@KUUe@u@yAUe@}A{Cs@yAk@kAIOKU[m@cBeD{AcD_@u@Ue@Yg@_@u@Yk@S_@Se@_B_D{@gBSa@q@wAw@_Bo@sAi@cA}BuEw@wAuA}C}AcDMYCCS_@uAqCiA{BwAwCGQWk@Sg@o@{AUg@uBwEoB{DIMKWyBgEMUIMi@iAgAqC}@sCY{@Sq@y@_DG[UgAKm@QcAYoBE[Gm@OuA[aEAOA_@Em@OwCI}ACe@GiAUyBEe@Im@OuAw@_FY}Am@{C{@qDMk@Ke@k@yCQcAKi@Y_COkAMsAOqBOuBMqCAc@Ac@EoAAmBA{A?s@?oB@]@w@FeB@i@?M?]JsBHgABm@?AFu@HuADm@?APkC@QHyB@gCCmBGkAIeAU}BOqAS{AI_@_@_Ba@uAe@yAo@cBgAsBk@_Ao@_Ao@w@iAmAoAgAq@e@}AaAIC[Q[Oi@Qe@MaBc@wBm@aBi@yAs@{BqA_@YKGe@a@_ByAmAwAoAcBgAgBc@_AQ]k@sAg@}Ac@_BMk@K]Q}@Mo@SqAACIo@SkBOsB?CCm@Ce@A]AOAmA?GA{BA_B?o@?o@Ao@C{BAaACs@Cw@AMMaCI_AU}B_@yCIq@YoB_@_CQw@Mi@Sw@?A[eAo@qBaAqCc@cA_@cAo@}AYu@KW[_Am@eBAAi@}B[}AI]Ig@O}@G]MmAK}@MmBA_@Eo@EuAAa@IsDMqCKqAKwBAIAIi@}Dg@{CIa@Uw@cAmDy@{CYqAWmAQaAQmAQwAGo@Ec@GiAGaAKsD?{@AAEoEAuCAaA?ECaDCuB?k@?CAkC?C?mB?_@@w@@g@FiGDmC@o@@o@@o@RyNPaM?cA@mBAoBAiCAOAiAGoC?CE_AGyAC_@AQImAo@qIYmCM_BKuAY{DGm@Go@?G[qDc@iFGm@?G[sDIcAWwBUeBO_AMy@WkAKg@Sy@Qq@[}@Sg@]y@KWe@mA]s@Yi@c@s@[c@_AqAk@s@i@k@c@_@c@]]W_@WECq@c@g@]]Sy@a@y@[m@UYIi@QGASGc@Ik@Kq@KUEg@IcEa@gE_@_BOkAMeKaAo@GsCWWC_@A]AiAAU?A?K?U@A?y@D[BS@MBSBG?_@FaARMBe@Nw@TUFYJyAb@KDo@Ro@NiATc@J]DMBUBmAJoAFuABgAAG?o@A_@Cm@Ca@CKAKAq@Ie@Gm@K_@Go@O]Ia@KYK]MMCUK}@]k@WA?o@]k@YeFgCCAGEUKGEKEk@[a@SKGSKQIOIOIOGk@[UKOIAA]QOIKGAAw@_@MGOGOIa@SaB{@_@QCCk@Ye@W{@a@i@Ys@]e@Ui@WeBs@WIMCUI_@Mk@O]Ik@Oy@Ok@KCAaBUg@E[Cy@GG?iAEYAyA?sA@YBA?c@@e@Bc@BK@k@F]Di@HeAN_ARQDe@Je@Ho@Ns@Nw@Ps@Lu@Nm@La@Fw@J[Dm@Fk@Fg@D]BA?q@B]@sABS?a@@g@?kA?I?u@AiAAQ?yDGO?}@CE?c@AW?K?WAkBCc@A[Ak@AoCEI?Y?s@A}CEmAAI?YAKAeAA]?[?oADcBFa@D_@BG@UB_@B]D_@DA@QBQBYD]D]F_@HUFG@{@R{@RE@WFg@NOFs@V}@`@QHg@RKDKDk@X[Ro@\\\\ULc@TEB[PE@A@[Nc@TcCpAYN]Pq@^o@Ze@TKFULe@VWLIDC@g@XgHtDUL}@d@{BlAwB`A[Nu@^_Bv@A@]PIDc@R_@PiA^]JUFKBcARuALI@[DG?[Dc@?i@BaAAG?q@CiAMu@Oa@Io@My@OSEOA}@MG?UCMAy@Ia@AOAk@?[@c@@S@s@BK?UBU@u@DuAL_ANy@RA?UDSDC?OBI@]B_@@]@a@@c@@]?Q?U?GAI?QAG?IAYE_@GC?YGk@OcAWs@QGCYGMEUEMEOEMECAQGYM[QYM?A_@WECe@a@a@]kAiAi@g@[_@SYW[OU[e@g@}@CGUc@Uc@Ug@EKO]g@cAg@gAEIQ]CEOY}@qAW[Ya@EGc@g@a@c@]a@[Ya@_@g@c@i@]KE[SYQWK_@QmAg@aDy@cAOc@GgAOgAKE?aACc@Ak@C[@S?G?g@@g@DG?m@Dg@BK@c@Dm@HeALkAT{@PcBd@_AZe@Na@NKBULQHMFKDEBo@\\\\QHMHUJi@Z_@VQL{B|AGDUR}BlBuAfAuAx@WRs@\\\\g@T]JkBl@OBm@Jo@HWDWBYBI?m@Bc@@C?O?Q?e@Ak@Ay@E{@MyCm@}@]s@Yc@UAAEAECy@e@i@a@g@_@}@w@CCCCe@g@UUWWEEmAkACEQOCCEE{@{@AAWWA?_@_@m@i@}@y@y@u@cA{@qAiAs@q@oBeBk@g@a@_@A?QQAACCc@_@]Wy@u@USGE?AUQACCCQOMK[YMKo@o@UWSUIIOUU]S]S]S_@Se@GOKWA?O]CIe@mAQg@EMUm@Yw@O]Uc@O]Uc@Q]Yc@Q[UYa@e@WYAAWWGEIIaA}@aCoB[WKGc@e@W[QSKMOQQUOWQUMUKQSc@O]o@_BO]Wq@Y{@AACE?AEKM]IQO_@Ug@Wg@O[S]MWy@kACCk@s@a@a@c@c@a@[k@e@s@e@SKo@]gAe@w@Yg@My@OiAQ_BUCAkBSyAUqASq@Qg@OgBm@qB{@_Aa@qBs@yCsAs@]ME_@OqAg@o@YSI_@QWMCCA?]Wy@s@MKk@i@UYAAY]SWW]?AOUg@{@k@gA_@u@Yq@_CcFeAcCk@mAGMs@uAEKWc@EMOWMWWa@IK?AOUIIY_@GGSUMMMMAAYY_@YEE_@WSOCAUOe@Uo@WSGCASI_Ca@aDS{@@e@@iBBaFJkDDmCFa@AiBEe@Ae@AWA{@EqAKwAOmBUa@Gc@Iw@MoAWe@KYGA?YIm@Sc@MWKYMECWKYOYOu@e@]WAAs@g@[[GGWUEE[[CCWY?A[a@W]q@cA?AYe@Yg@Q_@S_@KUIQYq@O]?AOc@AAK]EIEQYaAK_@CKAECKGWCEKe@CMG]Oq@WqAAC?CIc@aA{EYyAKk@CKQaAi@oCAKIa@Ia@Q_AIa@CMa@wBe@eCEQEYe@iC]aBaAwEUiACOMk@?AESSeAKi@AAIa@CII_@CI?ACIQi@Qe@[w@Yo@EGS_@AECES[W_@CCSWY]GGUUAAEC][EC]WYSQKGEECMG]Og@Qm@U]K_@IMCYGIAe@E_@CA?Y?O?]AI?Y@I?O@QBY@a@DOBOBODQDUFYJYLMHKFMFQFOFSJu@`@WPy@f@mAv@WN?@c@VWN[P{@`@i@TSHMFMD_@LUJMFKBCBA?A@E@eC`A}Aj@m@Ti@TmAj@]LIDmAp@}@f@w@\\\\]LQFA@_@JSFUFYF[Fk@JaAJc@Bs@@m@?q@Cm@Ga@E]GWE_@I[GOEAAOGQGEAKEIEEASIcAc@]Sq@a@e@][YOMMKMQOOq@y@g@u@SWc@o@i@_AUe@_@u@u@gBUi@ISWi@Ue@Wc@_@k@c@m@OSWYAA]a@UUa@a@o@g@y@m@e@_@_@YCCCC_@Y_@]CCMKCCCCMMUUOSIKa@i@i@y@Wa@[k@a@s@]u@Ym@Wq@Yu@Ss@Mi@Oo@Mq@OcAIk@M{@QqAIi@Gq@Ew@Ei@Ag@Co@Ak@@{A@]HaC@e@HyADs@HmB@WBm@@k@?k@?c@?S@o@AS?m@A]?EAg@E_AA_@AOEc@Ek@C[GYGc@Ig@Mq@Ou@Kc@EOO{@[iA]eA_@cAi@mAO[O]U_@A?Wc@Wc@q@eACE}A{BMUMSe@_ACIQ]GOSi@M_@Oo@Mg@Q{@E[AEE]AICYGm@Es@AcA?eA@mA@_AB[Bk@?GDe@JuADw@@MJoADu@@U@W@k@?k@?q@?g@AYAUEi@K}@Im@Mq@Ka@Ow@Mc@I[CKQg@Ys@Qc@Wq@w@cBe@kAO]GUIWIUOk@G]Mk@?AM}@Im@E_@AUC]Ce@Ag@Am@?i@@y@@q@Be@Bg@JeAHq@Lw@Jm@Ps@T{@FQHSXw@d@cARe@^u@f@aAl@uAHSRc@Tg@?APg@Vo@Tw@J_@H_@Nw@b@wB\\\\yBPwALyAPgDDoA?_BAuAAi@?u@E{@IeBEq@KmAOqAQ}AQcBOkBCi@GgBAy@Au@?K@wBDiB@KL}BPoBFi@Fc@Lu@Hc@BOF[FUJe@t@iDf@cCRqAF[@QHm@@OD]Fm@Do@BSFsABcA@cA?aACgACgAK{BEk@?AGm@Kq@QuA?CKi@Km@EWS_AMk@Om@UgACMKm@?AG_@CIIm@EUCWCQEg@Cq@Aa@A[AS?W?UAU?Y?o@?C?gA?c@?_@?i@?E@m@@i@@s@Dq@Fq@^wDBY@SJsAFy@Be@FoB@wA@YAU?m@?A?KEqAAo@Co@Ai@AEE}A?YAUAo@C_B?E?i@?eABeAHwBJuALmALmABOHm@DWTsAPcATgA`@}BHi@He@LsANaBJ}AFcBDkB@oBGcDAi@Ae@GeAUkCEe@?GIi@Im@ACS{AKk@Mi@Kk@AEMe@Om@Kg@i@qBWkAWwAWeBMsAGgAEu@Ac@Ck@Eu@Ac@?c@?i@@k@@wAJmCFaB@m@@o@B_A?aAAuACg@Ci@Cc@Ei@MoAMmAUuAWoAGSW_Ag@iB]wAOq@YiAWmA]eBSeAQ_AKk@Kk@ACKm@Q_AKs@Q{@YgAS}@]iAk@aBc@iA]aASc@GQKUAAGMw@yAYg@W_@AAGKy@gAk@m@YYSSIGGGSQCCIGcAw@IGEAYS_@UOGQICAOIKGCAKEQI?Aa@MYKME[Ia@MaBUMA[ECAk@C]Ck@CUAgB@_@@_ADm@@Q@Q@S@O?g@By@@q@AI?oAEm@GiBUA?c@GC?]Gc@KGAYIm@Ow@[MEeAc@QIq@]m@a@_@UGEA?UMAAeAy@SMSSECOOSQ]]UUKKa@c@W]KM]c@m@_Am@cAg@{@GIw@_B{@_CQe@Qk@Ok@a@wAYuAS}@WkBMi@Ii@?AACGg@Ei@Gm@?CAKEe@GeAAQA]CY?GC{@?ECkA?M?o@?G?g@?g@@u@@a@@m@@OB]D{@LyBPgDD{@FmA@QBi@@KBi@H}ABaADeABqB?g@?o@Ai@?OC{AAe@A_@Ak@Ai@A[AQA]Cg@Cg@Ek@[mDQcBUgBG]_@}BGYQy@Ke@Mq@WcAWeAQq@_@}AMc@{@sCaAuCs@wBACK]CGGOw@_C[}@EIQk@Qc@M_@w@uBwA}D_@iAk@aB]cAY}@W}@Ok@AAI]CMESGWCKAGKe@[yA]yAs@cC}@eCAAsAyDm@_Bq@oB]_AKYIWY{@Wu@Uo@w@yBAEw@yBcAqC_AeCSk@e@qAcAqC_CwGYy@Oc@Wu@o@gBaAiCo@wA}BeFcAmBaB{CYg@Ye@GMGIIOc@w@mB}CEGEIQYWa@oAuBe@w@Yg@GIIQoD_GEIWa@c@s@eFsIQWKQWe@[e@GKGI_@o@g@y@sBeDEIe@y@cAaBGKEIQW]i@m@}@EIm@{@qAiBMQOSY]g@q@_AoA{AyBw@iAu@eAyA_Cy@yA]s@KSISIQe@eAw@qBmAiDSk@ACQg@?AUk@mAgDe@qASk@K[GQIUIWGQ?AQg@A?Ws@K]a@kAAC_@gAi@{AYu@y@_CwA}DeCcHqBqFu@uB{BoGuAaE_A}Ck@qB}@kDo@kCeBkHsBsIOc@CMUu@iBcGaAeDkAeEK[Uw@]mAyBqHo@sBeAwDa@sAUw@Qo@IWQi@GQGSGUGQIWI[]iAIYEKI]EKK]EK]qAQg@EKGUCEMa@CGQg@Oe@KSISSg@Se@Ui@u@eB[m@Sc@S_@S_@Q[Ua@[i@OYg@u@U[GKMSU[U]W[MOGKW[EG]i@GGm@u@?A[]mA{A]a@w@}@m@u@sBgCmB}BYYY]SUc@i@SWIKY][_@EGMOOQEEOSWYCEUY[]KMOQEESWQS[a@GIs@{@[a@w@_A?AY]MOMOIKUYKIcAqAGIOSUYQSGGACEEY]MMe@m@cEaFQUOSkAwA_AiA}@eAi@o@wAgBY]W[MQOOaCuCs@y@cAcAs@m@_@YUOIE}@m@u@a@{@c@k@Uw@We@OkBg@QE_@GUEq@MOCEAC?OCOCKCMCi@KGAaAQm@KA?KCC?]I{@OMCcCc@UCkASiAQ]ECAMAQCkAMKAIA{@IQCE?sAISAOA{@EIAWAKAO?sD[UC]Em@Ec@E_@G]EaBWsAW[GMCwBe@oBe@SGYIwAc@UK_A]yAo@cAi@q@c@WM[UeAs@mByAcBqAg@c@wBkBeA}@aAaAa@]_A{@mAkA_AaAg@k@q@s@}@cAc@g@eAqAm@w@Y_@{@kA}AsB]c@i@y@g@u@[c@cAyA}@uAQ[aBuC_@s@Ug@KSKSi@mA]y@EIq@cBk@}AWy@]_A]iASw@ACMi@YiAUeAS_AOo@SeASiAQmAU_BIm@Ks@E[WiCC_@C[i@sGM_Bk@uGe@yFa@_FOyAQqAMaA[cBI]Oq@WaA]gA]}@m@yA_@u@]m@Sa@}@qAa@k@{@cAm@m@i@e@m@g@u@k@UOoAs@g@YsAu@iAu@kA}@{@u@e@i@_@a@a@e@OWs@cAo@gAg@_Ag@gA_@{@Oa@]cAYaAYcAe@sBMs@O{@QqAE_@O{AMkBGuAAaAA{@?cB@{AD}E@sAAuD?{@AYCyAAe@EcAKiCMuBAG[qDGo@MmAe@_DKs@G]G_@?AIc@SkAYkAKi@[mA?A}@eDQm@Ww@g@aBa@sAa@qAMi@WeAKi@YsAGk@Ks@Io@Gi@Ei@Eo@K{A?OCi@?AAg@Ai@?_@?y@@]?G@}@BsAD}@HoAVwDBi@FaARqDJuBHsAJyBBWVqFJeBt@wNJaC@_@BgA?e@?k@EsAEwAGcAASASEk@Ce@QeCU}Dq@mKK_BKuBGaBAWA]Ae@C{@Aa@Ae@Ao@?U?WAk@?e@Cc@Ao@AQAs@Aw@@e@A[?OCaA?S?CAm@AiACaDE}CA[AK?c@?CAk@A_BAEAi@?C?a@CgB?CAg@?G?MEaCAk@?EAm@AqAEwC?y@EmBAyBE}A?i@CaDAa@?q@Ao@Ac@CiBE{DM_NMwECaA?CASC[?KC]MsAAMIm@?EIg@U{AK}@k@iCGUCKSq@GWCIM]?AMa@Si@GQQ_@M[o@qA]}@c@w@kA}ByCqFs@sAs@aBSg@O[IWMYO_@O_@[{@[_AQe@]gAACOe@AAAGSo@k@iBEMMc@Oi@EMK[Qq@IU[eAq@}BGQGWo@wB[eAIUSq@Oe@EQUq@a@kAw@{BCIYy@Yu@e@oAMc@Qk@K_@EKKc@Kc@Ic@Ki@Ic@E]AMIo@Go@Es@Ce@A[Ck@CeA?s@?gA@o@JsGDoC@aALyGL}I@k@?CHoE@y@@m@?C?S@iA@UDwABo@Du@LeBDc@BYHq@Fa@Fc@Jk@Nu@Nu@Ja@HY\\\\kA`@uARc@nAuCXm@^y@p@aBFOHYJWDOBIDMFQ@Gh@yBV{AHk@@AZaCTyC@i@Bc@?K?e@@I?q@?qA?IAc@AMAc@C{@EcAAWQuBE_@CUAEGg@]qCk@qEg@uDE[_@}Cu@_GiAgJ]gCCWE]CKGi@kAcJI{@CUW{BUcDKgBCi@AMAo@AE?m@Cu@?qB?cA?m@?A@u@@{@BiABq@H}ABm@?AP_CZcD`@qCTqAP_AfAiFHY?CFUFWdBaIh@aCLk@BIn@uCp@}C^cBr@gDt@iDfAcE`@yAd@iBV{@@GDKFUBG@I@CFSdEeOLe@BIDOzAoFx@uCDMLe@Nk@L_@n@}BdAuD?ALc@@CzAoFtAeFpBiH|BgIPo@XgAh@iBh@mBPu@Lc@DQR_ABI`@sB?EJm@F[@MLy@PyAFq@\\\\aDFk@BWTsBn@_Gd@iEPcBP{AFo@Hk@Fm@?A^qDb@aEHk@?AFm@NwAt@yGFo@j@gFBSb@cETmB@MD[NyARmB?CNyABg@Bg@@]@a@?i@?s@CcAAg@C_@Ei@AIGi@Ge@CYKs@UsAQkAAEIm@COU}AOiBGaB?IAE?E?U?C?O?C?C@k@BsAHsAPeB@E?GDUX_CX}Bd@mDRaB@EBSJ{@Z}BPsATuBJu@`@aDFa@Fa@j@_FHs@Hk@?ALiABOHm@`@gDJy@Hq@BKp@sFNoABS@I?AFm@BQJoA?IFw@?AD_ADsA@w@?Y@oAA{AAeAGwAA[KuBGu@UgEKgBC[ASIoAWkEK}ACo@K}AEk@?C{@gOMyBGeAMoAAIS}ASeAWcASs@_@_AQc@AEOc@g@uAc@mAACQg@aAkCe@qAeAwCQm@A?Oi@Ma@AIOi@YuASoACMGm@E_@I}@IoACy@AY?m@Ae@@m@?i@@e@Bq@@g@@S?G@_@JwBBqB@w@EeAGsACa@KaAEYG_@Gc@Kg@I_@Mg@Uu@i@qAg@eAACWc@Wc@Q[]k@Wa@q@eACGQ[We@O[u@aBg@yAs@{B]}AESMk@?AKm@UqAYkCMcBGuAAw@?QAcA@YBm@D}@HgAD]Ju@Ls@Ha@XuALk@VmAJi@He@Hm@B]Fg@De@Bw@@U@a@?A@q@?o@Ag@AY?EC]AUCi@Iy@CWEYIg@Ig@CMCIKc@Ka@Mc@K[K[Wq@Ym@Yi@o@aAYa@c@i@_A_Ak@a@s@a@cAe@MGs@UuA[oBI_@?e@?eADkAJcAHW@uABq@CQCc@Ek@I_@Iy@U_@Ok@Wy@i@e@]u@s@CCc@g@s@aAa@s@e@aAk@{AU{@YiAM}@Ki@KeAAIEy@G{A@uA?A@_BDaADeABu@@OFiALsAJ_ANkAR{AN}@Ns@XyA\\\\qAJc@Ni@@CNs@t@uCd@uBF[^cCZoCPwCHwC?k@AcCEwAEiAIoAE{@KkAWyB_@uB[qAAI_@wAq@oBg@oA[y@KU_AqBWg@cAeBKUO[e@iAUg@{@wBQc@AEa@kACKSi@K_@Qi@I[Ss@AGAEI[CG[mAEOKg@CMEQAKMm@I_@AKIa@CKKo@Ig@Kq@E_@CMAGKy@E[EYC[Go@CUCQ?EGi@Em@AGKaAAUAGGm@Go@Eg@Go@AE?CGu@Ea@Gm@Gu@Ee@ACEc@Gm@Gs@AIAKCW?CEa@Eo@Gs@QiBC_@OyAGm@Gm@CMKmAGm@Em@O{A?GSkDAAC_AEiAAeAAe@?oB?uB?yBCgAC{@Ck@Eo@_@eEKmBEeA?C?mA@i@@S?A@Y?S?ADq@JaAL}@DU@E?AJk@@IF[b@gBLk@Nk@@Ef@uCLeA?A@KDa@@G@g@Bm@BaADgBFeCHqABS@SDYBSFa@Hg@Li@H]BMRo@Nc@b@iABEHSR_@Vc@V_@h@w@JOLQXa@Xa@DIX_@LSHO\\\\o@DKRe@HOPi@JWFQPi@BKBI?ADSTcABM@EHm@D[Fe@BODe@@U@WBq@?E?M@o@@c@?K?Y?U?E?UAG?I?[AS?A?QAG?SAYAI?K?ACWGcACY?AASC[?GAIYkCGe@Ku@Kk@Km@?CUmAOs@[wA?AI]c@aBIW?ACGCI?Ca@iAKYGQEOeAeCm@uAGQ]_AGQUy@Qy@SoAAIMcAIqAAOASAY?QAI?S?U?A?W?K?E?C@k@@MBy@Du@JaANiA@C@IF[Li@Ps@Lc@ZkATq@HYDOHWLm@FSJi@N{@?EHu@DY@SFm@B[?SBe@?]?S?gB?o@CaE?_@@U@e@Dm@D_@Di@Fe@L{@Lk@@KJ_@H[DOr@{BJUJUFI@ER_@N[FIVc@T_@@CVc@n@gAn@iAXi@\\\\e@Zk@Vc@Vc@f@_AP[Zm@f@cA@EDGZs@BKRg@?AXw@Nk@DMFYH[Lk@@GR}@@IPiAVeCJmC@}A?mBAW?A?UEeAAU[yEKyBCyB@oABi@D_AHw@Fa@Fg@@ERkAXsAp@oC@EDSDW`@qBHi@DWBQD[Hy@Hy@Dk@DcB?E?MBiBAyAEeAOcCGq@WuBk@}C]oAc@oAs@}AMUGMIMAAACQYMU[g@Ye@[i@i@{@Uc@AC}@yBm@uBSy@CQOu@CSOqAC[Iw@EyAAk@A_A@w@@}@B}@@e@BqABsA?a@?m@?ACiAAUASKuASwAYyAACWgAi@_Bg@iAoCcFYo@Qe@O_@Ok@CIEKMk@Kg@Kk@Ge@G]MyAGkA?MCk@?eABmA?A?GBe@@A?G?AF}@BUHq@?APcADSLk@DSFW@CRw@H[Pk@Ni@Nk@Pk@@EBIVmAJu@BOFm@?A?GFm@BUBoA@W?_B?I?e@Ac@GuCAw@?u@?K?O?A?I@S?A?MB}@Dw@HaAT_BJg@?AHa@TcAZeA?AFUb@gAJY~@eCPe@Pc@`BeEhBuEL]f@oARg@tAmD|A_Ed@kAFMz@uB`@cApCkHHQRg@Rg@Zw@HWFMxAwD@Ab@iA~@_CdAmCXs@Vs@Rg@^_AFMjBwEFQN]Zw@hCuGVo@fBuEj@aBr@{Bb@aB\\\\uAXuAZiBTcBP{A@OH{@BUDe@HgADkAFyA@o@@e@FaD@eC?A?m@@o@?C?k@@i@DaG?cA@gADqG@m@@qBDkFB_HB_DD_DB{G@sABmB?AFyJ?s@@_ADmG?G@g@@aD@mD?O@_@?o@@}AD_E?o@@o@@{A@cEAcACcAEkBEuBGuAGs@MiBa@uEScBWgB]uB]sBoAcIm@mDKm@Km@My@u@oEe@mCMs@a@iC{A}Ia@kCKk@Ku@eAeGg@aDm@iDOeAmAqG}A_IYwAWqAe@eCwAiHc@sBEW}@qEYwAc@yBi@oCUmAUkAoAmGCQs@qDEUCKAGAECGAICIAMEQsAsGWsASeACOkBuJwAcHm@}CqC_O}ByMWwAa@aCs@yDwAqIaAoFIa@kAcHu@mEMk@QgAESo@sDKk@W{A}A_JyAoIw@uEYiByAiIOq@UuAQeACSI]Km@Mq@[wAUeAEMMi@K]Ww@]gAQc@O_@ACa@y@KUk@mAq@gAw@gAGKs@_Am@u@OSq@w@k@o@GIw@{@_@e@q@y@g@u@m@aAi@_AS_@k@qAc@kAOi@Oi@S{@Mo@QaAE[MaAGi@C_@KeAEu@Ca@ASAAE{@E{@KkBQ}CM_BEi@Gg@Kw@QoAWuAAGKm@CIIa@Kc@CIUw@Su@CG]eA]{@O_@k@uAEK{@mBq@_Bo@yAQc@Qe@]}@k@}AEKAECGQg@ACa@uAGWACAEMk@CM_@aBCI?A?CSaAQkAGa@Gm@Im@E_@KiAGs@KuAC_AGmAE_B?EAi@CkBEoHAkEA{@A{@?sACqAAY?YEgACa@Ey@Cc@AI?GMmAUcBAEIg@Ik@CKKg@G[Mk@UcAK[Oi@AAACQi@GQi@uAo@_BUg@Sg@o@mAYi@kAmBi@{@OUIKY_@gC_D}@}@UUYW?Am@i@WSMKOM]YIGUQ_@Wy@i@g@[u@a@u@a@o@Yg@Uo@Wk@Ug@QiCw@cA[cA[c@McBi@w@WICA?cA]}@c@u@]k@]q@a@m@a@o@g@k@e@_@[][gAkAo@w@Ya@w@cAU]U]e@w@g@_A_@s@a@{@_@}@Um@KWa@iA[aAA?EMI[[aAe@gBs@kC{@kCg@_Ba@iAkAuCy@{AaAcBs@mAo@aAk@s@WYIIkAoAIKWUqH{HgBqBiByBo@_As@mAq@kAe@w@c@y@Q]Q]Q_@[w@Wm@_AiCa@oAYaACIK_@CIOm@Qs@G[ACc@wB?AKm@ScAQaA]uBa@{CKm@iAsHMw@CQQw@Y_BYoA?AWiASs@AEk@yBOi@CGu@mCSu@]iAAAkA}DYcAMc@AGe@cBq@mCMi@eAuEWqAm@gD]sBKm@AG]_CCW_@}CACGm@AACY]}CGm@?AAGcAcJ?EIk@AKCOC[CQe@yDAGIq@c@qC{@{Ew@oDmAyEcA_D{@cCeC{FwBcEiBsCgA_B{@oAi@q@_@g@mAqA[]]_@wD{DcB}A[Y]]WUEE]]YY][[]]]i@i@gAcAAAYYA?_@_@YW[Y]Y?AA?][c@c@qAeASM_@W]S?AOK[Ss@]eCgAMGmCy@uAY_@IuCa@eBIWAsAEW?kAAa@Bg@AYAc@?i@Cq@CA?EAI?GAIA}@Ku@Kc@KKAu@Oe@Qo@WaAa@c@SQGECOGMIAAQKOK[UWS_@Wg@c@IGoAkAMMa@_@}DgDCAw@q@_Ay@w@o@oEwDsDgD[[_CaCII}AoBIIGK'},\n",
       "       'start_location': {'lat': 40.440575, 'lng': -3.6587551},\n",
       "       'travel_mode': 'DRIVING'},\n",
       "      {'distance': {'text': '63.5 km', 'value': 63500},\n",
       "       'duration': {'text': '35 mins', 'value': 2119},\n",
       "       'end_location': {'lat': 41.632574, 'lng': -0.9812928},\n",
       "       'html_instructions': 'Keep <b>left</b> to stay on <b>A-2</b>',\n",
       "       'maneuver': 'keep-left',\n",
       "       'polyline': {'points': '}wr{FlrpHe@k@]g@IMoAwBOUsAuCEKCEGMu@aBISO]M[ACKU_@oA]yAAAGWES]}AQmAAG?AGg@?COsAGm@Eg@CQGcAMcBGq@QmBE[S{ASqAg@}BY_AEMEI?AGSCGaAyC_@wA_@_BGa@Km@COQqAu@}Fa@{Bg@qBYiAm@_BQc@Ui@y@yAe@o@iAsAkAmAq@e@A?_@Sa@Si@YaBm@[Ik@OWKc@Ma@OUGQIa@Qy@a@GCm@_@o@e@OKk@a@_@[][GEMO{@}@AC[]a@e@S[SY?ACEq@eAIKGOYm@O[EKCEQ_@IQEMQe@CICGMa@MYSo@IWG[U_ACUK_@A?YoBUiBG{@CMAKASAMAKEe@G_BG}BD_ELwCRyBPwADYF_@Jm@TkAf@oCVkB@MBSJgB@iA?k@AwACcAKqAGi@QmAc@uBe@wACIM_@w@iB_@k@EGo@cAeAcAWS?Am@e@o@a@q@]q@[y@Um@Ms@IYCmACwADa@BE@]F[D[F{Af@sAl@mB~@k@TC@]NC@E@_ATiARi@Bw@F_AC}@Ig@IcAWMCa@MUKk@]UMIGg@[IIe@]CC[]A?OQECi@u@e@w@U_@Ug@]w@CGWw@Ok@I[[uAMw@Kw@Ee@?GGq@E}@AkA@qA?GBk@Bi@H{@J}@TkBZuBt@cFb@kD?AHk@XkC@EFg@XkCj@gFHm@Fm@TkB`@aEHeAFm@@YFiBEoBGkAQkBgAmGKm@Km@Km@c@aC?CKm@Kk@Mm@Kk@c@gCmBaLKk@Km@_@oBScAAGUqAG[COQu@YkAOe@Um@{@mBcAcBUYQUa@a@mA_AMI_Ai@c@UiCgAgDyAuDcB]OYKYMwAm@cCiAIEWKa@Oa@Oa@OA?aAc@_@O?A{@YiAi@_@Qc@QqBeA{BoAyAeAUQ]Y_@Y]WyBgBA?ACYSm@g@MK?AECqAmACCwAkA}@k@QMoBcAg@QwAk@UIA?GCo@SoEqAMEgA[q@UGCKGKGGCEEWOSM_@]_@]EEo@s@Y_@c@s@MQaAcBQYEIiAiBIQCCIMgAkBEGQYgAkBiAgBCGKQGI[g@KSYe@s@iAkAmB{AiCy@wA_@k@i@y@[_@UWm@k@k@e@a@Wu@e@a@Qk@S{@Y_AO}@K{@AM?[AI?YBk@B{@H{@H}@JyAN{AHmAD{@?i@A]CaAG_AOe@KSEMCc@MEAA?YK_@MA?a@QECMEKGGCc@Uo@_@w@g@o@g@]Ym@k@]_@OSm@o@[g@c@q@o@eAACSa@Wm@_@{@q@gBg@oBMi@ScASkASoAa@uC_@{B?CWmAWcAY_Ai@_Bi@sAe@aACEMWa@s@o@aAk@y@eAmAq@q@i@g@aAs@iAs@CAgAm@y@YOEICmA[iBa@gBQO?OAKAg@As@?s@@{@Dy@H_ANc@HGBy@RgA\\\\s@XcBr@m@Vy@Zw@XI@q@Rw@PgANi@FM@{@BwABcACUAMAm@Ic@EWEy@OQCe@Ms@SQIWIIEEA[OOIa@UMIaAm@g@]a@W_@YuA_Aa@[a@Y]U_@W_@W]W]WA?_@Wo@c@MIg@[WM_@Se@Se@QYK_@KAAsAc@i@Om@Sa@QECYO_@Qu@e@i@c@o@k@o@s@k@y@_@k@e@{@Ue@Sg@M]Qi@Y}@U}@Ow@s@qD[}AGYEQYuA[oAg@{AEK[u@]q@MU_@o@GIm@{@g@k@k@m@[WMMw@k@UO_@UQMm@]CAeAs@i@c@i@i@a@e@]a@_@i@e@y@e@_Aa@cACIe@qAQs@S{@UyAUeBWcEKcB?EOmBOiAKq@Ic@G[U{@Oi@Yy@[s@]s@Yc@i@u@k@u@c@e@q@i@g@_@IGUMUMy@]w@Wa@KCAc@Iy@O{@IQCc@GWCiAQw@QUGICiAa@u@_@a@SYQa@[m@e@[Ys@q@{@eAk@{@{@yAe@aAq@aBQc@ACEKu@gBUk@Yu@KUUk@aAcCM[}@uBYs@gBcESe@EMkAqCQc@Sg@i@oAq@eBo@iBk@kBW_AWoA_@uBWuBSuBOaDAo@Ae@?IAY@I?qBFwBPeBNmATkAVgA\\\\eA`@cAf@aAf@{@l@s@l@q@RS\\\\[t@e@t@c@rAs@j@[TMJE^UlA{@h@c@XYr@{@lAyAhAgB|@wAz@yArByDXm@n@qAnA{Cl@}Ap@iB^eAhAqD`AiD?ADOHY^{ANo@ZwA~@qEd@cCp@wE^}CBSFm@Hy@Bc@Fm@?AFi@LaBF}@HoADi@?ELmC@QB]D_BBi@H}BDiC?[@y@?cAAaAEaBCu@Cg@Gy@GiAGs@CWKcA[eC[qBk@wDGe@c@yCKw@AG?AOy@S{As@uEaA}GGe@Ig@Im@QyAY{BKq@c@eCWuAi@cC[oAKc@a@aBMg@IYYgAc@cBU_Am@_C{@eDc@cBYeAi@uBa@aBEOI[mAwECOWgAU_Ac@wBa@sBUmAu@kEYqBEUMaAe@eDGm@Im@ACK_AM_A?A]iC[iCIm@]iCa@aDkAyIc@gD}@}GYwBQeAIe@Ie@a@aBYgAi@kBq@qBOg@Us@a@uAI_@Oo@e@aCUcBKq@SuAGm@_@eDeA{I[iCIm@a@iD_@wC[mCACGi@Go@ASEU_@cDc@yCKm@SsASqAm@_Ee@}Co@iEq@kEE]a@kCo@eEGc@w@gFc@uCEUm@aEq@oEc@kC?AScAo@iDk@oCWoAGWI[[oAMi@CIU_AaBmG?ACIy@_DOm@CIgByGQu@CIgC{JCIyBsI{@cDyLie@I[GUa@}Ao@_CEKCOY{@Wy@s@uBQa@uAaDKWKUEIKWO_@uB{EiEwJsA}C_@{@}CgHkD}HuDuImIuREMkAmCaAuByAgDm@yAeCwF[s@?A{E}KuA}CeAcCMWk@sAe@gAGMUi@gBeEg@qA_@eAo@qB[kACIWeAc@mB]kBMm@O{@WcBSwAc@}COgAKk@{@yF_CyOEYCQE[c@wCU_BG[UyAGc@_@{B]oBMm@]cBk@uBg@eB[_A]cA]cA]aAUo@Y{@cB_Fg@wAe@sAiAcDKYaByEM[o@iBi@}Ao@kBmD}JW{@e@oA[_Aq@oBkAcDOe@m@eBs@uB}@eC_AmCi@{AgAaDw@yBiAeDg@yAyAeE_@eA_AkCg@wAw@yB[}@c@oAyAeEkAgDc@sAs@sBUq@k@_BaDeJCGGOOg@eFyNgCmHEMgAaDiCoHYw@g@{A_@iAkDeKQk@ACSm@w@sC[iAmCwJ}A_GGWwCsKeBoGi@cBMe@WcAi@kBIYg@wAYy@s@kB]u@g@eAGOKUEGO_@}BsFMa@a@kAc@qAg@{Ag@yAmDqKa@qAAA_@gAAG}ByGSi@ACs@wBACmEiMcCiIi@}BUcAEQoAuFg@gC_CkKIa@oB{ISaAe@qB[qA_@uASo@Uw@M[KYWq@_@}@]u@CEYk@a@u@i@{@i@u@oAgBsAeBsCiEmDoIO]e@gBKa@]wAGYQ{@Mq@IYIa@AKCMOs@q@mDG[COk@wCWoAQaAWwAa@oBG_@CGQiAAGCGG][aBYgAGWYgA_AkDIYOe@Oi@Qk@K_@EMGSMe@GOU{@W}@Oi@]iAKa@_@oAaAkDEKQm@[kA]iA]oACIe@_B[iAu@kCaD_LQo@_AeD?AW{@i@kBAEMa@?As@iC}@gDMe@?AOq@S{@QaA?AMu@SqAIq@CSSgBQmBCk@Ca@Eu@CUEqACoA?MA[?g@AcB@}A?U@k@@G@e@F_BDiAHoA?AFk@?AN}ANuALcATuARoAH]`@qBPs@`@yAX}@\\\\gAPe@bAkCFMv@eBn@sA|@oBjA_CJSp@wA\\\\s@P]n@wADGb@_ATe@P]?A`@{@b@{@DMBEp@wATg@h@eAd@eAP]`AqB^q@v@gB|AcDnDqHFKDKJS@EtAqCh@gAJSb@aAZq@Rc@pC{F^u@pAmCr@{At@}Aj@kAn@sAh@iAv@{Ab@y@z@sAbByB`@e@r@s@NO~@y@ZWz@q@BCd@_@RQj@c@`A_APQ`@[VWd@g@h@m@p@}@DIHKlB{GRq@h@}Bb@_DV_FB{DOoEW}BWkBAGEUe@qBu@gCc@eAq@{AcAiBy@kAyA_Bc@a@[WWUGCg@]u@c@cAk@gBeASK[SCAUQWQYUWSYWIGMISSSQe@c@c@e@]]Y]QSW[WYW]SYQQc@o@]g@e@u@_@o@Wg@Ua@k@mA{AmDQe@Sa@eAaCQ]Ue@Ym@Q[Wc@OUGMWa@q@cAq@eAa@g@QW[]s@{@g@g@aA_AcAy@u@m@}@o@_@Uc@[eBkA{@k@_CyAqBqAIGgBkA_BcA{@i@YQYQECaBgAy@i@cAm@w@i@i@][SmAw@iBkA{AaA[SMKe@YYQ]UcAq@}AaAmAu@q@e@yCmB_BcAsA{@gAs@uCkBk@_@SQWSq@o@QUUSCCMOKOOM[c@c@o@]g@Q[c@y@e@aAg@kAk@_B_@qAYiAI[Mk@[wA_@}AAEU}@AGEIIW?AEOCGY{@Yw@AEm@qAe@aAGIEIKSm@_Ag@q@]e@IKKKEGIIQSII[[WWa@[a@[IGSOGCKIIGAASK?AOIk@[sAu@]SUKIGk@Y{@g@MGA?_@S}@g@MGaAi@_@SWOiAm@e@W{@e@[QWOoAq@iBcA{Ay@mBeAuAu@s@_@iAo@qBgAA?_@S?AkBaAqAu@i@Y]Q_@U}AcA_@S}@s@OOe@g@k@m@uAiBm@_AACi@cAWi@O[Wg@O_@IQGOKUCGa@cAc@gAa@gA]iA]gAGUESMc@Kc@Me@Ie@Ia@EUCQGe@COGa@AEE_@AG?AEc@Ei@C_@Ee@I}A?ECi@Ag@EaBKeDCs@Cc@GsAM{CWkFMoBIiA?IG_AG{@IoAEi@Ek@CWIo@C[Ig@CWIg@Ic@CMEWMo@EQEQGYAEMc@Kc@CGAGIYCGCKGOGUMa@GOKWGOKUEMS_@Q]O[GMOW[c@Q[KQOQKMIMKO[]IKQSEEWYYUIKQMWSKKQMKK_@WOI[S]QSKWMQG[Q[M]M_@KMEUG[IKEOA[G[GMCk@Ge@E_@EWAa@Cs@EW?c@C]AiAKa@E]Ei@Ie@G_@I_@IMEUE_@Me@OWIOGMGICGEMCYMc@SSMOEKGe@WKIMIWOYSKIOMMKMK[WQQ_@[s@s@CCa@_@u@s@IGmAiAu@q@ECQQCCGEMM_A}@GGgBgBKIMMw@q@k@i@OOk@i@e@c@i@g@aAaAMM[We@e@UQ][i@c@QOgFaEs@i@UQSQ_EcDsDyCsAoAeA_A}@aA}AgBSWQSGIu@cA_@i@KOMQIKAC}@_BGMm@iAIOISAAUe@g@iAUk@Sg@EKM[Sg@{@wBCIO]mC}GCIKWwBqF{ByFe@kAOc@a@cAgEuKm@{Au@mB_@cA_@cAOe@K_@Sw@Q{@SaA_AaFY_BUmA]kBa@uBQ_Aa@{B_@oBm@cDEMCOCMYaBUqAK}@McAGq@I}@Ew@GkAAe@?MA]As@?G?E?eA?w@@Q?a@@M?EB}@D_A@K@W@IF{@Di@XsD@E?GDa@@MVoD@M@OBO@MP_CB_@BSBWD]DYXmFT}Ct@yJLwBH{BBwA?cAAo@As@EaAEw@Ee@AQC[E_@Go@Ku@Gg@EUCSEQEWGYQs@Kk@Ma@I_@KYGUK]_@aAk@wA{AeEaAiCo@aBWm@Si@Qg@Wq@Qi@c@eAQi@O]Qg@M[Oa@Qi@Qo@EQGUI]Me@Kk@QcAOy@QsASgBW}BQyAEc@Gg@Ik@Kw@QoAO}@Gc@Ii@Kq@c@gCa@}Be@cDK_@ESG[SyAM}@QqA]oCi@oEuAsKYwBW_CE[UcBOmAmBmM_@oBqCmO?AcAaG}CqPm@_DMq@EQOcAQaAIa@a@}BSkAQeAI_@_@wB}BmMIa@k@{C_AcF]iBqAkHmDeSSkAGY_@uBiAqGeAcGuAuHAEIg@AE_@sBIk@[kB'},\n",
       "       'start_location': {'lat': 41.3889532, 'lng': -1.5647103},\n",
       "       'travel_mode': 'DRIVING'},\n",
       "      {'distance': {'text': '28.1 km', 'value': 28138},\n",
       "       'duration': {'text': '16 mins', 'value': 972},\n",
       "       'end_location': {'lat': 41.6152897, 'lng': -0.6996705},\n",
       "       'html_instructions': 'Take exit <b>311B</b> to merge onto <b>A-2</b>/<wbr/><b>Z-40</b> toward <b>Aeropuerto</b>/<wbr/><b>A-68</b>/<wbr/><b>Logroño</b>/<wbr/><b>Pamplona</b>/<wbr/><b>A-23</b>/<wbr/><b>Huesca</b>/<wbr/><b>Barcelona</b><div style=\"font-size:0.9em\">Continue to follow A-2</div>',\n",
       "       'maneuver': 'ramp',\n",
       "       'polyline': {'points': 'qjb}F`t~DKe@EWKo@UaBIu@Gk@MgAGk@MsAMkAEe@I}@AOMmA?GGe@QwAE]SoASy@Q{@K_@[aAMe@GUIUISM]Q_@Q]QYEKOWCEU[S[[c@g@m@o@o@OOOQg@a@q@e@a@UOKe@Uo@Y[KQGKE]KYGYI}@Oc@Ea@Ei@COAS?MAy@AuA?A?c@AY?}@E]EG?]Ea@Go@MGAICw@Q]KEAOIGAu@[QK]SQKKISM?Aq@g@m@g@[YUSUIQGkC{Cw@{@QScBmBQSACOOW[oGqHW[mAwAe@i@e@g@sC}C[]w@_AiAsAMM[_@KMs@y@q@u@uA}A[]UYGI[]o@u@u@{@SWOQqA}AaBkBeBsBiAqAeAmAoAyAiBuBeAmAcAuAIKk@u@SUiB_CCE}@kA}A_Cy@oAk@}@Wc@g@u@wByDy@cB_AoBO[CIs@}AAC[u@_@aAM[Sk@_@eAoAmDM_@Qk@cAaDACOk@Oi@A?GY_@mAg@iB]mAYaAy@mCa@oAI[a@gA]aAOc@a@_Au@eBc@_Aa@}@g@}@c@}@Ya@Wg@a@o@e@u@Wa@[c@W]MOQWm@y@UY]a@UWOSOSY[OQo@s@QUWYY[QSa@c@o@m@s@u@q@s@]_@}B{BKKyDaE}B_Ci@k@i@k@oDqDYYYYmBsBcAiAMMMM{B_CoHyHiCkCc@c@e@e@cBeBMM[]WWCEWWk@o@c@g@WYg@o@[_@Y_@GIa@g@g@q@U[m@{@Yc@Wa@S[Wa@Q[KQ[k@Ua@S_@k@iAMUCGSa@Q_@Q]Ug@_@_AYs@Ww@EKIWOe@Oi@Oe@I[Kg@Mc@Mm@CMMm@EUQq@GYMi@SsAk@kFS_CIs@Gy@AUCSEm@Ee@EaAEk@Co@GqBAg@CgAA{@?_A?o@Aq@@y@@aBBeABkA?SDeABu@F{AJcBFqA@K@MBa@NmCF{@@I?GN_CH_BP}CF{@LaCP_D\\\\uFLsC@Q@Oz@{N@WBa@@Y@MXqEB]Bi@PaEHmCHaFDoD@aC?[?_C?c@?kD?SBoD?i@?w@BcN?]?S@sAByBAeL@iH@mJ@YAo@BcL?U@kAAcA?U@qE?e@?[@gK?kB@s@?oA?e@@sF?a@?_@BqQ?M?i@@wE@kI?m@@iD?qA@mGByC@o@By@@kAFwCF_C@G@S@WFmAZqEB_@Fm@TkCRwBDi@@En@yGFe@D]ZoDh@aGBWH_A`@aEBW@SBSNaBF{@X{CD]|@{JFk@?EBYFm@NyA\\\\_EXwCXwCBYBMn@gH@MT}BFo@BYJ_AHy@BYFg@Dk@Fg@Dg@De@Dg@Fe@Dm@Hq@H}@BU?IViCR}BJeADc@BS^eEB[Fi@PqBPkBD_@BYN}ANcBVwCH}@RyBb@iEXaCv@_FP_A^qBVgAd@qB\\\\uAFSd@}A@Cl@qBb@oAXw@Zy@BEl@yADMb@cAd@cAr@yA`AsBh@aAR[P[@ABER[h@_A~@{A~BsD|@}Ah@}@P_@^w@d@cAZ{@t@oBDQJYDM@EV}@d@gBXiAd@yBfAiFZ_BTaA`@iB^eBvAaHLk@|AwHBQ^sBd@kDF_@h@iELiAH_AFi@t@qHZ_DFo@Fm@\\\\_DDa@j@wE\\\\eC^cC~@uFBIbAkFr@{C|AuGbAcET_AvE{Q@GFSFUFSxCsLPq@ZqArAcFDQ@AT{@Nm@|@kDT{@FSXcAJk@H[hFwSx@eDh@oBn@iCPu@bAuDXcA`@cBXiAl@aCJ[FSVy@\\\\gA\\\\_AFQ~@wBr@yA`@w@LUp@eAz@mAn@{@r@w@`@c@nAkAnAcAtAcA@?vBuAfDsB|@i@zBuAfD}BnByA`BsARMt@q@t@o@hAgAvAwA`AgA^c@bCsC|@iAXa@f@q@|AwBzA_Cd@y@Xc@BIVc@NUbAiBTa@vA{CzAcDb@cA@AFOxAuDVq@bBuEn@kBVu@~@qCPi@Rk@La@b@mAbAsCBGXw@Rk@HQl@_BVq@\\\\{@hAmCDIVk@b@cAx@iBvBuE^y@p@uAP_@Re@DGZs@Rc@dAcC@CRe@L[JSb@mAd@qAJWNe@Vw@Rk@Tw@^mALe@Nm@`@}AT{@Ji@Lg@TaA^}A~@eER}@No@f@oBRu@Ty@V}@Vs@X}@Rk@Ri@Tk@FQb@eAFKTk@`@y@P_@Vg@Tc@\\\\o@Zk@LSHOb@u@v@mA@?b@q@`D_Fp@iAXg@n@gA\\\\m@P_@P]P_@Pa@n@{Ax@sBj@cBDK@ENc@L_@BIXcAh@oBLc@^_BHa@Ns@`@wBb@cC^aCTqA\\\\wBJk@?CJg@?A?CF]BKJk@Jm@Lk@VqALo@@CFYDQFW`@eBXgAh@mB`@uANc@Pi@@GXy@HS\\\\aARk@Xq@Xu@`@aADMh@kAx@cBXk@Ra@Tc@zAsC|BcELU@AFKP[\\\\m@NYFKn@oAZq@@Az@kBJYf@oAL]Ri@Tm@HWHU@CZ_ANk@J]J[@CVaAR{@@CFWFS^cBNy@Lm@Ha@VyA@MXkB@IN}@BOD_@b@yCJo@L{@BKBOF[Ny@BELm@Nm@X_APe@Pg@Vk@Xk@LSNUZa@BERUDGHK'},\n",
       "       'start_location': {'lat': 41.632574, 'lng': -0.9812928},\n",
       "       'travel_mode': 'DRIVING'},\n",
       "      {'distance': {'text': '214 km', 'value': 214099},\n",
       "       'duration': {'text': '2 hours 0 mins', 'value': 7196},\n",
       "       'end_location': {'lat': 41.2694284, 'lng': 1.5332885},\n",
       "       'html_instructions': 'Continue onto <b>AP-2</b>',\n",
       "       'polyline': {'points': 'q~~|F|sgC`@k@r@m@TQRO\\\\Yd@Yb@YBA`@UXQLGpBaAlCsA^QNI|@c@bAg@^Q~@e@RKpCuAf@U`@S^S~DmB\\\\Qh@WVM~@c@bAg@FCXOZOl@YnCoATKzBaAn@Yj@Ul@Wd@SdAa@p@WxE_B~Aa@t@U`@Kz@UHCrAYt@OLCLCnDq@z@MREhASp@Kd@IRCHA`@G|@O|@Mv@Mx@Oj@Kn@Ol@Md@KHCj@M~@W\\\\Kn@Ub@O\\\\M`@Oj@W\\\\OTKf@W`@Sf@Yr@_@LI^UJGRMj@_@b@]t@i@VS^[TQRS^]RQ?At@s@dAgAZ]RU`@g@f@o@`@k@\\\\c@x@mA`@m@`@s@R]NUj@gAb@{@Ra@Tc@\\\\w@Ti@Pc@BIN]HOZ}@Ri@^iA^kAX_AZmAPq@DQNm@H[Lm@Je@RgAJi@RgAHg@RkAHi@Hq@BMLeAJu@Fe@RuAZ{BJ{@@CHi@?EHi@F_@@KNaAPiAJk@BKF_@@GDU`@sBLm@H_@@GJc@F[DOLi@?APs@J_@Nk@Rw@Ru@j@mBl@iBp@mBn@gBZw@Xo@r@cBb@}@FMJWHMh@iAXi@f@}@R_@T_@f@{@l@aAh@y@h@y@PU^i@TY\\\\e@^e@j@q@n@u@l@q@XYX[VW`A_APQNOr@o@z@s@`Aw@pAaAXSh@a@pByAROTOdBqA`@Yb@_@jA_A^[d@a@z@y@b@e@HGX[RUt@{@TYb@k@p@_APUHILU\\\\g@DEf@y@\\\\k@`@s@`@u@Zm@\\\\q@\\\\u@NY?CLWXo@L[`@cAXy@Tk@\\\\eAJ[BGHWPm@T{@Po@ZmATcAViARcANy@Nw@Hk@Jo@LaAL{@Fi@De@Dc@LgALyADk@HgAJsBDcAB{@B}@@y@@U?O@_@@k@?cA?[?[?WC_BAaACgAAWE{AGeBEqACa@Ce@KqCAUAc@AE?KA]GaBCu@CyAAc@AQ?q@?g@?g@?iB?A?g@Bg@?WBu@Bs@FkAFcAF}@@MBWFs@Fg@LeAHo@Hi@Fe@^yBJg@DUNu@TcARw@Nk@Ty@X}@Ts@Vq@@EL[Tk@`@cARe@Vi@LUVk@b@w@R]x@uAj@}@z@sAHIpAkBZc@zAwBRYTY|@qA`@m@X_@^k@T[h@w@NUXc@d@u@n@_A?Ax@sABEb@u@R[l@cAh@cANWd@}@NW\\\\o@b@y@b@y@\\\\q@d@aAh@iATe@Rc@HQFORa@Re@`@aAJUVi@n@_B\\\\{@Zq@z@{B`AkCp@kBHUbA}CrAkEh@kBXcAPq@Pk@n@cCZoAp@sCx@sDPy@d@cCbAiFt@_E@CZgB^wB^sBJk@DU`AiFj@wCBMl@qC^_BRu@VcAJc@n@{BV}@Ng@Pi@|@oCHSBK\\\\_A@EBEFQFQ@C@ARi@Pe@r@cBTi@j@uAVm@b@aAx@aBv@{Ap@mAHQv@sAVe@|@_BvAkCZg@|@eBP[n@oAVg@Te@Xq@Pa@JWb@gARk@Xy@FMRo@ZcA@CNc@Ru@Ty@Lc@Ja@No@H_@Le@Je@H_@R_AVoANw@Je@F[Jc@Je@Lq@H]b@uBNq@HYH]Jg@Li@Pk@H]\\\\eA\\\\iAJ]@E?AL]Nc@^cA`@gARe@Vm@Xq@`@_ARe@Re@\\\\{@Pa@^y@Ti@`@cAZu@BGf@qA`AqCZeARo@Po@J_@XgALe@XkARaANw@\\\\kBRuA^wCP}APaBJiALqB@KFiAFyA@m@FmB@u@@kA?q@?mA?w@AcBAo@CmAGmBI}ACi@IkAGq@IiASoBIs@WoB]yBYcBY}AWiACOKc@a@_BU}@i@mBIYQk@Qm@o@{BAC_@oAGOc@_B[gAI]Ok@AEU_Ac@kBYuAUgAOw@Km@QmAIg@Ee@ESCYQwAMkAEg@Ek@Iw@?WE]Gu@GgACk@Co@CkACcAAa@?YA_A?}@?kA?q@BoA@}@B{@@g@F}AFoAFiA@ABk@D_@Dk@Fw@NyAJ{@Jw@Fc@Ho@N_AJk@DYJm@DOF[R_AZ}APq@d@kBTw@r@}BBG?An@iBr@iBd@eA@GXi@Zq@f@cARc@FKj@iAn@oAj@gAd@aAb@aAh@iA`@y@b@cAj@uAz@wBDKDOJW`@kA^gA^mA\\\\gAh@mB\\\\sAXkAH[ZwAP}@VoALq@ZgBHi@XcBD]BMBK@IHg@Fa@Hk@Hk@BSHe@~@mGF_@b@oCHg@He@VwAHg@He@Ji@Hc@Lo@?ALk@DULk@TcAJg@H_@XoAJ_@Li@Le@Lc@@EJ_@FWDQb@yA\\\\oAPi@Tw@Ro@Ne@Ne@Nc@f@wAPi@DIPi@L]HSHSFMf@oAPe@p@aBRc@`@cAPa@LWP_@Vg@Te@HOFKVi@Vi@v@}Ah@_Ah@aAR_@\\\\m@\\\\i@LU`@q@PWFKJQT_@T[T]T_@Xa@Xa@b@o@T[j@y@Xa@JOLQ~D{FLQPWb@q@hBqCt@sAt@sAzAuCjAiC`@_Aj@wAh@}AFQFOL]N_@b@sAj@kBX_Al@}B`@gB\\\\{AJe@ZyA^sBPcAD[@AHk@?AF]\\\\iCNmATqBHu@Fi@?EPqBHiA?ABi@@C?AFiAJyBHkBFmBF{D?U?y@@w@AaCAeBCgBCaAGoBEsAEoAIsAImAMaBG}@MoAKiAQaBK}@CSGg@Im@QgACSIg@a@aCIg@Ie@Ia@WmAm@oCc@oBI_@Ia@Qu@Qo@]{AMi@i@eCGS[}AKm@Oy@O{@Gc@Ii@Ik@Kw@SeBEc@I}@CWIu@C]Eq@Cc@EkAAK?ACw@EiACg@Am@As@CiB?gB?kBBsADiABw@X_GB[Bu@@UD_@Hy@LyA@KL}@@QHm@T{ABQPiARmAJm@\\\\mBHi@VuAb@gCJo@Jm@?APeAHm@DWNgAFe@DWBUBW?AHk@?CFk@J}@Dc@Di@Fi@BYDi@Ds@BYT_EBe@JqCBuA@o@BiA?Q@yA@iA?m@?{@?kB?iA?aAAwD?I?K?IAcA?eA?cABkDD{B@gABc@BeABq@@YBo@Be@JkBBi@HcAJmADa@p@{GFo@De@DYBWDUHw@@ED]Hw@@IJ_A@I@IFk@Da@@OHq@Fi@@UDa@D_@?EB[D_@B_@Dq@B[LwB@i@@S@g@B{@@k@?aA?y@?]Aa@AcAAm@A}@Ag@C}@Cu@Ao@C_@Cq@GaACg@Ce@Gs@ImAO{AOuAQwAUaB[mBIa@WuAOu@S_ASy@e@gB_@oAg@aB]eA]cAUk@u@mBe@iAu@gBIQKUUi@eAaCa@_A]y@k@wAc@kAi@{A]eA[cAa@yAWcAAIK_@CKOs@Om@ScASiAQgAKm@CMOgAGe@Gc@Gc@KiAIw@I_AAA?GMgBG_AGkAEkAEwAAe@CgAAcA?s@?g@?c@?e@?c@?e@@e@@g@@c@@e@@e@Bg@@U@e@Bo@Be@B[Dm@@[Fo@De@Ba@De@D[De@Fi@Da@Hk@Fe@Fc@Fc@L{@TmAHi@Jc@Hc@Py@@EJi@Ja@Jc@Ja@VeAVcAtBcIRw@Lg@VcATeAT_ATkAReANcANy@Hq@Fc@Fc@Fe@Fc@Fc@De@H{@Fq@@CHeAJiARsCRkCTuCJmADe@D_@@OLgALiAJ_AJo@XkBN}@Jk@P}@^eBLk@VeAJ]Ps@No@La@Le@f@gBXaATw@V_APm@T}@XgAb@iB@CLm@Lk@TgAReAJo@N{@Jm@Fe@DYNiADg@NmAJgANoBDm@HcBHwABy@@q@BkAB}@?s@@e@?q@?M?s@?g@AkACaAAo@EiACaAGmAGkAIoAGk@C_@MmAQiBIm@Gi@K{@Im@O{@Ko@Ou@AEWsA[wAAEMk@S}@WaAWeAWeAYcA[mAMc@Ka@Uy@Su@c@}AYeASy@YcAOk@WaAq@iCc@gBOm@]{Ac@eB]cBUgAUiAKg@UgAIc@[gBKe@Ie@g@wCG]OgAIc@Kq@CSM}@Kq@Gc@Ge@OcAUqBGg@[kCEa@UwBEc@KgAKmAW_DGy@Ek@Ec@Cg@C_@Ek@Cc@Eg@?ACg@Ca@ASAQCe@Ce@Ce@Ce@Aa@Cg@Ce@Cg@Ae@Ce@Ae@Ce@Ae@C}@Aq@Cg@A}@Cs@?e@Ae@A}@As@AkAAkAAuB?iA?eA?i@?k@?c@?g@?Y@o@?_A@q@@]?m@@g@@[@k@@i@@{@@o@BcABcABm@@i@D{@@q@D_ABm@FiAFkAFmAJoBLwBNmBNoBHgAJgAHgAFm@JgAJ}@Fq@Fc@LiAJcAHk@LgAFc@Fc@Fe@Fc@Fe@Fc@Fe@XkBPeAHg@XiBJg@ReAZgBReAReATgA^gBh@cCNm@TcA@APw@XmAb@}ANo@Lc@Ja@Nk@HYDORs@Tw@Pk@La@Vu@Pk@BMHUNc@J]Z_A\\\\_Ar@yBp@mBXw@Zw@t@qBj@}A`BsEBG`@iAj@{A\\\\_ANc@\\\\aAL_@@EJ[V{@\\\\kAd@eBH[Lg@XeATeADSZsABSLm@TiAP{@RmAPoAVcBFg@Ju@Hu@Ho@JiAPoBDa@LgBJwAJqBLoCFsB@m@@e@@gA@sA?iB@e@A{BCqBCqBCcAEsBEiAA_@?YA]Ca@Ak@?EGuBC_AEkBEuCC_C?q@?m@?iABoB@qADyBFqBF{AFeBBc@@WRsEHiB@Y@[B]@S?S@_@Bk@Bu@FqAB_BBk@?S@s@?kA?y@AeA?UAe@A}@As@?k@CkAAi@C_@A[AYCy@AUCk@AOCi@I{AEm@Ei@?KGq@Gw@E_@Gq@Ek@MuAK{@MmAGe@Iw@Iq@K_AGa@MkAO{AK{@Gu@I{@I}@C]AOIcAIiAAMEq@GcAEs@?ICYAk@Cq@KwD?]Am@A{@Au@?]?M?a@?A?y@?q@@gA@oA@{@B}@@UBeADqADkAF}AFaA@SBi@HyAJyBDs@NqC?CJaC@S?KBa@Bo@JyB@q@@O@w@BeA@[@}@?c@@g@?WAU@mA?i@AuAA{A?QCmAC_AEkBMgD?A?QAEAe@G}AC]AWKoBI_BGcBIyAG_BEkAMmCG_BGcBIsBAm@AO?_@EkAGuDCyAA}@A_@?KAiBAqEA]@oD?Q@gCBoB?YFmD@w@@O@_@?O@c@@]@UBw@LwDPaE@Q?OJoBTsD@KDk@JaBB_@RaCVwCTqCTuCLwADg@RwBJoAPoBH{@L_BV_DP{CJ_BDs@Bm@LiDD{AB}ABo@?ABoB?c@@u@?G?s@?iB?U?q@A}AAaAAu@CkA?]A[A]EeAAS?MCm@Cg@EcACo@E}@Eq@GcAGs@Eq@Es@KiAGs@KeAIw@AGIy@MkAAGSaBSyA?COeAU{ACKSmAQcAIi@Mk@SgAYwAUeAYmA]sAU_A]qA[mAQk@GWEQOc@Sq@]gAIYSk@Uq@Si@IWO_@Oa@ISKYEO_@cAWs@Sc@EK]y@ISWo@e@iAEIO[Q]O]IQ]y@g@mAYq@EMIS]w@_@cAGO]_A[w@Oe@Y{@A?IYOc@I[KYW{@EOIYI[ACOk@K_@EQEQGWQo@YmAMm@Ia@Mo@CMOq@]oBEYO}@QiAQqAIo@COCQAMQwACWSoBQwBO{BAUCY?AIaBEy@GsBEmAAm@A_@?MAc@CeC?G?aA?mA?]AYBu@?K?O@W@a@DqBDiBBq@FmABo@D}@@[FgAB]X{DFs@Bg@HkAPwB^_FFgAFy@Fq@F}@PsCDcA?AHsAFqADuADiA@u@@O@UB}@Bw@@iADiC?W@i@@sA?W@e@@sA?w@?U@O@cA?]FwO?E?K?K?M@c@@MDeB@o@FaB@m@B_AJiCBi@Bu@Dq@?W@Q`@aGBU@SRyBZsDBQD[@MHs@?AHs@@O@MPwAVoBJq@V_BFc@`@iC\\\\iBPcAZyANu@Jg@Lk@H]Lk@@GNm@XmA`@_BH[p@iClAeETw@J[d@yAX_AV{@z@mCBGbAaDBGBIDIRq@@APi@d@{AX_AZgA\\\\kAZgAh@qBd@kBd@mBn@wCViANu@Nu@X}AV}AXgB^_CL_A\\\\cCNmALiABSDYLoANwANeBFo@LiBRgC?CLyBJsBDo@@I@e@L{CF{BBuABoB@k@BeE@}D?o@?IAe@CgDEiDC{AE}AM}CGsACo@Ew@C_@C]GmAAKK_BAIEi@Ei@?EOiBE[OcBOwAC_@E[OmA?AIm@AOM}@OoAM}@OgAE_@G_@W_B]sBG[Km@_@{B]oBy@wEG]YcBYeBg@eDSsAUqBUuBOqAC_@Go@CWGu@G_ACUKmBCy@C]E_AAg@EiBC}AA_@CsC?KAm@?{A@eA@kA@sAD_BDgA@g@FsAN{CLcBZ}DZ{CPuAB[\\\\eCp@gFZuB^iCZ{B@KBSBU?GDWBKZaDJaAHkA@EDg@?CHmAFmA@YB{@FuBD}B?eEA{AA[CsAE{AKqCIaBCm@SqDQoDC[Co@Em@EoAEoAEqACmAA}@?A?cA?qABkABqA@[@e@Ds@Bs@HkAHoALyAPqAJ_A\\\\{B^oBVkAXsAVaAZgAPi@Vw@L]DM\\\\_Ab@gAb@eA`AyBz@iBv@_B`AuBDI@CLYVk@n@aBb@iAXy@l@iB\\\\mAFWd@iBTaA?ATkATmALs@N{@RoAHo@LgAJ}@L{AHeAFy@Dw@@UFwAD_ABeBBwB@uA?aAAyA?IIoCG{BIsAGcAGw@MmAQcBAEGg@Io@]_Cc@oCSqAMw@Kk@G[EWEWa@aCg@_D_@yCOqAU}BIy@OcCOcDAQEiACsACyB?w@@uA?u@BwBBsAHyBJkBJ_BHaALyARmBRcBn@kFf@cEVyBDe@BQf@_FReCHaAFy@JiBJyBF_BF_C@SDuD?e@?c@?kCA_AC_CE_CI{BA_@KaCC_AQ{CIkBEq@?AW{ECg@[aIAWAm@EmBAk@AkACuAAaA?c@?c@BoC@_BBs@HeDLcCB_@Bo@?CJ_BP{BFw@Hq@@IDc@BQPgB^qC@IHm@Jq@ZiB\\\\oBVkAJe@b@uBP{@d@sBH]Nm@`@kBFUDMH]Jg@Pu@j@mC`@{BTkA@IN{@@I`@uCZuCN{AT{CFqAHqCFwBD{B?iBAqBIwDG{BIwACm@AOCWIqAKcAIcAW{BKw@OmA]qBUwAOu@[}Ag@iCKc@s@cDMq@Mm@AESeAIc@Ms@Kk@U{AS{AAGM_AE_@Gi@MoAMqAMuBEk@?CCg@Cg@Cm@EmAAw@C}@AiAA]?eA?cA@kA@Y?Q@]?Y@U@_@?O@g@@GBk@Bs@@OB]Bo@@MFgA@IH}@NaBDi@@GLeABOL_AHw@@GDUF_@BSRqAH]Jq@DQF[F[b@{BLk@Jk@DQNs@Nu@Nw@H]Lo@TmAPaA?ALw@XiBT}AD_@Fi@J}@NcBBOB]@QHaADw@HaB@O@M@Q?OBk@DqA@{@?E@o@?M@a@?]?o@?I?aA?u@A_@AmAAo@AUC_AEcAEu@Co@C_@AMEu@G{@Gu@Ec@I_ACOEe@AGUoBKu@Ii@Ko@QaAEW]cBUeAOo@Qw@Ok@Qu@YcAIYUq@So@Yy@Sm@EKk@{AGOMYYo@Ui@KUO[GO_@s@GOg@_AIO_@o@S]OUc@q@MQk@y@GKw@gAu@aAg@o@OOEGGIcAmAw@aA_BkBKMcAqASUEIGGMO_@e@SWqAeBi@s@KMIM_@e@k@y@MSeAaBMQc@q@e@y@KSm@cA]k@[i@GMq@mACCSg@KUQ]CGGIIQGOKSs@}A]q@Yo@IQq@}AUi@]y@]y@Sk@]{@a@gAy@gCGMMc@g@_BW{@GSM_@u@mCs@qCSu@YmAOk@YoACQMm@?AQ_AScA[iBW}AQsAM{@MeA[yCMmAIcAMiBCc@MyBCo@AMGwAEqAEaBCgBAsAAqA?g@?iB@oABiABgBHeCDkAHaBFmAJyANqBJgAJeAVaCNmAXsBVaBD_@`@yBRaARcAR{@Hc@T}@b@iBHWFW\\\\mAV{@XaALa@JWVw@f@uANe@JUf@qADKf@oAl@sAN[r@yAHOTc@LWXi@`@s@d@u@HOLQVa@fAcBDIR[h@u@t@eA`BoBhAsADEZ]`AaAj@k@\\\\[TUTS`@]BCNMFGVSPOHGXU\\\\YJI@?\\\\Wl@e@z@m@t@g@~AiA^Wf@]JGROb@YDGRM|@s@LIZYb@]RS^]^_@^a@Z]l@q@l@w@r@aAt@gAz@uAHOh@aAh@eAPa@h@kA^{@Ri@^aAf@_Bb@{ANo@HWH_@T{@F[Lg@ViAJg@Nq@VuALq@Ns@Ja@Pu@Pw@Ja@H]Ng@ZcADQL]Vu@Pc@`@iAVk@LY^w@LSJUf@_A^u@Zm@\\\\m@h@gAHOHQLWd@gA`@}@d@mAl@iBXcABKDMBGBMH[Nq@Lk@Lm@Jg@RiAHk@Hi@JaAFe@?CJeAH}@HiADy@HyADu@FkA@a@JiB@WB_@B_@Dk@Fq@?GDe@Fe@JaAHk@Hg@Fc@DUDWHc@BOTiANq@J_@Ps@ZiAPg@FSTo@Z{@Vm@L[Pa@BGd@}@JU`@s@P[Zi@\\\\k@PYd@o@h@o@r@y@z@_AHITUpCuCrAyAZ_@RUjAyAt@eAHKFKPUFKJOT]p@mAXi@LUr@yAHO@EP_@JYJUHQBIL_@FOL]\\\\aATs@DONi@f@iBPs@Lm@ZuALs@\\\\sBPsANoAJcA@MLkAFiAFaADw@FiBBkA@eA?M@kA?o@AoAA}@CsAEiAEy@Ew@AUASCWAYI_ACWMsAO{AOoAWwB]{CSoBOiBIoAAQIkACs@?GEcBCe@?U?K?MAU?S?_AAm@@g@?eA@e@BcADyANiCBa@Fw@Dm@Fe@Di@@CJaAFc@Jq@L_AReAHg@Jg@b@qBTaAFUFUH[L_@Pi@ZaAHUZ}@Rg@^}@BKBEN[dAwBVi@R]HM\\\\k@\\\\m@f@w@Zc@d@u@j@{@^m@NUt@kAXg@p@iAr@oADEp@qAh@iAh@kALWDKr@aB^eA`@iA\\\\gA\\\\gANk@BGFSBOBGZsAZsANs@Jc@RcADSNy@RqAPmAPqALgAHu@LoAHqAHgAF_AFmABo@@[DsABcA@y@BiA@q@@aA@yA@oABuA@aAB}@?o@BkA@wABs@BuABiADyADkAFmAFqAFeAJcBFkA@IHsAJqAJsA@IJcAJgALuANqAD_@Ho@NsAR{ATaBVyARqABKLy@?AJk@He@TmATkAVoAVkAVkAVeAR}@@GNk@BIXeALi@BGRu@@EPm@Ty@FQLe@j@iB\\\\eAVw@h@}A?ARg@JYJYPg@d@oATi@LY\\\\}@b@cAb@cAd@cAf@kAr@{Ad@aAh@kAd@aAh@gAp@uAZs@\\\\u@b@aABEb@aA^}@Vm@DKRg@BIDMZw@J[Vq@@EPg@FO^mAPg@XaAPo@Ty@Po@VcALk@T_AP{@R{@`@{BVsARqAPqARoANqALiANwANuAJmAP{BBg@TaDLeBFaAFs@LsBLmB@MLaB@WJeADe@T{BNaBRiB@GP{ABYRwAVoB\\\\yBTsAZqBJq@F]`@qBNs@Nu@\\\\}AXmAPw@DOFSTaA`@aBXcAj@oB`@sAb@uAb@yAZ_ATq@j@eBn@mBt@wBZ_AHUPi@Ro@l@gBX}@Ne@@Cb@sAj@gBl@oB^mA\\\\mAh@oBh@mBVaA\\\\yAb@eBPw@T{@\\\\{ATiAVkAZ{AToA`@sB`@_CTuAFc@F]@GVyABUt@kFDYBSBQ?GZaCd@aEFg@?GFm@Fe@@KFk@VsCX}DNeBXaFRoDZaJLuELiGB}HAiJCmCAcAG}DAk@OuEAk@U{FW{Eu@oL[yEGo@?AC]OuB]wESiCOyCE{@IyAEkACy@CgAAm@Ag@CkA?AAaC?w@@_A?a@?o@@i@@y@BqBDeA?A?Y@S?ADeAHeBJqBDm@Dk@?CFu@BYLwABWBS@MFk@P}AJ}@LgABOHe@BQXeBTsAr@oDJg@b@kBF[~@oDd@_BPm@fBoFf@wAx@cCL[Vw@l@eBf@cBb@aBJc@b@uBh@iDR{AD_@DWLgBNoBDgAFwC@sA?WCwB?e@AIAUAs@MgCC[AKEk@Ee@Gq@CQWsBES[{BWgBU_BK_AUiBCWK}@?GKgAE}@Eu@GyAAg@A_AAsA?s@?E?o@?_@@{A?eB@}@?sCAk@?YAq@ASAe@Cs@Ae@Ew@MiBQmBMgA?GQkAAGOcASmAkAyGOaA?EKm@AKUkBKaAKgAKsAIcAI_AO_CCYCUQcBAOMgAQqACMSqAOs@WqAOm@_@}AACQm@k@eBm@cBu@eBk@gAmAuB}@wAU[U[sBuCk@u@[a@c@o@k@y@o@cAQYS_@g@_Ak@eAQa@c@{@MWk@iA]q@AAm@iAk@aACES[W_@a@m@W[u@aAu@y@KKy@y@oAeAa@[c@[s@g@GCWQMIo@[c@UQKo@[o@[QI_Aa@cAe@GEw@_@AA{@e@CAAA{@g@CC_@Wu@i@_@[aA}@IGYYeAgAg@o@[a@[c@s@cAWa@CE[i@OWS]Yk@MYe@eAM[M]EKSg@Qe@So@AEUy@_@sACKCKKa@AIS{@Q{@AEIe@GYQ_AESSiA[eBMi@I_@Ia@e@sBQq@W{@Ok@Sm@Wq@Qg@KUAEM[Wm@i@gA[m@?AEGUa@ACWc@[i@KQe@u@w@iA}A{B[g@U[OUWa@IMMUGIQ[EGSc@S]c@{@Wk@Uk@a@aAQg@GQGSIUEMGSCGCMQg@Mg@K]i@oBOi@Mk@Oo@Ka@Mg@ESEQ[uAQw@q@wCMk@GWESSaAOu@Mq@Ou@Kk@AE?GAA?CKa@UuAIg@EYACIe@a@{CKy@Ks@I{@SiBI}@Gm@AGIy@CYW{DAOEu@KoBM}CK{CAw@E{BCoAAqA?sA?uB@}@?y@?G?Q@S?e@@e@@q@D_CH_DBwALqEDsB@]DcC?U?w@?A?iAAqAAg@CaACaAEiAIwACg@Eg@QqBMqAWsBSwASkASkAa@qBc@wB{@_E]kBKk@?Ac@eCEYWuBOoA?GSoBGkAEa@?MEo@A]AQCo@Cu@EyB?}@Ao@?MA{CAmDAwACuBCoBAm@?KCo@Co@?UGiACm@IsAQyBQmBOsAIq@Ga@OgAIi@]uBG[ScA[cBm@{C_@iBa@uB[_BW}AIe@SqAIi@OiAOwA[_DOqBKyBEm@?SE_AG{BCcDC_D?mEA}AAgCAe@CeCEuAIeC?ECSAUAWSaDC[S}BOwAIk@?ASuAYmBMw@WsAMm@Qy@S{@Kc@Qo@Mk@[gAQm@Og@K]AC]aA?Ac@mAYu@Qc@_@{@{@mBi@eAUe@ACi@aAu@oAWa@]k@m@{@Ya@_@g@i@s@W]eAsA}@kAa@e@oA_BAAU[s@}@_@g@MSm@y@S[w@gAy@uAgAkBWc@Uc@Q]Ua@Yk@a@{@u@cBc@aAs@iBq@kB_@aAu@{BIYc@wAq@iCQs@[qA[wAEQi@oCO}@CM[gBM_AKm@Gk@AAGg@Im@OsAIu@O}ASyBKuAKsBI_BIyAEsAIwAAm@OkDGmAOuCGaAG}@IkASsBAOIo@OiA?GAGCO?CM}@Kk@Km@Ii@Km@WmAWoASaAQs@Om@Ok@Ok@EMACe@eBy@sC_@qA[gASs@K_@Mc@CKg@qBYmAWiAMo@c@wBM{@G_@Ko@?CIm@M_AQuAe@}Ew@cJKmAAGGo@KaA]_DKs@Im@EUEWKm@Ko@WuAG[e@wBWiAOk@c@cB_@oAGOOi@Wq@Oc@Qe@Qe@Oa@Wm@MYKWsAuCIOe@_A}@gBCGUa@ACIOIQACS_@ACUc@Uc@O[]q@i@cACGQa@ACA?Qa@O]e@eA]y@]{@[y@Qi@AAQe@GUIUOe@Og@Me@I[I[K_@CIYkACIi@eCAIIc@UmACKGa@Ko@UyAc@eDIk@[aCQuAIu@Ge@QoAM{@Kk@COE]CMAIUmAG_@[{AYoAAGKe@Qo@I_@g@gBQq@IWIUQg@Ma@Sk@_@cAs@gBo@wA[q@Q[Ym@i@cAS]CESa@q@gAa@k@m@_A[a@aAsAq@w@m@o@UY]]CEUUi@i@OOu@q@o@k@GGSQc@]OMQOm@e@u@i@c@[w@i@u@g@o@a@A?k@_@]UYQq@a@ECeAm@}@g@KGu@c@kAo@i@Ya@USKq@_@WMo@_@c@Uc@WAA]Q]SMGi@[g@YWOq@a@s@c@SMSOg@[y@i@o@a@iA{@IEk@_@YUc@]{AqAIG][g@e@{@y@iAkAIIY]A?UWCEA?]c@i@q@{@eAmAaBo@_AeA_B]k@QYaAgB]m@Wg@g@cAk@kAm@sAa@aAe@kAQa@Wq@EMGOEKEQSk@CIc@qAo@sBYeA[mA]sAWcAUaAUaA[cBQcACK]qBG_@Iq@Km@Ks@Ky@SeBCWGi@Go@Ee@Gi@G}@AK?EKqAIoAEcAGmAKkCGyB?i@Cw@A}@AeA?{@A_A?y@@oB@aCBaC@w@?IB{@FwBBoALcDJiC@SB]PsDHoAJwATaDVcDJoA?CFk@TuCZ_DXaDN{AdAuJD]@O~@qIb@iE?CHm@?GFc@D_@^mDDc@Fo@BSBMFs@H{@@QFm@f@wFFw@TsCJuAPaC@W@QNeCJmA?GDg@DaATeFJ}BFaCFaBFkCDcC@]@u@@sABsA?O@wB?O@q@?kA?_@?C?wA?qA?qA?g@CeDCwA?K?i@CeACuBG_CCw@Cy@EeBA[ASKuCOaDGkACk@Cm@ImAIoAUgDIsAEg@IaAMyAEg@Eg@QsB[kDO}AC[CS[aDI_Aa@cEUeCQcBGu@[cDMsACa@OiBOkBCOASGq@Cg@Ee@C[C_@G_AUeEIyAC]?IAGKcCG{AIiCEkAAS?CGsCAWEiBCcBCoACy@Ae@?C?_@AYAu@?a@?A?MCwBCcH?]Ai@?y@C{DE_E?ICqBCoACaAAi@ASCcAA[AMEmAIyAGsACUAYGy@YcEGk@MsAC]Gi@OsAUsBIk@a@yCMy@Km@CQSkAAE]oBa@sBESMq@[sAUgAK_@e@kB?Ac@cBI[K_@Y}@Su@Qm@c@oASm@M_@_@gAGQGOYw@y@sBq@aBMYi@oAO]EGSe@Ym@c@_Ay@_Ba@{@CCMYEGUe@Q[CG]q@g@_Ae@_AWg@w@yAc@y@w@}Ai@gAQ]Yk@GOa@{@e@cASa@Q_@?AUg@IQu@cBe@kA]{@]}@u@uBGQa@kAEKm@mBCIg@_Bi@mBg@iB[oAg@oB]}AAGKc@Mk@i@oCWqASkA]mBc@yCQmAYuBOsAMeAAKOwAOaBW}CQyBMwBM{BCe@Ck@IsBEsAKqEC}A?[CqCAmB@uC@qA@qA@oABqABqABe@@i@DqADoAFqAFoAHoAFoAJqAHkAJoAJoAJgALoAFk@JeALkALiAL_ANoANaAPgAFe@He@N_AZgBTeATiATeAFWJi@Jc@@GRy@T{@f@mBVaAXaAX_ABEL]^sAf@yA@GTk@Tq@L_@^eAZy@?AXu@Zw@Tk@b@cAb@eAZs@Xm@Zq@^w@j@kAp@qAJSFMf@}@h@aATa@R_@h@_A^q@PY\\\\k@d@w@v@wAv@sABER]R_@Ve@f@{@d@}@R_@`@w@Xi@b@}@Xm@JS`@}@Re@BIXo@Tk@L[LYHS?CFMZ{@Na@Xw@Ne@Vw@\\\\iAb@aBNk@Nk@\\\\sATeAb@qBb@wBF]h@yCh@yCd@yCd@mCN{@Ny@d@cCPy@VmA\\\\uAFYV}@Po@b@yAd@wAn@cB|CcIVm@JYh@sA^eA`@gAd@{A`@sAVcAZoA\\\\wARiAToARuANkALcANaBHgAFaAFiA@GDqADgBBqA?o@@uAAcAAkAAu@EqAAOC_@?OGoAG}@CWGaAE_@QiBS{AOeAM{@UuASsA[kBe@qCQkAO}@Gi@Ic@AKE_@MkAOuAKeAEm@COEo@AOKiBEu@EeACq@Ac@?ICe@Ae@A}AE}CCyCAuAAsBCuBCoBA[GuAAQCo@AUAYGeAKeBOgBIu@AQQyAOqAIi@Ga@CKAMUwAG[G]Ow@AKQw@Ou@YsAK_@G]Ok@Mk@Ki@EQKe@S{@Q{@q@aDGWOu@UoAI_@UoA]qBSuAAEIm@CWOoAUmBOsAC[AGEe@AMC]KsASeDCe@GqAEmACo@CgACqAAq@AiAAqA?S?q@?K?a@?A?m@?q@@]@k@@mA@g@@i@@EBqADgABc@Bo@?GBg@Be@TeDJoADg@LoAJaAHs@Fe@?CDa@Hi@Fe@NeAJo@PgAHg@?AHg@FYBKHe@Hc@VmAJc@TeALk@T_AFSRu@ZkA@CLe@ZeAL_@\\\\eA\\\\cA^eA\\\\_A@EFMHSHSFQJUTg@?Ad@eA`@}@d@aAR_@P]Xi@JSJQn@iA|@{AVa@HMVa@BCXc@T[BELS~@mAt@aANS^e@Z]?Az@cARUzAgBRU\\\\]fAmA@AX[Z_@dAkAf@k@j@q@l@u@\\\\_@TYj@q@V[h@u@\\\\a@b@m@Za@T[f@u@V]h@y@`@m@r@iAZe@LUf@u@Ta@\\\\m@\\\\o@\\\\o@\\\\o@x@_Bv@_BN[^u@h@mAh@kAf@oATm@p@eBFOb@kAb@kAb@kA@EZ_A^gAXcAl@mBh@kBf@kBJ[BM^wANm@p@eC`@_Bd@mBDOh@uBRw@^uAVaABMJ[Nk@Ro@@EJ_@XeAZ_A?C@?Le@@CJ[Lc@Z}@BG\\\\eARi@?AL[\\\\aAL[d@mAr@gB`@}@^}@BIP]P_@b@aAb@_A~@mBp@sAv@wAj@aAJSXg@j@_AjAkBDGJOFKVa@LSDEf@u@T[xAsB@?V]|@mARU@ANS`@g@@?xCoD`AiAnAyA@AdAmAf@m@Z]v@}@t@}@NQPQv@aAhAyAjBgC@Ap@_APWpAsBVa@V_@Vc@LQ\\\\m@bAgBx@yAFMfAqBt@{AnBiEv@iBn@}Ad@mAjBgFd@uAt@}B^oAf@eBHYV{@`@}AZmAZuA?AH[ZsAR_APu@P}@\\\\gB?CLq@TkAV}AN_APcARyARuAHs@X_CRaBJaAFk@H{@Fq@TiCJsANgCHmAJcBBm@DcADeABu@FuADaBB{ABgA@qABmA?E?eA@y@?sA?iC?u@Ao@C}BAoACsACqACk@KaDEaAA[Ck@GmAKaBKyACg@Ec@ImAIcAIaAMuAKiAUyBUiBMiAAES}AMy@QsASiAKq@[qBEQKi@[_B?AOw@WmAScAEOKi@Om@Kg@_@}AOm@GSm@}BGU_@uACEa@wA]gAUu@Qi@_@gA_@gAWq@_@eA_@cAe@sAu@qB}@}Ba@cAa@gAe@oAg@wAQg@Ma@Wu@Og@o@yBWaAWaAWgAMk@EMCKIa@?CGYQ{@Kg@AIQcAIe@G[Im@EYCMCME_@EWMeAIs@A?Iw@KiAIy@I_AIeAAGGeAEs@GyAAQ?ECi@ACCmACy@Am@CmAAkB?IA}@?m@@eA?aA@q@@q@BgA@M?GBs@B}@FmALmCBQDy@JsA@GF}@@EL_BZcDLyA?CPsBB]Fi@Fu@Bc@LkBBg@F{@FwADo@@i@DuABi@D{B@wA@oA?O@G?g@?G@iB?cA?aD?u@@}D?eC@{B@c@@cBBoBBcA?[B{@DeBFeB?CDmAHiBLaC@IBe@@IFmAJwAHeAHaAPoBLsAFm@RgBDYPwAPsAJu@`@uCRqARiATuANw@DS\\\\gBd@aC?CHYXuAPu@ZoAF]`@{Af@mBt@mCn@wBZaADKPi@p@qBn@gB^cAXo@Xw@|@uBTi@p@{AXm@Tg@Vg@P_@\\\\q@JUr@qAn@iABG\\\\m@T]HMJU|@}AzBcDnAiBj@{@^e@\\\\e@n@w@Zc@rBcCHIPSDG`@g@Z]DETWLOFGLOPUh@k@LONOJMx@{@FIn@q@LM\\\\_@f@k@dAkALMj@m@j@q@@Ab@g@FGTY\\\\a@HI@CZ]FIfAuAT[TYBEDEX_@@CV[j@y@`@i@Ze@T]Xc@HMHM@CXc@R]DEv@qAd@y@Xe@NYFIDKb@w@Vc@Ra@DITe@j@gA|@iBDIx@cBjAkCv@cBp@wAPa@P_@|@mBDKTe@|@kBl@mAf@cAP]f@aAx@{A@AXi@Vc@Va@R_@T_@@CNU|@wAFIZi@d@m@R[NULUR[j@s@@AZc@t@}@x@eA^e@z@aA`AiAd@i@hAkAZ]\\\\[DGhCeCVU|@y@|@w@FEdCyB@A`Ay@f@a@r@o@ZWvBuBZYnAkABCrAqA@At@}@DE|@gAPWn@w@X_@Xa@@Al@{@BCp@eAf@w@\\\\k@d@w@j@eATc@b@w@`@y@\\\\u@DGRe@Re@Zs@Pa@z@sB\\\\}@f@wAVq@x@_C|@gCJWHWFOPg@Na@Xs@b@eAN]^y@Zq@^u@Xi@LSJSpAsBj@y@DG\\\\e@LOV]@AV[l@s@n@o@VWVYBAZ[TSFG\\\\W@A\\\\WDEXSv@m@DCr@e@t@c@t@a@`Bw@b@QdAa@\\\\M`A]HCl@QvAe@~@[NEPETItAe@vAi@x@[NGNGt@]\\\\Q@?VMr@_@\\\\Q|@k@nAw@~@q@DCROLIBC`@[`@[l@g@zBiB`@]lAcAj@e@b@]XU^Y`@Yr@g@d@[n@a@^Uz@e@ZOz@c@VMXMf@UXM^M\\\\Mp@Ub@Oj@ObAW^K@Af@KnAY`B[`ASpB_@n@Mp@Ob@MXIb@M@An@S`@O^MTKTKZQd@Uj@[XQx@i@^U`@[^YXWTSLK@CBCd@c@FGb@e@TWd@k@X]\\\\c@X_@V_@h@w@Xa@`A{At@iAb@k@R]BCPWh@s@JOV[r@}@TWh@o@VWPQNO@AHGPSZYRSd@_@t@o@b@[t@i@h@_@j@a@`@Y|@m@nA{@x@m@j@e@TQp@m@j@i@f@k@`@c@^c@n@{@b@m@d@u@Zg@Vc@HO|@cBLYP]L[Ti@JYBCL_@L_@FMX}@`@yAV_ABMLk@Lm@FWDSF]Je@F_@Js@TgBBQ@IDc@JkAHaABe@@GL}BD_A@S@[JoCDwABc@JcBDw@BY@MJeAFm@BYFc@Fc@FYPiADWF_@BIHc@H[?ADOF[@GJa@FYFQDQHY`@qA?ARk@h@uARi@N[?CLWP]Re@^o@Xi@R]T]FMLSRWNU@ARWDGX_@@CRSDERWFGX]XWBENKb@e@DEj@e@ZYZWROTQ`@W`@YRKr@_@f@Yh@YPK@AJGl@[r@a@FCz@c@BAXQXO^U`@SRMJGl@_@p@a@b@[ZUv@k@ZUXUZWDEn@i@JKNMVWPQFGRUBCXWX[@AVYBCRUV[V[V[n@y@V_@T[T]h@y@V]LS^o@R_@Ta@R_@f@aAR_@Pa@HOHQRe@N[Pc@HQDK@GP_@?A@ANe@@A\\\\aAVu@FUL_@Nc@\\\\mADODK@A`@aBXiAXqATmATiARkAN}@Hm@@GHk@NmAPoALmAFc@Fm@LmANoALcANqAJ_ABUNgARmABMNy@TmAViALi@Pq@Ng@Tw@^mAZ{@Rk@Pg@BEDQHQJYHUHO?AJSBEHOTe@HMJSBEP[Vc@FMd@w@LSVe@Xe@T_@@C@AR[Vc@@CDGf@}@T_@Ta@Vc@Vg@P]Te@@CBELWFMLYTg@P_@Rg@JYFOJ[BGRi@Nc@JYDK@EHWDKLe@FOH[V_ADOJ]BMJ_@@KLg@Li@Lm@Jk@F_@Hg@?AHg@BUHm@BMFi@@MJy@VwCBODo@Dc@Be@?IBc@Bk@Ba@Bo@Bg@DkA@GBg@?MBa@?CDo@FqAJuADc@Dk@Fk@De@Di@Hg@Fi@Fi@Hg@Fa@@GHe@Hg@Jk@Li@Ji@Ja@DSFUJa@Nk@Ja@Ne@Ng@@AJa@Nc@Pg@Pc@Pg@\\\\_ARe@Pe@DORe@Pe@Zy@d@oA\\\\}@Nc@Nc@Nc@Lc@Ng@Lc@Lg@Ng@TkAVkA@GHa@Hg@PgAHk@LcAFk@Fk@BU@QB[@MDg@Bi@Bg@Be@B}@B{@?Y@g@?uA?wAC_A?YEuAEyAGcBE}AEsAAk@AkAAm@?a@?q@?m@@OBkA@o@Bg@Bi@Bi@Bg@B]?ADi@BSDg@Fo@Hu@D[Hg@Fe@He@BUFWDSDUJe@Jg@Lg@DULg@L_@H[BKJ_@BEJa@\\\\cAPi@ZcAJYDM\\\\eA\\\\iALc@\\\\gAXiALe@Nm@FYLg@Je@RkAJg@NeAPsAFa@Fg@Fw@Fo@Fs@HiADi@Do@FsADqA@i@BqA@_CA_BAm@?KCoACk@CgACm@Cm@Ca@Co@Eq@Gy@Eq@Ca@?MKoA?KIsAAGCe@Eo@Ci@IwAEy@Ck@?ECi@?CCi@Ag@Ai@Cw@?KAo@?A?U?k@A]?Q@]?m@?Q@_@@y@Bk@@o@Bg@?GBe@?A?CDm@Dm@Di@?CDg@?EDg@@EDg@@IFe@Fg@J{@Jq@He@Fa@Ha@Hg@Jg@Lk@DSH_@RcARw@XoALm@HYl@gCZsAJe@No@Lm@Lk@RcAJg@Ha@Ji@F[Hg@Jk@Hg@Hi@DY@I@QBQ@GNmAFi@BWFm@Fq@Dk@Dc@?IDe@@IHqABq@@ABq@Dk@Be@Bg@Bi@D{@@QLyBBe@FmADo@HkABi@Dk@Di@De@Bi@D_@?CDi@Dc@Fi@Dc@Da@Dg@@CLmAFa@Fi@Fg@Fe@LeAJo@BSBSDYJq@PmA@G^iCRqA`@sC@IFc@J{@Ju@Ho@Da@Ho@Da@JkAFm@Fi@@U@MDa@?ADk@HsAHkABm@Bi@Bg@Bo@@M?UBk@@g@@i@@g@BiA@g@?q@@i@?g@?c@?q@?eAAs@?i@AeAA[?UCeACo@CsACe@EkAASIuAIqAG_AOgBGu@MiAGk@MiAGm@McAEUE]Ii@Ga@Ky@QkAWaBCOKo@UaBOeAIi@OgAGk@EUIs@Ee@Ge@Ek@Ee@Ei@Gm@Ei@C]?ECe@Cc@GqACm@Cm@A_@Am@Am@Ak@Ai@AoA?g@?Q?M@c@?Y?U@q@?c@@g@Bm@@e@?C@]Bo@FiAFmADi@Dq@B]JoAFi@@GDe@?CFe@Fg@D]Jq@Fc@F_@?GPcAJm@BMDQD[BMTgALi@?EJc@Ha@Nk@R}@BMH]Lk@Le@@EH]Je@Lg@TcAJg@DQDQJk@TkATiARqAFa@Hi@Fk@?CFc@Da@B]V{CDo@@MDu@?QBq@FcBBkA?u@?m@?uA?e@Aq@A}@A[Ai@Ck@Ck@Ci@Eu@Ea@KuAMqAC]Kw@?EOgAKu@U}AUqAEUEWq@qDIg@Ko@Ic@E[I_@M_AQoAGc@Gq@G_@AQMiAImAGeAC_@EeAG{AAuAAoA?_B?{@B_AB}AFuABo@Dm@Dm@B]L_BNyALeAHm@D[Hc@D[Ji@Jo@Ji@Lm@FUFWHe@@CLk@Lk@R}@VeABMH]Lk@BMH]Lq@Jk@Jg@?CJi@He@?GPkABOFm@D]@OFo@BUBWDo@Dk@Dk@@YFoA@k@?k@@q@@s@?kA?aAAq@Am@?OA]?GAi@Au@Ao@Ag@Cs@?o@?a@AqA?w@@uABoABq@Bs@DoA@ABo@Di@?EHiAN}ALyABWHm@Hy@NyAJ}@Hw@JgADi@B[Fe@@UBSDe@Bo@Bg@Ds@@e@BY@W@o@ByA@sAAqAA}A?CAk@Ao@?AEuAEyAAKAo@AWGwAKeCAg@E{AAk@Aq@AaA?c@?W?W?_A@q@@o@@k@Bk@Bm@Bk@Bo@B_@Di@F}@HiAJaABYJu@PiAJw@P_APeAD[F[Hc@Z_Bd@aC`@}BHc@Fe@Jm@Hk@Fm@Fm@JeAFu@BSBm@BYBw@@OB{@@a@Bm@?q@?k@?sA?w@?WA_@A]Aa@C_@Ai@Cm@Eo@A[KoAEc@O}ASoBOiAGq@Gw@Q}ACa@Go@Cg@Eo@Cg@Cq@Ak@Am@?i@Ac@?s@@o@?q@@i@@k@@m@Bk@Bg@Bm@Di@Do@De@Fm@Fo@Ho@Fc@Hm@Ju@Lq@Ji@FYJe@XkAZoA\\\\wAZeAZqAPo@ZmA\\\\yALg@b@mBR_AReALo@P}@F[Hg@Ly@Lu@NeAL{@LkAJu@JgANwALqAFs@F}@B_@Da@FsAH_BDw@By@Dw@B{@BgAD{@BaABy@By@DcAB}@@u@DcABu@Bs@BmABq@Bi@Du@DaADgADi@D}@HkAF}@Fy@HaAFw@Fm@Fe@Dg@Fe@D_@Fk@Fi@Fg@Ju@Da@Fa@Hi@Fe@He@Jk@Hi@Jm@Ls@Fa@Jg@Jk@Jg@Ji@H]He@Lg@H]Lk@Lc@Le@Lk@H]Nk@^yAV{@Ty@Ng@Pi@Ni@Pi@Nc@Pe@Rm@Rg@\\\\aATk@Vo@Pc@Ti@Xq@Vm@Tk@^u@Xm@Tg@Xm@Xm@Xe@\\\\q@Ve@`@u@d@u@`@q@j@}@^o@j@y@b@o@T]Zc@^g@t@aAZ_@JMFKFGnAyAX_@TW`@e@d@g@`AcANObBeBHIl@o@|@}@DE|@{@`@c@Z[PQ`@g@X[XWn@s@n@s@n@u@l@u@X]V]T[TYl@y@h@w@\\\\e@NULU~@}A~@eBb@{@BEb@aAx@kBRe@N[Ri@b@iAPg@`@kARm@H[DOJ]La@J_@Jc@ZqA@GViAJc@VqABOH_@FY\\\\wBFa@Js@NeANkA@M?CD[Ho@Dk@Di@Fi@N}BBa@JaCBUDaA@k@@s@@_@@iA@u@?c@@m@?i@Am@?g@?i@Ak@Aa@?CAo@Ai@Cg@Cm@Ag@Ci@Ci@Eg@Ck@OqBEq@I_AIw@IaAQeBKgACQc@eEI_AGm@Go@Gm@Ek@S_CAOKgAAUGy@Cc@Ec@?KEo@Ce@?IC[AQAUCm@A[Cq@Cm@Cg@Au@Ac@Ci@?QCaA?]AM?a@Ae@AiC?_A?o@?c@BiC?g@@iABu@DgCBwA?CBiAD{ADsABuADuADuC@{A@qB@qAAiA?}A?G?g@Ay@EoBGkBIuB?AC_@E}@KiBEq@KiAOgBU{BCYGe@CYIq@EWIm@YmBQiAY_BOy@O}@Qy@YsAOs@EQCO]yAi@_CQu@k@eC{@cEs@wDUsAYmBOiAIo@K{@U}BOeBQuBKuAKoBGsAK_ECm@Ao@AuAAy@AaB?Y@sB?C?k@D_C@Y@eA@O@m@@]@QBo@D_BBc@FoBBi@FeBBq@BwABo@@]@Q@m@B_B?S@]@m@?A?i@@s@?o@?o@AkBAsAC_BAo@Co@Ao@Cu@IyACo@?CCi@Em@?AEm@AWk@eHI{@Eo@[uDUoCK_BEq@ImAK{BEoA?EEcACwAA[Ao@Ag@?y@Ao@?o@Ao@?o@?Q@mA@iA?S@o@@_@DeBHgCH}ADaADo@Bm@Do@H}A?AV{DDu@FeAHmB?CDo@JmCDyADeBBkB@qA?A?m@?oA?_AA[?uAE}BE_BMaDM}BI{ASgCC[CYUeCCUCa@OoAWsBM{@M{@CSKm@Km@COk@cD?AYwAKm@Kk@?AKk@AAIi@Mk@Km@G[CQ[mB[aCEa@Im@AKKsAGs@GwACc@E}C?e@Ae@?g@?{@@y@BiAHiBJ{AFy@Fm@Hw@NmAZoBX_B^eBTy@Ni@Ni@Ne@La@Pi@Pe@Ti@`@_AVk@BETe@?Ab@y@t@sA@CVe@HMLS?AVa@Vc@Tc@Vc@Vc@Vc@Vc@Vg@b@{@\\\\q@Ve@h@kAh@oAPa@Pe@Tm@N]Tk@^gAn@uBX_ALa@Jc@h@oB@INk@`@gBT}@@GNk@Nk@Rw@H]Nk@Li@BK^qAJc@La@Rs@JYBKBIBKJUBKL]BIL]Rg@d@mAJUNa@P_@Pa@R]P_@HQHKJSHMNY@ANW@Eh@{@^k@r@aAX_@j@u@VYj@q@TUZ]FGf@g@XYXUp@m@p@i@XSRO`@YTODCr@c@DCp@_@LId@WbAe@dBq@|@[p@UBAZKXIB?\\\\Kb@MVGHCPEZITGFAZG@AZGBAVGHC@?PELCNERE@?FAZI\\\\Kv@Q^KREd@MZI^Kv@S\\\\IZK\\\\Kz@Wj@SHCv@W@Av@Yv@[v@[XKRKHC\\\\Od@U^Qf@WZO\\\\QFEBAZQBAb@UZQ^UVOZQXSZQXSZSVQ\\\\UbAu@XS`@[dA{@TQhB{AFG@?VWPQXWVWXYVU@AXYTWVWVWNQHIRUXYVY?Al@m@FGPSHILOPS@ABEVWX[?AVYTWHKLMV[NO@ABEPQZc@n@s@XYn@s@n@s@VUX[TUPUVU^]`EwDzD_D`Ay@|@q@LS@?BCBCBA@CBCDADCDCDCBCDCJCDA@?XSTMROVQXOVQXOLGHGXOXQRKFEZOVO\\\\Qh@YJEXOZMXOZOVMVM\\\\QFCDCLGPIJGFAPIZO@AVKFETIXO\\\\OZOnB}@pB_AVMXM\\\\OZOXMRKFCZOXOZOFCPKl@[f@Y\\\\S\\\\S^Up@_@@Av@e@x@i@jBoATOz@m@lAaAjByAf@a@vF_FJIBCJIj@i@NMVSb@]FE?ADCh@e@TSh@c@b@]lAaAr@m@r@i@x@k@lAy@lAy@tAw@j@[HGv@a@^Q`Ae@BC~As@vAm@pAi@xAg@rBq@~@YZIXIzA_@z@Sz@Sz@OzAWvASzAU|AOxAM|AKvAGtAGb@A`ACr@CxBIzBExBIv@CzAKJ?z@GZCZCnAKf@G|ASvASPCj@IZGDAx@OXGtAYzAa@vBk@z@YpBo@tAi@tAi@rAk@l@YdAg@n@]TKn@]n@]nAu@pA{@jBoAfBqARQl@e@b@_@lAcA\\\\]zAuAbBcBtAwAHKfAiA^a@Z]JM\\\\]f@k@fAkAdAgAlAmAx@w@XWf@e@DEfA}@fBsAnA}@RMl@_@~@k@PK`Ai@`@UjBeAr@a@z@c@lBgAfAo@b@YnAw@j@_@PKhA{@r@i@ZWVSjAcA\\\\[PQJKPOZ]h@i@^a@f@g@d@g@h@q@\\\\_@\\\\c@Zc@DEh@u@t@cAj@y@t@iAb@q@|@sA|@yA~@uAJMLSPWj@y@NSj@w@`@g@NQb@k@JKLQX[?A`AeAHIXY@AZ[XWVWPOb@]x@o@XSx@i@LIj@]PMlAq@nAo@|@a@ZOd@SLGn@WvAe@DCt@UjA[JELEJCVI`@K@A`AYHALERGb@OvAe@LEhAc@rAm@h@[f@Y`@Ul@c@jA}@ZYb@]b@a@`@c@r@w@r@}@d@m@Zc@Va@r@kA@AFMf@_ALWh@gA`@aA`@cA^eAPi@J[XeAH]@ABI`@cBTkAJm@He@He@Hg@JaA@ALmA@KD_@B_@HgADc@Bm@BY?EBi@?CDyA?E@aA?A?i@?_@?k@?GAiA?OAQAo@A[?ACm@AKKsBOkBGg@Ee@SaBG_@Ik@I_@UqAI]CMI]Mi@WeA[cAMa@Qk@[}@GQSg@GMKWEKO[AEQ_@e@aAgA{BACw@}Aa@u@We@Se@Sa@Oa@KWO_@c@mAQg@[cAQo@EMGWOm@Os@UmAIg@SoAIg@Ky@Ky@?ECQCS?GAQEg@Ec@AUCi@Eq@Ao@AG?SAS?AAY?QA]?QAy@?kA@cABcA?K?E@]@Y@UBi@HqADg@Di@Dg@J}@Ju@D[Hm@?AJk@BULs@@?Lq@R_AXmAH[DOHWFURm@FQHWL]Vu@Zw@\\\\u@Zq@h@cA`@s@NYrEoHNWVa@R]Zi@z@uAhAwBtAuCfAcC?Ch@oAVs@JU^cAh@_BV}@L_@L_@BG?AJa@BG@IHWLe@ZkAT_AR_ALm@^mBJk@RmARmARwAPqAD]Hi@RqBPkBDm@LiB@OB[?ABYNyBFkAFsA?ADm@Ds@Bk@FqAD{@Do@?KBa@?AB[F_AFo@B]BQFu@Fe@Fe@@GLcAPkAHi@`@}B^aB|@aENu@Hc@~@mEh@{CBKd@wCLmALmALiAJaAFaAFy@@GBc@?CB[?O@EFgA@g@DoABqABgA?[@m@?E?E?_CCkA?UCwAEuAAO?GAg@Eu@GkAGoAEe@Em@WeCOsAMmAIm@QcAMu@Mw@Mq@O}@YqAMk@Oq@EQUaAS{@Qo@YgA[qAWcAYkAg@yBc@{BQ_ASsAGi@EWAOE]AAAIEc@?AQoBCYCQGkA?AEm@EkACa@Ai@CcAAaA?UAY?U?Y@u@?sA@m@@c@DkA@e@Bi@Dm@HmAHeA@GDg@Da@@KDc@@ID[Fg@NaA?CPgABSJk@BMTiANo@Ha@Le@Rw@DMH[BILa@Pm@Vw@HUFQL_@L_@BGNa@Pg@Rg@h@yA\\\\_Aj@wABI`@iAPg@d@qAFOZaANc@^oABITu@f@kBRu@Pw@Nm@TcAR}@TkAVwAZoBPsANeANqAPyAH{@D_@@OB[P{BBc@HsAJwBF{BDwB?CBkA@sB?W?W?U?_BAo@?WAWAmBAa@Ao@IeEC_AGmCCq@?[CeACsACmA?A?o@AsA?K@qBB{BBgADuAFoADo@@YHsAXgDJiALkAFi@x@aITuBJ}ABYDi@JqAHqAJaCBuA@Y@]@s@@iA@o@?kAAkA?_A?AAm@CaAAg@CkAGmAMsBIuAWyCGk@c@uEcAqKI}@I_AEe@AG?EQ_CCSIgAGmAEm@CWCm@AUI}AG_BGsBAc@Co@Ag@CkA?CAm@Am@?M?KAI?K?M?KAsAAcD@kA?sA@m@?UBiC@qA@_@D_@?e@@SBu@JwCZeGNcCFq@J}APoBD]\\\\oDx@iGBSHs@L}@X_BNy@RqAP{@N{@d@yBViAtAaGZcARw@ZiAZgA\\\\gAl@mB\\\\cAL_@^eA\\\\cAx@uB`@_ADKZw@|@uBJWRe@z@oBVm@Pa@Pa@~@yBPa@r@cBbAkCHQb@kAl@cBBG^iA^gAh@iB\\\\kAf@gBXmAJ[ZsA`@kBn@wCn@qDl@oDPeAjA{HPiA`@mC^cC\\\\}BBIJm@V{A^kBN{@`@oBViAViAVkAl@cCd@gBV{@Ni@f@iBj@eB`@oAFQ^gAx@cCd@sA`AqCHSd@sAz@gC`AuCFQHUPi@L]j@iBX}@nAuEPo@BIVeA\\\\sAJc@H]BOBMBK'},\n",
       "       'start_location': {'lat': 41.6152897, 'lng': -0.6996705},\n",
       "       'travel_mode': 'DRIVING'},\n",
       "      {'distance': {'text': '50.5 km', 'value': 50520},\n",
       "       'duration': {'text': '28 mins', 'value': 1704},\n",
       "       'end_location': {'lat': 41.4478487, 'lng': 1.9911039},\n",
       "       'html_instructions': 'Take the exit onto <b>E-15</b>/<wbr/><b>E-90</b>/<wbr/><b>AP-7</b> toward <b>E-90</b>/<wbr/><b>Villafranca del P.</b>/<wbr/><b>Barcelona</b>/<wbr/><b>Girona</b>',\n",
       "       'maneuver': 'ramp',\n",
       "       'polyline': {'points': '}l{zFanjHj@gCZ}AZaBf@oC@GLs@F[T}Af@mDNcA@MFa@Hm@D]Fi@BSBY@CRqBBYHw@JmAHmAFo@JmBDeA@SDsABeA@k@?i@@o@?Y?y@Ak@Aq@Cs@AY?UAa@Es@IoAKoAOmAQkA?CCO?AEUAEAEKm@CKWiAWeAIYACEOAEISGSEK?Ac@oAISWo@CGCGCEGOGMYq@]w@Qa@Ws@Oe@Ma@K]IYMc@g@eBU}@Oc@K_@GQISIWIYe@sAq@gBAC_@aAi@mAEIUc@O[Wi@We@q@mAs@kAaAwAkAyA_AcAw@y@UUoAqA_A_AEEcAgAOOsAyA{AgBwAiBcAwAwCoEeAeBU_@c@a@o@qAe@{@a@{@o@wAo@wAg@oAEKc@gAi@wAg@{Ai@_BAEMc@EOM]Ok@W{@YgAWcAU_AYqAe@wBi@oCUwAKi@Ii@]iBSiAEWOu@UsAWkAWkAYkA]oA]gA[aA]_AUm@Um@a@_Ai@gAe@aAc@y@k@_Ag@{@i@{@W_@S]CEWa@OUS]Yc@[m@_@s@k@iACGYg@KWIQISYq@_@gASg@EOUq@_@kA[mAKa@Oi@WmAUkASeAAGSmAQsAK{@E[Gc@Eg@Gy@GgAGw@WwDUkD?EKeAMuACKK}@SwAUyAKm@EUKe@WmAYkA[mA]eA]kAa@kA]{@Ys@Uk@MUc@_Aa@s@gDwFKOMOACY_@Y_@OSOQQSSUSSy@y@iAeAo@i@YUIGUOWScAq@q@a@_Ag@oAm@{@a@_Aa@sAk@aAa@mAi@{BiAOI_@U_@UA?y@k@a@W]Uk@a@q@k@]YA?[YSQcAaA[[iAmAe@k@KMaAkAqAgBGIOWCCg@w@w@sAOYMUOWIOYk@u@aBqA{Cc@iAk@aBu@aCe@kBQm@i@}BY{Ae@gCSqA_@qC?A[mCQ_BMkAW}BMaAIk@WeBq@mDe@gBSy@]iAo@qBg@uAa@eA]w@KOa@}@q@sA]k@S]u@mAk@{@u@cAq@y@GGY]MMo@s@wA{AmAqAu@u@w@aAUY[a@u@cA?CW]?AYa@w@sAMUe@{@GM?A[o@O[Sc@c@gASg@Oa@GM?AQg@?AWw@[_Ag@iBe@qBKk@Mk@?AAEUsAI_@e@sC?Ck@eDCKKm@c@wBCIOm@I]CKACOk@I[[iA[}@Qg@?Ag@qASk@Se@Wk@Q[ACSa@?Ak@kAw@uAQWS_@CCAAS[Ya@AAW_@EEcAsAu@y@KMk@m@g@e@o@o@c@_@{AkA{AcAa@W{@e@oBeAkBcAy@c@w@e@o@a@kA{@w@o@AAw@s@o@m@}@aA}@cAoAcBo@}@[k@U]CES]Ye@_@u@m@oAi@kAm@sAm@yACCcAeCwAyD_AkCk@aBw@cC}@uCaAiDGSm@wBI[WaAMk@I[k@}B_AcEg@aC{@gEKk@k@aDKk@?CYeB]yBU{Aa@sCs@aGc@wDEa@Ea@WkCEo@QkBSiCOcCE{@C[EwACaACu@AmAAmB?A@a@@uBDiAB}@?CFmA@MDw@Fw@Fs@JkAB[BMLkABKPsAXaB@G@CFc@H]DU@E@E@E@C@IBIBIBKFWTaAZeAFSLe@FQV}@Pi@Ne@Vw@BGFSL_@BIPm@p@_CLe@\\\\uA`@qBTqAH[Lw@LaAVoBLuANyABe@De@J_CDcBBo@@}@@u@?E?sAC{CAi@EqAAGEgAEm@KsAWkCSiBMaAM_AOaAMu@AGQ}@UoAaBwH_@mBSiAYkB]kC?CQoBKqAGgAGqBCiAAaA?A?AAi@?C?i@?iA?IB_A@}@@U?M@e@HwAFgADm@VuD?A@Q@Y@A@QHiAHuBHaDByB?qACwBIeDI_BMiBOeBAOWwBOmA]qBIe@Ig@AEUiA_@wAa@}Ak@mBUq@EKSi@_@cAWq@[s@o@qA[o@{@}Ai@{@c@u@]i@oBkCeByBm@q@q@s@iCiCCCmAiAoAaA_BkAoAy@aAm@KGSMCAGE}Ay@}Au@y@]sAi@WI_@OKE{@Y{@Uw@Uu@QICYGKEA?}@Sy@O]Gq@Km@Ia@EKAKAo@G_@CYCy@G_AG]AWAk@A{@Aa@AU?e@?y@@A?{AB_ABa@@uABmCF}@?a@?g@A_@A{@Co@Eg@Ei@Ew@KiAQgASeAUKCWIwAe@yB_AwAw@k@[cAm@UM[Se@[mB_B}@y@eAgAo@s@WYQSIIq@y@gAkAa@c@o@s@WUu@q@c@]g@_@c@[_@U}@o@]UkAs@OGm@[WMIEi@Wi@SUKUIGCy@Ym@OYGcAUGCA?a@Ie@Iq@KSCQA]EiAKoAGo@Cc@AC?wC?{BD{@@}@@]A_@?g@AY?{AGu@GmAMKAmASaB[c@Ke@MQEGCeA]]Ka@QUISI]Oe@Us@]q@a@c@Ym@_@q@e@GE[UUQ[W[[c@_@c@a@e@e@OOKMOOCEUW]a@e@m@W]W][c@Q[OS[i@[e@Yi@EGYe@c@{@e@w@]m@Yg@ACS[?CCCQY[e@]g@_@k@Y_@SWEGSWSUCCY]AA_@a@MOYWOQQOKKYWQOIG][MKUQu@g@y@k@GEECSMECECSMEC_Ae@q@]g@UIEEA[MMG]MwAe@{@W_DaAkAa@wAk@]OEAm@W{@e@w@c@q@a@u@g@o@e@]Y[W]YSQWWi@i@OOWWc@g@a@e@e@k@_@e@_@k@k@y@Ye@Wc@_@q@S_@g@_As@}Ac@eAo@_B_@iACGMa@CKGQGWQk@g@qBACAIKa@G[k@{C]{BMaAEa@AKAGSoBMcB?AAKI}AEiAAUAo@Cs@E{BEyBAYCeAGiBE}@ASI_BKuAQ_BEa@QuACMCUSqASmAIa@UiAYqAg@oB[gACKOg@Wu@_@eAi@uAo@uA]s@KUu@wAk@aAa@q@S[EGSWYa@S[i@s@q@{@s@{@i@o@iAuAi@o@?AKMMQ_@i@c@k@e@q@g@y@k@aAU_@Uc@OYw@{Ae@cAs@cBUi@?AQe@?AKUGQQe@_@gAW{@Oe@Oi@AEYgA[mAU{@GUSaAEOI[AGOs@S{@WgAAAMi@I][iAi@cBa@kAGMWq@CKA?]}@Ug@Qa@KUIOSc@GIWk@g@{@S][g@GI[i@k@y@k@s@AC]_@Y_@u@}@q@q@q@o@}@w@OK[WIGUSOKmAy@CA[Sw@c@GCy@c@GC}@a@eAc@iA_@_@Ke@OaAUw@QuAUa@Gi@ImAM_AK]Ce@G]Eq@G}@M_@G_@G]Gm@OaAWIAu@U_@Mk@SKESIGCe@QQICAMIe@S_Ai@]SOIOKKGCCIGEC_@Uw@k@SQ]WIISQOMEEkAiAo@o@cAmA[_@w@eAeA_BOUi@y@[q@}AaDqA_D}AuD}@uBSe@IOIQ_@s@IQKQoAmB]i@g@s@iAyAEGq@{@cAqAaAoAk@u@U]k@y@g@w@i@_AYi@KQaAyBQ]Qa@M]Yu@k@cB]gA[gA[gAQy@CGSaAY}A]wB]iCSmBOcBAWEo@Cc@IiBAIEyAAe@G{CCeAA]IqDGgBAWEm@Co@Ey@M{BKmAQ}BMkAIw@Im@?GGc@Im@Ec@G_@MaA]sBUwAMw@QaAQgAAIAIMw@ESIk@CUESCUOgAUyAc@kDW}BOkAMqAMqAKmAGeAMaBGwAM}BCg@GsAAQ?CAI?MKmBEoAGkAK}BIwBIsAGmAIsAOqBKqAOaBOeB]{CKy@QqAGe@My@Ga@Ms@QaAO}@AIMk@UgAMk@Os@_@yAYgA]kA_@mA]cAQg@Oa@AEm@}A]y@kAkCg@eAg@aAgAmBcAgBg@y@e@u@k@}@OUYa@?Ao@}@}@sA_AqAsAgB_@i@_@c@i@q@g@m@_@e@i@m@_AgAw@y@s@u@o@i@s@o@q@i@gAw@]U_@Wq@_@k@[{@a@o@Yq@W}@[u@S{@S{@Qg@Kk@Ks@Oq@M_@Is@QYI_@KWIMEME_@MKEUIe@Si@W_@Qc@WYQ[QYSg@[AA]Ws@k@]Y[YKKGGKKGGGGOQ[][[W[GIW[[c@Ya@U_@Wa@Ye@AAWa@ACEEMWGMKSYi@Ug@CGQ_@CIM]GMWu@EMKYEOSk@Qq@?AQu@Oo@ACMk@Mi@Ki@Mq@O{@Kq@Gk@Im@Is@Gi@Gu@IcAGw@Gk@Cg@Ee@OkCMeBM_BCYC[I_AIy@I}@Gi@Ec@Ko@OgAOgAIi@Km@QeAaBqHS_AUcASeAS}@Ko@CQCMCKGa@?AMw@Ea@Ku@Iq@QcBIcAKsACk@IgBEcACcAAu@?gA?c@Ag@AoC?[?Y?y@?{@A{@?s@AS?m@EkAEkAAg@IsAIkAIgAAOEe@K}@Is@Ku@Ku@CQIg@Mq@Mu@WmAOm@Ke@[oAYaAK_@Qk@Qi@Sk@Ws@KWO_@CG]y@Yo@GISe@GMg@}@e@}@e@u@k@}@IMa@k@U]IKSU[a@KMc@g@Y]EGKIOSg@i@[]WYSU?Am@q@]_@MQAAIKOQOUc@k@c@m@MUWa@o@eAg@}@]s@m@qAe@gAACi@qAa@eA[cAe@oAUq@c@iAQc@KWEMAAKWM[Yq@EKYk@AEa@w@Wg@EIMSIO_@o@g@w@iA_Bm@w@i@q@a@i@q@{@o@w@u@}@q@aAe@q@m@}@e@y@a@s@a@y@Wg@O]w@eBCE_@aA]aASo@Ww@]mAQq@GUOs@Qu@CISgASaASkAm@uDW{AY_BUsAScAWkAi@cCACESSs@qBkIUy@[kAWaAS}@Sy@[_BMk@Gc@Kk@E_@CWGc@K}@MgAMoAWsCUyB?AK_AIy@YsB[sBIg@Im@Ks@QgACMm@gCMk@[cA_@oAoCeHw@}BUk@Qg@EOGWG]I_@Kk@Ie@AEKi@SgAUkAAIEUAEEQCSAAa@_COy@]wBk@sCe@mBQm@W{@Qk@c@uAUq@KUIYyAqCu@qAS[m@_Am@aAEG_AqAe@m@_AwAyAiCkAkCO_@O]Oe@Yq@Oe@Qm@Uy@IYG[Mi@Mg@G][iBGa@UoBQoBSuCWqCY}BYiBMi@Kg@?CUgAa@qBUmAACOgAO{@Im@QsAAMIm@Ea@OwBKiBC{@CqA?{A@eA@m@Dw@@Y@UHiBBSDe@B[D[@M@UDSBODWDWDUHe@Lo@TeAXiARw@Vy@FUPi@Pk@Pg@L_@^eA^mAPm@FUJe@d@aBLe@VmAF_@ReAHm@@GNeAN_BNqBBg@Fu@@}@B_A@mB?C?}@?U@o@CaBEc@Aa@Cq@G}@C[C]Eg@E]M}@M{@YgBWkA?AMk@SgAS{@ACMk@_@eB_@kB[wBWeCKqAKiCAeB?oADeCD}AHqALkALkAL_A\\\\qBTaAPw@FWJc@v@gCd@uAZ}@La@J]Ng@Lc@Ja@J_@Nu@@GR_AJg@@GTyABMBWJu@BW@QBOFo@@KF}@FiADiADiB?C@]?]?yACuD?U?G@kAA_D@UBu@Dy@Be@Dy@BUF}@NuAD[b@{BFa@BIBIFY?CRy@l@oBLg@j@{ADKj@qAZk@Xk@r@kA|@qATWZ_@p@u@`@c@j@g@f@a@TOLKx@g@ZQh@YJGl@[@?h@UXKHCv@Wr@QPELCZKvBa@v@Qh@Kv@MtAShAMr@KhAOr@I`AOx@Kr@MfAQz@O~@QnAYdAUvBi@xAc@bA]lAc@ZM\\\\Mx@[zAq@tBaA|@c@rCaB~B{A`Aq@BAPMBCNMHEb@]nC}BbBeB~AeBX_@Xa@NQBEHI`AyA|@wAJO\\\\o@DMP[FOFIJUFM?AHOFOP_@FQHONa@FQPa@FOFQJYHYHU`@oAn@mC'},\n",
       "       'start_location': {'lat': 41.2694284, 'lng': 1.5332885},\n",
       "       'travel_mode': 'DRIVING'},\n",
       "      {'distance': {'text': '4.3 km', 'value': 4265},\n",
       "       'duration': {'text': '3 mins', 'value': 153},\n",
       "       'end_location': {'lat': 41.414192, 'lng': 2.0114809},\n",
       "       'html_instructions': 'Continue onto <b>E-90</b>/<wbr/><b>B-23</b>',\n",
       "       'polyline': {'points': 'ah~{Fk{cKVeAXsADQh@iCn@{CTaAFUVaA\\\\iAJYDONc@JYXw@@CJWJYVk@LU\\\\o@@CNYXe@NSV[V[\\\\a@NQ@CTWTWZ]Z]HIr@o@NOd@_@dAw@^Uf@[XO^STK~@_@r@Yz@WRI\\\\Kf@M^KB?`@MB?DCZIfAYp@St@ULGBAhA]xAi@VKRIPIFCPKHCXOPIDCJG@ALGVQf@Yn@a@f@YJIl@a@fBcA|CmBrBeArAs@h@Yj@WBAFCb@QLGrAi@@A^MFCz@[jAc@PGLEbCq@DC|A_@JC`@Ip@MvAYz@OvAUxBYhGq@hBSb@Eb@EtBUz@KdAM@AZETC~Ba@~@S~@Sh@Kj@IjBa@p@ONCTE\\\\MLCTGLEPGPGfBm@`@M`@OfC{@bA]d@QdBq@@AtAm@HE@?j@Wt@]nAi@XMRIDCFCBAb@SHE|@a@\\\\QHCLGDC|BeAbBw@ZOhCmAVMpB_AFEFCPINGLINI'},\n",
       "       'start_location': {'lat': 41.4478487, 'lng': 1.9911039},\n",
       "       'travel_mode': 'DRIVING'},\n",
       "      {'distance': {'text': '4.0 km', 'value': 3988},\n",
       "       'duration': {'text': '3 mins', 'value': 153},\n",
       "       'end_location': {'lat': 41.3812112, 'lng': 2.0296787},\n",
       "       'html_instructions': 'Keep <b>left</b> to stay on <b>B-23</b>',\n",
       "       'maneuver': 'keep-left',\n",
       "       'polyline': {'points': 'uuw{FwzgKlEwBbCmAl@Yt@]`@Q`By@vDgBpB_AbCkAHEPIZONI`@S^Q`@S`Ac@`Ae@nCkAHEdD}A`@SpFiCpB_AdB{@bCmABCDCNMHELGNKb@YZSFEd@WXSp@i@VWJK^Yd@_@n@i@nFsEl@i@t@m@n@g@t@k@x@m@n@a@v@e@DCXOrAu@LEDCl@YjAg@vAg@RGNGPERIPEj@OfBc@f@MzCo@vBg@j@OfA[h@SXKLELEpAi@|@a@ZMXOj@[zA{@j@[~@i@bAm@`@UNIHGpAs@pAq@JELINGVKXMb@OHEt@WlBk@rCu@pCu@rCs@tDaA~Bo@VGjA[B?tAa@d@Ox@Yl@ULEb@QXOZU'},\n",
       "       'start_location': {'lat': 41.414192, 'lng': 2.0114809},\n",
       "       'travel_mode': 'DRIVING'},\n",
       "      {'distance': {'text': '6.5 km', 'value': 6517},\n",
       "       'duration': {'text': '5 mins', 'value': 273},\n",
       "       'end_location': {'lat': 41.3450451, 'lng': 2.0830667},\n",
       "       'html_instructions': 'Take exit <b>5</b> to merge onto <b>E-90</b>/<wbr/><b>A-2</b> toward <b>Barcelona</b>/<wbr/><b>Ronda Litoral</b>/<wbr/><b>Zona Franca - ZAL</b>/<wbr/><b>Aeroport</b>/<wbr/><b>Fira</b>/<wbr/><b>Port</b>',\n",
       "       'maneuver': 'ramp-right',\n",
       "       'polyline': {'points': 'qgq{FolkK\\\\AB?NIt@_@lAm@PI?ARIJG\\\\Ob@Sj@Sl@Sd@Ox@UTGh@OXKRILEf@SZMDCXOVOFEPKLINKNKDERMBC\\\\W@Ab@_@VSDCp@k@`@[ROh@a@HGRO@?TQFE^WLK~AiArA_AfAu@lA{@t@i@DE\\\\YHGRSHGPSDETYX_@HMT_@P]Xg@N_@DMLYVs@v@kBXs@b@aAN_@f@eA`@aATe@?C@ADc@`@s@Pa@JYVo@DM@Ct@cCFSLg@Ni@^}AVcAT{@?A\\\\uAXgAZmADS?ANm@@?ZqA@CVaANk@XaAPe@DOHS?APe@BGZu@Ti@Vi@Xk@R_@`@s@d@w@`@k@d@o@l@s@^c@PSJMd@c@n@k@lA}@BCt@g@r@c@v@c@p@Yt@[j@Ur@St@Sx@SPEf@K|@Ox@K~@Kz@GfBIxBEnBE`AE|@Ir@Il@G\\\\GnBi@|@W^O`@QDAtAo@TMn@_@b@YPKROJGTQl@g@HGJKJIPQ^]n@q@f@m@d@k@r@aAFKf@y@T_@x@uAHK|@}AR[r@qAJQJQZk@\\\\o@\\\\m@`@q@x@uAhAsBNYNWf@y@z@yAx@_BZk@R_@N]p@wATi@LWL[z@sBf@oAXu@j@{ANa@To@Pk@@AX}@Ne@@CHWNg@J]Nc@d@cBPo@ZmA`@cBR_AHYd@uBd@aCb@aCRkAJm@N_ARyATgBR_BLmAPuBH_AJqAJeBXiFJaBFqAHuAF}@T_ETqDDy@VoEB[XmFH}AL}BLiCF_A?U@I@I?G?I@O?U'},\n",
       "       'start_location': {'lat': 41.3812112, 'lng': 2.0296787},\n",
       "       'travel_mode': 'DRIVING'},\n",
       "      {'distance': {'text': '2.0 km', 'value': 2033},\n",
       "       'duration': {'text': '2 mins', 'value': 102},\n",
       "       'end_location': {'lat': 41.3393259, 'lng': 2.1045117},\n",
       "       'html_instructions': \"Take exit <b>610</b> toward <b>L'Hospitalet de Llobregat</b>/<wbr/><b>Barcelona</b>/<wbr/><b>Gran Via</b>/<wbr/><b>Fira</b>\",\n",
       "       'maneuver': 'ramp-right',\n",
       "       'polyline': {'points': 'qej{FezuKBABC@E@A?C?I@OBe@?O@G?E?M@S?O@iC@e@?a@@g@?A?e@?QAQ?q@AmAAg@Aq@Aq@?C?e@?A?G@g@@{@@q@Be@@SHoAF_AJeADc@BSL}@Hk@DU@A@ADGRiABONq@BINk@ZcAHWRk@N_@HUFOTi@JULWFM`@w@Zk@LU\\\\m@\\\\k@BEVc@Zi@HQVc@Ve@JYHOFQN]Re@FOJ]Xy@Nc@Le@L_@@IJc@FG@A?ABIHYNo@H]Jc@BITaAH[DS@CFYH[@CDOFUDM?A@CBENc@@EDO@CFM@CFMJWFOHQ@AJQP]DGT_@HKFKHKFK`@e@`@m@Va@BEPW@ABGR]DIP]HOPg@FY@CBODSF[BU?A?A@U@Q@G?o@?MAMA]C[ESE[?EAIC[Ws@K]A?CKEIIQKUMUMQUW'},\n",
       "       'start_location': {'lat': 41.3450451, 'lng': 2.0830667},\n",
       "       'travel_mode': 'DRIVING'},\n",
       "      {'distance': {'text': '0.3 km', 'value': 298},\n",
       "       'duration': {'text': '1 min', 'value': 16},\n",
       "       'end_location': {'lat': 41.3418759, 'lng': 2.1055647},\n",
       "       'html_instructions': 'Slight <b>left</b> onto the ramp to <b>Avinguda de la Granvia de l’Hospitalet</b>/<wbr/><b>C-31</b>',\n",
       "       'maneuver': 'ramp-left',\n",
       "       'polyline': {'points': 'yai{Fe`zKUQGGGCQKc@Qa@MSGSEWEqBg@WGMC_AWm@OA?w@W'},\n",
       "       'start_location': {'lat': 41.3393259, 'lng': 2.1045117},\n",
       "       'travel_mode': 'DRIVING'},\n",
       "      {'distance': {'text': '3.5 km', 'value': 3547},\n",
       "       'duration': {'text': '3 mins', 'value': 181},\n",
       "       'end_location': {'lat': 41.3645667, 'lng': 2.1352815},\n",
       "       'html_instructions': 'Merge onto <b>Avinguda de la Granvia de l’Hospitalet</b>/<wbr/><b>C-31</b> via the ramp to <b>Barcelona</b>/<wbr/><b>Gran Via</b>/<wbr/><b>Fira</b>',\n",
       "       'polyline': {'points': 'wqi{FwfzKO?AAECUKSOUOGEKKKIGIOQGGACCACCAACCC?ECMCcAyAeBeCEKAAAAc@o@{@qAEEc@q@We@GIW]IKOUMQIK_AwA]g@MQg@s@S[OUa@k@m@}@oAiBW_@ACkBkCYa@S[Yc@a@k@e@q@W_@U]sCcEOUQW]e@]g@_@k@a@m@IOMO?Aw@iAGGAEw@kAcAiBi@cAg@cAg@_AMW?Ae@u@o@aAEKEGYa@UYS[Y_@Y_@_AuAGKq@aAsCcEOU}AwBoAiBcAwAk@}@m@}@i@w@sAqBw@kAU]U_@}@sAaAsAy@mAA?e@s@m@}@w@iAs@eAGIEGsB{CQWc@m@[c@EKSWSYa@k@QUq@cACESWACCEMOkAcBMQc@i@OS_@e@e@i@KOcAkAMOe@q@MQW_@m@}@_@e@KOm@{@EEQUGKGIIKkAeBw@iAWa@Yc@'},\n",
       "       'start_location': {'lat': 41.3418759, 'lng': 2.1055647},\n",
       "       'travel_mode': 'DRIVING'},\n",
       "      {'distance': {'text': '1.4 km', 'value': 1364},\n",
       "       'duration': {'text': '3 mins', 'value': 193},\n",
       "       'end_location': {'lat': 41.3732234, 'lng': 2.146812},\n",
       "       'html_instructions': 'Keep <b>left</b> to continue on <b>Gran Via de les Corts Catalanes</b>/<wbr/><b>C-31</b>',\n",
       "       'maneuver': 'keep-left',\n",
       "       'polyline': {'points': 'q_n{Fo``LmAgB_@g@iAaBIM_CmDAAc@o@KOGOKSmAcBWa@m@_AEC?AOCCCACo@_AOUYc@gA}Aa@m@IMOQ]g@[e@GG_AwA}A_CMQe@o@U[U_@u@gAoBsCU]W[qBwCS[g@u@_CgD[e@OUGI[e@ESS['},\n",
       "       'start_location': {'lat': 41.3645667, 'lng': 2.1352815},\n",
       "       'travel_mode': 'DRIVING'},\n",
       "      {'distance': {'text': '2.4 km', 'value': 2370},\n",
       "       'duration': {'text': '6 mins', 'value': 366},\n",
       "       'end_location': {'lat': 41.3882792, 'lng': 2.1667171},\n",
       "       'html_instructions': 'Keep <b>left</b> to stay on <b>Gran Via de les Corts Catalanes</b>/<wbr/><b>C-31</b><div style=\"font-size:0.9em\">Continue to follow Gran Via de les Corts Catalanes</div><div style=\"font-size:0.9em\">Parts of this road are closed Sundays 8:30\\u202fAM\\u2009–\\u20092:30\\u202fPM</div>',\n",
       "       'maneuver': 'keep-left',\n",
       "       'polyline': {'points': 'suo{FqhbLq@cAs@gAYc@q@aAGKCGGMEOEOAEEWGWCOEMCKEOEKGOEKEKKOGKEGGIGGGGIIKIIEGGIEAAKEQISKICCCQIMGGEMKIGGGKKEEOQGGEGGGU]KQU]GIQY_AwAs@eA}AyBkAcBkDeFgDcFq@cAo@aAeAaBgBkCaAwA}@oA{@oAe@q@KIgDaFkD_FsAoBwAqBQSoAkBCEU[W_@[a@kAgBgA_B{D}F_CgDYa@q@aA'},\n",
       "       'start_location': {'lat': 41.3732234, 'lng': 2.146812},\n",
       "       'travel_mode': 'DRIVING'},\n",
       "      {'distance': {'text': '0.2 km', 'value': 173},\n",
       "       'duration': {'text': '1 min', 'value': 38},\n",
       "       'end_location': {'lat': 41.3892592, 'lng': 2.1682998},\n",
       "       'html_instructions': 'Slight <b>right</b> to stay on <b>Gran Via de les Corts Catalanes</b><div style=\"font-size:0.9em\">Parts of this road are closed Sundays 8:30\\u202fAM\\u2009–\\u20092:30\\u202fPM</div>',\n",
       "       'maneuver': 'turn-slight-right',\n",
       "       'polyline': {'points': 'wsr{F_efLAKOo@Oe@eCuDMQMQ'},\n",
       "       'start_location': {'lat': 41.3882792, 'lng': 2.1667171},\n",
       "       'travel_mode': 'DRIVING'},\n",
       "      {'distance': {'text': '0.2 km', 'value': 212},\n",
       "       'duration': {'text': '2 mins', 'value': 92},\n",
       "       'end_location': {'lat': 41.3879805, 'lng': 2.1701411},\n",
       "       'html_instructions': 'Turn <b>right</b> onto <b>Pg. de Gràcia</b>',\n",
       "       'maneuver': 'turn-right',\n",
       "       'polyline': {'points': '{yr{F{nfLFYBIJg@l@y@bAyANQPW^e@X_@X_@'},\n",
       "       'start_location': {'lat': 41.3892592, 'lng': 2.1682998},\n",
       "       'travel_mode': 'DRIVING'},\n",
       "      {'distance': {'text': '0.1 km', 'value': 147},\n",
       "       'duration': {'text': '1 min', 'value': 43},\n",
       "       'end_location': {'lat': 41.3873705, 'lng': 2.1685832},\n",
       "       'html_instructions': 'Turn <b>right</b> onto <b>Pl. de Catalunya</b><div style=\"font-size:0.9em\">Parts of this road are closed Sundays 8:30\\u202fAM\\u2009–\\u20092:30\\u202fPM</div>',\n",
       "       'maneuver': 'turn-right',\n",
       "       'polyline': {'points': '{qr{FkzfLN^LXXhAPl@ZpANb@BN'},\n",
       "       'start_location': {'lat': 41.3879805, 'lng': 2.1701411},\n",
       "       'travel_mode': 'DRIVING'}],\n",
       "     'traffic_speed_entry': [],\n",
       "     'via_waypoint': []}],\n",
       "   'overview_polyline': {'points': '{ztuFborU`Pbn@@pmAfm@{Htu@{`A`n@soBuFwkBsyAkgAc`B{f@avAdCwt@}C{a@oeAKczEX{~HdQwbDcc@qgCkzAwaHsp@s|IcoDwfG|GchEgdEmnHw}Nm`OodAcjBbQsnCeEotAwy@wf@ydAs^kj@e{A{rDszDkyCq|B_hCyxCasDclEolMg`TmxCoeKusE_`MomLw_Su_A{}F{d@q_BmiAkp@c}AarEizA{`D}Qc`DmaAstB_d@}dDsXmsDcaB{GitCw[y|Cjg@mm@{[enAl@mfAo\\\\oj@uv@_eD_`BseAqsBy}@f[cq@qp@cg@eoDrMepE}MigFku@o]mk@u~@wOaqBagA_rC}kCuyGq}BisBkeBi`Au~@anCgb@acHyt@m{EpH}tGvhAawHlDe{Co[_`B_Og}A_m@aUpHccAm[_cB}Ie`BvQmxBlV}cDcRccEhl@sxBbZshE_cCq|Lu{@{`EasAa{A{}@yrC{eAaaCc~Acu@utAefD}DqfAun@l@yIo|Bw~CucDydA}z@mtAwO}}ByvCaa@ylA|^os@pYwsCekBemKizEe{N_vCymJsL_eCdrAs`CqMoqAe[{c@}eBatAwrBweCyPapAaq@{TknAykAiq@mmCuaAkpIum@seC{jA_u@_mDsdF{]e{A~Ja`FvSe_Fdj@ikCzeAq`FjlBc~CzhB}hFtj@aaBrmAg|@juAqj@~^svAxgAa|AjXocBv}AyuFptAqzEaYmyB|g@aqBr{AemEcBksFhIcrB{^oxBdd@uyEse@}eFpz@ipFgDcrFfIs|Gau@a_Evo@ejGh@krHxc@c_SfCowD{t@{mAi]mfCphBywDjlAiuDbk@kyEjcAksFjn@_sCdFmaFrIghG_nBweD}p@onF_Ry}Coy@}pB{dAisFobBiwCcz@gaBxMiiDgNalH{lA}kGn_BgvFyVcqF~hAeoD~`Cy`FdU{qCsh@i_CbNwqFv_GmnInoCunB`dA}~BbkBo}Gro@exIfH}oJrl@s~Kp~AcwDi^wdGyEc{Fnn@eqD~`F_bDb`Csk@bkBstA|mB{fCs[gtAzY_tAr]{xEhVecEtVqtHpoAqtGooBopEqk@alBqjAgrBkwBwpDeb@yfDfGmoBoTcfCeaBoh@g{CiyAi}@gm@}`@srBqo@qvAueAum@ydAy~A{UihCst@y_Ca}@oi@qq@qfEycBm}Eil@ouB|JwgBfC_sBnj@utAllCg|BteKebEhfBmwBrjAylAzW{_Cte@mnBcsAglB{hCwuD{pAm}B'},\n",
       "   'summary': 'AP-2 and A-2',\n",
       "   'warnings': [],\n",
       "   'waypoint_order': []}],\n",
       " 'status': 'OK'}"
      ]
     },
     "execution_count": 47,
     "metadata": {},
     "output_type": "execute_result"
    }
   ],
   "source": [
    "data = resp.json()\n",
    "data"
   ]
  },
  {
   "cell_type": "markdown",
   "metadata": {
    "collapsed": true
   },
   "source": [
    "# OMDB\n"
   ]
  },
  {
   "cell_type": "code",
   "execution_count": 31,
   "metadata": {
    "collapsed": true
   },
   "outputs": [],
   "source": [
    "import requests\n",
    "\n",
    "clave = \"3d2159b8\"\n",
    "url = \"http://www.omdbapi.com/?apikey=\" + clave\n",
    "r = requests.get(url, {\"s\" : \"The Matrix\", \"type\" : \"movie\"})"
   ]
  },
  {
   "cell_type": "code",
   "execution_count": 32,
   "metadata": {},
   "outputs": [
    {
     "data": {
      "text/plain": [
       "{'Search': [{'Title': 'The Matrix',\n",
       "   'Year': '1999',\n",
       "   'imdbID': 'tt0133093',\n",
       "   'Type': 'movie',\n",
       "   'Poster': 'https://m.media-amazon.com/images/M/MV5BNzQzOTk3OTAtNDQ0Zi00ZTVkLWI0MTEtMDllZjNkYzNjNTc4L2ltYWdlXkEyXkFqcGdeQXVyNjU0OTQ0OTY@._V1_SX300.jpg'},\n",
       "  {'Title': 'The Matrix Reloaded',\n",
       "   'Year': '2003',\n",
       "   'imdbID': 'tt0234215',\n",
       "   'Type': 'movie',\n",
       "   'Poster': 'https://m.media-amazon.com/images/M/MV5BODE0MzZhZTgtYzkwYi00YmI5LThlZWYtOWRmNWE5ODk0NzMxXkEyXkFqcGdeQXVyNjU0OTQ0OTY@._V1_SX300.jpg'},\n",
       "  {'Title': 'The Matrix Revolutions',\n",
       "   'Year': '2003',\n",
       "   'imdbID': 'tt0242653',\n",
       "   'Type': 'movie',\n",
       "   'Poster': 'https://m.media-amazon.com/images/M/MV5BNzNlZTZjMDctZjYwNi00NzljLWIwN2QtZWZmYmJiYzQ0MTk2XkEyXkFqcGdeQXVyNTAyODkwOQ@@._V1_SX300.jpg'},\n",
       "  {'Title': 'The Matrix Resurrections',\n",
       "   'Year': '2021',\n",
       "   'imdbID': 'tt10838180',\n",
       "   'Type': 'movie',\n",
       "   'Poster': 'https://m.media-amazon.com/images/M/MV5BMGJkNDJlZWUtOGM1Ny00YjNkLThiM2QtY2ZjMzQxMTIxNWNmXkEyXkFqcGdeQXVyMDM2NDM2MQ@@._V1_SX300.jpg'},\n",
       "  {'Title': \"Making 'The Matrix'\",\n",
       "   'Year': '1999',\n",
       "   'imdbID': 'tt0365467',\n",
       "   'Type': 'movie',\n",
       "   'Poster': 'https://m.media-amazon.com/images/M/MV5BZjJjMTg5MTEtMDkwMy00ZjUyLTg5ODYtMmNmY2ZiNGVlZTdjXkEyXkFqcGdeQXVyODA1NjQ0OTY@._V1_SX300.jpg'},\n",
       "  {'Title': 'The Matrix Revisited',\n",
       "   'Year': '2001',\n",
       "   'imdbID': 'tt0295432',\n",
       "   'Type': 'movie',\n",
       "   'Poster': 'https://m.media-amazon.com/images/M/MV5BMTkzNjg3NjE4N15BMl5BanBnXkFtZTgwNTc3NTAwNzE@._V1_SX300.jpg'},\n",
       "  {'Title': 'A Glitch in the Matrix',\n",
       "   'Year': '2021',\n",
       "   'imdbID': 'tt9847360',\n",
       "   'Type': 'movie',\n",
       "   'Poster': 'https://m.media-amazon.com/images/M/MV5BMWRhNGY3NGQtMDAxMS00YjY2LTgzOTUtZjljZmUyYWQwMGI2XkEyXkFqcGdeQXVyMDM2NDM2MQ@@._V1_SX300.jpg'},\n",
       "  {'Title': 'Sex and the Matrix',\n",
       "   'Year': '2000',\n",
       "   'imdbID': 'tt0274085',\n",
       "   'Type': 'movie',\n",
       "   'Poster': 'https://m.media-amazon.com/images/M/MV5BYjBlMDFiODYtZmE2Ny00Y2JjLWIxYTAtMTRhYWQ1ZmM0OGE3XkEyXkFqcGdeQXVyNjQzNDI3NzY@._V1_SX300.jpg'},\n",
       "  {'Title': 'The Matrix Reloaded Revisited',\n",
       "   'Year': '2004',\n",
       "   'imdbID': 'tt1830850',\n",
       "   'Type': 'movie',\n",
       "   'Poster': 'https://m.media-amazon.com/images/M/MV5BODBlZmFiMTktOTkyMy00OWFkLTg0ZTAtODJkY2VlYWQ0NWM1XkEyXkFqcGdeQXVyODA1NjQ0OTY@._V1_SX300.jpg'},\n",
       "  {'Title': 'Return to Source: Philosophy & The Matrix',\n",
       "   'Year': '2004',\n",
       "   'imdbID': 'tt0439783',\n",
       "   'Type': 'movie',\n",
       "   'Poster': 'https://m.media-amazon.com/images/M/MV5BODJjOTEyYTAtMGYwMC00ZDc5LTg5ZGItMGJmNzM4MjUzM2Q5XkEyXkFqcGdeQXVyODA1NjQ0OTY@._V1_SX300.jpg'}],\n",
       " 'totalResults': '86',\n",
       " 'Response': 'True'}"
      ]
     },
     "execution_count": 32,
     "metadata": {},
     "output_type": "execute_result"
    }
   ],
   "source": [
    "r.json()"
   ]
  },
  {
   "cell_type": "code",
   "execution_count": 33,
   "metadata": {},
   "outputs": [
    {
     "data": {
      "text/plain": [
       "{'Title': 'The Matrix',\n",
       " 'Year': '1999',\n",
       " 'Rated': 'R',\n",
       " 'Released': '31 Mar 1999',\n",
       " 'Runtime': '136 min',\n",
       " 'Genre': 'Action, Sci-Fi',\n",
       " 'Director': 'Lana Wachowski, Lilly Wachowski',\n",
       " 'Writer': 'Lilly Wachowski, Lana Wachowski',\n",
       " 'Actors': 'Keanu Reeves, Laurence Fishburne, Carrie-Anne Moss',\n",
       " 'Plot': 'When a beautiful stranger leads computer hacker Neo to a forbidding underworld, he discovers the shocking truth--the life he knows is the elaborate deception of an evil cyber-intelligence.',\n",
       " 'Language': 'English',\n",
       " 'Country': 'United States, Australia',\n",
       " 'Awards': 'Won 4 Oscars. 42 wins & 52 nominations total',\n",
       " 'Poster': 'https://m.media-amazon.com/images/M/MV5BNzQzOTk3OTAtNDQ0Zi00ZTVkLWI0MTEtMDllZjNkYzNjNTc4L2ltYWdlXkEyXkFqcGdeQXVyNjU0OTQ0OTY@._V1_SX300.jpg',\n",
       " 'Ratings': [{'Source': 'Internet Movie Database', 'Value': '8.7/10'},\n",
       "  {'Source': 'Rotten Tomatoes', 'Value': '83%'},\n",
       "  {'Source': 'Metacritic', 'Value': '73/100'}],\n",
       " 'Metascore': '73',\n",
       " 'imdbRating': '8.7',\n",
       " 'imdbVotes': '2,034,744',\n",
       " 'imdbID': 'tt0133093',\n",
       " 'Type': 'movie',\n",
       " 'DVD': '01 Jan 2009',\n",
       " 'BoxOffice': '$172,076,928',\n",
       " 'Production': 'N/A',\n",
       " 'Website': 'N/A',\n",
       " 'Response': 'True'}"
      ]
     },
     "execution_count": 33,
     "metadata": {},
     "output_type": "execute_result"
    }
   ],
   "source": [
    "r = requests.get(url, {\"i\" : \"tt0133093\", \"type\" : \"movie\"})\n",
    "r.json()"
   ]
  },
  {
   "cell_type": "code",
   "execution_count": 34,
   "metadata": {},
   "outputs": [
    {
     "data": {
      "text/plain": [
       "{'Title': 'The Matrix',\n",
       " 'Year': '1999',\n",
       " 'Rated': 'R',\n",
       " 'Released': '31 Mar 1999',\n",
       " 'Runtime': '136 min',\n",
       " 'Genre': 'Action, Sci-Fi',\n",
       " 'Director': 'Lana Wachowski, Lilly Wachowski',\n",
       " 'Writer': 'Lilly Wachowski, Lana Wachowski',\n",
       " 'Actors': 'Keanu Reeves, Laurence Fishburne, Carrie-Anne Moss',\n",
       " 'Plot': 'When a beautiful stranger leads computer hacker Neo to a forbidding underworld, he discovers the shocking truth--the life he knows is the elaborate deception of an evil cyber-intelligence.',\n",
       " 'Language': 'English',\n",
       " 'Country': 'United States, Australia',\n",
       " 'Awards': 'Won 4 Oscars. 42 wins & 52 nominations total',\n",
       " 'Poster': 'https://m.media-amazon.com/images/M/MV5BNzQzOTk3OTAtNDQ0Zi00ZTVkLWI0MTEtMDllZjNkYzNjNTc4L2ltYWdlXkEyXkFqcGdeQXVyNjU0OTQ0OTY@._V1_SX300.jpg',\n",
       " 'Ratings': [{'Source': 'Internet Movie Database', 'Value': '8.7/10'},\n",
       "  {'Source': 'Rotten Tomatoes', 'Value': '83%'},\n",
       "  {'Source': 'Metacritic', 'Value': '73/100'}],\n",
       " 'Metascore': '73',\n",
       " 'imdbRating': '8.7',\n",
       " 'imdbVotes': '2,034,744',\n",
       " 'imdbID': 'tt0133093',\n",
       " 'Type': 'movie',\n",
       " 'DVD': '01 Jan 2009',\n",
       " 'BoxOffice': '$172,076,928',\n",
       " 'Production': 'N/A',\n",
       " 'Website': 'N/A',\n",
       " 'Response': 'True'}"
      ]
     },
     "execution_count": 34,
     "metadata": {},
     "output_type": "execute_result"
    }
   ],
   "source": [
    "r = requests.get(url, {\"t\" : \"The Matrix\", \"type\" : \"movie\"})\n",
    "r.json()"
   ]
  },
  {
   "cell_type": "code",
   "execution_count": null,
   "metadata": {
    "collapsed": true
   },
   "outputs": [],
   "source": []
  }
 ],
 "metadata": {
  "kernelspec": {
   "display_name": "Python 3",
   "language": "python",
   "name": "python3"
  },
  "language_info": {
   "codemirror_mode": {
    "name": "ipython",
    "version": 3
   },
   "file_extension": ".py",
   "mimetype": "text/x-python",
   "name": "python",
   "nbconvert_exporter": "python",
   "pygments_lexer": "ipython3",
   "version": "3.9.13"
  }
 },
 "nbformat": 4,
 "nbformat_minor": 2
}
