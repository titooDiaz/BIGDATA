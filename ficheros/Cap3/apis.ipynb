{
 "cells": [
  {
   "cell_type": "markdown",
   "metadata": {},
   "source": [
    "# Uso de APIs para obtención de datos desde servicios web\n",
    "\n",
    "En este capítulo mostramos las APIs de Twitter e IMDB para acceder a los datos que tienen almacenados.\n",
    "\n",
    "## Twitter\n",
    "\n",
    "En primer lugar mostramos la interfaz Twitter, en la que empezamos dando valores a las claves obtenidas cuando dimos de alta nuestra aplicación como desarrolladores.\n",
    "[aqui](https://apps.twitter.com/)"
   ]
  },
  {
   "cell_type": "code",
   "execution_count": 1,
   "metadata": {},
   "outputs": [],
   "source": [
    "#PIS's PERSONALES\n",
    "from dotenv import load_dotenv\n",
    "import os\n",
    "\n",
    "load_dotenv()\n",
    "\n",
    "\n",
    "# Acceder a los valores de las variables de entorno\n",
    "CONSUMER_TOKEN = os.getenv(\"CONSUMER_TOKEN\")\n",
    "CONSUMER_SECRET = os.getenv(\"CONSUMER_SECRET\")\n",
    "ACCESS_TOKEN = os.getenv(\"ACCESS_TOKEN\")\n",
    "ACCESS_TOKEN_SECRET = os.getenv(\"ACCESS_TOKEN_SECRET\")\n",
    "\n",
    "#API's DEL LIBRO\n",
    "if CONSUMER_TOKEN == None or CONSUMER_SECRET == None or ACCESS_TOKEN == None or ACCESS_TOKEN_SECRET ==  None:\n",
    "    CONSUMER_TOKEN = \"2WIxFsFs2AMzj2ecJDv6SHc27\"\n",
    "    CONSUMER_SECRET = \"iBfGSSgjr9o1q18bULAp0OBeSN7NqU3wPvFUCYJU8KxZgLILZX\"\n",
    "    ACCESS_TOKEN = '1003920321441927168-0GllZYAGrmKA817B3KxT1y1AQxw9Ob'\n",
    "    ACCESS_TOKEN_SECRET = 'rvhyp5BvkDgJq6bvoTHnhe8AUlOqgCUS1OidPQ6VbI9Tc'\n",
    "    print(\"passwords del libro\")"
   ]
  },
  {
   "cell_type": "code",
   "execution_count": 2,
   "metadata": {},
   "outputs": [],
   "source": [
    "import tweepy\n",
    "import json\n",
    "\n",
    "auth = tweepy.OAuthHandler(CONSUMER_TOKEN, CONSUMER_SECRET) #Autentificacion\n",
    "auth.set_access_token(ACCESS_TOKEN, ACCESS_TOKEN_SECRET) #Introducir nuestros tokens\n",
    "api = tweepy.API(auth) #Objeto apra realizar las consultas"
   ]
  },
  {
   "cell_type": "markdown",
   "metadata": {},
   "source": [
    "Buscaremos publciaciones que contengan la palaba python"
   ]
  },
  {
   "cell_type": "code",
   "execution_count": 3,
   "metadata": {},
   "outputs": [],
   "source": [
    "import tweepy\n",
    "import json\n",
    "\n",
    "CONSUMER_TOKEN = \"2WIxFsFs2AMzj2ecJDv6SHc27\"\n",
    "CONSUMER_SECRET = \"iBfGSSgjr9o1q18bULAp0OBeSN7NqU3wPvFUCYJU8KxZgLILZX\"\n",
    "ACCESS_TOKEN = '1003920321441927168-0GllZYAGrmKA817B3KxT1y1AQxw9Ob'\n",
    "ACCESS_TOKEN_SECRET = 'rvhyp5BvkDgJq6bvoTHnhe8AUlOqgCUS1OidPQ6VbI9Tc'\n",
    "\n",
    "auth = tweepy.OAuthHandler(CONSUMER_TOKEN, CONSUMER_SECRET)\n",
    "auth.set_access_token(ACCESS_TOKEN, ACCESS_TOKEN_SECRET)\n",
    "api = tweepy.API(auth)"
   ]
  },
  {
   "cell_type": "code",
   "execution_count": 4,
   "metadata": {},
   "outputs": [
    {
     "name": "stdout",
     "output_type": "stream",
     "text": [
      "esta clave no es de pago!\n"
     ]
    }
   ],
   "source": [
    "try:\n",
    "    lista_tweets = api.search(q=\"python\")\n",
    "    lista_json = []\n",
    "    for tweet in lista_tweets:\n",
    "        lista_json.append(tweet._json)\n",
    "    lista_json[0]\n",
    "except:\n",
    "    print(\"esta clave no es de pago!\")"
   ]
  },
  {
   "cell_type": "markdown",
   "metadata": {},
   "source": [
    "En el libro hay mas contenido sobre twwter, pero como no es gratuito, no hablaremos mas de eso..."
   ]
  },
  {
   "cell_type": "markdown",
   "metadata": {},
   "source": [
    "# API DE GOOGLE MAPS"
   ]
  },
  {
   "cell_type": "markdown",
   "metadata": {},
   "source": [
    "supongamos que queremos saber cuanto tardamos de una localizacion  a otra:"
   ]
  },
  {
   "cell_type": "code",
   "execution_count": 5,
   "metadata": {},
   "outputs": [],
   "source": [
    "import requests"
   ]
  },
  {
   "cell_type": "markdown",
   "metadata": {},
   "source": [
    "Para acceder usaremos la url y los aprametros que especifican el origen."
   ]
  },
  {
   "cell_type": "code",
   "execution_count": 6,
   "metadata": {},
   "outputs": [],
   "source": [
    "MAPS = os.getenv(\"MAPS\")#TU CLAVE"
   ]
  },
  {
   "cell_type": "code",
   "execution_count": 7,
   "metadata": {},
   "outputs": [],
   "source": [
    "URL = \"https://maps.googleapis.com/maps/api/directions/json\"\n",
    "params = dict(\n",
    "    origin='Bucaramanga, Colombia',\n",
    "    destination= 'Bogota, Colombia',\n",
    "    mode='driving',\n",
    "    key=MAPS\n",
    ")"
   ]
  },
  {
   "cell_type": "markdown",
   "metadata": {},
   "source": [
    "Estamos listos para hacer la peticion, en este caso un GET!"
   ]
  },
  {
   "cell_type": "code",
   "execution_count": 8,
   "metadata": {},
   "outputs": [],
   "source": [
    "resp= requests.get(url=URL, params=params)"
   ]
  },
  {
   "cell_type": "markdown",
   "metadata": {},
   "source": [
    "accedemos a la respuesta desde un json para leerla mas facil"
   ]
  },
  {
   "cell_type": "code",
   "execution_count": 9,
   "metadata": {},
   "outputs": [
    {
     "data": {
      "text/plain": [
       "{'geocoded_waypoints': [{'geocoder_status': 'OK',\n",
       "   'place_id': 'ChIJ7cBR93oVaI4RbMNIEVXkoHU',\n",
       "   'types': ['locality', 'political']},\n",
       "  {'geocoder_status': 'OK',\n",
       "   'place_id': 'ChIJKcumLf2bP44RFDmjIFVjnSM',\n",
       "   'types': ['locality', 'political']}],\n",
       " 'routes': [{'bounds': {'northeast': {'lat': 7.119338399999999,\n",
       "     'lng': -72.9886968},\n",
       "    'southwest': {'lat': 4.7073335, 'lng': -74.0722109}},\n",
       "   'copyrights': 'Map data ©2024',\n",
       "   'legs': [{'distance': {'text': '424 km', 'value': 424247},\n",
       "     'duration': {'text': '8 hours 38 mins', 'value': 31059},\n",
       "     'end_address': 'Bogotá, Bogota, Colombia',\n",
       "     'end_location': {'lat': 4.710961999999999, 'lng': -74.0722109},\n",
       "     'start_address': 'Bucaramanga, Santander, Colombia',\n",
       "     'start_location': {'lat': 7.119338399999999, 'lng': -73.1227368},\n",
       "     'steps': [{'distance': {'text': '0.2 km', 'value': 236},\n",
       "       'duration': {'text': '1 min', 'value': 64},\n",
       "       'end_location': {'lat': 7.119858, 'lng': -73.12068210000001},\n",
       "       'html_instructions': 'Head <b>east</b> on <b>Cl. 36</b> toward <b>Cra. 20</b>',\n",
       "       'polyline': {'points': '{nmj@bxh}LEMCMCQ?GAK?K@K@S?GAICKWiAIYSmA_@}A'},\n",
       "       'start_location': {'lat': 7.119338399999999, 'lng': -73.1227368},\n",
       "       'travel_mode': 'DRIVING'},\n",
       "      {'distance': {'text': '0.5 km', 'value': 461},\n",
       "       'duration': {'text': '2 mins', 'value': 142},\n",
       "       'end_location': {'lat': 7.116084499999999, 'lng': -73.1189453},\n",
       "       'html_instructions': 'Turn <b>right</b> onto <b>Cra. 22</b>',\n",
       "       'maneuver': 'turn-right',\n",
       "       'polyline': {'points': 'crmj@fkh}LdA_@dAa@~Ag@~Ag@pAg@pAg@t@YNGdA_@LGhBm@'},\n",
       "       'start_location': {'lat': 7.119858, 'lng': -73.12068210000001},\n",
       "       'travel_mode': 'DRIVING'},\n",
       "      {'distance': {'text': '0.5 km', 'value': 498},\n",
       "       'duration': {'text': '2 mins', 'value': 109},\n",
       "       'end_location': {'lat': 7.1132662, 'lng': -73.1223193},\n",
       "       'html_instructions': 'Slight <b>right</b> onto <b>Cra. 21</b>/<wbr/><b>Av. La Rosita</b><div style=\"font-size:0.9em\">Continue to follow Av. La Rosita</div>',\n",
       "       'maneuver': 'turn-slight-right',\n",
       "       'polyline': {'points': 'ozlj@l`h}Lr@X^PVPZRNL|@z@r@t@jAlAJJLLX^Xf@Th@nA|CDJ`@jA'},\n",
       "       'start_location': {'lat': 7.116084499999999, 'lng': -73.1189453},\n",
       "       'travel_mode': 'DRIVING'},\n",
       "      {'distance': {'text': '0.2 km', 'value': 197},\n",
       "       'duration': {'text': '1 min', 'value': 32},\n",
       "       'end_location': {'lat': 7.1122223, 'lng': -73.1217162},\n",
       "       'html_instructions': 'Turn <b>left</b> onto <b>Dg. 15</b>',\n",
       "       'maneuver': 'turn-left',\n",
       "       'polyline': {'points': '}hlj@nuh}LJVJRJNRHLBJBBGJQXe@`@u@T]\\\\q@'},\n",
       "       'start_location': {'lat': 7.1132662, 'lng': -73.1223193},\n",
       "       'travel_mode': 'DRIVING'},\n",
       "      {'distance': {'text': '1.0 km', 'value': 1006},\n",
       "       'duration': {'text': '2 mins', 'value': 132},\n",
       "       'end_location': {'lat': 7.106591, 'lng': -73.1145961},\n",
       "       'html_instructions': 'Keep <b>left</b> to stay on <b>Dg. 15</b>',\n",
       "       'maneuver': 'keep-left',\n",
       "       'polyline': {'points': 'kblj@vqh}LL[\\\\q@JQ\\\\g@HKf@u@hAsA~@sAh@o@NUPUfBaCTYl@y@NSf@q@r@}@|AgBVYBEDEfAyAZc@\\\\e@X_@Va@j@}@j@{@`@i@T[j@s@'},\n",
       "       'start_location': {'lat': 7.1122223, 'lng': -73.1217162},\n",
       "       'travel_mode': 'DRIVING'},\n",
       "      {'distance': {'text': '1.6 km', 'value': 1640},\n",
       "       'duration': {'text': '2 mins', 'value': 106},\n",
       "       'end_location': {'lat': 7.0941348, 'lng': -73.1104179},\n",
       "       'html_instructions': 'Continue onto <b>Av. Floridablanca</b>',\n",
       "       'polyline': {'points': 'e_kj@feg}LJQPSb@o@PWLWFKDKLUJWh@eAf@gA|@yAR]bBuCPW?A\\\\c@@CDGPQHGFEHENIHCBAHAFADAFA@?BAF?NAF?D?N?L@N?J@B@HBPDJDvB~@\\\\Ph@PPNPFXJVF\\\\J\\\\FVB`@DZ?V?B?T@T?L?JAPANANAPATCj@KdAQB?ZEFAFA`@IlAO`@G|@OnBYPCNCF?JC`@G@?LAVGbAOpBY|AQTCDA`@EtC[TEBAFAb@G'},\n",
       "       'start_location': {'lat': 7.106591, 'lng': -73.1145961},\n",
       "       'travel_mode': 'DRIVING'},\n",
       "      {'distance': {'text': '0.7 km', 'value': 745},\n",
       "       'duration': {'text': '1 min', 'value': 46},\n",
       "       'end_location': {'lat': 7.0878219, 'lng': -73.108156},\n",
       "       'html_instructions': 'Keep <b>left</b> to continue on <b>AP Floridablanca-Bucaramanga</b>/<wbr/><b>Av. Floridablanca</b>',\n",
       "       'maneuver': 'keep-left',\n",
       "       'polyline': {'points': 'iqhj@bkf}L~Ae@VEhD}@fBe@fHeBHC`@K`@Kt@QnBg@dEmALCb@Kf@Mf@K'},\n",
       "       'start_location': {'lat': 7.0941348, 'lng': -73.1104179},\n",
       "       'travel_mode': 'DRIVING'},\n",
       "      {'distance': {'text': '0.3 km', 'value': 278},\n",
       "       'duration': {'text': '1 min', 'value': 21},\n",
       "       'end_location': {'lat': 7.0853479, 'lng': -73.1079087},\n",
       "       'html_instructions': 'Keep <b>left</b> to stay on <b>AP Floridablanca-Bucaramanga</b>/<wbr/><b>Av. Floridablanca</b>',\n",
       "       'maneuver': 'keep-left',\n",
       "       'polyline': {'points': '{igj@~|e}L`@INC~@MVCT?j@@b@B`@Cn@AXC`@C~@IT?X?'},\n",
       "       'start_location': {'lat': 7.0878219, 'lng': -73.108156},\n",
       "       'travel_mode': 'DRIVING'},\n",
       "      {'distance': {'text': '0.5 km', 'value': 513},\n",
       "       'duration': {'text': '1 min', 'value': 34},\n",
       "       'end_location': {'lat': 7.080741, 'lng': -73.1080764},\n",
       "       'html_instructions': 'Keep <b>left</b> to stay on <b>AP Floridablanca-Bucaramanga</b>/<wbr/><b>Av. Floridablanca</b>',\n",
       "       'maneuver': 'keep-left',\n",
       "       'polyline': {'points': 'mzfj@l{e}L\\\\?|AFh@Bb@@tAApB?^@lCB~ABf@@dA@N@zAD^?'},\n",
       "       'start_location': {'lat': 7.0853479, 'lng': -73.1079087},\n",
       "       'travel_mode': 'DRIVING'},\n",
       "      {'distance': {'text': '4.5 km', 'value': 4493},\n",
       "       'duration': {'text': '5 mins', 'value': 323},\n",
       "       'end_location': {'lat': 7.0537484, 'lng': -73.0822625},\n",
       "       'html_instructions': 'Keep <b>left</b> to stay on <b>AP Floridablanca-Bucaramanga</b>/<wbr/><b>Av. Floridablanca</b>',\n",
       "       'maneuver': 'keep-left',\n",
       "       'polyline': {'points': 's}ej@n|e}Lz@?hABzAF~AHTBtABpBCnA@xCDd@@ZBnABb@BvBFf@An@A`@C\\\\CDANERC@A^GbASFA|@c@?AZSHEt@c@\\\\UTQl@g@d@c@\\\\a@PSHMBCBCdAoAJK`AkA`@[HMjC_Dd@m@hCgDbAsAT[DC`@o@n@_Ap@aAfBuC`@q@`A}Aj@aAR]JQHIb@o@l@aA`@u@`@o@Zg@PWh@{@DIT_@HOJOhAmBHO`AwAT]Vc@r@iA~AmC`@q@`A_BHMXg@rD_GRYzAeCv@iA\\\\g@T[T]V[PWpDwERWFIT[v@eA@AHMLOZc@@CT]NSPYFKBCFMFKZk@Rc@\\\\eABMJa@Zy@Jc@~@}CBI@E~AmFDMDSJa@Jc@Ja@Ja@Ja@Ja@DMDSJa@Ja@BGHYDOFQDMBEDEBCPORMFENGJCJA^EJAPALAF?LAHAHATIRE\\\\GNCPETGf@KHATE@Ab@ELCNAb@?'},\n",
       "       'start_location': {'lat': 7.080741, 'lng': -73.1080764},\n",
       "       'travel_mode': 'DRIVING'},\n",
       "      {'distance': {'text': '203 km', 'value': 202506},\n",
       "       'duration': {'text': '4 hours 42 mins', 'value': 16902},\n",
       "       'end_location': {'lat': 5.941484099999999, 'lng': -73.61295439999999},\n",
       "       'html_instructions': 'Continue onto <b>Zipaquirá - Palenque</b>/<wbr/><b>Route 45A</b><div style=\"font-size:0.9em\">Continue to follow Zipaquirá - Palenque</div><div style=\"font-size:0.9em\">Toll road</div>',\n",
       "       'polyline': {'points': '}t`j@b{`}LX?`@@\\\\?PAL?ZERAFAd@CjAEn@Aj@C@?XC\\\\Ch@IDA^Ir@SNIZM\\\\Ol@_@BAVUZY^e@d@c@PSTUbBaCv@iANUVWLMJGPKNINENEVEr@IDA~@Ij@IJAb@IRETIJEJGZUDETQROFEXWROFGVQBCHEHEJELENEB?HCLAHAD?NAL?`@@@?b@?F?N?DAL?t@MD?rAWl@Ob@MBAVGRCPCXAxAE^ATC\\\\EPCPIXKZSZYvA_Br@w@jAmAPSFGRWzB_C^]HIDAZU`@W`@Y@AJIBCLMHKDGh@y@~@wAR[FInAeBf@q@\\\\g@TSTQHELEHENCJALCL?`BCv@A`AAvA?z@?bBA^AP?XG\\\\KXMb@Wf@[XWv@m@|@i@VO\\\\OZMXIZEd@Ex@Kp@ITA?AB?\\\\EBA`@I\\\\K\\\\Q\\\\Yh@m@pDkEv@}@j@m@TS~CsDPS~AcB|AkBlAuAPWlBiC~AwBZa@XYDELKXQTM@A|BoAp@a@NK^W\\\\WHE`Aq@n@i@~@}@j@k@nAyArAyAzAeB~BmCv@{@~@cAf@e@h@c@d@]BAVSBAdAw@`@Y^WNIRI@?NERE`CQlAMLCTC~AMfAMVG|@Qh@Q@?\\\\KXIn@]t@[p@WJEj@Q\\\\KtCaA^MVGNEbBe@~Ac@BAVEZGRAVAT?T@@@D?^D@?RBF@d@FxATVDTDx@JJB`AL@?\\\\FB?@?P@H@x@DfA?vAAvAA`AAJ?V?t@An@At@EJAVGLCHAb@KjA[pDiAhA_@z@]z@[XKpC_AnAa@HC|@_@BAZOf@UZOZO\\\\U\\\\UHGNMt@i@b@_@ZW`@[PQTSLK`@_@fCuBHG|@u@TQDEj@k@pAuAPSRU^e@BEDGDEJKJMFIHITYTYnC_DHKRSBCTQDCXQBC\\\\QVSRKRM`DqBXSPKZS\\\\STOFE\\\\SZS\\\\UbAo@LKTMZWLM@AVWTU\\\\[RQ`A{@LMXYLMv@q@BEBAFMtAy@j@YBC@?`@UNKLILKHKHKFM^q@\\\\mALYLYPa@DOBGLKb@a@VQ\\\\URIRGVIj@G^EZ@Z@ZD\\\\HNFn@XzAv@zDjBn@T^NhAn@^RJFd@RPFTF^DH@B?B?@?L?`@Dj@Hr@LB@L@PDp@HRD@@NBPDRFPFPHPJTL?@TNd@Zx@l@\\\\TTPb@Xp@f@`@XDBZPTHVF@?XDH?L@v@J^Br@B~@BbAGlAGz@GfAK`CO`CQJAxAKhAIfAI^CPCXGHAHAl@MXK`@SLIf@[VOl@e@LKh@_@h@_@XSXWb@a@FERQ@A^URKb@OXGdAIbAEx@GFCHALETGJE?A\\\\QVUZWRUb@e@PWR_@JWBCP[P_@f@gAJULWT_@@ADELOHKLKLIZSVMp@_@rBoAhAq@HEPKNQNSLQDIBIFKBG@AH]\\\\eALe@HSz@kCJYNg@Rm@HSFOHMJMPUj@i@t@u@LOXYt@w@XYTUV[NW`@q@@AT[LOFILMHGLKJGTMDCb@Sr@[`Ac@|@e@VOLGJELEFALAfAMj@KRGXILGTINI@AROPQVWNUPYXa@RUVUPMTIp@[FE\\\\QXS@?TSDETSf@c@~@u@f@c@Z[LUFMBKBE?AFWBO@O?O?KCQG[Ok@EKGUEUE_@A[?U@O@KBOPm@HOBGFKFEBALEFAD?F@HBFDLJPRNPTLFDB@@@NDL@LAF?F?HEf@W^YLIpAaAVSROl@e@BCZYFIDE?AFIDKDM@M@K?C?C?GCIEKS]IQEIAGAEAG?I?E?A?E@GDK?ANSJMPONONKJIJERED?D@H@HDHHDDBFBH@D@J?f@?V@H?D@FFNHVHVNb@HPBDDBFDFDJBLBL@L?N?\\\\AHABAH?NEHCBALEJGLKHK?AJSDKLYBEDKJSHQFKR_@BGd@w@Za@t@w@d@c@PMLIXMb@MLC`@KrA]h@On@Kr@KLAb@EXCXC`@AT?@?|@Bd@B^@Z?R?^ANAR?XAH?b@AB?^ANAR?P@PBNFNFf@VPFXHVBb@Fl@Dp@Bd@AP?`@ELA\\\\GZMTUn@u@V[TYf@i@TQn@c@j@a@vAe@xBw@lAe@PI\\\\Q\\\\ObAs@JMFM@ADOPu@DMFOl@w@X]z@}@DCJGHGFC^G@?RCJELKFGDEBCd@s@NQFEFCFAN?F@B?FBFDZ\\\\PRJHRFNDN@LAZCRILGJKJ[Js@DQBOJQRUhAw@RWHU@CF]Jc@Jg@`@}APa@JY@Eb@m@b@g@FG\\\\]TSNIVI|A]VKNIFGTODGNQt@_AfC_D^g@TQRKZM\\\\KRCHCVCrAE`@Av@If@Gh@Kf@Kf@Sz@e@bBcAbC_BnBoAPQRSVYNURg@BEJYNa@N_@P_@FSDK?C@K@O?C?WCWCOOYS]GOCO?O?A@OJ_@Na@RSNKTMXEHAV?r@?T@Z?NCJCFEFGDK@CBI?GAICIEIGK_@e@w@w@eA_AMUCG?AAE?M@G@CBEFGPG`@IZCF@ZBZF\\\\PNLTRp@`@p@P\\\\Fb@@B?TCFADEHILQJYPk@JOFG@ADABAD@H@NDLHHDv@`@PDT@N@PCDALIHGDGDIBMDKFKDEd@a@d@_@XQ\\\\QPGLCJAd@@RAH?LAJCHCJGFGBCBGBKJa@DODOFGDEHCHERERELEFCVK@AzAw@\\\\MBAPKHE@AHI^]JKHIJIb@OTGNAPCL?P@lALb@@F?z@An@AH@L?RBt@JZ?B?@?D?LCFCBAJEt@WJCLEZGJALAZCZ?j@AHARA^GJAD?H?D?B@H@HBr@ZHBH@H?D?FAFAFCPId@Yn@c@ZUFCJEDAJCF?PAJALCDALCREDAj@GNEPGv@YXO\\\\Q`@O\\\\Mj@]\\\\SPKZM\\\\Md@KNKJODQ?QGIICKAOBOFC@[PA@iAp@m@T[LC@SFMBQBQ?k@?Q?I@G@GBODMFMDE@E@MBM@C@]AY?Y@U@M@s@NC?E@G?IACAGCECCG?G?C@E?AFKJOBCNSLKNOd@e@NKPMHEf@WfAg@x@Yr@W@?^Q^O^Q^Ox@c@^WDCRQVS\\\\]HILOZa@TQb@[VINGPERELCb@Gb@El@EdCCNAP?@?^?@@D?NBPBXL^ZfA`AbA~@LFLDH@H@D?@?D?L?DAFCVKDGFEHKDG@CNYLWBCDGNQFEFCHCFCHAHAL?x@BN?vB?PA\\\\EHCb@I|@_@LEJARAJ?R@^Bn@B`@?VCL?`@ElBMnAIvAKd@GZEVGNETKVSHINMNQBERSFILSP[@A@CDMb@yAHSFKFGJG?ANEPEDCLARANA\\\\Ab@@H@\\\\Db@DL?R@HAHAPGHGHITc@Vm@@AJQFE@A@AFCJCVCTCb@GLA|BYb@EJAXC`@EXEFAdBUBALATCF?F?P?r@HRBdALF@N@L?LAJ?JCNENEFELINKPSPUV_@@CHIJK@ADEDCPIJEHCZELCR?J?N@lBXr@JZFRFHDHFt@l@HDFBHBD@@?HBJ@J@D?\\\\?JCFCp@YRIPINCZKJCJEPIJEDELKBCJOBGDQDMDQDIDGBCDCDCDABAB?FAB?F@H@TDd@N@@\\\\JND~AVXFf@LLFJF@?JFLJDHDHJTH^BHDHDHDDFBF@RBV?TCb@ILANAJAL?L?RBXDTDJBJBJ?H?T?VAVCJAJCJA@AHCDCLGhAeAb@[b@]RMVMz@_@ZOh@_@r@m@BCLIJEHCHAHAHAZ@F?B?^AX?VAh@AHAD?REd@IXCFAF?J?N?\\\\Bv@BVBVDl@Lv@NTHTFXHF@B?D?F?HADADADAj@Yx@a@RIPG`@I|B_@vAYJAHCNEHCHE@?NGNKt@c@XOXKNC@?REJ?VAlAGJCD?JAD@J@HBFBDBBFBBBD@B@DBJD`@D^@JBH@FBDBFDHFDFFLJTJ@@VLD@`@NFBJBH@B?D?LAH?HALCFCLCFEHCFE@?RODELMJIBAFCFE`@K^MLEPGb@Oj@Kd@KPAb@Eb@BB?z@Nh@HLBt@L\\\\@F?DAFCJEFCLGHEFC?ATKFC^QLGHEFCPKJGHIFEFINOHIXYHKDEFIHIDGDG@AJSDKJUBKFMJQDGBGFMDGFQBGDM@AFOFO?AFOFOFQLW@GDMDM@EDMFULU?ADEHKFGBCJGJGHELEDAFAHCNAD?J?VAfACLAVAJ?@AJAHAFC@APGJIBALMHIRWLMNSLOJIHIVOVOLIPMPOJM`@i@FGJKNOHGJGDCFADCHA@?\\\\G@?dEe@bAM`AKf@G\\\\CZC`ACfBEtBEf@CRALCPCXKRIJEJEJCJCF?F@DBFDBDBD?@@B?D?F?JADENGPCJITENGPGRCJ?@AH?F@N@JHXHRHJBFFHDD@@JDNF@@H@JBJ@R?PAD?\\\\CVC^G`@K^Kl@Uf@Yv@[TI\\\\UPMDCTQJGVOXMdAS^Eb@Ed@Ej@E\\\\EREFCHCNIBCLILMLQDI?ADKDUB[?E@OJQFOVWp@e@d@WNKDCFCRE?AJ?P@JDHDHH@@PTNPTXl@h@XNFBPDF@@?F@H?NA@?ZK`@Ob@Qh@Sh@KNA`@E^Ef@Cb@AXEj@K@A^I?A`@GNAZD^FrADt@@|A?L?L@TB@?TBDBB@B@DFDHBH@HF^DRJRJN@@VTDDFFNF@@ZF\\\\BN?N@F@HBHFHL@?LVBDP\\\\P\\\\@@RXHHHFJFVHF@D?H?V?f@Eh@GPCPEPITKb@SNCTEb@CfACD?v@Il@ILENGHEJKBGDMDO?O@qABq@@c@@aA@c@@E@IBEBEDABABAB?F?D@B@FB@@NHl@RdAXB@TLVPFDXT@@@@BDBH?B?D?HCJGPGPCX@L@F?@@DBDB@LLLJHFHDJFL@F@L@L?N?\\\\?h@@R@b@Dn@FPBPDLDJF@@ZPDBb@VfA`@LBJD`@HNBN?D?DADADAJGVOTO@CRQLOPOXWFGNQXYBCLODEFIHEPIFCFAHAB?B@B?D@D@B@DBDDB@DDHJNLRLTLJHJJd@`@NHBBRHXJZHRDR@h@DP@PA^CPCLGRGTIf@YXMDCVMVOFCFCHAJAZAP?TDDBXNj@b@v@h@XR\\\\\\\\fAfAt@t@XR@@\\\\NFBLBJ@H?`@EXCLCRAB?b@AV?j@EPCT?t@?L?T?LAp@EZGLEJE@?XWXUZWXWd@_@NKb@Ud@STMJGPONITINCHAJAV?H?L@J@JDHFPLLPZ`@RZDLDLBJD\\\\DZ?FDRBJDJFNFN@BBBRTNJ@@NJJDB@JBF@L@J@P?NAREJCBARI@?PK^YDCl@g@ZUJEFCTE\\\\GNCZAH?NDFDHJFNFNNZ?BHNFHBBJNPNNPHLFLDJ@L?NCRMp@ABQZIPc@f@QZKXU|@EPINOTMNY`@S^MZEXIh@Ed@C^?^@^?bABxD?J?V?\\\\@p@?\\\\?b@DrD?dA?b@?b@?jB?X?F?@@d@?b@@|@?pA@N?b@?X?XBNHVd@dAl@`ARZ`@n@FJR\\\\R\\\\dAdBv@vAZl@BDBHHRDTBL?@@NDr@?B@H?FBFBHDJNVVXHHHF@@@@JBRD@?JBF@D@D@B@BB@BBB@DBF?@BFDPDJ@JBHBDBDHJHLTVLFD@F@F?JAHC@AFCTOPMRILAX?P?\\\\?H@ZDVDPDr@NN@B@X?D?X?z@AXCZARALCDAPCNCFAH?HAF?LEVETCN?N@FAB?D?FCBABADEJQFMDEBCFCB?FAL?HBLB@?LHNH@?HFD@F@F?J?FAFADCHGBENMJEFAH?B?J?F@JDF@FDDBFHHJHRFNFJFJLLFDHDPJPDRDd@HB@F?HAJANCDAH?B?@@B@@?FDFFHJFJDBDFBBDBFDDBLFJHJHDFDFHRDFDDHFFD?@FDFHFHDDFJFFDDDBJFHDD@B?F?L?L?PBHBFBHFFDDFJFZHPBb@BJ?b@@T?PBFBHDDB@BDFDJDJ@DFP@HBTB^H^FRBLHL@BBBBDDBB@B@B@H@HAHCLELGDAD?B?B?LBB@DDFHDDHH?@DBJDH@D@H?D@F?D@FBHDFDJLLPBBR\\\\T\\\\JPZ\\\\XVJFNFl@L|@J\\\\FDBJBVPJHVRNFH?H?J?HAHCNE^CV?P@N?PCNEVOp@g@`@]VQRMTGNEL@H@F@HBF@JBH?FANC^MPGPEN@B?LBNDNDPDP?N?LCVGB?`@MHAf@MPEFAZA@?LAH@HBFBFHDJ@D@DXjANf@@HBHDFDBLBD@H?H?@?HAXEZEPCZC^?F?Z@D?H@HBFDDFDHDJHb@J`@HZ@DVp@FLDHDDLFNDL@R@TAPAPCb@QVITGPEH?D?F@D?D@@@FBDF@BBFBLBN@D@DHNDF@BBBHJFFTNDDdAx@LJZVDD@@\\\\VPLZPp@PRDVBJ@P@Z@PBD@FDLDTL^RPHJF^LVFp@JPBB@HDLHFDDDJDD@D@@?X@@?^?hA@r@DRBZJ\\\\J|@P|@NTBB?R?hAOj@GFAF?D@F?F@D?FBBBBD@D@DBH?^?H@DBHBDBBDDDBDDFBH@B?H@\\\\@^BR?L@@?FBVJ^LHBVF\\\\Hb@DTBL?PALCLGJIPMPOPSJKLGJGTMNIFI@E@E@E?GAECEACGCECE?G?G@MHOJKHi@^e@ZIDM@G?K?GAMGi@Yk@c@sA}@KIQOGGEG_@e@_@e@EGGEMEKCI?I?OBUFq@RSDO@M?IAIEMGICKAS?YAQAKCQGSIMIOKMMEICGCMCKCGEKGGMMMIMEIASAA?[?i@?M?U?SEMGWMqAu@w@_@k@QOGGECCGMEYCICEGGEG]Qi@[{@o@WSKMCEGMEWAGC[?U@Q@MH_@FYHc@@S@OAICICGCISQMSKOYm@MUOMCAaBcAuAw@SM]U[Wa@e@W]KOEOEQ?CEQGKKMMGIGKEKAKAI?I@UDMBE?]Bc@DM?_@D[?G?GCECCCAC?AAA?E?C?A@E@CBEBCFEFCJC\\\\@X?NAD?\\\\CBA\\\\G`@In@I|@MB?N@N@B?D@BBBBDDDJP\\\\DHLPXXLLTL`@Nr@TTHPBRDRB\\\\DPB\\\\DNB^JF@J?H?JC@?DCDC@C@A?A@A?A?EAKACCCAACCOEa@Es@Ic@KYG]Ik@SECWMEEIGMOQSKOIOCGAG@Q@I@IBWBS@MAOAQAEEQIMGM?CAI?G@EBKBGDEFEHADAB?B@D@B@DDBD@FBHHdABXDJDHHHJFLFRBXBVB\\\\@P?LCLEBCBC@EBE?I?EACAACECEGCe@QUKOOGKCIAAAKCSCU?G@E@IBC@CFEDC@?DCB?BAD@D@BBDFv@rA^d@^l@DDDBFBJ@RADADE@A@E@C@C?E?ECMYw@c@wAIa@IUGOEGGEMGOCSAm@IE?MAQ?YBE@Y@I?O?SCMAQC]?Y@m@@k@BE?]?M?u@GQAGCEEIIGKOa@]y@[c@MMSOKEOEE?GAOAS@mCd@w@RYFcBd@]LQJOL[TOHMDSBO?GAGCOEyAq@MESIMCC?_@Aa@CMAQACAMCQKMKGIKWCMGSWo@AE?G@ODKNQ@?RK~@]d@[@ATQP]d@cAVq@`@m@TSJKNIXOHCDCRCd@CD?BALAJEPMJKLMXULM`@]^YZKB?b@Gv@Cb@CHALATGLCPIt@a@b@Uh@]FETOVOJINMNMNWNYT[JMJONYFMJQBEPQJIb@e@FMFY@EBY?CB_A@G@QBQLW\\\\i@RWFCLGNE^G^ELAVIJE@CBC@E@CB_@BO?SBc@@QDg@@M@W@KBa@Bg@?]?C?WOaAEOAIGW?EGSAIAG?UFWBQFSHOJMFE@ALEPGJCTCJ@H@LDNDTNJFBDBFBLAL?BELGPINCJGT?T?`@@FDn@VrA@@P`@PXR`@DBDDJBJ@PAXAPCL@H@H@@@FBPPLHNRHJBD@H@D?FCPA@ETEJIVUd@Sf@IZABE^?BBv@Hn@Hf@B^@`@?D?\\\\@V?PBXFNDHDHDDHDJBJBJDHFLJRVRVPXFHDHBH@H@L@J@D@\\\\@BBJHLHJHHFBDBXF@@`@NJDNHFBNHF@B@J@^?\\\\?P?J?JBLFFBFHJP@BFRDHBFHLJLHDHBH?JAn@Mb@OTIJADAPAJ@V?d@FF@TDJBHBHBFBNH^Rd@XLFPDJDRDXDPDVHXLXPx@b@r@ZNBVB@?XBjABn@BX@VDNBNHTPZTBH@D@@@BHHRL\\\\TZV@@HDHFF@FB\\\\Dd@@h@?l@@p@UFGd@MjAc@LAFCXCRAl@CXAb@KLCPEHA`@AH?F?TERGLIPE`AS`@IdASBA\\\\GZGjAQB?pAM`@E\\\\AX@ZAPAJCNGHIFEBG@EDQBK@GHQBCJMNMHGFCJAP?jAJp@HvBR\\\\BT@b@@l@AT@D@P@VD\\\\J^NXLZNd@TPDF?F@PA\\\\EPCXCX?~@DX@V@J@ZBf@Dd@FD?\\\\DH@L@P@\\\\?j@C\\\\AVAh@Gj@Ip@Mv@Q^IZGRCLANCNEJC^OXQ`@WVMTIVIf@Id@AJCJAVGLITQLINIXMXKRGTETCJAFAH?N@NFLHDBTPVRJBLDF@H@N@N@T@JBJ@LDHDFDDDFJBN?JCJITINGLCJ?D?D@BBHFJJJRTHJBHBN@HAJCNIPORCDMPCHAFAH@D?DBF@@BFDDDDDBDBZLPDH@D?DAFCFC\\\\WTMZM`@KLEHAH?H?FBLDRNFFn@p@RRLLHHNNFDLBF?HAHEJGHEJCJ?F@JBJFHJHJFLHb@HbAD^@R@^BR@FBDHFD@D@H@H?PELAVAX@P?P?H?@?FABABABA@C?C@C?GCQCOKYG[G_@?M@MBKBIBEDCDCJEP?P@N@V@J@n@Hj@Ft@D\\\\@LAHADADCHGBE@C?A?G?EAGEIACUWg@o@IOGMEYAU@QBI?E?CFSDG@CHGn@[TKHCLCFAF?D@D@NHNLJF^RTHRDZBb@@X@^BZBVAXC\\\\EPALAJ@HB@?LHHJ@@HJFJBHBR@ZBPDJBFFDB@DBPFPDNBTDV?\\\\Cf@IVGREPIj@UZKNCNAN?H@HBHFHJHVJ^FRDHJHFBHBdAPPD@?LFHDBDDHBL@F?@@L@FBJFHJHFBNJXJHBL@JCNCFAD?H@NDZP@@^TZRXVJHLJLBNBJ?RCHCFAHEDEHIHMVs@DIFGFEDCFCF?F?J?j@Nr@Vf@R^NH@J@R?LAREPGTORONMDCFCDADAD?HBt@JL@J@LAREJCLELAHARBf@LZFLDTBN@LCHCNINGZEb@GPAh@@L?JCFCHEDIJUJ]FW@CDKFCDCFAHAF@F@RHTJLDHD@?F@@?D?JAD?DARCNAPAZBR@JAB?BAB?DCBEFOFS@CBIFMDGNSDGBEHGBADADAHAP@D@LBRFb@LTDd@Hf@HR@F?D?D?BCBA@ABEBC?C?C@C?EAKAQ?OBM@A@EDEFG@CBA@?DAHED?DAP?L@HBD@LHFFFJJLHHB@DBPFRFLBHFBBBDNRFPHLJJPNVNb@V\\\\RTLZLJBrA^v@Rp@PTJJHFHDHDDDJDJDLDR@BF^DTBJ@@FLJJ?@LFPFXJTHNFB@FDHFDFBDHLBHDJFVBX?F@Z?F?Z?FAd@Ap@BNBRDPFNVZLHPF^J\\\\BX?X?TAT?B?HARBTFp@\\\\\\\\RVH?@`@LRD`@Jn@F\\\\Db@FTBPBT@N?NALCHCFEDEHKDGPWBCPUPONM@ATIFCVIXETEP?N@^HPDPL`@RHDHDH@J@H?J?FAJCLAJ?H@J@LFJHNLJNLNHHFBDDJBHBL@\\\\@T@RBLBNDNHPNJJHHLR@@LVBFL\\\\Vp@Lp@Jd@FVFNHNRPJHB@`@PRJPNJHJFLFZHPDRHTLJFRNPRNTHH@BLPFB@@LFNDL?NBR@TDn@Nb@Hb@FPBH@h@Pb@NPHRJNHHHJNHTH`@J|@Fl@HXFPDJLPBBVPHFRLFD`@VLJBBLLDHf@v@@@JLFDLH\\\\P`@LXFLFJDBDFBJNLTFNP^HNLXR^LNTZPTLLLLNHHDPDP@TA`@GVELAN@F@HDJHBBLLHJHJTV\\\\Rd@VTL^T|AlAlBdBf@b@LHHBFDR@NAJALCVIt@SRCN?RDF@DBLHFDLLfApAHF?@HDJDD?l@BjANXBN@R?^@`@AZCRCJCJGHGDIDKN_@FOFIBCDETM^QXMDAHCVCl@EN?^BL@f@H|@T@?NFLJDBRRDDPRB@NLZR\\\\N\\\\JZLTLRLDBXV^Zl@b@`Ah@j@ZxAz@LFHBLDH@F@T?VEXId@QNGxAk@t@]VO@?@AVCJAL?B?TBpAV`@J`@H\\\\HD@t@LL@n@Dt@@TAVCNCVIVM`@Yf@i@Zc@NSFMHQDODOHQHKDCLMVOTODEPONQVm@Ra@FILK@?d@UVM@ANSDEPW@ER]Tu@HQFKHIJENEf@MPCTEH?H?F@FDDBDDHL@DP^FJDFJHJBRBD?B?R?LCNCLEJGHEVSTQROJENEDAF?D?RD`@JJBTBVD^BZ@R?PATCB?XEPATAR@R@\\\\FLBP@V@LAZGREx@U^CPAR@`@Db@FP@H@R@N?@?LALEBADCHIDM@C@KAMAECICGEEEECAKIKEAAKGIICCACEIEKCEACCKCOAA?G?I@GBIDKDCDEBCRGJ?L@PBNBB?\\\\H@@PBR?PCj@MZGFAXGFCJEVKZQRGHCB?B?TAf@DZ@P?PA\\\\CnAKXEPCFAFANE@AFAPIb@WPILGBCPEPAPA`@?L?JAXAVC`@Gf@Gn@GFCHAXERGn@OFAl@Q\\\\Ir@W^KNEJAP?LBFBHDBBJL@@LJJDB@\\\\HB@^FRBTBP@TAPCFCJENId@OXEVAT?PDTLVV`@h@JLLJPJl@X\\\\LLHNJHFFHFHBJFTDPHXFLJLBBPNHDl@Xt@\\\\ZJZLFDHJFHLTFFHDJ@J@D@\\\\@^@B?L?JAHEFEHOHQHMT[LKPOJGFAH?D?F@FFBB@F@F?HCLGVCT?F?F@T@D@JBVFR@@FJLNVLPDL@@?H@R?B?JALEXMRMNKHKLSPYJODCBCLELENCJAD?R?N@@?H@NDD@B@JFLJHLDHBJ@JBLDLDFHFJDNBX@N?LCLAHCXMNILCFAB?F@D@B@BDBB@FBPBZBRFTFTDX@TAXANIr@AVA@@f@@h@@d@@n@?FAFGJKJOLGFGFMRCFCHAHAH?R@H@HBFXl@HV?H?FCFCDCDCBEDGBC@IBG?Q@E@UBWDQHSHGFKJML[^IJYR[ROPKLMVIVIZK^IR?@EFGHIDA@SHIDGBWJ]Ty@j@y@f@SLGFc@ZQRMTEFINKZGRKVORMLEDYNe@VSNQJSNUZQXO\\\\Mj@Qn@Gr@?R?F@FDNBFFLT^LPRVXPp@ZlAp@\\\\RDBVL|@d@NJDDDJDNBVAp@@XBJDNDFDBLJJFJDTD\\\\DRBLBZFJBLDHDHDHJFH?@HPFTTjAZbBNj@HVLVPPHFNHXJb@LPFJHPJHJFH@BT^t@nALTHLVn@DR@N@b@Er@IdBAl@@J?B@B@B@DFFDFHFNHNDNBR@L?L?TCPCLELGh@]XSHGRKPKJCBALCPA@?R?V@LDHBD@HDJH@@RRZ`@zBhDPXL^DPDV?PEx@?J?H@JBFBFFHZT|@r@ZTZVPLNHFDPFTDL@F?Z@R@N@X@H?b@@h@BV@B?TAVCVIDAXMDCVOTOPILCLAB?F@HBFB?@DBHJBF@H?RANGVABCHw@|AELCF?JAH@LBHFHFFHFNBPBN@P@`A@tA@n@@^Dd@Hj@R`@PpAh@x@^j@Vv@TZHb@HV@X@j@BVBXHz@TTDTBh@?F?P?H@HBPHb@V\\\\J\\\\HTDZ@\\\\A^C^Cv@Mn@IRCTAR?R@@?J@F@LHFDHHFNBH@H@F@b@BjCARANEPINCHKPCDg@j@{@x@WXABGJKTCLAH?F?F@JDLBHLZJPTZPPTPLJPFHBNBR@R?`@Cr@AP?\\\\?D?b@?b@?L?T?d@?X?F?`EE|ACZ?fAAL?T?t@?^@l@Bl@JRF^HtCbA^NtAf@vBv@|ChA|Ah@xAf@hBp@v@TJBtDr@xCn@bAR\\\\HLFTJPPFJJXDP@LC^IXOVWX]^[Ve@^a@Tg@XQFUJUDOBK@W?Q@_@B_@FMDGBCBONCDINKXGVGXUbAQv@AR?B?FBJDJHJJJJFHBLBL@L@H?RARETIDAPGLG\\\\S\\\\QBAZQ\\\\Qd@UXMf@QZEVEJAn@EJ?\\\\ATAR@NBJFDDBFDFBFBJ@LAL?TKh@O^GLMLa@RODG?I?UC]CWAI?I@IBIDQLGJc@dAEHIJEDIFo@b@KHQHc@VSPA@GFEFGPEJ?N?@?J@RDLDJDHDDJLFDHFNDB@HBP@F?p@Bj@?L?LAFAHCFCFEDEJQFWNWBE@?BCHCJADARCNCXENENGt@[PGVMn@YVETEb@CJ?VC\\\\I`@Mp@Wd@QLC`@InAYVEJANBF@D@B@HDFHFLDL@J?XCV?N@P?B@JDLBJHLDFBBB@LHRFVBH@RBj@LPFNBN@N?bACF@P@JBHBLFNHLH\\\\\\\\n@t@VXdApAVZVZNRNNLHJFHDXFVDj@Fd@Fd@FdALD@~@LlANXDZBF@lAPXDh@FfANh@Fx@JZBH@N?LANCJEPO\\\\a@LMLMPGPEPAN@RDRF@@TJ^PHB\\\\RXTHHHLFJ@D@DBN?PAP?DEX?@Oh@KXABMZAFMVCBQVUZA?YV[V[T?@YVQPQ\\\\EHITAH?@CN?V@\\\\?@Bb@?FHjAB^DTDHFHHHD@FBLBH@F?LAJCFCp@WTGNEP?T@dAP@?L@N?@?N?PCPANG^MnAq@f@YVMLCDAHAN@L@JBHBLHLLTX\\\\j@Xb@HHJJZPl@Vn@Xr@ZB@`@TNNRZTd@Th@NTLLLFF@HBLBP@NAf@A^BJ@F@HDDBDFFJBJ?P?NCTKf@Kd@YzAAPAL?HALBVFPDDDDJFNJ\\\\NdAZB@`@LdAZXJhCv@bAT~DjAlCt@nA^|@VPDf@NPHPJLLHNDJFPBN@T?BARCNCJINQVSNMFC@MDSBYDk@Hc@BS@i@Ni@^OPOVMZGRAP?P@R@XHz@NdBBPDNHPJPNNLHRHTBV@RAPELE@ANELKNI`@[FCFEVG@?RAN?N@NHLHNJRRBB@?h@d@JHh@`@`Ah@dAj@`Bv@d@Tx@b@PFXHd@FL?h@BbB@@?t@BN?N@l@Dj@D@?`@FNBRDRBj@Nf@N\\\\LLDPHf@Rv@\\\\z@f@^Pr@^d@VVLVF\\\\BL?T?Z?N?ND\\\\FXJb@VVLZRLNHNHZ?BJt@JZNXNPRPTPXNd@Rl@RdA^hA`@f@RLD\\\\NXPXRxAfAz@l@fBlA~AjAx@l@NLz@t@d@f@h@h@d@f@p@r@\\\\`@^f@JLHJVXtA~AJHRTBBXVRPNHDDDBJDJDJD\\\\J`@JHBb@JD@~Bh@bCl@bAVXHJDD@FBJDD@?@HDHFHFTVZXXXXXDDRRVXPPFFr@v@d@d@FFr@v@pAtANPhBnBh@h@ZXDDj@n@dAnAXXRPJHHDLD@@F@JBH@H?D?F?HABAB?BAHCFCHEFEBCBEFIBE@CBEHWDQDMBGFS@EDGJOJONMLEFAJCJ?LAh@@R?RCTGRI`@QBAr@_@bAi@z@a@b@QXEPAR@TF^Rr@f@NNLJNVNVHTRr@ZdALb@Z|@BJJTFNDJJPHJHLDDFFJHd@Z`@Xd@\\\\f@d@VVRVFLR\\\\NVBDP^JRLZFZDTD`@@B@X@H@DBLDLFLHPFFBDDBFBFDHBHBF?L@R@B?\\\\@R?N@D?jADb@@h@DR@R?NAB?RCd@Ih@K\\\\GRCRARAN@D?V@b@DD@b@Fj@Jb@JTDTBRBh@BZBXBTBNDJ@FBJD@@NFXNp@b@r@d@TJ^LPDHBZFJ@J@VBX?TA\\\\En@K\\\\E^Cb@Cl@CdACf@Ab@AZ@P@L@LDLDNFRJTNh@\\\\XVNLJJ@B`@p@HNN`@FNDLRt@@BLZN^N`@\\\\|@Th@^n@b@x@BFJT?@J`@FRBLJ`@?BL\\\\L`@@BHNFFFHRLRLRDXBH@X@B@\\\\?^GNEVCV?H?RDf@FpAXz@TZHJDLFd@Zf@\\\\NJVLdAXLDVFx@Nl@D^FPBNFDBDDDDDDFLFNDRDJDTDNDPDJDFFHBBHDHDJDRHDBLDNJPPJNLVVh@FLDDDDJJLHj@XnDrARH|Bx@NFNHVNXVVTRXLRNVFJLPHNTVLJHHHFHDJDLFLJHFPPBDFHVZJNFLJRLVDLHNFLFN@BNZR\\\\JJ`@\\\\d@V@?b@VFFFJFJH^Jv@Lf@R\\\\PR^NZFPB^?Z?X?n@JHBTFNHTLNJNLJPNn@d@fBPr@DRN\\\\LTLPXTz@l@LHRFB@TDTBRAXA\\\\AN?RBt@Rd@P^NVLTJh@Zt@XXJXDr@FF?LBRBZHLH^Xl@d@d@d@JHTR^TTPXVv@|@b@^VRVLRHRFNFr@Nx@NVFr@BD?p@?R@JBLDNFNHDDHFVVPTLT~@xA@BFHLPRXNRNLJJHFJFRJ^NRHv@^PLLJHFNRPTNRJJVVd@XRJLJNJJJDBPR@?LPJJRT@@RJFDJDTHTDRBZDb@DTDRDPFVFTFZDV@J?J?NCVAf@KlAY|B_@dDc@rAOVCHAXAP?r@@rB@nAH`A?XC@?^Gz@URI\\\\K\\\\Q^Y`@SNEBAF?J@NDZNJFPJPJPFJBL@J?JAHAXIJG^O\\\\QbAc@ZMf@QXI\\\\EvAIj@Cj@AT?X?pAD~@@x@D`@HPFTJPJRRLPDJHRFJFN\\\\d@X\\\\VVVPVPv@\\\\NFPLJFJJHLFRDR@PDf@@JHXNZLTNZPTLNTZXX^Xn@b@RLPNLLHJDNFRDVBf@AN@d@AjA?tFE~@E`@ATEb@Eb@ALCRE`@A@AFGXEJGTYlASz@I`@G\\\\CV?JAXE^CLAHIZMb@Kb@K^Ej@C^?ZAX@`@?\\\\@XBd@Dt@FbABf@Hf@?@Hd@Lf@FRFNFR\\\\bAZ~@Zz@LZJRZ`@DFd@h@f@\\\\`@f@`@h@ZX`@f@\\\\\\\\v@j@ZTFDXTz@f@\\\\Rx@h@\\\\RtCdBDBRPDDNXJTFVF`@F`@@DDTD^@JBHBHFRNT\\\\^NRRZL^PbA`@dAb@~@FPFV@D@J@J?JCV?DE\\\\a@~@ELIP]z@c@`AADMZ[|@SdAABWxAKd@EVARAXAZEjA?J^L^L@@\\\\LLDDFDF@DBJU`@[h@SZWb@KTM^M`@Of@Qn@Md@K^Yv@OXU^e@p@o@bA_@j@EFKLQ`@GFEBIJW^EFS\\\\Wb@MXGTABCJgArBCFMh@ETERCHERKh@Ij@Ij@Kr@E^?DAPAR?T?xABfB@`ABZDl@@~@?H@^?J?RDr@Bb@?JFl@BTDT?@^vBPdANp@Jl@F`@DZDl@Dp@@l@?`@Cx@?T?F?j@@f@AvAEXA\\\\Ax@@h@A\\\\En@CXENENCHKRABKLWZm@t@CDCFADEN?BAJ?H@F@LDJLLTTNLx@z@LRBBBBD@FLNX@DDNBX@P@H@XFtABX@BDTJTJPJLLJLHNHPHLFPFLFPJNJPNLJLNNVNT?@j@lABHBR@L?L?JAJAB?DADCDCLEJEJELELERETABCLCP?L?F?XBRDTFT?@HTHPDJP^DHHNR\\\\RTRXVTRRXX@@VXT\\\\BBLXFPN^HLDJNNRZVVB@PLJFRNHDz@d@HDRLFDXPXVRT@@TZP\\\\R\\\\P\\\\NXFJHPPXLXN\\\\PXLTDFNR@BNPDBRLXNZJ^D\\\\D\\\\Hx@Jl@Hd@DV@ZHTHXNPLBBRP@BNTHLJZLXLXL\\\\NTJ\\\\HPBDJRL\\\\JXLZLXLZL\\\\Xd@RXFJXTLJb@R`@H@?VBH@N@R?`@?@?V?ZAzAHL@VDXLNHVRXZRZT^Xl@BBP^JTP^Xn@P`@HTL`@DR@P@J@FEvAAd@Cb@?P?P?^?B@XDXH\\\\JZ\\\\h@d@^TLXNTJTLBBTLVNRLRLVNPLNHPLLLNJPNPLPNRLRRPRNPHJDFJTL\\\\BVBT@P?@@PBP?@?NBX@N@J?@@H?H@L?D?J@J?D@H@N@PDb@DV?DFVHP?@LRLTPZTZP^Pd@JZF\\\\@LBfADr@B\\\\DVHTLXNVZX^V\\\\Nt@LhBLrADbA?@?`@@P?^AT@J?Z@TDXHZNNJTTNPNTLXJ\\\\?@Lr@\\\\dBPr@VhAPp@Tt@Tl@b@dA@BNXP\\\\f@|@DHNR`@j@`@p@Z`@h@n@NHPHNDLBF@H?PAPCRILKV[RW@CPQPOd@QRELAPB@?ZJj@ZhAhATTRXP`@`@lA^vANx@Fv@Bx@Dx@BTDRH`@LZN\\\\N^^~@Tf@f@t@l@p@NPNLJHPLNHTHD@NDPBXFF@@?`@DF@NBJ@PFD@FBLJLLLP@FBN@J?D?B?DADAB?BADEHABEJEDEFGFe@ZA@WP[TOPQZEV?N?TF\\\\Zf@TXFLVf@T^NRVXRPh@ZFDVPTPl@j@\\\\d@^t@Rr@@BJn@H`@LdAL`A?R@TCd@ANCh@Sv@Y~AMp@ETAX?v@B|@Br@DrA@`@FjB@XBlAHfAL`BTvCF|@@Fb@rFPfCBf@Dl@BZ@L@ZBzADhD?bA@|@?VAf@Et@ALEJADSl@CF[p@g@dAEJYn@a@x@_@x@Q\\\\Wr@Ob@Gf@Ct@?R@|@Db@Nr@NZTVNPPJt@^xAx@NNFHBDJJLV\\\\`AVf@FJDHVVPLZNPHLFl@NZHl@LXFd@Lj@Pj@R@?^NFBVHZNd@XJHFFDFBBDDTZ`@j@TXVXb@p@T`@@DN^@DHZJ`@H\\\\@BFXJr@F`@Hr@Hn@Db@@BBHLXTZNVVTVVf@d@`@ZZVd@\\\\x@j@p@h@DDj@f@~@jAPTNNHJNRFHFFJFDFJF@?b@P\\\\Nb@Pl@RJBLBTD@@l@FVBb@BZBRBZHVHn@d@v@|@^f@X^b@^PJVJVFb@HN@RDdALb@F\\\\Df@H`@Db@Fb@FdAL`@Fb@D?@j@FXDD@RDt@RTH~@^|@`@f@Zh@`@\\\\TBBbAz@p@v@DD|@vAfAhBXf@n@bAz@xAT\\\\PXV^t@|@\\\\^RTTT~@bARRNP^f@fAfB`@|@FJzBdEd@z@^p@NXBHDZB^CbAAl@ANAjA?`@Dj@Fn@BVH|@Ff@PxAZnC@Ff@~EBh@@Z?X?HGp@Kn@Kh@Kj@CNCN?R?P?N@J@L@JDN@JBFL\\\\Rr@Rl@?@HXBT@VGxA?HAf@?T?T@J@RLf@DLDJFLFHFJBBHHNJz@f@j@Z`@PFDLDRB\\\\Db@Bb@DPBp@LZLFBZTJHJHHLPZBDJXNn@Ff@H`ADz@?VAXMhAE\\\\C^CX?RH|@R|A@@Dd@@P@R@L?NAj@Kp@CLEHCHEHGHmArA_A~@a@d@STQZa@r@Sf@c@bAGL?@IXEVCNAZAT@TBVBPH\\\\HRHLLTNNRTLJ`@^jBhBZ`@TVJJNHRHJBJ@J@L?JAb@Kd@KPCNCJ?LB`@NnAh@j@TVNPNHJBFBDBJBD?DBJATEh@CNCX?F@H@HBJBHHN@B@BB@@@BBBB@@JD~@XNLDFFJDJFZ@B@D?LAJGRQb@Wr@Qb@a@dAGRAHAJ?NB^Bx@CPADAFABEHADIHKJMJQHODODWBy@Li@VQLW^ABABCDADCNAD?FAH@L?F@JP\\\\h@n@b@`@JHLHPFF@V?h@A`AI`@Ch@ElAIT?H?LBB@H@FBHDLHNHFBHDFBPFFBNBz@DbA?NAHAJCHCJGHGLGNO@AXQRM@?DCDARCLAh@KDAFCDETMLK`@c@V_@JGHEFCPENCJA@?L?b@FH@RDn@L\\\\\\\\TTXXFHNLVPLFHBJBJ?JAVCt@KDAV?F@H@F@fAj@jAj@JFFBFDD@LBL@F?F?J?HADALCTMVSNQPKXGBAf@ILAd@A^@p@FtDdA`D~@zAb@\\\\L@@ZPNHFHNXz@dBl@dAb@p@R\\\\JLR\\\\N\\\\DT@J?J?BANMv@Eb@?BBb@DPBLBDFFFFFFJF`Bd@HDF@@@JDPJDBD@BBBBDDBDBHBL?D@JDtAF`C?p@@f@@F?BBHJRLRBDDDDFFFFHHJf@`@j@j@b@b@j@d@|@p@~@v@dAlAj@h@HDTJNDRFNBN@J?F@RAF?DALCPENGLGPKh@[`@YXUZK@?b@Ef@AX@d@L`@LNDFBB?XDD?N?XETIBAVQRUHKDKPq@Lc@RiARcA@ENk@JURYXSFEPEDAD?FAD?J@D@D@PFDBRRh@r@f@fAh@h@x@dAd@t@fAbAd@f@^\\\\^h@`@n@B`@HhADb@BLJPRTVVHDJF`A^XHv@X\\\\LNDr@Vf@LXFnCh@pCp@pCl@PFz@ZD@v@VHBn@RbAVn@LzBb@`E|@~AZLBbDv@RDD?B@D?B?D?D?BAD?BADABABADCBABCBCBE@E@E@G@SFmAPeABQH_@BM@E@AHKjBy@`@[BABC@ABC@ABC@C@ABEBCBE@CBE@E@E@E@E@E@EBC@EBEBCBEBABCBABCBABABABAN?N?TBnALvAN`@HLDLFJFFDHFDDBD@DBF@L@P?F@L?TAT@L?D?N?F@HBDBBBBDBBBD?lC^`AVfCf@PDRHLNHLDJ@B`@z@LPVVXR`@VRHTHHBF@HAH?PCLEREjCaAHEFCHEHCHCHCHAHCB?B?@AB?@?BA@?B?B?B?B?B?B@B?B@B@JDfAJdAHHBH@HBHBHBFBHDFBDBDBDBDDDBBBDDBBRPjB|A`@\\\\BBD@B@DBD@B@D@D@H@H@H?H?H?HAHAFCJCHCHCHEFEHGFGFGBEDGDGBGBG@I@EH]@C?EBG@I@C?E@I@GBM?M@O@I?C?M?MBmB@{@?c@?W@I?K@I@GBKDKFGHMPQFEFEHEBAREPEB?LAN?D?N@F@HBZJLF|@vALVHLZb@TV|@d@FBdBt@tGpCb@PfATbBDh@?X@B?RDJBVHBBJFVPNLRPDD~AtALH@?B@B@B?@@B?B@B?B@D@D?D@B?D?J@ZALARCJERINKJKHIFKFMHU`@sAHUHKDG@?JKLKPINEn@Id@@t@DxBRRBB?lATTF\\\\Jt@LLBTB|BJ|@DdANXJVPj@`@^T@@\\\\NDBf@Hr@Bh@Cj@Cf@IvAa@NEn@U@AZQr@u@T[d@w@BCHKFGDEDCVQZOb@M@?`@GFAxAWDCZKhAw@VQh@e@BA^SBAZKPEPAB?^?@?`@BJ?x@HfAHb@D`@Db@Bb@D`@?b@G\\\\I^QBATSBCRW@AL]Ha@?E?]Gc@Gc@{@cCOo@[g@[Y]]IMIICEIQGYCS?I@IF]LW?AP[@A@C|AcB`@YVOTEb@Eh@D`AZv@\\\\|An@b@RXNRNHJHNDR?L?HEV?@GTKXSn@ABI\\\\ABEZAVBR?@DNBFBDDDJHPHPDRBT?`@Gd@Qr@q@d@e@`AkALO@CDKBO@E@KAU?A?IGQEKU_@OSIIOO[Ys@m@[UqBuA?Ai@]OKA??AEEEIEGCKAI?I?I@IBIBGBGDGFEFEVKVIRGF?F?LAR@TBF@ZFD@`@H^H@?v@Nn@LRDx@Nz@PVDJBHBRHLJNJLJ\\\\V`@ZVNLDNDPBD?j@Dx@@TAn@BhA?P@P@RDZFRFFDDDFDBDRVPZNVDFRPBBXR^HD@\\\\BZA\\\\Cj@Eh@Ar@HND@?PJNHFF^\\\\`@h@X\\\\`@b@d@h@\\\\^JNXZl@p@PN\\\\TXJh@HL@PBt@@b@BNDLD@@HFLL?@HNDT?R?b@@NBNFTLT^ZTJLDL?VAVG^SJKHML_@@Q@M?ENcALg@\\\\k@f@mAt@oA\\\\g@XSZQf@QPEPAPBd@B^JbAp@VPDDVNFDRLRHJ@RDP@N?R?NANCNCRIBA@?JGHGLMLMDIHKJSJUHYDW@Q@_@?c@CsB@c@?AB]J_@@AJSFIDGPQROPG\\\\ITENAv@Gh@?f@I`@K`@El@M`@ITCB?JAR?BAD?\\\\@X@\\\\D^HVDj@DP@ZAD?^CFA`@G@?\\\\Gr@M^IZGRGXMNG\\\\QTMv@c@JENENEHCLCNATA\\\\?TB\\\\FB@^HLB`@Nx@TVBR@R?RApBWh@Ed@CTAV@T@VDVF`@LTHZLXLh@T?@`@HJBT@Z@BA@?N?RCVEHCLCPK@ARODENOFINSDIP]FKJQFKJO@AFIJKBCNMLE\\\\QjAa@XKPEDAv@Q^CfBQFAPGFCBALIRMTUPU@A`@g@@ATU^WLGDCJCFAlAKP?d@DN@b@BP@xA@hAExA?|@LTDVFnAV`@HRD`ATx@FpELX@H?jAD^?r@?h@?j@Ff@JVDHBr@NF@NB\\\\B@?r@@t@?@?~BC^ATCXEd@MTMb@[LIVWl@s@PUV[VYd@a@~@q@~HuFVO|AaALGPG\\\\K^IZCRA\\\\?h@Bh@JTFRDpA\\\\NBPB~@DnA@j@BZBJBTBPDrATd@HZDz@HrAJt@@x@?@?`@?P?n@Eh@Eb@CJATCtCYnAKR?TA`@Dn@J|@NlAXr@RxCr@x@Rb@Hb@Fj@B`@AHAv@I^EVAh@A^Bj@Ld@JdA\\\\B@ZJz@VF@h@Jl@Ff@DzCNP@P@h@@VARCRETGTKXUX[LSR[R_@v@sAT_@RWRWPKVKRINCTAn@B\\\\Jh@N`@JTHX@\\\\BZAFAPCr@Y\\\\ORULMHQH[@EHc@@EH[Ha@Ns@Po@f@mA`A{BJWJ[BEL_@LWHOJONEBAXGB?VAN@L@HBDBNHFF\\\\Vj@j@\\\\\\\\XXXXVVJRDLBDFZHn@Hx@J`@\\\\j@VRPN\\\\Tj@^f@^@?ZTpBtA@?BBVLXJz@R|@RTFZL\\\\Pv@h@~@p@?@zAjA\\\\V\\\\V|@f@ND@@^LNDfBf@n@RrBf@R@L@tBK^EZEZ?~@NPFRL`@Zb@ZTNRHVFVDVFVD^Fd@H^L^N^PVRXTXVv@r@\\\\T^N`@L\\\\FVBL?P@B?BAj@AdAKn@Ef@?b@@JBZBB@B@F@d@Hp@T\\\\N`@XNJHF\\\\XDDl@h@VTBBTRTTHDPJFD@@RJRHHB`@HZDt@DT?j@BT@VBN@LBDBF@PF@@B@`@NDDTLXPBBj@\\\\n@f@h@l@n@v@@@BB^`@BBb@d@\\\\Z^XVP^XhAt@l@XpBv@b@N\\\\L@@\\\\LJBLBF@B?JBZ@`@CvAc@n@Y\\\\STIRIJCB??ATEJANAR?J?`AL^HfA\\\\VHx@VF@bBf@HBVH`@L`@H\\\\HB@ZFj@J\\\\JJBNFTLLFFDRLn@d@|ArAVRZT\\\\Xf@\\\\NHFDTJLFTHVH\\\\HH@\\\\FD?^F\\\\BF@VBJBJB^FVFZFDB`@J`@Lh@NVH`@L^Lf@Pd@N^HZFXDD?V@t@B\\\\?H?`@@V@XDh@J|Ad@pA\\\\d@LXJNDPD`@JNDPD`@L`AVJBt@V`@PB@ZNdBlAJF\\\\RLFn@ZFDTJ|@d@|At@D@XNdBx@t@\\\\FDTLTJHDNDr@VdAX~Ab@~@\\\\TJ~@b@lAh@l@\\\\DBB@XT`@d@DHDHJTVf@NRFJVXJHPJRJVJTFTDF@VBNBtAJ^FF?PBVFTHZLXNTLDDJHVPDBRNNLFH`CvBb@b@FHxAxADFRTNNHHVTB@BBLHTLTHXHf@N\\\\Fr@NrCl@TDl@NRDLD`@Lb@VPPPRNXL^DPDNBPJh@BHHTFV@B?FDLBL@@DNFL@@FHLPTPNNZPVNTJB@PJHFVPLJFH@BBBHLFLHNDNBJDN@FDPBRBHBP@FBJDT@FFLBJ@@FNBFBDFLNVXd@HLBDJRR\\\\BBPVHLLN^f@HJHPJPFPDNFV@JDX@T?Z?P?D?\\\\@\\\\?l@?P@\\\\@l@@\\\\BP@D@D?B@DDJDPFNJRNTJNJLNNNJ^TDDLHXPRLVPB@LJNHHFNLLJPRHLFLHRFRHZFVFXBLDNJ`@FPDJFHJLLNFHFDFFFDHDHB@@BBD@NDNDJBL@L@J?PAJ?PADAPCNALCTCNCl@KRCPAVCN?@AJ?L?B?B?D@B?B@B?B@H@TFPFLDHBb@TNFNHp@\\\\RJHF\\\\Pl@XXPRLZVFFJHDDFJTXNPRXNPNPJFLJNHB@RJDBNHNHZLB@NFTHZHPDVF\\\\J^NBBVLFDVN`@XXR@?TNXPJDFDNF@@D@d@L\\\\FPDf@JXHTJZRh@d@`@`@BBx@v@LNXXJLLJt@t@x@v@f@h@ZX@@r@l@v@h@LHlAr@p@`@pAh@zA`@nA\\\\jAZl@NJBvA^dAVJBxAb@nAXB@p@LRDPB@?r@B@?`@AjAAfBCd@AfBCV?lACt@?h@CLBJ@VHLDHDFDFFNT@@PXHNHL@@HJ@@PNPLTHRH\\\\HZD|@Hn@JRDVHVJj@Zn@`@f@T|@Xx@XXH|@\\\\VHr@Zf@TdAb@p@Z\\\\N^Pp@X`@N`@NHBD?NBVBR@h@@`@@@?NDB?RFH@PFXLTPRPPPTRLLJJTLZLZJB@JBTFTFfAZhAZd@LdAXh@NL@D@ZB@?f@BfADH?x@Bb@@B?F@Z?^@\\\\@l@@f@@V?XBZDRH@@FBFHFJ@?FNBJBJ@R@BD`@?@@@DL@DDDFHJFJD@?JBRBjADJ@`ABp@BL?D?N?LAF?JAJCBCPGJIFIHM@IBQ@S?QC]Ce@AQ?OAC?_@BSBKBK@ABGNQ@ALKNK\\\\SZSBAROLSHQNq@@EH_@BMJWHKDGNMNGHCB?HAH?H@D@PBHBDBDBHFFFFHFL@J?@?X?PERADEX?FAB?J?L@F?@BJBFDJFHFHHFLJRH`@JXF^JfAN`APd@FZDJ@T?HALEHCBCBCBEBIBW?[E]Qu@Ia@?S@OBK@CBCJGRGLELCJAl@E`@@f@Jh@Jv@Vd@Pj@Pd@Rr@b@`@VVRJHLNJJNRHNHPDHDLBNBLBP@T?@@b@Dx@@N?F@B@DBDBFFFDF@@DDHDJFH@HBJ@R@R?vACt@A`AAL@R@H@FBHBFBFDNHXTFDFHTPRJFBBBLDLDLBt@P\\\\Ft@Lh@Jd@J`@HXDB?NBL?P?ZAXETEf@Kj@O^Ed@GHAL?H?N@PFLBj@RRJ^PPHZPRHTLRJ\\\\L@@RDTBN@L?VCVCREp@MB?f@Mh@IRCR?R?j@Bj@H\\\\B`@Bj@@rAE`AC@?dAEB?^A~@CpBAx@?vA@j@?j@@nB@xA@b@?N?zA@b@?b@?D?dB@b@?fA@b@?b@@~@?d@?b@?D?v@@pA?B?bABB?p@?P@t@Bv@H^D^Fb@JXFh@NB@\\\\LB@D@TJ^N\\\\NlAh@p@ZVL^PJDRJ^PHDrAn@\\\\NNFNFRHTFRBD?\\\\Dh@BD?f@Dp@B^Bj@D^Bl@Dd@B`@BP@P@b@B^B@?Z@F@T@`@BN@L@T@F@P@b@BH@ZBD@RDNDLFPHPJZTl@d@\\\\XNLRNXTHFTPTRd@\\\\XT`@ZVTb@ZXVRNNN^VVNRHVHRFF@XDH@XDJ@h@FN@^BB@b@Db@DF?XDB?^Db@B@?^D@?`@DN@R@J@V@NBd@Br@Bd@D@?^@ZBj@BXB~@Fp@Br@Dz@Fr@Dj@Df@BD?^DP@PBB?v@FJ@`@@rCR`CNXDNBp@Pt@PND`@Jl@Pz@Tz@T@?`@LXFz@TND`@JbAVpA\\\\vBj@bAVbAXnBf@t@R`AX\\\\HZNVL\\\\PVPVPXXTV@@RZDDNTV`@PVT\\\\LPd@t@^l@\\\\l@dA|AbA`BTXNTDDh@j@HFb@\\\\\\\\PTLPHPFZJXFLBLBRBd@Hd@D\\\\DPBvALP@r@HfAJdALb@Dh@D`AL~@H|ANt@Hb@DhBRtFl@VBXB\\\\Bh@?XAlBE@?dAAP@LBTHB@BBHHDHFJDJ@HDV@T@D@PDf@JdADl@Fj@@LBNDP@?DNHLLNJJx@h@f@\\\\pA`Ax@l@RRTTT\\\\Rb@FLVr@HPL\\\\LVDFLRBDD@DDTNXJDBXJj@Pd@P`@NTHfKtD`Bj@`A^^L`DjA`@N@@v@Xd@TB@d@Th@\\\\`@ZVRZTJH`@ZXVVPHH^XBBTRJHd@^b@`@^ZXTXT^X`@ZTN\\\\Vh@Xj@Xf@TDBJBf@PF@PFND@@LBXHXDZHr@NTDLBB@PBPDH@b@Jh@Jh@Jn@Ln@Lp@NNB@?NDb@HVFj@LNB?@PBTDp@NJBPDLB^H`@Hd@Hp@Nb@JB?f@LZFXFFBZF^Hh@J^H\\\\HF@XFb@HXDXB@?\\\\@B?T@LA\\\\CBA\\\\CtDe@JCRCB?`@GREB?JAJCJAH?D@H?L@DBJBRJB@XP\\\\R@@XR\\\\RDDTNHDRLbAh@tBdAJFPH^PTLv@^VLf@VJFLFPHPJXNNHNH\\\\Nj@PF@j@L`AP`@Hp@Lh@JfAPn@LXFXDfAPD@`@HTDLBh@HZH`@LZL\\\\P@@XT^\\\\ZXTTXVVVTRVRLLxAvAn@n@B@TTLLLJPP\\\\XXTd@VVLf@P^NB@r@VrAj@TH~@^FDz@ZZN\\\\Pv@\\\\h@Xb@TjA|@nAdArA`Af@`@bAx@`Ar@VLBBXLRHTFXFT@Z@PAVAVAXIVEn@Wb@UVUHKRWNYPe@Rk@`@cATi@FKT[V[RQVQPKXKVKNCTE^GfBAb@ArDC\\\\Ab@AH?X?b@AD?z@Ap@?Z?N?R?X?j@?@?^CBAVCf@G^KRI`AYJC\\\\Kl@SZKr@URG^Kn@SfA[n@QTIJCBAz@W@?RGb@M\\\\Kd@OVGRGFC\\\\KRGFCPGTGVIBARGLCJCTC\\\\AV?XBZDXFNDRJNHTNVP^TpAv@z@j@tBnA`@Vd@Zv@f@RLLHb@VZT`@VXR\\\\X^ZXXNLTTRTPRTXVZTZz@nAZd@NXV\\\\T`@Zf@Xb@DFPZV`@Zf@V`@^l@\\\\h@b@r@FHb@l@VZ^b@XV|@x@vApAnAlANPVZHLHN@?FLFNJVFPN^P\\\\HPFLP^N\\\\P^FLHPNX@DFLHNFPHLLVBDT\\\\DJNNVZVZHHLNDFDBLLNLJFXPB?^NPFND\\\\J@@XJF@\\\\J@@VLFDPHJHNLHHJHJNPTBFDHJRBFHXBFFX@FBZ@D@\\\\?`@?@?TAL?@E`@AJCTEb@?FAN?J?L@L@F@FFX?@DLDJBDFLFJB@NNp@l@pBrAJHn@d@z@r@JJ\\\\\\\\d@l@TZJR@@LVPb@BFHR@D?@V|@Hf@?@H`@DPNt@XdAHTFHNXPVZ\\\\?@XXDDfA~@@@PLb@`@^\\\\j@b@?@D@DBLFJBD@PBL?Z?d@E^CDAHAd@AV@J?VBD@ZFD?XJ@?RHVNNLFDPPLJHLHLp@bABDDHd@n@PTBDd@r@BDT\\\\NRh@|@BDd@x@T\\\\NTRXRVLLJJHFBBLLJHDBRNb@ZRLLL`@Z`@ZZTJFn@h@VPZTJHRN`ExCZTv@l@ZTfAv@ZXb@TFDVNDBXL`@T`@NNHLF\\\\L\\\\P`Af@PHTJPFD@LDPF?@TFH@VDL@VD^DdAFF@`@@^D\\\\BPBVB`@JPBxBZ\\\\FTF`@H@@`@H`@F`@HfB\\\\l@LVDnAVVD|@PPBB?f@L^Fh@JHBNDJBh@Jf@N^NDB^L@@\\\\PDBTRTPDBDDPPZ^PVbA|ARZ~@~Af@p@\\\\d@j@j@DDPRBB\\\\XPNPLJH@@PNFDZTZVXTXTTNFFZTZVtAfARLPH^LTFZF\\\\DJ@dBHN@X@`@Bv@Hl@DdAHd@BD?V@H?`BHj@@\\\\DF?bEZlBJdDHtDBZ@jE?r@@~BB`CD`A?hAIp@MPEz@UVIxBs@HC`@MTGl@IHATCB?XAH?\\\\?x@HdC\\\\n@LLBnAb@f@Tx@f@b@X\\\\VNJ~F`FfCtBZVRNl@\\\\vAl@fGhCPHrElBx@Z~Ap@tAn@lBv@pCjAn@Vz@ZVRHHLJLLNRJZBH@D?D@J@D?F?H?FAFARETCHERUt@Wz@[`AWz@Wd@MNOLWLQHKHIDIBQN[XOPGHIN?BEVE\\\\?P?BBT@HDTJ\\\\HXNXFN@BN\\\\h@jAhAfBl@~@X^h@r@NZRZZr@LXBJHXJb@Nt@Jb@X`APp@^dAFR@@L\\\\LXDLVp@LXPZPVNNRNb@RtAl@p@ZDBXL^PBBXL^NJD^N\\\\LVJhFzA`@L^Jh@P`@J`AZbCr@dCx@vC~@jGjBvAb@\\\\HD@PF\\\\JXLPF`@LFBLBJBLBTB@?f@CZGZGd@Q?A^MRGVKZK`@EXAP@D?RDTJVHFFRNLNf@p@pAdBTZDFdAbAt@n@BBTTRRZ`@FHLP@BPVp@lA~@~ALVRZTb@PZj@bAZf@n@nAN\\\\N^Tf@HVDJJRDLX|@JVL^L`@N^J\\\\\\\\`AL`@Z`AL^N`@pBhG^fAZ|@\\\\bAL`@rA~DfAdDl@hBj@bBL^x@bCL`@BHHVN^h@bBN^L`@bBfFN^fBnFNh@`AhCBHP^JXl@pAVh@Xj@\\\\n@PZb@r@`@r@T^@@JPHJHJJJLFLFHBPDTDTBP@h@BJ?V?J@D?P@NBTFPDPHRNFHFFNLLNNPLLJNLLFJJJFHBBJLFFVXLL`@h@HLBBZb@FRLZ@BBBDNDLbBdGv@fCXbAJ`@?@R~@j@bCJZDJDFBH@FFLBHHPNRPRLNHHBDPNFFHFNJXPRLXLJDJDLD@?VHFBHBRF@@NFLDB@NDND`@L^L`@NF@VJHDRL\\\\RdAbAZd@TZJNHLR\\\\RX@@N`@N`@BV@`@AHKh@o@dBO^uAlDITM^aAjCQd@KZMd@Kd@Gb@Gd@Gb@Gd@AJCTEXABCPALG`@E`@E\\\\Cl@?R?FBTBZLn@BPBPLt@D`@@t@?`@Bd@@RB^BLBNHVLPJNJFFFLHHJNNB@FFB@FFHJDHDL@F@DBLBH?B@B@JBH@FBH@HBJ@F@JDHDH@@FFJLHFNJNHJFNFNHJJJJFJFNDHBL@LBP@N@NBLBLHRTXHD@@JFJFNFNFd@TTJFDJHXZJNJZHZDR@BDNJTNPNJ@@PJLFNF^J@@PDPDPDRFZDD@D?N@F?L?VA`@E@?VAR@NDF@VJVNXVBBJJPNTVPZLVLVNd@L`@DJFTNVNRPPLHJFPF^Df@Bl@Db@Bb@BZBP@VDF?LDJBl@PXJZNl@Zv@d@TPZXNTHJr@lAPl@BZ@l@?\\\\BZBXJh@BNFPRh@J`@FVB`@?FCVEVI`@EZ?X?DBPDRNXHJJHJFTHVHVFB@RF^NRLDDHHJLHLNPh@j@d@`@l@^ZRHFJDXP`@TXPJFZVHJLRDL@@DT@PAVAFCNGRIPONYLOJSJQFa@VGDMLGLELAF?H?RBLFNJJNPRPZRPL`@XTLLJt@h@f@ZNHRPBBNRP\\\\HV?@BP?RAVEZCJ?BCFIVSn@IVCFIVKVEPA@A@KZITKVGRABKXIXCHGNKXYv@Yp@OTORQREDIHOLOJUNWJc@Rg@LaANC?UDUBkAR_@DYBK@SDO@KBe@Fo@LkAPWBA?GBc@HYFG@_@LA?UFIBMDC@YJ[L]Pw@^_@RYNCBWNE@c@JcB`@W@M?E?]Ac@Cu@Ek@CyDWKAWAgAIc@Ca@EY?W?c@@UBIB[JC@YJIFOHYPQNORKNQXIRCHMh@CPE`@AZ@d@DZF^@JFP@BHPDLBDNVVZHNPRPRDFNRVZ@@TVHHHJBDLPZf@BBJRHRDRJb@B\\\\Af@AZI\\\\ERGZAFEXGZCNCFEh@?Z@R?FJd@?@J`@L`@@FZ~@^t@@@R\\\\P^RZ~@xAR\\\\h@x@R\\\\fBpCFHLPLNNV@@JT@F?N@NAL?HEP?DIRQTYXYVEDSRSRCDSZ?@M`@_@xACJIb@Kr@GTOVA@IHOJA?YPIDYHGBSLA@IFKP?@IPGXAV@TDTJd@Zr@Vr@Hj@APIPGJEDKDQFE@aCNM@E?Q@SBMBQBMFg@Rc@POJQFQJIDMJC@IDOHONIPKTCP?H@XDNJR`AzAHRLXDTBZ@`@A`@ADAFENGLMRQVMNSNGB_@PKF}@XWFa@LODQDa@La@J_@La@JA@_@J{@XMJEDEHEFCFCHCDAJAL?L?H@JDT\\\\t@dA~BLVl@tAP\\\\@B`@z@Vf@P^N^P\\\\P^Xp@r@zA?@bCnFnAhCdAxBt@dBh@pATXTZ\\\\b@n@f@hAn@`Ah@`@XJFNLZVt@dAXj@`@x@`@p@x@tAHJJHHJJHHHLHNH\\\\PJFRJ\\\\P|At@t@d@n@`@bBvAx@t@\\\\ZFFPLxArAlBfBp@l@HHf@`@b@b@BBf@b@|@t@z@x@fDnCNLp@h@b@Vl@Rf@RLFRL^\\\\RPBFFHJRHPJ^Ld@BJHb@H`@H`@FXf@nB~AhFv@xBh@`BbA`DpAxDX|@Xj@JNNRv@`AbAhAnAzA`E|Ep@v@@@|@`AVZhAlAvBdCbAdAVZVXXXx@|@\\\\d@`@p@Vd@DJBBFNFVLj@Jn@BN^`DThBHt@f@pELhAFVHXDLFJVVLJPLJFLFZFp@LRBND`@H`@JHBXHd@XTPXXNT@@JRDHR^b@|@bCvEb@j@j@l@vCzCjAjA~CxCbC|BlAhAXXXVXXVT@@XXt@n@PPrBlBfBbBxBpBDDpBhB`BbBfD~ChBbBz@x@NNNPNPHJHJHPZj@L^H\\\\DXBF@HBXBZFj@Fb@@JHx@Bb@PjBJdADb@?HDXVlC?NBZBN@@@FBF@FHJBDBFDFLJJFJFFDPDZDP@H?FAFAFALCBABAHCFCFC@ADCJKNOd@k@@AHKHGDC?ARMHCLCPAL?J@F@HBHDJHJLHPDx@Bj@H`@FTFNNZFJHLJJ@BLL\\\\Xt@h@nB|AFDDBDDFHDF@DHRDP@V?HENAJEJCDCBEFGHEB[XYT[VQNEFEDKPCDGLEPG\\\\AHAF?F?H?@?NBRHr@DRNdA@BZpBJx@F`@PbA?@Fb@Lz@@HFb@H`@F`@?@b@xCTzADXJ`@Vx@x@xBz@bCN^f@vAfCzGFNN`@DJLNDFDDFDBB@@FBFDD@@@JDRD`@FRDNB`@Hb@Hr@LNBb@Hv@NJBjARt@NnARh@NNFTJHDz@f@\\\\Tf@VrAn@^RZRHF^Vf@d@t@n@LJf@b@B@HFHHFFNR@BNTf@dAd@~@BDj@hAl@fABDv@~A^t@b@v@l@xAN^DHHTHXDZ?N?@ATARIp@CL[fBAV@NBR?@BJHRFLJNBDTPTR`@Xn@d@FFXV@@HHBJ@H@JCN?BCHCHGH?@EDGFGDE@C@WDE@SDO@c@DO@OBA?WDKBODODMFGFKJOPMVi@hAIPIPUb@OTKNMJg@^q@b@eAj@mAt@]TULc@Zk@`@_@ZWVGFKJ_@b@KJe@z@EJe@dACHo@`Bm@zAk@rAA@OZMNIHMHGDG@A@C@YFC@]Hk@JyAXm@LSDE@IBMFIFSNKLOVELGNCL?HAN?L@J@JDNH`@BFFXH`@Hb@H^BR?V?PATAPGj@Kf@St@c@lAM^cAtCYz@GTENCH?F?F?J?J@D?D@H@F@DBHNZLVJPZf@T^FHJVDPBTAXAXAl@Ch@Gx@Cd@Eh@Gr@CNCLEHENGJEF_@v@e@x@_@r@Uf@GRCHCH?FALAJG|@Ap@Cb@Ab@?FAZEpC?D?\\\\@??X?H?N@TBXFZNb@DHHLJLBDTXTTJJJLVZJNTZFLLVBFHTHd@Dj@@Db@jERj@RZPLTHPDHBVDPBl@FD@\\\\Fb@JJFDBBBDNBN?L?@CNERi@v@o@v@gAnAYP[Jw@Lg@HW?S?OCQCq@QgD_AcAY_@Ma@Ka@EO?_@AI@E?E@C@G@GBEBEDGDCJCFCN?J?F?F?DBJDHFJDJDDDFPRLLHJtA|AtAzAFHfDzD\\\\b@n@p@lC|CX^JLJNPZHPJRL\\\\JVBFv@dBn@nAf@~@@BR\\\\TZDHP\\\\DHDDFJJJHLDDNR@@NTJPLPJNHLRZT\\\\DHNRJN\\\\j@^j@TZHLT\\\\PTVZTVh@p@NPFFFFNP@@LLHNHJHRFNNf@BBL^Tv@L\\\\DLBHDLHRHPLTLRRVNPHFJLLLZXTTBDFHJNNV@H?@BJ@JA`@AJEZCJAHCNEf@?@ALBN@B@DBHLRHLFHNNNRRZJRDPBPD^?BD\\\\?@Db@@FBZBT@JBLD\\\\@T@D@HBT@BBVBZ@P\\\\hDD`@BZf@`ELz@XdAVf@LRd@j@HJDDRPt@r@v@p@`Ax@HHt@n@b@^PN|ApAd@^rBfB`Az@ZV|BlBb@`@XVvCfCBB`Az@TN^TPFVH\\\\JTD^Bt@BJ?tCHF?Z@b@@b@@b@@b@@fAB@?lHPH?b@@jBD^@B?b@BP@r@Jl@Nd@Nj@VB@XRB@TPDBNNvApABBn@n@tEvErApAnAjAx@v@dDdDXVr@r@PRFFDBNJFDNFLFL@D?H@R?VCPEXKZUrAaANKJIFETKb@Gb@?@?P@nAPnARHBLBRDB?^LnAn@lAl@n@ZHBVHX@^Al@Kx@QbAU`@Kb@MxBw@REBA\\\\ENAD?T?J?H@RBh@Jv@PfAVn@NPDxBf@vBd@`@HJBpAZVJ^P\\\\RJH?@JHLNBDPT?@P\\\\PZ@@r@tA^h@TPZP\\\\HrDj@D@RDb@RXNb@Zl@d@d@Zh@^b@X\\\\VdAr@ZTBBXND@PH\\\\Jb@HP@D@\\\\@N@b@?b@@J?V?hABlCFVD^Fl@NZJPDv@TbAZVH|Cz@zAb@rA`@`@LD@|Ab@TFzAb@j@Nj@PhBb@f@J`@FRDNBjC\\\\t@JF@TBf@FP@D?@?v@DnAFf@FlAHXB`BLz@HrFf@H@b@D`AH|DZZB|CVv@FJ@`ANb@JD@RFVHj@VbChAdAh@hFpCjB~@lCrA~BlAjIbEfB|@^P\\\\P|@d@^P\\\\P^PtGdDbAd@\\\\PzAt@|@d@^PZNnAp@zCxAtAp@XNTJ|At@zBfAvGdDvDnBbD|AVLpBx@x@ZdAZJBp@RfCj@f@Jd@HdALnBRbCVRBl@F^JnGp@hBR`@DpD`@j@F`CTJ@'},\n",
       "       'start_location': {'lat': 7.0537484, 'lng': -73.0822625},\n",
       "       'travel_mode': 'DRIVING'},\n",
       "      {'distance': {'text': '0.9 km', 'value': 897},\n",
       "       'duration': {'text': '2 mins', 'value': 129},\n",
       "       'end_location': {'lat': 5.9336973, 'lng': -73.6109384},\n",
       "       'html_instructions': 'Turn <b>left</b> onto <b>Diagonal 18</b>',\n",
       "       'maneuver': 'turn-left',\n",
       "       'polyline': {'points': 'gmgc@|oh`M@C@A@A@ABAB?DAH?JAl@Cr@CJATE`@Gb@I`@ItAWb@GPEFAlASx@Ob@GDAZGdAQjB[fASb@Ib@IJCJA`BYjASf@K~@Q`ASj@IZGh@ItB_@'},\n",
       "       'start_location': {'lat': 5.941484099999999, 'lng': -73.61295439999999},\n",
       "       'travel_mode': 'DRIVING'},\n",
       "      {'distance': {'text': '0.6 km', 'value': 600},\n",
       "       'duration': {'text': '1 min', 'value': 74},\n",
       "       'end_location': {'lat': 5.9291375, 'lng': -73.6132463},\n",
       "       'html_instructions': 'Continue onto <b>Carrera 3ª</b>',\n",
       "       'polyline': {'points': 's|ec@jch`Mr@Mb@Id@ETAV?F?R?p@HTDVHFBVJt@b@j@^v@h@FDXRb@Z\\\\RRN`@VzA`APLh@\\\\NL\\\\RDBHJ@Bb@ZDDDDFLBH'},\n",
       "       'start_location': {'lat': 5.9336973, 'lng': -73.6109384},\n",
       "       'travel_mode': 'DRIVING'},\n",
       "      {'distance': {'text': '54 m', 'value': 54},\n",
       "       'duration': {'text': '1 min', 'value': 7},\n",
       "       'end_location': {'lat': 5.928722, 'lng': -73.61348819999999},\n",
       "       'html_instructions': 'Slight <b>left</b> onto <b>Rotonda</b>',\n",
       "       'maneuver': 'turn-slight-left',\n",
       "       'polyline': {'points': 'c`ec@xqh`M\\\\TJF^LHB'},\n",
       "       'start_location': {'lat': 5.9291375, 'lng': -73.6132463},\n",
       "       'travel_mode': 'DRIVING'},\n",
       "      {'distance': {'text': '7.1 km', 'value': 7138},\n",
       "       'duration': {'text': '9 mins', 'value': 549},\n",
       "       'end_location': {'lat': 5.8877842, 'lng': -73.57696659999999},\n",
       "       'html_instructions': 'Continue onto <b>Route 62</b>',\n",
       "       'polyline': {'points': 'o}dc@hsh`Mz@d@@?F@\\\\Tx@h@fAx@z@l@JFJDHBJBJ@N?R?TCNGVK\\\\YPOXWr@q@PORS@CJOFMFUBK?I@QAGAOEQAGIW?AMa@Ma@CEIYK[AEM_@CEK[CIIWM_@?AGWAICQAOAI?Y?CBQ@MBKFU@EJ[BCL[N_@FOFON_@FMFQN_@BGHU@CH[@E@G@W?C@MAU?CE[?CK]?CGQEOCKGUEOKg@C[Cg@@e@BWNsAZkBD]Hg@Jk@JWT_@DEHIvA_A\\\\SvA{@@?ZU\\\\S`@YTQTSBELQFIl@cALYP[t@{Av@}Az@gBLSR]FIRUTSd@UZKl@KdAMzAYxD_AzF_BTMTQPQNSLYFUBOD_@Fu@Be@FeA?ABc@JaBLmBPcCFmAFaAJaB@IBc@H}ADc@He@HYDODMRm@Va@T[d@o@pAcBJO`@g@VYd@m@HKVULKLIHGTKBALELGJEREBAVEj@GvACxACj@C\\\\E^G`@I@?`@Mb@Qh@UJEPIx@[jDwA^OHC^QJE|@]ZK`@K`@If@K\\\\I`@I`@INE`@KPEPENGFCVKDAVOTKHETODELIb@a@BCXYJKhAqAlBsBr@u@r@o@BCXOt@_@d@Uj@UvB}@|Am@^MJG^OFCRITILEPCPCL?J?P?J@J@LBPDRFb@RND@@RHHD^Nd@PJDTJHBVHRDf@DJ@P@D?XAH?HATCBAJATG^MTKNKNMPOJMJMLYTg@p@gAR]\\\\i@LUf@}@HOLSJKHIHIJGHEJGPGLENCHCJANAR?P?T@ZDTB\\\\FN@P@L@H?VCNAVEVE^GVE@?\\\\EVGNEDAPGFCRKHGJGBCJIDCLMNSNWJSz@}AR]N[HMNYj@}@TYX[^i@NSZc@LQFKJMRWNUNOPUHMLKRUXSHId@[^U\\\\STSn@_@XQPKROVMPG`@OFAb@G^CVCd@?\\\\A`@CL?TCRCNCNELEZMTM^_@d@g@`BiB\\\\c@b@i@`AeA'},\n",
       "       'start_location': {'lat': 5.928722, 'lng': -73.61348819999999},\n",
       "       'travel_mode': 'DRIVING'},\n",
       "      {'distance': {'text': '0.6 km', 'value': 613},\n",
       "       'duration': {'text': '1 min', 'value': 48},\n",
       "       'end_location': {'lat': 5.8838732, 'lng': -73.5731191},\n",
       "       'html_instructions': 'Continue onto <b>Via Principal Moniquira</b>',\n",
       "       'polyline': {'points': 's}|b@`oa`MRWj@q@PSr@{@DE\\\\a@JMJITYRU`@e@Z_@XYRW\\\\c@TWVWRWPSX]^a@BE\\\\]\\\\]RQPMVO\\\\UVMZMXK@A\\\\M'},\n",
       "       'start_location': {'lat': 5.8877842, 'lng': -73.57696659999999},\n",
       "       'travel_mode': 'DRIVING'},\n",
       "      {'distance': {'text': '46.3 km', 'value': 46338},\n",
       "       'duration': {'text': '57 mins', 'value': 3434},\n",
       "       'end_location': {'lat': 5.6364592, 'lng': -73.3501029},\n",
       "       'html_instructions': 'Continue onto <b>Route 62</b><div style=\"font-size:0.9em\">Toll road</div>',\n",
       "       'polyline': {'points': 'ee|b@~v``MZM^Ol@St@YjAi@d@Yl@a@ZUBEdCyB\\\\]h@q@BCVg@JSDKJc@Hc@d@sCTmA?ANk@FQDMJWDKJQBCBGBCDEPSPSDEBCJIJIJGPKDCHCNEJCVCFAZCTALAH?NAF?H?X@b@Bb@@b@BbENz@BT?NA\\\\EpC]~@M`@GNALAL?P@Z@RDdAR`@HVDZFVDL@J@V?PAHAPCNEHEPIl@[tDoBf@WTKHGRK^Q\\\\SFCLEHE@?BAPGTCPAR?P?RBPDPDNFDBt@b@d@XRHB@D@H@L@J?NCLCLEJGJIFGFKHUj@oBBMJa@Jc@@EH[Jc@@GHW?AJWDGLUDGDGPOf@_@LG\\\\UdAm@j@Yf@SJCF?b@AN?LBTB^J|Ab@|DhA`AX`@JHBJDn@Pd@NTBH@B?P?HAFABAHCHEFEJIFGVWLQDGFMBG@E@G@EBK@O?K?a@?m@Aq@?i@A[?YA_@Ay@A}@Aq@Ae@?Y?W?I?O?]@]@KBQBKBIFOLYP_@JWHQN]JUDO@CHWDSDQHe@F[F]?EDOFO?ADIHKv@y@VYJMJMT[T[@CDI@IBK@KAM?IGSCEMSEEMKGEGCICOAI?aA?sAB[AICICKEIGQOGGEKCGCIAm@?S@MDe@N[HKPKJGJELATEb@G@?|ASVCJCJCJENIf@a@p@u@~AkBb@g@BERMFCHCHAHAH?J?D@FBDDHHFFFFf@|@FLv@|AJRHLJJLLHFJDHDHBF@F?d@?NGLGFCFEFGJQBIDI@IBK?I?IAKCMCMGIIMEEEGQQaAcAg@o@CGCGAGAE?I?I?I@IBEBK`@iAJ]@M?E?IAGCGCGCGEIEEg@i@Y[AAMUCIAIAIAM?K@I@IBIBEFMX]tFyEdCwB`BmBj@o@NMJKPQPKLIr@a@|@]NEBAF?D?H?F?D@D@HBFDTNnAdAl@h@HDHBF@F@J@F@jDAlBCZAD?DABCLGDCDEFIFGHQv@gCNk@BKHOFGDEFEDCLIr@[PKLGTKJIFELMx@cAj@s@TOJEHCTGRAHAJ@T@nBZ\\\\BT@L?LCNAPCRGp@WZSNMJKXa@Xg@~@yA`A_BDIVo@BMBM@MDu@DoB@Y?u@?AAa@?k@?]?y@BaA@S?ADcADg@Ba@Bc@@[?M?MCe@AUG]?AGWGWYs@GQk@mAAEQ]O_@IQEQEWIc@Co@AU@S@QBUDSPy@`AuEJg@D_@DW?G?E?G?GAgA@Q@I?GBIDMBEBEBEZ[`@_@d@[DCDA@?DAJAbBQTClBOVCBAFADCDCFEFE?ADEDGBEBE@CBGBGBI@OBUBa@@e@Be@B_@Bc@Bg@BW@CFSDK@C@CDIFIHGLIFEDCPEFCRCLEZG\\\\KFCFEFEJM@ABCDGFK@ABGBG@G@IBK@M?I?A?GGm@CMACQaAAGGUEICGGEEEAAAAA?GCECm@UOEs@S_@KAAEAKIIGKIGGCECGAEMi@{B}Nu@}EWeBMw@AI?I?K@O@MBK`@oA@AJ_@FO@G@I?I@IAOCICGCMMWa@m@Y[wA_Bu@y@ECAAIEIEGCGCEA[G[EG?a@G]CEAc@EE?]GOIIEIGEICGAACKCIAG?A?A?U@K@G@IBGDGBEDERKFCDCFAFA@AH?H?F?J?NBt@HhBTJBl@FXB^@HANAPCZKDC^Q\\\\Q|@c@^QXOBA^Q^Qj@YLEDAJCJAXARAnACbBEb@Al@A`BCb@Ab@Ad@ApCIv@@J@J@LBLDRHD@PJJHf@^NJFFFFHFvDlDbDvCXV@@LJDDBBDBhAl@nBt@\\\\L@@b@LJBJ@L@F?LALALCJEFGFEHINYb@sAp@{BJ]BUBU@K@S?a@Ae@AmBAsA?YAeA?a@?c@CwE?a@?AAc@?c@?c@AiAAiAAc@AoCAe@?U@G?E?U@KBOBG@GBGBEDEBCJGRIDADAJ?R@F?D@FBp@VtAn@@@j@TPDB@^J`@J`@HfCf@@@^H@?`@HPD|@NF@H?H?VCHALENEbAYbAYNEtA]`@K^Kj@Q@?DEDEDIBEBEBK?G?A?E?MAOKa@AAQm@a@gAQq@EW?Q@SFQFKHKHGn@UfAQ\\\\GZOLINQf@}@n@qAXi@HMLUVYj@i@~@s@`@[TONSBEBK@MAIAOE[@G?OBQHSb@e@HIjAkARKHCHAR@ZH`@J`@JTBHA@?FAFCFCFELI@?f@[^SXKd@KRIDEDGBIBQAG?AEOIWOWg@y@MUM_@C]AQ?OFe@Pq@BMf@oBPm@N[FGLIXOn@Ob@I?A`@GJAVGBAVGDAJETKNIHIDCRSX[hAsAnCaDvAgBX[V_@\\\\e@fAgBZm@Rg@`@kAL[Vw@N_@LYdCiDt@cARWp@e@hBy@j@UBAPIHCHCj@Gh@Cd@?XAPAd@CZI^Kd@Wf@]p@e@PMj@W^IXGn@EvCK\\\\Cb@G^OPK^UZ_@R_@^{@ZqALc@J]T{@Po@R]PSLMd@[`Ao@d@a@b@c@`@i@\\\\g@Re@Pe@Rg@Lu@Bs@Di@Ba@DWL[BKZk@PYT_@j@g@VOXMv@]x@]lAo@\\\\Yh@i@BEx@cAp@{@Xa@FIl@iABEZk@\\\\a@p@a@ZOVINCrAe@VQBCVU@CVY@CTUtAyAx@_A^]ZUTOn@Uz@UHAx@Qb@I`@I|@Qh@Id@KdAQ@AXCDARAX@XD@?XHXPFDRPDFTZFHLPTZLRFHVZPTBDTTB@VLF@`@JH@z@PNDPBL@\\\\@XA@A`@G@?~@U@?j@KRGNGHEFILUBGFSJq@NsA@MBUTuBBWJw@@OBWFk@?A@c@?MAy@AMAUA]Ea@Ie@[_ACEOa@Ia@E[Aa@@[Dg@NwBZyEN{BD}@Fk@DYJWHOPWX_@RUVYj@s@n@{@Zc@n@eAf@eATc@N_@LYJ_@Bc@C_AM{C?OAc@?c@@a@Fi@@GFc@@AHa@BMFSBGJW@CXo@Xk@BExFuJx@{Al@eAr@oAFK^q@\\\\k@H[@GFY@KDk@D{A@}@DwC@k@@Q@c@@e@?c@@E@uA?ADq@B[FWHSJQLS^[TONI^KjCy@nR{FbGgBhA]nCy@^KhGkBrNiEnH{B`@K`A[`@MdDaAnBk@h@Qt@Ux@U@AZKDARIj@WDAVOj@[NI^SjBcA`@Sd@Qr@U|@UhBe@b@MZMVM\\\\QTQ\\\\YVYr@s@pAoAd@a@VSd@]pByAfBiAl@e@^Sl@Ub@Ol@UTKZO^QVUp@k@j@o@Za@Vc@BGN]@?Vk@l@qAXo@\\\\s@Tg@\\\\k@|AuBt@}@bAwArAaBHKT[V[bAsAT[~CcEvOeSl@y@hB}BT[V[nGiIxAuBb@_ARi@L[Na@Pm@TaAJq@Hs@ZaDFa@Da@Fu@D]DUBKDUBKLc@L_@DGN]DILUd@{@LOn@u@PUn@k@d@YFETMHCXMBC\\\\Mb@MLC`@IB?h@I~@MfAE`@Eb@C\\\\CDAb@Cb@Cv@At@Iz@Q`@IXG^KPEPI`@Ov@[f@UTKfAi@\\\\QXObAe@\\\\SfAi@r@[~@e@DAp@_@`@YNM^_@f@m@`@w@\\\\cAReALu@DY@IRsAV{A?C\\\\qBZ_CPq@Vu@\\\\q@Xe@LSR[Tg@Le@BKLs@?ELkBDa@Bc@HcABg@Dc@?GH_A?CF]DYTs@Xe@T_@nAyA`AeAbAoAxAeBPU`AgAvAcBvBcCLQl@q@Z_@T[`@c@d@k@LO^e@t@y@l@u@RYPW@EVk@RcAT{A@?Fc@NeAHa@Jq@`@}BHk@TmAFk@Hi@Hk@Hm@J]LSP[DEVSBCXS\\\\W\\\\U`@YnA}@ZUJGLK@Ax@k@JGNMJILMDAPSBAJMJKHGLQT]@Af@w@LWDGP]P[?AfDuGxBmEZaATmAHi@Jq@PcABUJe@n@yBbAaDJe@@EF[BQJw@F_@@KFUBKFU@ATg@b@{@`@s@HMHQ^y@@CTq@Rq@J[@Eb@_BXiA@CR_Af@aDDa@XgCB[`@{EHs@Ho@To@n@}A?AN]P_@@GZg@`@g@j@m@NO^a@Ze@FIFSDW@KBO@SBa@DiA@Q@Q^oFD]Lq@BMFUDSd@mAN_@Je@@?H]@CPm@Lo@Dq@?o@ASCW?Ea@kF?sALmAN{@H]@Ct@{B@GLa@Ja@Lu@Ho@Pc@R]@CPYLSXa@Z]DERQFE\\\\YBCh@g@JKJGtAkAdB{AROzAsAf@g@DGPQT_@Xs@H]H[@ERy@DSBMLa@Ja@J_@@CV{@@CZu@|@_B|@qAZc@N[Ne@FWHa@BGLi@DQH_@@CJa@L]NWLQNQDETOHE`@On@QFA`AW`@K@?\\\\In@O\\\\IZIFCXKRI^ULINIf@a@LMBCTSBCZWTSXWNKZWJIDEXM`Ae@f@Ox@O`Cg@h@ItCi@lDo@d@KtGmAb@I`@GDAZG@A^G~Ck@`@GNC`@I`@Ib@G`@IbAShB]`Dm@f@Kf@I@?f@GZA\\\\CpCGb@AxAAv@CB?x@G`@E^Gn@QjA_@~FmBl@Wd@UXUj@g@d@e@rFcGDGPQBEj@_@b@U^MZIb@KHA^CB?dAK|@Il@E`@EfAKhAIb@ELAv@Ib@Cd@E`@E`@CBAvCW|AMdAKXCl@EXC|@GV?j@CxAApCEh@A^Ap@Gr@K@?^IjAYlBe@pD{@~Bi@h@OXIFAt@MNC^EB?`@EDAf@ArACtABb@?fABt@@X@\\\\AXEPE@?LELGBCFCLMPQp@{@zAmB`AmAb@c@BAZWlAg@r@Yl@M|B]VKPGBANKHKJMfA_CZg@\\\\]ZURK^OzBg@~@Sb@KTIf@WTQNOVYl@q@PQTMZMTGXE`@?d@Fn@Nr@T~@V^Dd@@RAZCFCTEJC`@KDAZGRCVCd@ANBRDXJXN@?VH^Dp@Ch@K^MZGLCRGTGZELCR?P?PBP@PF^FvD~@tAZp@Jt@JZ@`@@PAh@AfAEr@Cf@Ev@EB?\\\\Ad@?T?VBZDb@Lb@Jd@PhBj@\\\\HF@HBXBPBr@Ht@Jr@FfC\\\\zANj@HL@TBTDL@`@Db@D@?`@@@?\\\\CPERG\\\\OXM^QBCTM@ANOJOHS@G@AB_@?CAU?MG[[eAw@eCQo@_@gAEOMa@EUC[@I?MBGBIFOHKFITO@?bFuC~BuAVQVILELCLAN?R@ZDt@TZJ\\\\L@?PFLFLHVNNLPRHHLRFHZd@Xd@TZNRPPB@NJHDPHVFVDV@V?j@ElAQh@KPGPGVOPQLMHOJSFQDU@M?I@WCQKw@i@uBYiAAIKc@AEMu@Cg@Cw@AWAc@EmAA[OkEEcACo@?S@WBW?CH[HULWRWXYROVM\\\\ITEHAXCD?j@?x@BfAFb@B`@BN@R?b@BfAFfADhAFnDNb@BfADv@DD?L@`BFB?pBHX@v@DN@`BH\\\\@v@BXAHALCNCHELILKRSNSDGX]x@cAHIHIHIHEHEJELEJCNANAP?H@L@\\\\F`@HTFd@JhCj@nATtAZ`AR@@TBL@H@L@^@f@Af@AxAE~AERAzBGxAC|@An@?Z?@?@?RAHAFARGLCLIHGFEHIFGV[BIn@cAT_@NUDE@ADEHGHCLGDCVGl@Kp@Kn@KVETCnAS@AHCDAFCJEDCHEJKJMHKn@aAJQT_@NUDEHKHIPMJEFCFCLCPCF?FAJ?D?L@\\\\DrAPn@JNBp@JF@XDX?'},\n",
       "       'start_location': {'lat': 5.8838732, 'lng': -73.5731191},\n",
       "       'travel_mode': 'DRIVING'},\n",
       "      {'distance': {'text': '4.0 km', 'value': 4011},\n",
       "       'duration': {'text': '9 mins', 'value': 512},\n",
       "       'end_location': {'lat': 5.632224799999999, 'lng': -73.32569149999999},\n",
       "       'html_instructions': 'Turn <b>left</b> onto <b>Arcabuco-Cómbita</b>',\n",
       "       'maneuver': 'turn-left',\n",
       "       'polyline': {'points': '{zka@beu~L@GDGBEFGp@q@V]DIBC@E@E?C@C@S?KAKAWCc@Ac@GgAAa@?ACc@Cc@?OCWAQAQ?S@M@KBOLm@BU@G?G?MAOAYAM?G?C?C?A@SBQBQ?M@KAKCQCOCKCI?C?C?C@E@C@E@CDGJMDEHGFCFELCVI^IREDC@ADEDEBEBIBIDMBM?I@E?GASCU?G?G?G?K@I@E?GBMRy@?AFU@M?E?E?K?E?EAICIEMM]CEISOYMWMSa@k@EGU_@CECKK]K_@Og@Ma@CIEIEG?AEGGIOKIGOK_@SMIEGEEEECECGAEAIAICOAO?G?E?E@A?A@E@CBE@ABADCFAB?BAT@VBhBNH@TBL@b@DN@RB`@DD?TBN@D?HBH@@@HBJBHDD@JFXLp@X@?\\\\PD@DDDBDD@B@DBH@N@P@HBD@DBFBBBBDDDBDDJDJBFBNBP@N@Z?T?T?L?H?X@X@RBXBR@ZBTBZ@R@^@F@DBD@FDHFFHHFDBDBB@@@B?B@BAB?B?BA@ABABCBC@C?ABIBOB]BWFY@KBIDKN]FQ@CFMBO@C@M@I?EBa@@[?[Aa@?[B]?Q?U?AA[?E?I@M?EBCBKFITWHIBE@G@C?GE]?I?C?A?C@C@IFM@GDGBGFGNMLGDC\\\\M\\\\MHGFGBEBC@E?C?C?C?EAIGQ?AKS_@y@q@mAKSCIACGOAGAIAG?K?E@I@G?ELu@PmAFUJe@BM@G@GAUMaACYEc@Em@CIEQIOKQQSk@s@UYAEGIEMAE?AACAU?U?Q?Q@QDa@Ji@Lo@BS@I?MAGAIMs@GYAECGEQGMg@y@]g@KMIMGEECKGMGMCg@MQEMCaAUe@MGCCACACCCCACCEAE?CAE?A?G?K@KDc@XsBHi@@S@A@O?A@SAMASMcAE[AE?A?MAM?G?O@W?eA?S?o@?IA]Ao@Ak@'},\n",
       "       'start_location': {'lat': 5.6364592, 'lng': -73.3501029},\n",
       "       'travel_mode': 'DRIVING'},\n",
       "      {'distance': {'text': '0.5 km', 'value': 483},\n",
       "       'duration': {'text': '2 mins', 'value': 102},\n",
       "       'end_location': {'lat': 5.6328375, 'lng': -73.3213699},\n",
       "       'html_instructions': 'Continue onto <b>Cl. 2A</b>',\n",
       "       'polyline': {'points': 'k`ka@plp~LOiBKcAGo@UaDAIM}AG_AIeAIeAIuAKuA'},\n",
       "       'start_location': {'lat': 5.632224799999999, 'lng': -73.32569149999999},\n",
       "       'travel_mode': 'DRIVING'},\n",
       "      {'distance': {'text': '1.8 km', 'value': 1835},\n",
       "       'duration': {'text': '4 mins', 'value': 253},\n",
       "       'end_location': {'lat': 5.622109, 'lng': -73.3101939},\n",
       "       'html_instructions': 'Continue onto <b>Cómbita-Paipa</b>',\n",
       "       'polyline': {'points': 'gdka@pqo~LJs@DUDMFIFEBABADAF?JAZ@J@H?D?BADAD?DABCBADG@GBM?Q@YGcAEy@KcBAMEcA?YBSFK?AJKd@k@h@k@DE\\\\Wp@e@`@UPKh@YTQVSRSX_@@Ah@q@fAcAf@_@h@e@HK\\\\c@LSDIb@w@v@oA\\\\[VQz@i@PMrA{@h@]TOx@g@p@_@FETM`@UhCyAp@a@l@_@HEj@g@\\\\YDETQDE\\\\WpAgAXQdAs@~AiAx@k@ZUZU\\\\UZU'},\n",
       "       'start_location': {'lat': 5.6328375, 'lng': -73.3213699},\n",
       "       'travel_mode': 'DRIVING'},\n",
       "      {'distance': {'text': '11.9 km', 'value': 11866},\n",
       "       'duration': {'text': '10 mins', 'value': 594},\n",
       "       'end_location': {'lat': 5.5296729, 'lng': -73.34452999999999},\n",
       "       'html_instructions': 'Turn <b>right</b> onto <b>Briceño - Tunja - Sogamoso</b>/<wbr/><b>Tunja-Paipa</b>/<wbr/><b>Route 55</b><div style=\"font-size:0.9em\">Continue to follow Briceño - Tunja - Sogamoso</div>',\n",
       "       'maneuver': 'turn-right',\n",
       "       'polyline': {'points': 'eaia@tkm~LbHhGzArA~@z@XVjB|Aj@j@VTv@v@V^TVNT\\\\h@HLFP^t@b@hAL^N^N`@jA`D?@zA`E?@zA`Ev@nBtDbKVt@~A`EtArDn@jABDz@dAt@j@B@PL`@PjAd@|Bt@dCv@xBr@pA^VHd@Jx@R`@Jh@J^F@@b@FH@\\\\Fb@Dr@FJ@b@BD@\\\\?b@@~A@tD?fBCz@Ch@C`BMdAOh@K`@Id@Kp@Qz@Yn@UPI\\\\On@YlBiATMpBiAXOZQTM^SvCaB~A}@bDkBdAk@zAo@lBq@v@SRGZGn@MXEVEHAb@EXAJAr@E~@?^?R?R?j@@v@BdAJx@NPD`@FPDn@Ll@NrBt@`FlBTHbE|AtEdBf@Tb@Pl@Tj@RxBx@`@NTJPFPFNFPFnEbBpChAfA`@hCbApBr@rHrC^N^NlG`CPJbBf@`@LB@t@N`@F^FTBVBH?h@Dv@@fA?F?bCCf@Ab@AhACdBCzACrA?j@@b@@d@@x@H|@FRB`@FbALfAT`ATxA`@rAd@b@R|E|AvGfCfFlB`Cz@`EtAdA^zDvA`Bl@dBj@^NTFjCp@nATbANlANvD\\\\zCVlK|@lHn@nBPl@Jj@JXFVFn@Rh@Ln@JRDRB^@@?V?j@@~@AdAAB?l@A~@Dn@BzALb@BhCT~Ff@TBlIp@b@DrOpAnAJZB`@DbCTH@b@Dl@HrAR~AXbB^r@Pz@XhA^z@\\\\f@PtAn@d@T\\\\PRLt@`@~@l@JFx@f@l@^nEpC`CxA@@dHpEZT\\\\R\\\\TZRp@`@HFZTvO~JDDDBHDFDTLXP`@T`@VpBlA~A`ALH`@V'},\n",
       "       'start_location': {'lat': 5.622109, 'lng': -73.3101939},\n",
       "       'travel_mode': 'DRIVING'},\n",
       "      {'distance': {'text': '1.9 km', 'value': 1919},\n",
       "       'duration': {'text': '2 mins', 'value': 125},\n",
       "       'end_location': {'lat': 5.5151442, 'lng': -73.3535358},\n",
       "       'html_instructions': 'Continue onto <b>Villapinzon-Tunja</b>/<wbr/><b>Route 55B</b>',\n",
       "       'polyline': {'points': 'm_w`@hbt~Lh@^^TPJjC~AdF|CjAv@xClBp@`@ZT\\\\R\\\\RvA~@\\\\Rl@^JH\\\\RZT\\\\RRLd@Z\\\\R\\\\TZPf@\\\\h@b@BBVX@@j@n@j@p@|@~@XVXRNJDBB@PHZLb@Lp@Nz@Np@Nf@Jd@Hd@N`@LnCx@^LfA^RFNF~Af@fAXjBh@dA`@dA\\\\\\\\N^Rb@Zv@p@PNBB^VXR'},\n",
       "       'start_location': {'lat': 5.5296729, 'lng': -73.34452999999999},\n",
       "       'travel_mode': 'DRIVING'},\n",
       "      {'distance': {'text': '93.7 km', 'value': 93710},\n",
       "       'duration': {'text': '1 hour 18 mins', 'value': 4664},\n",
       "       'end_location': {'lat': 4.9827784, 'lng': -73.88360039999999},\n",
       "       'html_instructions': 'Continue straight onto <b>Briceño - Tunja - Sogamoso</b>/<wbr/><b>Villapinzon-Tunja</b>/<wbr/><b>Route 55B</b><div style=\"font-size:0.9em\">Continue to follow Briceño - Tunja - Sogamoso</div><div style=\"font-size:0.9em\">Toll road</div>',\n",
       "       'maneuver': 'straight',\n",
       "       'polyline': {'points': 'sdt`@rzu~LRHXH`@PXHr@Zr@f@dAl@XTVXJHNPn@x@LLlAlBXb@@@RZRZdEtHhClEfB|CLTdGdKP\\\\@?vBvDb@x@R\\\\r@jAFLR\\\\HNHLn@hAh@v@z@hARVPNJJHJ~@|@b@Z^\\\\^VjAt@z@d@x@^tAj@nCbAj@Rz@`@vAbAJJJJHLRVJJ\\\\l@FHXd@Xr@Ld@Tt@R`ANjA@HJl@Lt@BDRr@N`@R^^l@X\\\\PR^^ZTb@Rr@V^N`@L^LjDlAx@b@nBpAf@`@VTx@jAHL`A`BTf@R\\\\P^vDtHP^vKnTv@xAlAtBv@~@BBv@v@h@d@|@n@zF|Df@^j@j@PP~CzCv@t@dDnC`@d@BBpDpEHHRTXTVNb@TF@~@`@LDn@TB@r@XTLZVZV\\\\^T\\\\T`@LTN`@BNDRHf@Dd@@V?PCd@?BEj@OdAGVI^Oj@MVCFWl@EFILSVMLIHONYRa@VA?_@NC@g@NQFWBo@F[@w@AmAI}BMoB?U@Y@U@_@Dg@H[FSBaAV{Al@uAr@cAr@e@`@STm@x@AB}@xAa@z@Sn@Sr@GZa@`C_@xBKp@ABUv@OZg@z@}BhC{B~Bi@r@KNg@v@EROd@?@O`ACt@?J?f@NzALh@HXNXJTX`@TTf@d@VRRLtCfAtDrAPDRB`ALh@@H?l@?v@CXEvBUr@Ef@Cl@@j@D^Dp@TVHFD\\\\R\\\\RJFPJZTRNFFXVRPt@l@l@^f@V|@^|@Xj@L\\\\Dl@F~@Dx@?n@ABA\\\\CZEVCVEjB]\\\\Gf@KXCf@GX?Z?\\\\@r@FF@TB\\\\FhAVjCn@fEfAtEhAb@J~@Td@Jv@HtALnBD|A?Z@lA?tA@^?jABvBBx@Db@@Z@F?T@n@Dx@Lh@L`@Pr@b@f@b@NNBDFHHLVb@\\\\v@Np@LzARxA^jA\\\\r@\\\\j@R\\\\f@v@vDnGrBbDrBhCVX?@j@p@pCzDnAvAzA~AjAlAXXd@f@b@d@PRNNLPT\\\\NRVd@PXl@v@\\\\ZVV@@XVFDRJ@@TNFBJBTD^Nb@P^JnBJvCJt@N@?|@Rb@T\\\\RDBRP^\\\\RVVXVXRVBBj@h@n@f@b@Tx@Xj@LbBJxDM|AEd@@`ANLDx@T|@`@f@d@PTVX@@RZBDVp@Pv@BTHb@F`@PvALd@F`@HZN^P^TXDDXXz@|@V^R^N\\\\JXFTDVD^BX@X?J@V?d@?vC?hA@P?^D\\\\J\\\\HVNTj@r@^V^NrAVpATZFTJf@ZRTLXPj@D^Ax@Eb@Il@Ij@SvA?T?D@Z@@@PBRNf@Th@\\\\r@NVNV^j@XTTLz@l@f@N|@N|Bd@\\\\FhHlB\\\\T^VVX@@j@t@f@z@h@x@`@l@l@hAPTVV`At@rAp@f@TfAh@~A~@vBxAvBrAx@h@jBlAdElCx@f@d@\\\\l@f@b@d@PXDJDHHLVx@Jj@DZ?V@T@d@@~ADz@B`@FZFTFXJXNZFP@@JPRXRV^\\\\v@p@b@^\\\\^TXNTFLJVHTDR@BvAvJPrAF^FZLb@DNJVLVZj@TXZ\\\\b@\\\\@@\\\\RTLt@\\\\f@PHD`@L`DjA`@L|EdBnGvB|Bl@z@NH@b@Hh@J|@JtBT`CRb@DdFd@fF^b@DpLbArHl@~BNdAN^H^JXJRHLHp@`@`@^RTNR^r@j@rAJZx@tBj@hAjA`A\\\\V`@TTHPFx@Vx@RXJpAf@r@\\\\VNVRHHPPp@z@r@|@h@x@lAjBp@jAl@|A\\\\z@b@hAt@|BjApDb@nAJVNVTZVZ^^`@\\\\TRxD`DPNLPJPR\\\\Vj@Xv@BHf@nAjC~GJ\\\\Z~@ZhBJfBBnAVvENnCB`@?@TfCD\\\\FXHTp@|AtBrD`@|@l@xANf@Nh@FXJf@h@xCNpAJr@Hf@BHFVDHDLL^P`@f@r@TRVTBBPJFDNJLFZNj@NTHB?`@HNBdBZrBr@xBrAx@f@JFdAr@DBdBrAr@n@|@~@p@v@jA|AdBnBr@v@hBhBX`@\\\\`@|B`BfBnAdAx@RPXVDBVXj@n@TXNRTXp@bA`@t@P\\\\b@bARf@FRDJNd@Lb@J`@P|@Jh@Hj@LpA?@Dp@DzA@xAEjBGrBCnAEbBEjBGjBEr@?PI`D?@EjB?^?@?@@ZBf@Fh@H^Lb@Rj@Zr@l@x@p@l@l@d@~BxAl@^fAp@\\\\R`BdA`F`DlGzDr@`@~EtCvKnGzDdCl@`@h@^~@v@`@\\\\x@n@HFHFp@`@n@VjA^bA^^Nb@R|EnChAp@n@^^TrAbAlAbAz@z@b@b@b@h@NNj@x@d@r@n@`ArArBVf@dC~DxBpDb@r@b@v@R\\\\R\\\\r@lAxA`CR\\\\lB|CjAlBpDbGRZ`FfI`@l@Td@HNBFFPPf@HVDXDTBXFz@?@?P@fA@b@?L@TDnB@bA@j@@J@V@V@JD\\\\Hr@Tx@x@zCJ`@l@zBpArET~@d@dB\\\\nAJZ@FxBbId@zANh@Vx@J`@J\\\\FPZr@Th@PZJPHJPVTZn@p@^\\\\rA|@B@l@ZhAp@`B~@j@ZtAv@hAn@PJ\\\\R`@RvCbBVP\\\\T@Bd@\\\\f@f@j@l@b@\\\\?@@?DDrAv@VJTH?@@?F@p@N`@HTDr@RZJ^RrBlANFPLlElCNJlA|@dAz@zAzAvAjBxAvBTZnAlB\\\\n@Zp@|@tBf@xATrADbA@R@\\\\@h@AtDBfAPbAVv@Vp@h@hAv@rAhCxDtCvDfBzBjChDhBtBb@\\\\VN\\\\RTLTH@@NDND@?\\\\H`@HxBVxAPRDVFf@NZNn@\\\\XPxAhAnCtBd@Z`ChBPJz@l@@??@b@TnAv@PJRJpAz@RPJH\\\\Tb@XbAl@HFp@^fAp@PJd@X`An@vB`BvBlCTZxAnBJLb@h@TXHJ\\\\\\\\vBfBpEjDTRLPTZ\\\\h@Tf@DHN`@rBrFf@jAb@x@Vb@b@j@hA~@n@^^Px@XJB`@Jx@Th@L~G`BxBh@tDx@ZH`Dx@dAT~@R`@HnCn@dDv@jBd@~Bp@d@P~Ap@B@LH\\\\R~@j@pA|@JHNJJHZRlCjBhDfCbBrA`A~@j@n@bA~A|@vBf@nBP|@H`@DT@J^hBRbADRNp@Pz@x@fDJ^L`@JTHPHLJNNRXXRNRPVR\\\\NPHDBZJXHVFPBPBNBP@Z@\\\\@`@?b@AxAEx@AfACr@?Z?J?f@Dn@JLBJB^NVJVL^TRLNLLJRVPVRZLTdAlB|A`DZj@f@`AFJHNFHHNPTHJj@j@~@h@n@Tz@PT@|@Fh@?^ARATEJAXG~@U\\\\IPEPEv@ONCXGPCTEPCL?PAB?N?^?L?^@XDTB`@HNFNDRHNHPHPJTPLLPPRTTXNTZ`@TZRZLRX`@z@lAfAxAj@v@`BbCrC~Dt@~@p@p@@@f@b@hAr@z@\\\\t@Td@LlAX~AZ|Cl@xBd@v@Nv@PfBXrAZ^HnBd@x@NZD~AXNDp@NzDx@rCn@zATB?p@FdA@xAAbCA~GQvAAl@?vA?pB?B?rAE~AM`BIf@B|@HR?zBBJ?dAA@?h@B^BbAJrCZJBR@dBHf@BfAHxBJV@^@fAFN?R@B?t@BtAFtAHv@DB?vAHN@xBJ|@D\\\\@v@DlBFnAAzAIv@MB?d@Iz@QrB_@`Dq@B?p@OfHeApAEhABx@BB?X@f@HlARxBd@jAXB@\\\\HB@ZH@?hEfAjCl@jBd@pCj@PBdANB@^DB@TBhDl@LB~Bn@tAVZDfAJB?fD?V@zAHbDZb@F`AHjALtEf@dAJlD\\\\@@b@D~CXjBLzBDf@@^@rDBr@?dB@fGJL?jBBD?ZBtAJvBl@tBlArCpBtCnBlA~@x@r@j@f@jCrC`@f@XXzBhCpC~CTT`@`@PLXPB@hAh@lAXvALdA?xAMdB_@pA]~AYFAbAKnASdAUj@ONCbDyAvFeCDA`@IjDu@tBObC?b@?J?jFf@pEp@hBVzEd@|Df@rBXl@HTBfALvAVb@LlAd@f@Vb@Rv@b@RJLFzAx@xAr@RJB?v@Xd@LdAPz@Fj@@\\\\?JAb@Ah@Ch@GBA\\\\GHCFAl@OjAc@VMrAq@fAm@rDqBPKJGlBcAn@_@n@Y\\\\MfA_@PG\\\\GtB]b@E|AGx@@Z@hADt@HPB`@Fb@D`@Fb@FdALb@FZDD@b@FtC`@r@PNDd@Lv@Xv@Z~@d@n@\\\\JH\\\\RJHp@h@j@h@lAjAn@t@VZHJFFp@r@XXJJVXXZVXLL~AdB\\\\\\\\t@v@FHbBfBzB`Cp@r@n@t@VZl@t@BBNPRPJJ`@b@TVnDfEz@dAh@t@rBhC|@fA\\\\d@`AjAjApAv@r@HHl@b@x@h@\\\\TFD\\\\Np@`@r@Xn@XhBh@jAXB@dATzAX|AZB@fAT@?jAT|@RpATf@Jj@NzA`@jAZjAZ`Br@PFl@ZhAl@l@^NHz@l@x@r@~@z@l@l@PRDDp@~@z@pAr@nAz@lBZx@LZBD^z@j@~AZr@b@jA|@|Bp@|Af@hAP`@h@|@f@x@^h@lA`BTZZ`@dB`C|AtB@?TZTZj@r@n@x@zAnBhAzAlAnB|@|Al@zAL\\\\pAhDRj@Xn@fApCz@lBx@xAXl@`A`BfA`Bh@t@BDtA~AlAnAjBdBVXXXHHfA|@PLjA|@nBtA|AbA`C`BZRn@b@|AnA|@t@j@j@VVVVd@d@pAxA|CjEl@x@rApBT\\\\bCbDnAhB^h@TZ?@l@x@RX~@rAxArB`AvARZDD`BbCX`@T\\\\\\\\d@lGbJhCrD|DvFZd@TZ`DrEbCbDvFjGt@x@~CdDtA|AbAdAb@h@^b@bCfCdFrF|DjEVXrBzB~@jAj@x@HNb@|@Xx@FN\\\\rATnAXzALn@Lt@b@|B\\\\`BH\\\\DVDJFTn@tBtA|D`AjCp@nBb@nAFNRn@bAlCJVNXZh@xE~HHNb@r@dAdBjCdEr@jAdAfBHRHTHVN`@^~@L`@L^h@`B\\\\dA^fAf@pAPd@n@hBj@~A`BvEL`@x@zBb@rAL^f@rAbAfCbJfSd@~@l@pADF`@~@h@dAZv@n@rAd@hA^`AL`@p@tBr@hCX~@pAnE@@^tA\\\\lA`@xAt@tCJ`@pAdF`AhDL`@h@bBDLDRL^t@nCf@dBf@bBL`@J`@L^@Df@vARh@f@bAl@|@b@l@`@`@XXJJLJZTVR`Al@^NXJDB^L`@N^LFBXF`@JD@ZH`@H`@JRDbCh@`ARND^H^HD@dB^NDlAV~FrAZFNDvAZfCj@tAZpBd@dAThATpAXzD|@tB`@|A\\\\~A^b@HvHdB|Bj@lAV`B`@RDtBd@jAV~Bf@hAXzB`@~AVdAPpBVv@FF@B?hDV`CHhAD`ADnBFdGNfCNB?`BTn@NrAZbAXlD|@fCr@pA^vDhAdEnA|@TTHxAh@fBx@vA|@tB|@xAl@fBn@^N`@JZJD@dAV~A^n@J\\\\Fh@HvGbA`@Fb@FVDHBH@`Bf@fA\\\\dAVz@TbA^PH\\\\Jb@RLDVN\\\\Ph@`@l@f@b@`@|@fALPZb@z@jA`AzAfBfCr@fAx@jAJPLRFFNRDH\\\\d@d@t@NVFHb@l@@@RZX`@PVR\\\\JNr@dAd@l@fA`BjDdFXb@nAnBRZZb@PZBDb@nAXjAVfAJh@R`ATnADNH`@Hb@RbAHb@H`@PdAVbAL`@L\\\\b@x@NRJJPPFFNNHFVPXPHBPHLDFBNFF@NFXFf@FTBb@Db@DhBJpAJlBLd@Dv@HdAPf@Hl@Tl@TTFRJPJ\\\\Rl@^LL`@^HFVXXZRZNZ~@tBNZBD\\\\dA^dAl@lBHRlAbDDNFNDJN`@Tn@Rb@N^@@PZ?@VZ`@b@`@^TPj@^dAn@`@Vr@b@^ThBdAvBtALHNHVNd@X\\\\Rh@ZLH^RFDh@Xt@\\\\v@^dAd@z@^vAn@|@\\\\@?\\\\PFDTLVLDDTPBD`@b@Pb@JXLf@DR`@vBJf@P~@BR?@BT@Z?Z?ZA`@Ad@APIbACZEf@AVCb@AJAVCh@Ax@?j@AF@Z?PCnA?H?b@?rAAx@A`AGh@KXGLOX_@b@QVmAxAs@t@o@x@i@~@Yl@GVK`@M`@e@fCKh@]jBMz@Gt@Ez@BtAFbBFpADtAP`EJ`C@HD^DZ@DFZBLJ`@h@xAZ|@Rl@h@rAtAxDVt@Lp@Lp@b@tC`@hA^j@r@hAFJ`@j@Zh@N^P^Xr@\\\\~@DL`@dABHf@pAZz@h@nATd@PZFJj@z@p@dAl@~@`A~Al@jATf@FL\\\\n@@D\\\\p@d@v@V`@RTRTLNFF`@\\\\RLLHZR@@^NRJPHJDt@Xp@Lj@LD@B?XDF@XD`ANb@Hv@Lp@LHBh@Pb@R`@R\\\\P@@h@`@|AhA\\\\R^Rv@^b@P`@J`@Jd@JRBN@`@B@@b@@|AHd@Bf@DVDd@Hj@Nv@\\\\f@^HHTRVZ^h@Xh@Xv@FRHX@FZjAPf@DHJVVh@t@xA~BtE?@f@|@\\\\p@h@dAt@rANVzBdEf@`Al@lAl@lATf@`@v@nA~BhBnDj@fA\\\\r@j@dAtCvFJTp@nAbAnBj@jAPh@Tr@ZbAZtAH`@H`@f@`DF^^xBH`@r@zDfB~Jz@hF`CrNBPBH@D@LDZrBvLH`@DZFVh@dDBLDT~@vFJf@F`@@DJf@Hd@Hf@Hb@DRBPBNBNF^t@lEDX@DFb@Fd@F\\\\F^Hl@Fd@Jx@J|@LvANrC@b@BVVpFVhF@LH~A`@dIL|BVzFVvEBh@VzF@NLlCLpCTdEFv@JvAX~FLdB@R^|BRz@Tv@z@hDDLJ`@L`@\\\\lARr@\\\\dA^~@LZj@hATb@Zl@|@~Av@tABBNXBBrC`F`AbBBBLXzD|GRb@rBnD@B|AnCj@`A@Bd@z@n@fAtA`Cn@fApA`C`@v@bFdKJPfB~CfCrEz@xAd@|@R\\\\fFfJT`@pDnGP\\\\R\\\\r@lAFJVf@LTz@xA`A`BXh@`@p@d@z@FJR\\\\FJ\\\\j@T`@R\\\\LR^l@d@~@`@p@HPf@z@Xf@T^R^P^Xf@f@r@b@n@r@bA^d@`@f@b@b@h@h@XVXXl@d@`@\\\\p@h@FFXVjA~@lBxArDxCxAhAXRp@h@FDn@h@z@r@nDpCxDdD~ChCrB~APLt@n@|D`DtAhAzExDZVZVPLZVZVj@d@dHvFjMbKjF`EfDpCrJ`I~ApAjElD^Zb@\\\\nCxBrFnEx@n@|MtKdZ`Vp@h@LJdAx@lCvBnCzBfClBf@`@ZTr@j@^VtHtGx@hAd@x@FNP\\\\P`@hBvDPb@xAzChAdC^t@`BhDFL~@nBP\\\\b@~@P\\\\\\\\t@DHN\\\\FJ`@n@l@r@@@VX|@dAxBbCp@t@LNjBrBlBtBzElFDDhCzCTTv@x@|ApAj@`@tA`AtA`AZT\\\\TtA~@x@h@rBtAx@j@ZRNJl@XVJbA`@PFRB@@`@FPBtALjBDb@@jBDb@@D?|APD@L@PDB?pAZPH^N^P\\\\Rn@\\\\JHRPDDr@p@t@|@l@z@Vb@PXj@z@l@bA|@zA'},\n",
       "       'start_location': {'lat': 5.5151442, 'lng': -73.3535358},\n",
       "       'travel_mode': 'DRIVING'},\n",
       "      {'distance': {'text': '8.5 km', 'value': 8530},\n",
       "       'duration': {'text': '7 mins', 'value': 424},\n",
       "       'end_location': {'lat': 4.9481614, 'lng': -73.9491841},\n",
       "       'html_instructions': 'Keep <b>right</b> to continue on <b>Bogotá - Tunja</b>/<wbr/><b>Briceño - Tunja - Sogamoso</b>/<wbr/><b>Via Principal Gachancipa</b><div style=\"font-size:0.9em\">Continue to follow Briceño - Tunja - Sogamoso</div>',\n",
       "       'maneuver': 'keep-right',\n",
       "       'polyline': {'points': 'kel]nk}aMd@x@NVrCtE~@|A`BpCtAbCjAlBDFJPt@nA@@hC`Eb@p@\\\\f@fB|BJJz@~@PPvBvBt@r@l@h@fDrC`BpArGpFv@h@FD\\\\VHFjCrBd@b@fB~A`A|@TTZZx@|@dA|A@@Xd@^n@d@bAVl@z@jDNn@VbAJ`@Jd@t@xCL`@J`@HX@FHZ^vABJJ`@XbA`@xAb@bBTh@vAbCn@bARXhDfE`CtCDDp@r@`AvAlA~BPZr@rAN\\\\j@pAFF^f@TXl@h@HFNDdDlBBDVJlAj@zA~@z@p@FDp@l@jA`Ab@`@JHj@b@v@r@NLZVJHNLHHBBLJFFLLBBFFPRFF@@TX@BJNBFPVR\\\\LTVh@FJh@vAZdAj@bCFd@PfAHn@@@N`@N^^~@r@dCXbAJ`@L`@J`@L`@Lf@HXXbAL`@XdAJ\\\\V|@JXJ`@@FDNDJBJDNNb@DNFPL`@@D@JFNFRDTHXL`@J`@`@xAh@nB\\\\pANh@n@~BLh@HXRr@l@zBJ^^xA~@hDTz@fA~DNf@VdAp@fC\\\\nAHl@Pz@NhAHdA\\\\|FJ`CLnBLpBBr@Dx@?f@A`@Ct@Ad@CRKlAGh@QdCO~BIjAIx@IfACb@Eb@C^ChAAx@DbANvAb@|AvGrObCdG~@~B`@dA\\\\x@@B~AzDnB`FZ|@Hj@b@dA'},\n",
       "       'start_location': {'lat': 4.9827784, 'lng': -73.88360039999999},\n",
       "       'travel_mode': 'DRIVING'},\n",
       "      {'distance': {'text': '13.6 km', 'value': 13592},\n",
       "       'duration': {'text': '11 mins', 'value': 633},\n",
       "       'end_location': {'lat': 4.865408, 'lng': -74.02487900000001},\n",
       "       'html_instructions': 'Continue onto <b>Bogotá - Tunja</b>/<wbr/><b>La Caro-Tocancipa</b>/<wbr/><b>Route 55</b>',\n",
       "       'polyline': {'points': '_me]jejbMbCrFTh@HRt@hBTj@FR\\\\hAN^P^Pb@x@fBl@nA`AtBdArB~@~Ar@hA`@j@f@l@d@j@fCvC~ArANLVRjA~@dAx@bAt@TRr@j@^\\\\h@f@NP`@d@^b@X^f@x@Xd@JRHNFNP\\\\b@fAVt@VhABDP~@DVPnATjCFpB?h@Cl@MtBMdDE|@KzAItAGnAGjAGhBAj@AvC@bABbAJhC`@`IJfB@\\\\RxDPnDLrCP~D@PRxCPhBHbANzAN|@PpAPhA@FFZHh@PjAHf@H^Ln@Nn@H\\\\d@bBl@`CNf@BHHVhBxGVz@n@`CJXv@jDdAdDDHHTPb@b@~@h@dAHPR^BDLVZh@nAjBl@|@|@bAhAlAbC~BjAjAJJLLnAlAd@d@|B~Bv@t@`CzBpAfAlA`AZVrBxAvDbClDzBpBjA|Az@tAh@t@RdAXp@JjAND@hCJ`BDXBZFr@JXHlCn@f@JTFVHNBB@PFF@H@LBZHj@Jh@LdATh@LnG~AdP~DhBb@pJ|B`E`AxEjALBp@PtM~CtCt@~C~@tO`GrIhD^NfCbAzHzC`I|CvDzAbDnAf@R^Nd@P~B|@hCbArBv@PHzAp@vBdAv@`@vAx@nBdAjCvAj@ZnCxAhO|H\\\\R^PfSlKjAv@RJh@ZpGlD`Bz@pAr@vAr@dAj@tAv@n@\\\\n@b@^VJHNJTR\\\\Zx@t@tArAlAlA^^\\\\Z\\\\ZXRFFb@Zh@\\\\n@`@j@Xv@\\\\h@Ph@P~Af@|@RlB\\\\^HzATxB^`APzAVhATl@LjAT\\\\HPF~EvA|@VxA`@pBl@JBtGlB`@LVHf@Lv@XRH|@^\\\\Vf@\\\\'},\n",
       "       'start_location': {'lat': 4.9481614, 'lng': -73.9491841},\n",
       "       'travel_mode': 'DRIVING'},\n",
       "      {'distance': {'text': '1.5 km', 'value': 1549},\n",
       "       'duration': {'text': '1 min', 'value': 86},\n",
       "       'end_location': {'lat': 4.8533407, 'lng': -74.02999919999999},\n",
       "       'html_instructions': 'Take the exit toward <b>Zipaquirá</b>/<wbr/><b>Chía</b>/<wbr/><b>Bogotá</b>/<wbr/><b>Autopista</b>',\n",
       "       'maneuver': 'ramp',\n",
       "       'polyline': {'points': 'ygu\\\\n~xbMzAbBLRb@t@^dA\\\\fAJZHZZr@NXZb@l@p@h@b@hAn@r@VVJTDRDjCTP@~BPvAPr@FJ@VDj@HlAJlEf@v@F~CZ|ANH@f@D`ABJ@L@pBPz@HnAR~@RjAVl@Lb@Hv@L|@R'},\n",
       "       'start_location': {'lat': 4.865408, 'lng': -74.02487900000001},\n",
       "       'travel_mode': 'DRIVING'},\n",
       "      {'distance': {'text': '10.4 km', 'value': 10385},\n",
       "       'duration': {'text': '12 mins', 'value': 702},\n",
       "       'end_location': {'lat': 4.7612409, 'lng': -74.0451186},\n",
       "       'html_instructions': 'Merge onto <b>Autopista Nte.</b>/<wbr/><b>Bogotá - Chia</b>/<wbr/><b>Bogotá - Tunja</b>/<wbr/><b>Bogotá \\u200e-La Caro</b>/<wbr/><b>Route 45A</b><div style=\"font-size:0.9em\">Continue to follow Autopista Nte./<wbr/>Bogotá - Chia/<wbr/>Bogotá - Tunja/<wbr/>Bogotá \\u200e-La Caro</div>',\n",
       "       'maneuver': 'merge',\n",
       "       'polyline': {'points': 'k|r\\\\n~ybMd@@B?VD|@JnEb@bHr@~Ir@nBPjF`@fCXv@HvD`@rD\\\\rAJRBlABx@FD?LBhAH`AHj@FB?f@FfAJZ@t@H~Fh@|CVjBRzBRrALr@FvCVtBPxAL~@LjDXh@F|@H^Fd@DzANn@F`AJ`@D`@BLBR@`@D`@B`@D^D`@B`@D\\\\BB@`@B`@D`@D`@BNBP@`@DJ@T@^D`@Dn@Dt@JHBp@Hx@F~@VVFb@J`@JpATtBb@h@H|@Nn@J`@F^DbAL@?D?\\\\DD?tCVv@Hb@DR@Z@n@BtBDxFBRFT?fABb@BvCT|BRjE\\\\xAHj@BRBNBb@Db@Db@Fb@DL@j@F|APdAJzAL~@JrAJzALbAJJ@VBb@D`@Db@DF?ZDb@D`@Db@DR@nDZzAL`BNxFd@x@HbE^`@DD?xCVx@Fd@BnEd@pGj@~D^TBv@FLBfDZH@fBNvANZBlCV`@Dn@FnCX`@D`@Db@D@?xHt@tBRxCZdAJl@DzANp@FjAJ^@N@vCPpFd@tFf@TB`@DdBNB@p@FhCVrALpFf@zBVpANfAHn@Fp@JTDTBdBTt@Hh@Hp@FhCXN?L@pDNv@DtBJhBNN@b@HL@hAHxBTJ@hALb@DXBVBh@Fj@FlDd@dBT^BpBPl@FtFd@`DVp@FVFTBPBdIj@\\\\BNBlALPBTBzAN@?@?@?@@@?@?B?@?@?@?@@@?@?@?@?@?@?@@@?@?@?@?@?@@@?B?@?@?@?@?@@@?@?@?@?@?@?@@@?@?@?@?@?@?B@@?@?@?@?@?@?@@@?@?@?@?@?@?@@@?@?@?@?B?@?@@@?@?@?@?@?@@@?@?@?@?@??@@?@?@?@?@@@?@?@?@?@??@@?@?@?@?@@@?b@Fd@Fx@Hz@H|ANhDZnALt@Ft@HH@z@HVBN@lAJ|@Hp@FdBNt@HjCVv@Fp@H'},\n",
       "       'start_location': {'lat': 4.8533407, 'lng': -74.02999919999999},\n",
       "       'travel_mode': 'DRIVING'},\n",
       "      {'distance': {'text': '1.0 km', 'value': 984},\n",
       "       'duration': {'text': '2 mins', 'value': 106},\n",
       "       'end_location': {'lat': 4.7525412, 'lng': -74.04660659999999},\n",
       "       'html_instructions': 'Continue straight onto <b>Autopista Nte.</b>/<wbr/><b>Bogotá - Tunja</b><div style=\"font-size:0.9em\">Continue to follow Autopista Nte.</div>',\n",
       "       'maneuver': 'straight',\n",
       "       'polyline': {'points': 'w|`\\\\~||bMr@Hh@Fh@Hh@HLBd@F\\\\Fd@DhALJ@^B|@JbAL`@Bb@FRB|ARzAPfBTrEd@`@Dz@L`AJTBRBbCXb@Fd@FX@N@V?l@CpAG'},\n",
       "       'start_location': {'lat': 4.7612409, 'lng': -74.0451186},\n",
       "       'travel_mode': 'DRIVING'},\n",
       "      {'distance': {'text': '4.8 km', 'value': 4814},\n",
       "       'duration': {'text': '6 mins', 'value': 386},\n",
       "       'end_location': {'lat': 4.7098266, 'lng': -74.0534816},\n",
       "       'html_instructions': 'Keep <b>left</b> to stay on <b>Autopista Nte.</b>',\n",
       "       'maneuver': 'keep-left',\n",
       "       'polyline': {'points': 'kf_\\\\hf}bMZCF?H?d@@pARXDXDj@Fh@Ff@Fp@Dp@Dx@@rBBjA@lABp@Dj@Fr@FzD^jAJlALl@FVD`@DxAJhCTrC\\\\l@DrAJ|@F|@Jr@Ft@H\\\\B`AJfAJn@FvBTnFf@lCV~BRLBN@v@Hl@FjBPdGj@N?L?N@z@JvEb@tD^tANR@~@JhCVj@Dr@Fr@FvALvANzANtBRtAN|CXV@lAJ~@H~@FZBJ?HBtBTPBtALt@HvCX|@H|@HjALrBR\\\\BtBR~@J`AJ`AHbAHt@Ft@Dd@DrAJJ@zAPL@nALh@Fj@DjALtALrALlALxAP~APfAJNBn@F`BL`@DnCT~CXrALlAJhCT`AJhBP'},\n",
       "       'start_location': {'lat': 4.7525412, 'lng': -74.04660659999999},\n",
       "       'travel_mode': 'DRIVING'},\n",
       "      {'distance': {'text': '82 m', 'value': 82},\n",
       "       'duration': {'text': '1 min', 'value': 9},\n",
       "       'end_location': {'lat': 4.709162699999999, 'lng': -74.0538006},\n",
       "       'html_instructions': 'Take the exit toward <b>Av Call 127</b>/<wbr/><b>Aeropuerto</b>',\n",
       "       'maneuver': 'ramp-right',\n",
       "       'polyline': {'points': 'm{v[fq~bMXLJDj@PXJXL'},\n",
       "       'start_location': {'lat': 4.7098266, 'lng': -74.0534816},\n",
       "       'travel_mode': 'DRIVING'},\n",
       "      {'distance': {'text': '0.1 km', 'value': 110},\n",
       "       'duration': {'text': '1 min', 'value': 12},\n",
       "       'end_location': {'lat': 4.708192599999999, 'lng': -74.0539726},\n",
       "       'html_instructions': 'Merge onto <b>Autopista Nte.</b>/<wbr/><b>Cra. 45</b>',\n",
       "       'maneuver': 'merge',\n",
       "       'polyline': {'points': 'gwv[fs~bMpAJnBT'},\n",
       "       'start_location': {'lat': 4.709162699999999, 'lng': -74.0538006},\n",
       "       'travel_mode': 'DRIVING'},\n",
       "      {'distance': {'text': '2.2 km', 'value': 2164},\n",
       "       'duration': {'text': '5 mins', 'value': 299},\n",
       "       'end_location': {'lat': 4.710961999999999, 'lng': -74.0722109},\n",
       "       'html_instructions': 'Take the ramp onto <b>Av. C. 127</b>',\n",
       "       'maneuver': 'ramp-right',\n",
       "       'polyline': {'points': 'eqv[ht~bMVJJFJHFFFJ@@BB@BLPtAnCLVBJBJ@F?H@L?J?H?HCXg@nFi@rFc@|DOzACXCFIdAKdASvBObBMpAMp@]lAo@lB[z@eA`DIRUr@Up@Qp@IRUt@Md@Wx@GR_@jAKZs@lBo@lBe@rAe@rAGTYz@Mf@Ox@E`@EdABdBFt@RxBDh@XtABJ@JBJ?D@DRCDA'},\n",
       "       'start_location': {'lat': 4.708192599999999, 'lng': -74.0539726},\n",
       "       'travel_mode': 'DRIVING'}],\n",
       "     'traffic_speed_entry': [],\n",
       "     'via_waypoint': []}],\n",
       "   'overview_polyline': {'points': '{nmj@bxh}L`ZyQhZSrm@wu@h{DqSzpBw{CbeBes@vkDosBxgAoPxy@mr@hr@^vfAoF|mAiuAfdCkfAfeAw|@beAsSyGiBtm@aMtsAyZvmCwK~_A{c@h{@gF|cCrKr\\\\x@wA~_Avp@v\\\\f~A`e@`_AzQiu@ag@aAuO{IkLaZp@fIsP`a@{[nGeElIh[vtApJjlAx@ptAhMbq@eHzy@~]n{@dr@h|A~Vd|@iWp_AeDnf@bRgNlY^xd@tx@no@rm@nPhc@`Xv]rYqBjJh@zIloAtPjDdWzf@pInTnd@bm@pTvoBbrAvfA`VpkDrtBxe@xUfbAcBjJ`x@`c@l~@eSfaC|_@|aArhCd_DtQthCv~AfgAjw@~jChKlf@eDv\\\\lxAtSpZ~c@~g@`FlxArNph@aGtm@hRv|@_LdUaEbE_T~H|LgEcSpg@rIbi@zCxa@kOlq@G|dCe\\\\doAgAjd@gEfsBfx@ryBlm@t_C~nB|zBzz@zn@bOdToMvt@`VjfCrPh}Bhe@zhA~_@ft@hl@beB`h@h~@za@`aAsDfx@pHjf@ds@jx@z~@dkB`gAvdBhKdp@dz@duB~cBfrAblCfCx{@|MfUvaAr~@bAp`@uu@nT_Ff`@dAxn@oPla@n_@vfAfwCp|D|}Bx`Egq@xpAxBhz@uLzRnu@p~Afh@bn@ni@jExgAxWpsEfvA||Dfr@jHs_@fn@my@ll@i{@pu@}YjnA}m@pw@{|@lu@}Ina@eQdXmZpD_XbOcKhh@o[hb@gn@~SgfAk[at@pn@}Il[tRhDwm@dd@cDjjAccBrz@ks@nu@mQbW_dAbRwm@bnA}v@rsA}}@lqAi_BrdBirCrhA{sDzm@ok@jpBaf@ftCgk@r_A`BxO{UpSlCSaf@lm@fBjv@oEfh@sm@kHsZtSxDrTib@uLe|Avr@gy@lbBlwAbcAqYtu@zM~|Cnw@dlDto@l~Ax`Aj}DhjEta@ld@gZlMud@xm@rd@tTbbBnSzhAjmAv`CreC~Ndh@z~Ah\\\\pfAjlBhiAfvArF|y@zgAdz@hrAn~BtiAxiA`n@blA~g@vW~`CzzAbw@px@|y@zc@`yGnf@jrAte@n`BmDv~Ad@f|AplAb}A|vBhqCjcDnrA`fDj_@rjAri@pOlyDzw@|yBddCbm@by@bE|mBbz@`r@zmAhrCz^vnDf_BpvCnvElzDtlBxjBliDpiErb@~xApE`mAhr@tcB|_@zp@xDxbB`a@dcAjgA|j@nfGb`CvnBz}@poGjm@jnHzp@pgIlt@nw@zOeNd`AoFzh@'},\n",
       "   'summary': 'Zipaquirá - Palenque',\n",
       "   'warnings': [],\n",
       "   'waypoint_order': []}],\n",
       " 'status': 'OK'}"
      ]
     },
     "execution_count": 9,
     "metadata": {},
     "output_type": "execute_result"
    }
   ],
   "source": [
    "data = resp.json()\n",
    "data"
   ]
  },
  {
   "cell_type": "code",
   "execution_count": 10,
   "metadata": {},
   "outputs": [
    {
     "name": "stdout",
     "output_type": "stream",
     "text": [
      "8 hours 38 mins\n"
     ]
    }
   ],
   "source": [
    "print(data['routes'][0]['legs'][0]['duration']['text'])"
   ]
  },
  {
   "cell_type": "markdown",
   "metadata": {
    "collapsed": true
   },
   "source": [
    "# OMDB\n"
   ]
  },
  {
   "cell_type": "markdown",
   "metadata": {},
   "source": [
    "La clave de su API la encontramos [aqui](http://www.omdbapi.com/)"
   ]
  },
  {
   "cell_type": "code",
   "execution_count": 11,
   "metadata": {
    "collapsed": true
   },
   "outputs": [],
   "source": [
    "import requests\n",
    "MOVIE = os.getenv(\"MOVIE\")#TU CLAVE\n",
    "if MOVIE != None:\n",
    "    clave = \"3d2159b8\"\n",
    "url = \"http://www.omdbapi.com/?apikey=\" + clave\n",
    "r = requests.get(url, {\"s\" : \"The Matrix\", \"type\" : \"movie\"}) # S PARA EL NUMERO Y TYPE PARA EL TIPO DE OBRA"
   ]
  },
  {
   "cell_type": "code",
   "execution_count": 12,
   "metadata": {},
   "outputs": [
    {
     "data": {
      "text/plain": [
       "{'Search': [{'Title': 'The Matrix',\n",
       "   'Year': '1999',\n",
       "   'imdbID': 'tt0133093',\n",
       "   'Type': 'movie',\n",
       "   'Poster': 'https://m.media-amazon.com/images/M/MV5BNzQzOTk3OTAtNDQ0Zi00ZTVkLWI0MTEtMDllZjNkYzNjNTc4L2ltYWdlXkEyXkFqcGdeQXVyNjU0OTQ0OTY@._V1_SX300.jpg'},\n",
       "  {'Title': 'The Matrix Reloaded',\n",
       "   'Year': '2003',\n",
       "   'imdbID': 'tt0234215',\n",
       "   'Type': 'movie',\n",
       "   'Poster': 'https://m.media-amazon.com/images/M/MV5BODE0MzZhZTgtYzkwYi00YmI5LThlZWYtOWRmNWE5ODk0NzMxXkEyXkFqcGdeQXVyNjU0OTQ0OTY@._V1_SX300.jpg'},\n",
       "  {'Title': 'The Matrix Revolutions',\n",
       "   'Year': '2003',\n",
       "   'imdbID': 'tt0242653',\n",
       "   'Type': 'movie',\n",
       "   'Poster': 'https://m.media-amazon.com/images/M/MV5BNzNlZTZjMDctZjYwNi00NzljLWIwN2QtZWZmYmJiYzQ0MTk2XkEyXkFqcGdeQXVyNTAyODkwOQ@@._V1_SX300.jpg'},\n",
       "  {'Title': 'The Matrix Resurrections',\n",
       "   'Year': '2021',\n",
       "   'imdbID': 'tt10838180',\n",
       "   'Type': 'movie',\n",
       "   'Poster': 'https://m.media-amazon.com/images/M/MV5BMGJkNDJlZWUtOGM1Ny00YjNkLThiM2QtY2ZjMzQxMTIxNWNmXkEyXkFqcGdeQXVyMDM2NDM2MQ@@._V1_SX300.jpg'},\n",
       "  {'Title': \"Making 'The Matrix'\",\n",
       "   'Year': '1999',\n",
       "   'imdbID': 'tt0365467',\n",
       "   'Type': 'movie',\n",
       "   'Poster': 'https://m.media-amazon.com/images/M/MV5BZjJjMTg5MTEtMDkwMy00ZjUyLTg5ODYtMmNmY2ZiNGVlZTdjXkEyXkFqcGdeQXVyODA1NjQ0OTY@._V1_SX300.jpg'},\n",
       "  {'Title': 'The Matrix Revisited',\n",
       "   'Year': '2001',\n",
       "   'imdbID': 'tt0295432',\n",
       "   'Type': 'movie',\n",
       "   'Poster': 'https://m.media-amazon.com/images/M/MV5BMTkzNjg3NjE4N15BMl5BanBnXkFtZTgwNTc3NTAwNzE@._V1_SX300.jpg'},\n",
       "  {'Title': 'A Glitch in the Matrix',\n",
       "   'Year': '2021',\n",
       "   'imdbID': 'tt9847360',\n",
       "   'Type': 'movie',\n",
       "   'Poster': 'https://m.media-amazon.com/images/M/MV5BMWRhNGY3NGQtMDAxMS00YjY2LTgzOTUtZjljZmUyYWQwMGI2XkEyXkFqcGdeQXVyMDM2NDM2MQ@@._V1_SX300.jpg'},\n",
       "  {'Title': 'Sex and the Matrix',\n",
       "   'Year': '2000',\n",
       "   'imdbID': 'tt0274085',\n",
       "   'Type': 'movie',\n",
       "   'Poster': 'https://m.media-amazon.com/images/M/MV5BYjBlMDFiODYtZmE2Ny00Y2JjLWIxYTAtMTRhYWQ1ZmM0OGE3XkEyXkFqcGdeQXVyNjQzNDI3NzY@._V1_SX300.jpg'},\n",
       "  {'Title': 'The Matrix Reloaded Revisited',\n",
       "   'Year': '2004',\n",
       "   'imdbID': 'tt1830850',\n",
       "   'Type': 'movie',\n",
       "   'Poster': 'https://m.media-amazon.com/images/M/MV5BODBlZmFiMTktOTkyMy00OWFkLTg0ZTAtODJkY2VlYWQ0NWM1XkEyXkFqcGdeQXVyODA1NjQ0OTY@._V1_SX300.jpg'},\n",
       "  {'Title': 'Return to Source: Philosophy & The Matrix',\n",
       "   'Year': '2004',\n",
       "   'imdbID': 'tt0439783',\n",
       "   'Type': 'movie',\n",
       "   'Poster': 'https://m.media-amazon.com/images/M/MV5BODJjOTEyYTAtMGYwMC00ZDc5LTg5ZGItMGJmNzM4MjUzM2Q5XkEyXkFqcGdeQXVyODA1NjQ0OTY@._V1_SX300.jpg'}],\n",
       " 'totalResults': '86',\n",
       " 'Response': 'True'}"
      ]
     },
     "execution_count": 12,
     "metadata": {},
     "output_type": "execute_result"
    }
   ],
   "source": [
    "r.json()"
   ]
  },
  {
   "cell_type": "markdown",
   "metadata": {},
   "source": [
    "Ahora vamos a obtener la pelicula desde su identificador"
   ]
  },
  {
   "cell_type": "code",
   "execution_count": 13,
   "metadata": {},
   "outputs": [
    {
     "data": {
      "text/plain": [
       "{'Title': 'The Matrix',\n",
       " 'Year': '1999',\n",
       " 'Rated': 'R',\n",
       " 'Released': '31 Mar 1999',\n",
       " 'Runtime': '136 min',\n",
       " 'Genre': 'Action, Sci-Fi',\n",
       " 'Director': 'Lana Wachowski, Lilly Wachowski',\n",
       " 'Writer': 'Lilly Wachowski, Lana Wachowski',\n",
       " 'Actors': 'Keanu Reeves, Laurence Fishburne, Carrie-Anne Moss',\n",
       " 'Plot': 'When a beautiful stranger leads computer hacker Neo to a forbidding underworld, he discovers the shocking truth--the life he knows is the elaborate deception of an evil cyber-intelligence.',\n",
       " 'Language': 'English',\n",
       " 'Country': 'United States, Australia',\n",
       " 'Awards': 'Won 4 Oscars. 42 wins & 52 nominations total',\n",
       " 'Poster': 'https://m.media-amazon.com/images/M/MV5BNzQzOTk3OTAtNDQ0Zi00ZTVkLWI0MTEtMDllZjNkYzNjNTc4L2ltYWdlXkEyXkFqcGdeQXVyNjU0OTQ0OTY@._V1_SX300.jpg',\n",
       " 'Ratings': [{'Source': 'Internet Movie Database', 'Value': '8.7/10'},\n",
       "  {'Source': 'Rotten Tomatoes', 'Value': '83%'},\n",
       "  {'Source': 'Metacritic', 'Value': '73/100'}],\n",
       " 'Metascore': '73',\n",
       " 'imdbRating': '8.7',\n",
       " 'imdbVotes': '2,034,744',\n",
       " 'imdbID': 'tt0133093',\n",
       " 'Type': 'movie',\n",
       " 'DVD': '01 Jan 2009',\n",
       " 'BoxOffice': '$172,076,928',\n",
       " 'Production': 'N/A',\n",
       " 'Website': 'N/A',\n",
       " 'Response': 'True'}"
      ]
     },
     "execution_count": 13,
     "metadata": {},
     "output_type": "execute_result"
    }
   ],
   "source": [
    "r = requests.get(url, {\"i\" : \"tt0133093\", \"type\" : \"movie\"})\n",
    "r.json()"
   ]
  },
  {
   "cell_type": "markdown",
   "metadata": {},
   "source": [
    "Ahora vamos a buscarla por su titulo con \"t\""
   ]
  },
  {
   "cell_type": "code",
   "execution_count": 14,
   "metadata": {},
   "outputs": [
    {
     "data": {
      "text/plain": [
       "{'Title': 'The Matrix',\n",
       " 'Year': '1999',\n",
       " 'Rated': 'R',\n",
       " 'Released': '31 Mar 1999',\n",
       " 'Runtime': '136 min',\n",
       " 'Genre': 'Action, Sci-Fi',\n",
       " 'Director': 'Lana Wachowski, Lilly Wachowski',\n",
       " 'Writer': 'Lilly Wachowski, Lana Wachowski',\n",
       " 'Actors': 'Keanu Reeves, Laurence Fishburne, Carrie-Anne Moss',\n",
       " 'Plot': 'When a beautiful stranger leads computer hacker Neo to a forbidding underworld, he discovers the shocking truth--the life he knows is the elaborate deception of an evil cyber-intelligence.',\n",
       " 'Language': 'English',\n",
       " 'Country': 'United States, Australia',\n",
       " 'Awards': 'Won 4 Oscars. 42 wins & 52 nominations total',\n",
       " 'Poster': 'https://m.media-amazon.com/images/M/MV5BNzQzOTk3OTAtNDQ0Zi00ZTVkLWI0MTEtMDllZjNkYzNjNTc4L2ltYWdlXkEyXkFqcGdeQXVyNjU0OTQ0OTY@._V1_SX300.jpg',\n",
       " 'Ratings': [{'Source': 'Internet Movie Database', 'Value': '8.7/10'},\n",
       "  {'Source': 'Rotten Tomatoes', 'Value': '83%'},\n",
       "  {'Source': 'Metacritic', 'Value': '73/100'}],\n",
       " 'Metascore': '73',\n",
       " 'imdbRating': '8.7',\n",
       " 'imdbVotes': '2,034,744',\n",
       " 'imdbID': 'tt0133093',\n",
       " 'Type': 'movie',\n",
       " 'DVD': '01 Jan 2009',\n",
       " 'BoxOffice': '$172,076,928',\n",
       " 'Production': 'N/A',\n",
       " 'Website': 'N/A',\n",
       " 'Response': 'True'}"
      ]
     },
     "execution_count": 14,
     "metadata": {},
     "output_type": "execute_result"
    }
   ],
   "source": [
    "r = requests.get(url, {\"t\" : \"The Matrix\", \"type\" : \"movie\"})\n",
    "r.json()"
   ]
  },
  {
   "cell_type": "code",
   "execution_count": null,
   "metadata": {
    "collapsed": true
   },
   "outputs": [],
   "source": []
  }
 ],
 "metadata": {
  "kernelspec": {
   "display_name": "Python 3",
   "language": "python",
   "name": "python3"
  },
  "language_info": {
   "codemirror_mode": {
    "name": "ipython",
    "version": 3
   },
   "file_extension": ".py",
   "mimetype": "text/x-python",
   "name": "python",
   "nbconvert_exporter": "python",
   "pygments_lexer": "ipython3",
   "version": "3.9.13"
  }
 },
 "nbformat": 4,
 "nbformat_minor": 2
}
